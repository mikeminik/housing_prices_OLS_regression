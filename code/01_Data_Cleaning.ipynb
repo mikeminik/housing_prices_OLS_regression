{
 "cells": [
  {
   "cell_type": "code",
   "execution_count": 1,
   "id": "de535061-b806-476c-8777-7822492cea6d",
   "metadata": {
    "tags": []
   },
   "outputs": [],
   "source": [
    "import numpy as np\n",
    "import pandas as pd\n",
    "import matplotlib.pyplot as plt\n",
    "import seaborn as sns\n",
    "import missingno as msno\n",
    "\n",
    "%run 00_Functions.ipynb\n",
    "# Citation: Stackoverflow for the idea to keep functions in a separate notebook so they're accessible every through %run!"
   ]
  },
  {
   "cell_type": "markdown",
   "id": "0130133c-9bb7-42d1-8463-73c48a25c35d",
   "metadata": {},
   "source": [
    "# Read in data"
   ]
  },
  {
   "cell_type": "code",
   "execution_count": 2,
   "id": "23dafd80-0dc1-41ea-b442-5e11b38a7f6b",
   "metadata": {
    "tags": []
   },
   "outputs": [],
   "source": [
    "props = pd.read_csv('../datasets/train.csv')"
   ]
  },
  {
   "cell_type": "code",
   "execution_count": 3,
   "id": "4cda4e79-9f98-406a-bb0b-70723be6aeb8",
   "metadata": {
    "tags": []
   },
   "outputs": [
    {
     "data": {
      "text/html": [
       "<div>\n",
       "<style scoped>\n",
       "    .dataframe tbody tr th:only-of-type {\n",
       "        vertical-align: middle;\n",
       "    }\n",
       "\n",
       "    .dataframe tbody tr th {\n",
       "        vertical-align: top;\n",
       "    }\n",
       "\n",
       "    .dataframe thead th {\n",
       "        text-align: right;\n",
       "    }\n",
       "</style>\n",
       "<table border=\"1\" class=\"dataframe\">\n",
       "  <thead>\n",
       "    <tr style=\"text-align: right;\">\n",
       "      <th></th>\n",
       "      <th>Id</th>\n",
       "      <th>PID</th>\n",
       "      <th>MS SubClass</th>\n",
       "      <th>MS Zoning</th>\n",
       "      <th>Lot Frontage</th>\n",
       "      <th>Lot Area</th>\n",
       "      <th>Street</th>\n",
       "      <th>Alley</th>\n",
       "      <th>Lot Shape</th>\n",
       "      <th>Land Contour</th>\n",
       "      <th>...</th>\n",
       "      <th>Screen Porch</th>\n",
       "      <th>Pool Area</th>\n",
       "      <th>Pool QC</th>\n",
       "      <th>Fence</th>\n",
       "      <th>Misc Feature</th>\n",
       "      <th>Misc Val</th>\n",
       "      <th>Mo Sold</th>\n",
       "      <th>Yr Sold</th>\n",
       "      <th>Sale Type</th>\n",
       "      <th>SalePrice</th>\n",
       "    </tr>\n",
       "  </thead>\n",
       "  <tbody>\n",
       "    <tr>\n",
       "      <th>0</th>\n",
       "      <td>109</td>\n",
       "      <td>533352170</td>\n",
       "      <td>60</td>\n",
       "      <td>RL</td>\n",
       "      <td>NaN</td>\n",
       "      <td>13517</td>\n",
       "      <td>Pave</td>\n",
       "      <td>NaN</td>\n",
       "      <td>IR1</td>\n",
       "      <td>Lvl</td>\n",
       "      <td>...</td>\n",
       "      <td>0</td>\n",
       "      <td>0</td>\n",
       "      <td>NaN</td>\n",
       "      <td>NaN</td>\n",
       "      <td>NaN</td>\n",
       "      <td>0</td>\n",
       "      <td>3</td>\n",
       "      <td>2010</td>\n",
       "      <td>WD</td>\n",
       "      <td>130500</td>\n",
       "    </tr>\n",
       "    <tr>\n",
       "      <th>1</th>\n",
       "      <td>544</td>\n",
       "      <td>531379050</td>\n",
       "      <td>60</td>\n",
       "      <td>RL</td>\n",
       "      <td>43.0</td>\n",
       "      <td>11492</td>\n",
       "      <td>Pave</td>\n",
       "      <td>NaN</td>\n",
       "      <td>IR1</td>\n",
       "      <td>Lvl</td>\n",
       "      <td>...</td>\n",
       "      <td>0</td>\n",
       "      <td>0</td>\n",
       "      <td>NaN</td>\n",
       "      <td>NaN</td>\n",
       "      <td>NaN</td>\n",
       "      <td>0</td>\n",
       "      <td>4</td>\n",
       "      <td>2009</td>\n",
       "      <td>WD</td>\n",
       "      <td>220000</td>\n",
       "    </tr>\n",
       "    <tr>\n",
       "      <th>2</th>\n",
       "      <td>153</td>\n",
       "      <td>535304180</td>\n",
       "      <td>20</td>\n",
       "      <td>RL</td>\n",
       "      <td>68.0</td>\n",
       "      <td>7922</td>\n",
       "      <td>Pave</td>\n",
       "      <td>NaN</td>\n",
       "      <td>Reg</td>\n",
       "      <td>Lvl</td>\n",
       "      <td>...</td>\n",
       "      <td>0</td>\n",
       "      <td>0</td>\n",
       "      <td>NaN</td>\n",
       "      <td>NaN</td>\n",
       "      <td>NaN</td>\n",
       "      <td>0</td>\n",
       "      <td>1</td>\n",
       "      <td>2010</td>\n",
       "      <td>WD</td>\n",
       "      <td>109000</td>\n",
       "    </tr>\n",
       "    <tr>\n",
       "      <th>3</th>\n",
       "      <td>318</td>\n",
       "      <td>916386060</td>\n",
       "      <td>60</td>\n",
       "      <td>RL</td>\n",
       "      <td>73.0</td>\n",
       "      <td>9802</td>\n",
       "      <td>Pave</td>\n",
       "      <td>NaN</td>\n",
       "      <td>Reg</td>\n",
       "      <td>Lvl</td>\n",
       "      <td>...</td>\n",
       "      <td>0</td>\n",
       "      <td>0</td>\n",
       "      <td>NaN</td>\n",
       "      <td>NaN</td>\n",
       "      <td>NaN</td>\n",
       "      <td>0</td>\n",
       "      <td>4</td>\n",
       "      <td>2010</td>\n",
       "      <td>WD</td>\n",
       "      <td>174000</td>\n",
       "    </tr>\n",
       "    <tr>\n",
       "      <th>4</th>\n",
       "      <td>255</td>\n",
       "      <td>906425045</td>\n",
       "      <td>50</td>\n",
       "      <td>RL</td>\n",
       "      <td>82.0</td>\n",
       "      <td>14235</td>\n",
       "      <td>Pave</td>\n",
       "      <td>NaN</td>\n",
       "      <td>IR1</td>\n",
       "      <td>Lvl</td>\n",
       "      <td>...</td>\n",
       "      <td>0</td>\n",
       "      <td>0</td>\n",
       "      <td>NaN</td>\n",
       "      <td>NaN</td>\n",
       "      <td>NaN</td>\n",
       "      <td>0</td>\n",
       "      <td>3</td>\n",
       "      <td>2010</td>\n",
       "      <td>WD</td>\n",
       "      <td>138500</td>\n",
       "    </tr>\n",
       "    <tr>\n",
       "      <th>5</th>\n",
       "      <td>138</td>\n",
       "      <td>535126040</td>\n",
       "      <td>20</td>\n",
       "      <td>RL</td>\n",
       "      <td>137.0</td>\n",
       "      <td>16492</td>\n",
       "      <td>Pave</td>\n",
       "      <td>NaN</td>\n",
       "      <td>IR1</td>\n",
       "      <td>Lvl</td>\n",
       "      <td>...</td>\n",
       "      <td>0</td>\n",
       "      <td>0</td>\n",
       "      <td>NaN</td>\n",
       "      <td>NaN</td>\n",
       "      <td>NaN</td>\n",
       "      <td>0</td>\n",
       "      <td>6</td>\n",
       "      <td>2010</td>\n",
       "      <td>WD</td>\n",
       "      <td>190000</td>\n",
       "    </tr>\n",
       "    <tr>\n",
       "      <th>6</th>\n",
       "      <td>2827</td>\n",
       "      <td>908186070</td>\n",
       "      <td>180</td>\n",
       "      <td>RM</td>\n",
       "      <td>35.0</td>\n",
       "      <td>3675</td>\n",
       "      <td>Pave</td>\n",
       "      <td>NaN</td>\n",
       "      <td>Reg</td>\n",
       "      <td>Lvl</td>\n",
       "      <td>...</td>\n",
       "      <td>0</td>\n",
       "      <td>0</td>\n",
       "      <td>NaN</td>\n",
       "      <td>NaN</td>\n",
       "      <td>NaN</td>\n",
       "      <td>0</td>\n",
       "      <td>6</td>\n",
       "      <td>2006</td>\n",
       "      <td>New</td>\n",
       "      <td>140000</td>\n",
       "    </tr>\n",
       "    <tr>\n",
       "      <th>7</th>\n",
       "      <td>145</td>\n",
       "      <td>535154050</td>\n",
       "      <td>20</td>\n",
       "      <td>RL</td>\n",
       "      <td>NaN</td>\n",
       "      <td>12160</td>\n",
       "      <td>Pave</td>\n",
       "      <td>NaN</td>\n",
       "      <td>IR1</td>\n",
       "      <td>Lvl</td>\n",
       "      <td>...</td>\n",
       "      <td>0</td>\n",
       "      <td>0</td>\n",
       "      <td>NaN</td>\n",
       "      <td>MnPrv</td>\n",
       "      <td>NaN</td>\n",
       "      <td>0</td>\n",
       "      <td>5</td>\n",
       "      <td>2010</td>\n",
       "      <td>COD</td>\n",
       "      <td>142000</td>\n",
       "    </tr>\n",
       "    <tr>\n",
       "      <th>8</th>\n",
       "      <td>1942</td>\n",
       "      <td>535353130</td>\n",
       "      <td>20</td>\n",
       "      <td>RL</td>\n",
       "      <td>NaN</td>\n",
       "      <td>15783</td>\n",
       "      <td>Pave</td>\n",
       "      <td>NaN</td>\n",
       "      <td>Reg</td>\n",
       "      <td>Lvl</td>\n",
       "      <td>...</td>\n",
       "      <td>0</td>\n",
       "      <td>0</td>\n",
       "      <td>NaN</td>\n",
       "      <td>MnPrv</td>\n",
       "      <td>Shed</td>\n",
       "      <td>400</td>\n",
       "      <td>6</td>\n",
       "      <td>2007</td>\n",
       "      <td>WD</td>\n",
       "      <td>112500</td>\n",
       "    </tr>\n",
       "    <tr>\n",
       "      <th>9</th>\n",
       "      <td>1956</td>\n",
       "      <td>535426130</td>\n",
       "      <td>60</td>\n",
       "      <td>RL</td>\n",
       "      <td>70.0</td>\n",
       "      <td>11606</td>\n",
       "      <td>Pave</td>\n",
       "      <td>NaN</td>\n",
       "      <td>IR1</td>\n",
       "      <td>HLS</td>\n",
       "      <td>...</td>\n",
       "      <td>0</td>\n",
       "      <td>0</td>\n",
       "      <td>NaN</td>\n",
       "      <td>NaN</td>\n",
       "      <td>NaN</td>\n",
       "      <td>0</td>\n",
       "      <td>9</td>\n",
       "      <td>2007</td>\n",
       "      <td>WD</td>\n",
       "      <td>135000</td>\n",
       "    </tr>\n",
       "  </tbody>\n",
       "</table>\n",
       "<p>10 rows × 81 columns</p>\n",
       "</div>"
      ],
      "text/plain": [
       "     Id        PID  MS SubClass MS Zoning  Lot Frontage  Lot Area Street  \\\n",
       "0   109  533352170           60        RL           NaN     13517   Pave   \n",
       "1   544  531379050           60        RL          43.0     11492   Pave   \n",
       "2   153  535304180           20        RL          68.0      7922   Pave   \n",
       "3   318  916386060           60        RL          73.0      9802   Pave   \n",
       "4   255  906425045           50        RL          82.0     14235   Pave   \n",
       "5   138  535126040           20        RL         137.0     16492   Pave   \n",
       "6  2827  908186070          180        RM          35.0      3675   Pave   \n",
       "7   145  535154050           20        RL           NaN     12160   Pave   \n",
       "8  1942  535353130           20        RL           NaN     15783   Pave   \n",
       "9  1956  535426130           60        RL          70.0     11606   Pave   \n",
       "\n",
       "  Alley Lot Shape Land Contour  ... Screen Porch Pool Area Pool QC  Fence  \\\n",
       "0   NaN       IR1          Lvl  ...            0         0     NaN    NaN   \n",
       "1   NaN       IR1          Lvl  ...            0         0     NaN    NaN   \n",
       "2   NaN       Reg          Lvl  ...            0         0     NaN    NaN   \n",
       "3   NaN       Reg          Lvl  ...            0         0     NaN    NaN   \n",
       "4   NaN       IR1          Lvl  ...            0         0     NaN    NaN   \n",
       "5   NaN       IR1          Lvl  ...            0         0     NaN    NaN   \n",
       "6   NaN       Reg          Lvl  ...            0         0     NaN    NaN   \n",
       "7   NaN       IR1          Lvl  ...            0         0     NaN  MnPrv   \n",
       "8   NaN       Reg          Lvl  ...            0         0     NaN  MnPrv   \n",
       "9   NaN       IR1          HLS  ...            0         0     NaN    NaN   \n",
       "\n",
       "  Misc Feature Misc Val Mo Sold Yr Sold  Sale Type  SalePrice  \n",
       "0          NaN        0       3    2010        WD      130500  \n",
       "1          NaN        0       4    2009        WD      220000  \n",
       "2          NaN        0       1    2010        WD      109000  \n",
       "3          NaN        0       4    2010        WD      174000  \n",
       "4          NaN        0       3    2010        WD      138500  \n",
       "5          NaN        0       6    2010        WD      190000  \n",
       "6          NaN        0       6    2006        New     140000  \n",
       "7          NaN        0       5    2010        COD     142000  \n",
       "8         Shed      400       6    2007        WD      112500  \n",
       "9          NaN        0       9    2007        WD      135000  \n",
       "\n",
       "[10 rows x 81 columns]"
      ]
     },
     "execution_count": 3,
     "metadata": {},
     "output_type": "execute_result"
    }
   ],
   "source": [
    "props.head(10)"
   ]
  },
  {
   "cell_type": "code",
   "execution_count": 436,
   "id": "22ebc56f-3076-4aa6-a822-3a298755f0b7",
   "metadata": {
    "tags": []
   },
   "outputs": [
    {
     "data": {
      "text/plain": [
       "(2051, 81)"
      ]
     },
     "execution_count": 436,
     "metadata": {},
     "output_type": "execute_result"
    }
   ],
   "source": [
    "props.shape"
   ]
  },
  {
   "cell_type": "code",
   "execution_count": 6,
   "id": "9a29ef12-95c5-49a2-8756-ef963386606b",
   "metadata": {
    "tags": []
   },
   "outputs": [
    {
     "data": {
      "text/plain": [
       "count    2051.000000\n",
       "mean     2007.775719\n",
       "std         1.312014\n",
       "min      2006.000000\n",
       "25%      2007.000000\n",
       "50%      2008.000000\n",
       "75%      2009.000000\n",
       "max      2010.000000\n",
       "Name: Yr Sold, dtype: float64"
      ]
     },
     "execution_count": 6,
     "metadata": {},
     "output_type": "execute_result"
    }
   ],
   "source": [
    "props['Yr Sold'].describe()"
   ]
  },
  {
   "cell_type": "code",
   "execution_count": 437,
   "id": "f51c4d8c-2283-4152-a13d-64c6512dbb37",
   "metadata": {
    "tags": []
   },
   "outputs": [],
   "source": [
    "props.set_index('Id', inplace = True)"
   ]
  },
  {
   "cell_type": "code",
   "execution_count": null,
   "id": "f4b7d829-95ca-4a84-b9c8-396761903e9e",
   "metadata": {
    "tags": []
   },
   "outputs": [],
   "source": []
  },
  {
   "cell_type": "markdown",
   "id": "4782fc1f-f3ac-49df-bd2d-d84d5eeb5d96",
   "metadata": {
    "tags": []
   },
   "source": [
    "# Check and categorize numeric vs categorical columns"
   ]
  },
  {
   "cell_type": "markdown",
   "id": "61d6ac01-b507-4a85-9173-0f677d7e4399",
   "metadata": {},
   "source": [
    "## Numeric columns"
   ]
  },
  {
   "cell_type": "code",
   "execution_count": 438,
   "id": "1fff59cd-525d-4e79-9938-eac9304ac706",
   "metadata": {
    "tags": []
   },
   "outputs": [],
   "source": [
    "initial_numeric_columns = props.select_dtypes(include = [np.number])"
   ]
  },
  {
   "cell_type": "markdown",
   "id": "ad3b53ec-8290-41d1-818a-b400fb6a9b18",
   "metadata": {},
   "source": [
    "## Non-numeric (presumably categorical) columns"
   ]
  },
  {
   "cell_type": "code",
   "execution_count": 439,
   "id": "74852aaf-5a6d-46cc-a695-ce5996018e03",
   "metadata": {
    "jupyter": {
     "source_hidden": true
    },
    "tags": []
   },
   "outputs": [],
   "source": [
    "initial_nonnumeric_columns = props.select_dtypes(exclude = [np.number])"
   ]
  },
  {
   "cell_type": "markdown",
   "id": "e5a98d3d-0f74-4108-adf7-8ea91f7972c1",
   "metadata": {},
   "source": [
    "# Look at missing values"
   ]
  },
  {
   "cell_type": "code",
   "execution_count": 440,
   "id": "df951288-bc6f-4342-87bd-96a74d159b03",
   "metadata": {
    "tags": []
   },
   "outputs": [
    {
     "data": {
      "text/html": [
       "<div>\n",
       "<style scoped>\n",
       "    .dataframe tbody tr th:only-of-type {\n",
       "        vertical-align: middle;\n",
       "    }\n",
       "\n",
       "    .dataframe tbody tr th {\n",
       "        vertical-align: top;\n",
       "    }\n",
       "\n",
       "    .dataframe thead th {\n",
       "        text-align: right;\n",
       "    }\n",
       "</style>\n",
       "<table border=\"1\" class=\"dataframe\">\n",
       "  <thead>\n",
       "    <tr style=\"text-align: right;\">\n",
       "      <th></th>\n",
       "      <th>Feature</th>\n",
       "      <th>Missing Values</th>\n",
       "    </tr>\n",
       "  </thead>\n",
       "  <tbody>\n",
       "    <tr>\n",
       "      <th>0</th>\n",
       "      <td>Lot Frontage</td>\n",
       "      <td>330</td>\n",
       "    </tr>\n",
       "    <tr>\n",
       "      <th>1</th>\n",
       "      <td>Alley</td>\n",
       "      <td>1911</td>\n",
       "    </tr>\n",
       "    <tr>\n",
       "      <th>2</th>\n",
       "      <td>Mas Vnr Type</td>\n",
       "      <td>22</td>\n",
       "    </tr>\n",
       "    <tr>\n",
       "      <th>3</th>\n",
       "      <td>Mas Vnr Area</td>\n",
       "      <td>22</td>\n",
       "    </tr>\n",
       "    <tr>\n",
       "      <th>4</th>\n",
       "      <td>Bsmt Qual</td>\n",
       "      <td>55</td>\n",
       "    </tr>\n",
       "    <tr>\n",
       "      <th>5</th>\n",
       "      <td>Bsmt Cond</td>\n",
       "      <td>55</td>\n",
       "    </tr>\n",
       "    <tr>\n",
       "      <th>6</th>\n",
       "      <td>Bsmt Exposure</td>\n",
       "      <td>58</td>\n",
       "    </tr>\n",
       "    <tr>\n",
       "      <th>7</th>\n",
       "      <td>BsmtFin Type 1</td>\n",
       "      <td>55</td>\n",
       "    </tr>\n",
       "    <tr>\n",
       "      <th>8</th>\n",
       "      <td>BsmtFin SF 1</td>\n",
       "      <td>1</td>\n",
       "    </tr>\n",
       "    <tr>\n",
       "      <th>9</th>\n",
       "      <td>BsmtFin Type 2</td>\n",
       "      <td>56</td>\n",
       "    </tr>\n",
       "    <tr>\n",
       "      <th>10</th>\n",
       "      <td>BsmtFin SF 2</td>\n",
       "      <td>1</td>\n",
       "    </tr>\n",
       "    <tr>\n",
       "      <th>11</th>\n",
       "      <td>Bsmt Unf SF</td>\n",
       "      <td>1</td>\n",
       "    </tr>\n",
       "    <tr>\n",
       "      <th>12</th>\n",
       "      <td>Total Bsmt SF</td>\n",
       "      <td>1</td>\n",
       "    </tr>\n",
       "    <tr>\n",
       "      <th>13</th>\n",
       "      <td>Bsmt Full Bath</td>\n",
       "      <td>2</td>\n",
       "    </tr>\n",
       "    <tr>\n",
       "      <th>14</th>\n",
       "      <td>Bsmt Half Bath</td>\n",
       "      <td>2</td>\n",
       "    </tr>\n",
       "    <tr>\n",
       "      <th>15</th>\n",
       "      <td>Fireplace Qu</td>\n",
       "      <td>1000</td>\n",
       "    </tr>\n",
       "    <tr>\n",
       "      <th>16</th>\n",
       "      <td>Garage Type</td>\n",
       "      <td>113</td>\n",
       "    </tr>\n",
       "    <tr>\n",
       "      <th>17</th>\n",
       "      <td>Garage Yr Blt</td>\n",
       "      <td>114</td>\n",
       "    </tr>\n",
       "    <tr>\n",
       "      <th>18</th>\n",
       "      <td>Garage Finish</td>\n",
       "      <td>114</td>\n",
       "    </tr>\n",
       "    <tr>\n",
       "      <th>19</th>\n",
       "      <td>Garage Cars</td>\n",
       "      <td>1</td>\n",
       "    </tr>\n",
       "    <tr>\n",
       "      <th>20</th>\n",
       "      <td>Garage Area</td>\n",
       "      <td>1</td>\n",
       "    </tr>\n",
       "    <tr>\n",
       "      <th>21</th>\n",
       "      <td>Garage Qual</td>\n",
       "      <td>114</td>\n",
       "    </tr>\n",
       "    <tr>\n",
       "      <th>22</th>\n",
       "      <td>Garage Cond</td>\n",
       "      <td>114</td>\n",
       "    </tr>\n",
       "    <tr>\n",
       "      <th>23</th>\n",
       "      <td>Pool QC</td>\n",
       "      <td>2042</td>\n",
       "    </tr>\n",
       "    <tr>\n",
       "      <th>24</th>\n",
       "      <td>Fence</td>\n",
       "      <td>1651</td>\n",
       "    </tr>\n",
       "    <tr>\n",
       "      <th>25</th>\n",
       "      <td>Misc Feature</td>\n",
       "      <td>1986</td>\n",
       "    </tr>\n",
       "  </tbody>\n",
       "</table>\n",
       "</div>"
      ],
      "text/plain": [
       "           Feature  Missing Values\n",
       "0     Lot Frontage             330\n",
       "1            Alley            1911\n",
       "2     Mas Vnr Type              22\n",
       "3     Mas Vnr Area              22\n",
       "4        Bsmt Qual              55\n",
       "5        Bsmt Cond              55\n",
       "6    Bsmt Exposure              58\n",
       "7   BsmtFin Type 1              55\n",
       "8     BsmtFin SF 1               1\n",
       "9   BsmtFin Type 2              56\n",
       "10    BsmtFin SF 2               1\n",
       "11     Bsmt Unf SF               1\n",
       "12   Total Bsmt SF               1\n",
       "13  Bsmt Full Bath               2\n",
       "14  Bsmt Half Bath               2\n",
       "15    Fireplace Qu            1000\n",
       "16     Garage Type             113\n",
       "17   Garage Yr Blt             114\n",
       "18   Garage Finish             114\n",
       "19     Garage Cars               1\n",
       "20     Garage Area               1\n",
       "21     Garage Qual             114\n",
       "22     Garage Cond             114\n",
       "23         Pool QC            2042\n",
       "24           Fence            1651\n",
       "25    Misc Feature            1986"
      ]
     },
     "execution_count": 440,
     "metadata": {},
     "output_type": "execute_result"
    }
   ],
   "source": [
    "null_cols = [(column, props[column].isnull().sum()) for column in props.columns if props[column].isnull().sum() > 0]\n",
    "null_cols_df = pd.DataFrame(null_cols, columns= ['Feature', 'Missing Values'])\n",
    "null_cols_df"
   ]
  },
  {
   "cell_type": "code",
   "execution_count": null,
   "id": "baaadad5-9acf-422f-bc8a-6d96926aaa90",
   "metadata": {
    "tags": []
   },
   "outputs": [],
   "source": []
  },
  {
   "cell_type": "code",
   "execution_count": 441,
   "id": "fbaa16eb-8a0e-48cf-8979-57a7815a19ba",
   "metadata": {
    "tags": []
   },
   "outputs": [
    {
     "data": {
      "text/html": [
       "<div>\n",
       "<style scoped>\n",
       "    .dataframe tbody tr th:only-of-type {\n",
       "        vertical-align: middle;\n",
       "    }\n",
       "\n",
       "    .dataframe tbody tr th {\n",
       "        vertical-align: top;\n",
       "    }\n",
       "\n",
       "    .dataframe thead th {\n",
       "        text-align: right;\n",
       "    }\n",
       "</style>\n",
       "<table border=\"1\" class=\"dataframe\">\n",
       "  <thead>\n",
       "    <tr style=\"text-align: right;\">\n",
       "      <th></th>\n",
       "      <th>Feature</th>\n",
       "      <th>Missing Values</th>\n",
       "    </tr>\n",
       "  </thead>\n",
       "  <tbody>\n",
       "    <tr>\n",
       "      <th>0</th>\n",
       "      <td>Lot Frontage</td>\n",
       "      <td>330</td>\n",
       "    </tr>\n",
       "    <tr>\n",
       "      <th>1</th>\n",
       "      <td>Alley</td>\n",
       "      <td>1911</td>\n",
       "    </tr>\n",
       "    <tr>\n",
       "      <th>2</th>\n",
       "      <td>Mas Vnr Type</td>\n",
       "      <td>22</td>\n",
       "    </tr>\n",
       "    <tr>\n",
       "      <th>3</th>\n",
       "      <td>Mas Vnr Area</td>\n",
       "      <td>22</td>\n",
       "    </tr>\n",
       "    <tr>\n",
       "      <th>4</th>\n",
       "      <td>Bsmt Qual</td>\n",
       "      <td>55</td>\n",
       "    </tr>\n",
       "    <tr>\n",
       "      <th>5</th>\n",
       "      <td>Bsmt Cond</td>\n",
       "      <td>55</td>\n",
       "    </tr>\n",
       "    <tr>\n",
       "      <th>6</th>\n",
       "      <td>Bsmt Exposure</td>\n",
       "      <td>58</td>\n",
       "    </tr>\n",
       "    <tr>\n",
       "      <th>7</th>\n",
       "      <td>BsmtFin Type 1</td>\n",
       "      <td>55</td>\n",
       "    </tr>\n",
       "    <tr>\n",
       "      <th>8</th>\n",
       "      <td>BsmtFin SF 1</td>\n",
       "      <td>1</td>\n",
       "    </tr>\n",
       "    <tr>\n",
       "      <th>9</th>\n",
       "      <td>BsmtFin Type 2</td>\n",
       "      <td>56</td>\n",
       "    </tr>\n",
       "    <tr>\n",
       "      <th>10</th>\n",
       "      <td>BsmtFin SF 2</td>\n",
       "      <td>1</td>\n",
       "    </tr>\n",
       "    <tr>\n",
       "      <th>11</th>\n",
       "      <td>Bsmt Unf SF</td>\n",
       "      <td>1</td>\n",
       "    </tr>\n",
       "    <tr>\n",
       "      <th>12</th>\n",
       "      <td>Total Bsmt SF</td>\n",
       "      <td>1</td>\n",
       "    </tr>\n",
       "    <tr>\n",
       "      <th>13</th>\n",
       "      <td>Bsmt Full Bath</td>\n",
       "      <td>2</td>\n",
       "    </tr>\n",
       "    <tr>\n",
       "      <th>14</th>\n",
       "      <td>Bsmt Half Bath</td>\n",
       "      <td>2</td>\n",
       "    </tr>\n",
       "    <tr>\n",
       "      <th>15</th>\n",
       "      <td>Fireplace Qu</td>\n",
       "      <td>1000</td>\n",
       "    </tr>\n",
       "    <tr>\n",
       "      <th>16</th>\n",
       "      <td>Garage Type</td>\n",
       "      <td>113</td>\n",
       "    </tr>\n",
       "    <tr>\n",
       "      <th>17</th>\n",
       "      <td>Garage Yr Blt</td>\n",
       "      <td>114</td>\n",
       "    </tr>\n",
       "    <tr>\n",
       "      <th>18</th>\n",
       "      <td>Garage Finish</td>\n",
       "      <td>114</td>\n",
       "    </tr>\n",
       "    <tr>\n",
       "      <th>19</th>\n",
       "      <td>Garage Cars</td>\n",
       "      <td>1</td>\n",
       "    </tr>\n",
       "    <tr>\n",
       "      <th>20</th>\n",
       "      <td>Garage Area</td>\n",
       "      <td>1</td>\n",
       "    </tr>\n",
       "    <tr>\n",
       "      <th>21</th>\n",
       "      <td>Garage Qual</td>\n",
       "      <td>114</td>\n",
       "    </tr>\n",
       "    <tr>\n",
       "      <th>22</th>\n",
       "      <td>Garage Cond</td>\n",
       "      <td>114</td>\n",
       "    </tr>\n",
       "    <tr>\n",
       "      <th>23</th>\n",
       "      <td>Pool QC</td>\n",
       "      <td>2042</td>\n",
       "    </tr>\n",
       "    <tr>\n",
       "      <th>24</th>\n",
       "      <td>Fence</td>\n",
       "      <td>1651</td>\n",
       "    </tr>\n",
       "    <tr>\n",
       "      <th>25</th>\n",
       "      <td>Misc Feature</td>\n",
       "      <td>1986</td>\n",
       "    </tr>\n",
       "  </tbody>\n",
       "</table>\n",
       "</div>"
      ],
      "text/plain": [
       "           Feature  Missing Values\n",
       "0     Lot Frontage             330\n",
       "1            Alley            1911\n",
       "2     Mas Vnr Type              22\n",
       "3     Mas Vnr Area              22\n",
       "4        Bsmt Qual              55\n",
       "5        Bsmt Cond              55\n",
       "6    Bsmt Exposure              58\n",
       "7   BsmtFin Type 1              55\n",
       "8     BsmtFin SF 1               1\n",
       "9   BsmtFin Type 2              56\n",
       "10    BsmtFin SF 2               1\n",
       "11     Bsmt Unf SF               1\n",
       "12   Total Bsmt SF               1\n",
       "13  Bsmt Full Bath               2\n",
       "14  Bsmt Half Bath               2\n",
       "15    Fireplace Qu            1000\n",
       "16     Garage Type             113\n",
       "17   Garage Yr Blt             114\n",
       "18   Garage Finish             114\n",
       "19     Garage Cars               1\n",
       "20     Garage Area               1\n",
       "21     Garage Qual             114\n",
       "22     Garage Cond             114\n",
       "23         Pool QC            2042\n",
       "24           Fence            1651\n",
       "25    Misc Feature            1986"
      ]
     },
     "execution_count": 441,
     "metadata": {},
     "output_type": "execute_result"
    }
   ],
   "source": [
    "# Check nulls\n",
    "null_cols = [(column, props[column].isnull().sum()) for column in props.columns if props[column].isnull().sum() > 0]\n",
    "null_cols_df = pd.DataFrame(null_cols, columns= ['Feature', 'Missing Values'])\n",
    "null_cols_df"
   ]
  },
  {
   "cell_type": "markdown",
   "id": "42d69ecc-77c9-4da0-a9e4-1ddb065002b9",
   "metadata": {},
   "source": [
    "### Investigate and address missing Fireplace Qu values "
   ]
  },
  {
   "cell_type": "code",
   "execution_count": 442,
   "id": "5a6cd64e-f895-4d65-bd7c-2e79e73fbfa8",
   "metadata": {
    "tags": []
   },
   "outputs": [
    {
     "data": {
      "text/plain": [
       "(1000, 2)"
      ]
     },
     "execution_count": 442,
     "metadata": {},
     "output_type": "execute_result"
    }
   ],
   "source": [
    "NaN_fireplaces = props.loc[props['Fireplace Qu'].isnull(), ['Fireplaces', 'Fireplace Qu']]\n",
    "NaN_fireplaces.shape"
   ]
  },
  {
   "cell_type": "code",
   "execution_count": 443,
   "id": "2bc0904c-6b0f-4cfb-9ff1-f89376325080",
   "metadata": {
    "tags": []
   },
   "outputs": [
    {
     "data": {
      "text/plain": [
       "(1000, 2)"
      ]
     },
     "execution_count": 443,
     "metadata": {},
     "output_type": "execute_result"
    }
   ],
   "source": [
    "NaN_fireplaces[NaN_fireplaces['Fireplaces'] == 0].shape"
   ]
  },
  {
   "cell_type": "markdown",
   "id": "4ea61aff-2843-442c-9130-841760272e77",
   "metadata": {},
   "source": [
    "From the above we can determine that every NaN in Fireplace Qu is aligned with an intentional \"0\" fireplaces, indicating that these should have been \"NA\" (per the \n",
    "data dictionary), not None\n",
    "Decision: **Replace NaN with 'NA'**"
   ]
  },
  {
   "cell_type": "code",
   "execution_count": 444,
   "id": "8c33bf98-95ab-464c-8818-a11b68b32ac1",
   "metadata": {
    "tags": []
   },
   "outputs": [],
   "source": [
    "# props['Fireplace Qu'].replace(np.NaN, 'NA', inplace = True)\n",
    "\n",
    "replace_NaN_with_NA(props, ['Fireplace Qu'])"
   ]
  },
  {
   "cell_type": "code",
   "execution_count": 445,
   "id": "16121322-ffc9-4bc4-a78d-f1de852147a4",
   "metadata": {
    "tags": []
   },
   "outputs": [
    {
     "data": {
      "text/plain": [
       "NA    1000\n",
       "Gd     523\n",
       "TA     407\n",
       "Fa      59\n",
       "Po      31\n",
       "Ex      31\n",
       "Name: Fireplace Qu, dtype: int64"
      ]
     },
     "execution_count": 445,
     "metadata": {},
     "output_type": "execute_result"
    }
   ],
   "source": [
    "props['Fireplace Qu'].value_counts()"
   ]
  },
  {
   "cell_type": "code",
   "execution_count": null,
   "id": "f68dc63d-9740-45df-8ac7-171cdcb290e9",
   "metadata": {},
   "outputs": [],
   "source": []
  },
  {
   "cell_type": "markdown",
   "id": "a1b43c73-3018-4414-833f-c0b86a01125d",
   "metadata": {},
   "source": [
    "### Investigate and address missing Lot Frontage values"
   ]
  },
  {
   "cell_type": "code",
   "execution_count": 446,
   "id": "75d82d7c-5d84-492a-8879-d76cbf3cb0cd",
   "metadata": {
    "tags": []
   },
   "outputs": [
    {
     "data": {
      "text/plain": [
       "Norm      290\n",
       "Feedr      14\n",
       "PosN        9\n",
       "RRAe        5\n",
       "RRNn        3\n",
       "RRAn        3\n",
       "Artery      2\n",
       "RRNe        2\n",
       "PosA        2\n",
       "Name: Condition 1, dtype: int64"
      ]
     },
     "execution_count": 446,
     "metadata": {},
     "output_type": "execute_result"
    }
   ],
   "source": [
    "# Cond 1 and 2 seem to be the closest category related to lot frontage (abutting streets/railroads)\n",
    "NaN_LF = props.loc[props['Lot Frontage'].isnull(), ['Condition 1', 'Condition 2']]\n",
    "NaN_LF['Condition 1'].value_counts()"
   ]
  },
  {
   "cell_type": "markdown",
   "id": "c4bfbeb5-b87a-4b40-9027-9803387ce3c0",
   "metadata": {},
   "source": [
    "It is difficult to infer why these are missing and there are too many to lose ( > 10% of the data). \n",
    "\n",
    "**Decision: Will likely be imputed or not included in model**"
   ]
  },
  {
   "cell_type": "code",
   "execution_count": null,
   "id": "42420391-0125-4080-8ced-3bb48c79d994",
   "metadata": {},
   "outputs": [],
   "source": []
  },
  {
   "cell_type": "markdown",
   "id": "691d0fff-3dfa-44c0-8b0a-50b7ec975c89",
   "metadata": {},
   "source": [
    "### Investigate and address missing Alley values"
   ]
  },
  {
   "cell_type": "code",
   "execution_count": 447,
   "id": "6c1a6564-d320-4a8c-8c96-190422711d7e",
   "metadata": {
    "tags": []
   },
   "outputs": [
    {
     "data": {
      "text/plain": [
       "Norm      1644\n",
       "Feedr      105\n",
       "Artery      58\n",
       "RRAn        36\n",
       "PosN        26\n",
       "RRAe        21\n",
       "PosA        12\n",
       "RRNn         6\n",
       "RRNe         3\n",
       "Name: Condition 1, dtype: int64"
      ]
     },
     "execution_count": 447,
     "metadata": {},
     "output_type": "execute_result"
    }
   ],
   "source": [
    "NaN_Alley = props.loc[props['Alley'].isnull(), ['Condition 1', 'Condition 2']]\n",
    "NaN_Alley['Condition 1'].value_counts()"
   ]
  },
  {
   "cell_type": "markdown",
   "id": "cc5dbbd9-f9eb-493c-ad16-5e4e8598a772",
   "metadata": {},
   "source": [
    "It is difficult to infer why these are missing and there are too many to lose ( > 90% of the data). \n",
    "\n",
    "**Decision: Will likely not be included in model**"
   ]
  },
  {
   "cell_type": "code",
   "execution_count": null,
   "id": "3754faa9-d6f7-4f8a-b6ed-986093402852",
   "metadata": {},
   "outputs": [],
   "source": []
  },
  {
   "cell_type": "markdown",
   "id": "aa94b2ae-cf7c-427b-bf7f-cb8e3aa6d367",
   "metadata": {},
   "source": [
    "### Investigate and address missing Garage values"
   ]
  },
  {
   "cell_type": "code",
   "execution_count": 448,
   "id": "a1d21843-dca7-4210-bb86-6e416cabc2f5",
   "metadata": {
    "tags": []
   },
   "outputs": [],
   "source": [
    "# Based on MissingNo matrix above, it seems very likely these missing values are on same rows"
   ]
  },
  {
   "cell_type": "code",
   "execution_count": 449,
   "id": "a116e35c-c872-4784-83a3-59a4bf3c84a5",
   "metadata": {
    "tags": []
   },
   "outputs": [
    {
     "data": {
      "text/plain": [
       "Garage Cars  Garage Area\n",
       "0.0          0.0            113\n",
       "dtype: int64"
      ]
     },
     "execution_count": 449,
     "metadata": {},
     "output_type": "execute_result"
    }
   ],
   "source": [
    "#NaN_garage = \n",
    "props.loc[(props['Garage Qual'].isnull()), ['Garage Cars', 'Garage Area']].value_counts()"
   ]
  },
  {
   "cell_type": "markdown",
   "id": "6f75c332-2f94-435a-b8c1-6a006f2d0616",
   "metadata": {},
   "source": [
    "Seems that these were deliberately marked as 0 car garages, which indicates No Garage or \"NA\" rather than NaN. Also, garage year is dependent on the year the house was built.\n",
    "\n",
    "**Decision: Garage NaNs will be replaced with NA, with the exception of Garage Yr Blt which will in all likelihood be dropped**"
   ]
  },
  {
   "cell_type": "code",
   "execution_count": 450,
   "id": "1f58e6b1-06df-4c6e-a23a-1fbc9d6001b2",
   "metadata": {
    "tags": []
   },
   "outputs": [],
   "source": [
    "replace_NaN_with_NA(props, ['Garage Type', 'Garage Finish', 'Garage Qual', 'Garage Cond'])"
   ]
  },
  {
   "cell_type": "code",
   "execution_count": 451,
   "id": "44793775-c939-4d4c-84d4-0cb4c5d63c74",
   "metadata": {
    "tags": []
   },
   "outputs": [
    {
     "data": {
      "text/html": [
       "<div>\n",
       "<style scoped>\n",
       "    .dataframe tbody tr th:only-of-type {\n",
       "        vertical-align: middle;\n",
       "    }\n",
       "\n",
       "    .dataframe tbody tr th {\n",
       "        vertical-align: top;\n",
       "    }\n",
       "\n",
       "    .dataframe thead th {\n",
       "        text-align: right;\n",
       "    }\n",
       "</style>\n",
       "<table border=\"1\" class=\"dataframe\">\n",
       "  <thead>\n",
       "    <tr style=\"text-align: right;\">\n",
       "      <th></th>\n",
       "      <th>Feature</th>\n",
       "      <th>Missing Values</th>\n",
       "    </tr>\n",
       "  </thead>\n",
       "  <tbody>\n",
       "    <tr>\n",
       "      <th>0</th>\n",
       "      <td>Lot Frontage</td>\n",
       "      <td>330</td>\n",
       "    </tr>\n",
       "    <tr>\n",
       "      <th>1</th>\n",
       "      <td>Alley</td>\n",
       "      <td>1911</td>\n",
       "    </tr>\n",
       "    <tr>\n",
       "      <th>2</th>\n",
       "      <td>Mas Vnr Type</td>\n",
       "      <td>22</td>\n",
       "    </tr>\n",
       "    <tr>\n",
       "      <th>3</th>\n",
       "      <td>Mas Vnr Area</td>\n",
       "      <td>22</td>\n",
       "    </tr>\n",
       "    <tr>\n",
       "      <th>4</th>\n",
       "      <td>Bsmt Qual</td>\n",
       "      <td>55</td>\n",
       "    </tr>\n",
       "    <tr>\n",
       "      <th>5</th>\n",
       "      <td>Bsmt Cond</td>\n",
       "      <td>55</td>\n",
       "    </tr>\n",
       "    <tr>\n",
       "      <th>6</th>\n",
       "      <td>Bsmt Exposure</td>\n",
       "      <td>58</td>\n",
       "    </tr>\n",
       "    <tr>\n",
       "      <th>7</th>\n",
       "      <td>BsmtFin Type 1</td>\n",
       "      <td>55</td>\n",
       "    </tr>\n",
       "    <tr>\n",
       "      <th>8</th>\n",
       "      <td>BsmtFin SF 1</td>\n",
       "      <td>1</td>\n",
       "    </tr>\n",
       "    <tr>\n",
       "      <th>9</th>\n",
       "      <td>BsmtFin Type 2</td>\n",
       "      <td>56</td>\n",
       "    </tr>\n",
       "    <tr>\n",
       "      <th>10</th>\n",
       "      <td>BsmtFin SF 2</td>\n",
       "      <td>1</td>\n",
       "    </tr>\n",
       "    <tr>\n",
       "      <th>11</th>\n",
       "      <td>Bsmt Unf SF</td>\n",
       "      <td>1</td>\n",
       "    </tr>\n",
       "    <tr>\n",
       "      <th>12</th>\n",
       "      <td>Total Bsmt SF</td>\n",
       "      <td>1</td>\n",
       "    </tr>\n",
       "    <tr>\n",
       "      <th>13</th>\n",
       "      <td>Bsmt Full Bath</td>\n",
       "      <td>2</td>\n",
       "    </tr>\n",
       "    <tr>\n",
       "      <th>14</th>\n",
       "      <td>Bsmt Half Bath</td>\n",
       "      <td>2</td>\n",
       "    </tr>\n",
       "    <tr>\n",
       "      <th>15</th>\n",
       "      <td>Garage Yr Blt</td>\n",
       "      <td>114</td>\n",
       "    </tr>\n",
       "    <tr>\n",
       "      <th>16</th>\n",
       "      <td>Garage Cars</td>\n",
       "      <td>1</td>\n",
       "    </tr>\n",
       "    <tr>\n",
       "      <th>17</th>\n",
       "      <td>Garage Area</td>\n",
       "      <td>1</td>\n",
       "    </tr>\n",
       "    <tr>\n",
       "      <th>18</th>\n",
       "      <td>Pool QC</td>\n",
       "      <td>2042</td>\n",
       "    </tr>\n",
       "    <tr>\n",
       "      <th>19</th>\n",
       "      <td>Fence</td>\n",
       "      <td>1651</td>\n",
       "    </tr>\n",
       "    <tr>\n",
       "      <th>20</th>\n",
       "      <td>Misc Feature</td>\n",
       "      <td>1986</td>\n",
       "    </tr>\n",
       "  </tbody>\n",
       "</table>\n",
       "</div>"
      ],
      "text/plain": [
       "           Feature  Missing Values\n",
       "0     Lot Frontage             330\n",
       "1            Alley            1911\n",
       "2     Mas Vnr Type              22\n",
       "3     Mas Vnr Area              22\n",
       "4        Bsmt Qual              55\n",
       "5        Bsmt Cond              55\n",
       "6    Bsmt Exposure              58\n",
       "7   BsmtFin Type 1              55\n",
       "8     BsmtFin SF 1               1\n",
       "9   BsmtFin Type 2              56\n",
       "10    BsmtFin SF 2               1\n",
       "11     Bsmt Unf SF               1\n",
       "12   Total Bsmt SF               1\n",
       "13  Bsmt Full Bath               2\n",
       "14  Bsmt Half Bath               2\n",
       "15   Garage Yr Blt             114\n",
       "16     Garage Cars               1\n",
       "17     Garage Area               1\n",
       "18         Pool QC            2042\n",
       "19           Fence            1651\n",
       "20    Misc Feature            1986"
      ]
     },
     "execution_count": 451,
     "metadata": {},
     "output_type": "execute_result"
    }
   ],
   "source": [
    "# Check nulls\n",
    "null_cols = [(column, props[column].isnull().sum()) for column in props.columns if props[column].isnull().sum() > 0]\n",
    "null_cols_df = pd.DataFrame(null_cols, columns= ['Feature', 'Missing Values'])\n",
    "null_cols_df"
   ]
  },
  {
   "cell_type": "markdown",
   "id": "aedddb87-f050-4757-ac88-e459bdc697e6",
   "metadata": {
    "tags": []
   },
   "source": [
    "### Investigate and address missing Basement values"
   ]
  },
  {
   "cell_type": "code",
   "execution_count": 452,
   "id": "d3fa9688-6292-4562-8dc9-1471c2f3dd26",
   "metadata": {
    "tags": []
   },
   "outputs": [],
   "source": [
    "# None of the basement values had NA recorded, indicating that the NaN is likely intended to be NA but was left blank\n",
    "\n",
    "replace_NaN_with_NA(props, ['Bsmt Qual', 'Bsmt Cond', 'Bsmt Exposure', 'BsmtFin Type 1', 'BsmtFin Type 2'])"
   ]
  },
  {
   "cell_type": "markdown",
   "id": "1a3ee9e3-803b-42d1-ad79-beca40287f2b",
   "metadata": {},
   "source": [
    "### Investigate and address missing Pool QC values"
   ]
  },
  {
   "cell_type": "code",
   "execution_count": 453,
   "id": "338bea9d-0c8e-419c-857f-18f66942e00c",
   "metadata": {
    "tags": []
   },
   "outputs": [
    {
     "data": {
      "text/html": [
       "<div>\n",
       "<style scoped>\n",
       "    .dataframe tbody tr th:only-of-type {\n",
       "        vertical-align: middle;\n",
       "    }\n",
       "\n",
       "    .dataframe tbody tr th {\n",
       "        vertical-align: top;\n",
       "    }\n",
       "\n",
       "    .dataframe thead th {\n",
       "        text-align: right;\n",
       "    }\n",
       "</style>\n",
       "<table border=\"1\" class=\"dataframe\">\n",
       "  <thead>\n",
       "    <tr style=\"text-align: right;\">\n",
       "      <th></th>\n",
       "      <th>Pool Area</th>\n",
       "    </tr>\n",
       "    <tr>\n",
       "      <th>Id</th>\n",
       "      <th></th>\n",
       "    </tr>\n",
       "  </thead>\n",
       "  <tbody>\n",
       "    <tr>\n",
       "      <th>2351</th>\n",
       "      <td>519</td>\n",
       "    </tr>\n",
       "    <tr>\n",
       "      <th>1567</th>\n",
       "      <td>576</td>\n",
       "    </tr>\n",
       "    <tr>\n",
       "      <th>2499</th>\n",
       "      <td>800</td>\n",
       "    </tr>\n",
       "    <tr>\n",
       "      <th>2231</th>\n",
       "      <td>228</td>\n",
       "    </tr>\n",
       "    <tr>\n",
       "      <th>1499</th>\n",
       "      <td>480</td>\n",
       "    </tr>\n",
       "    <tr>\n",
       "      <th>2358</th>\n",
       "      <td>648</td>\n",
       "    </tr>\n",
       "    <tr>\n",
       "      <th>2736</th>\n",
       "      <td>738</td>\n",
       "    </tr>\n",
       "    <tr>\n",
       "      <th>1941</th>\n",
       "      <td>368</td>\n",
       "    </tr>\n",
       "    <tr>\n",
       "      <th>2279</th>\n",
       "      <td>561</td>\n",
       "    </tr>\n",
       "  </tbody>\n",
       "</table>\n",
       "</div>"
      ],
      "text/plain": [
       "      Pool Area\n",
       "Id             \n",
       "2351        519\n",
       "1567        576\n",
       "2499        800\n",
       "2231        228\n",
       "1499        480\n",
       "2358        648\n",
       "2736        738\n",
       "1941        368\n",
       "2279        561"
      ]
     },
     "execution_count": 453,
     "metadata": {},
     "output_type": "execute_result"
    }
   ],
   "source": [
    "props.loc[(props['Pool QC'].notnull()), ['Pool Area']]"
   ]
  },
  {
   "cell_type": "markdown",
   "id": "41e16994-45ba-49cc-b8e2-81dbe4660d63",
   "metadata": {
    "tags": []
   },
   "source": [
    "This pool data seems too sparse to be of use. There are only 8 properties with pools.\n",
    "\n",
    "**Decision: Pool QC and Pool Area to be dropped**"
   ]
  },
  {
   "cell_type": "code",
   "execution_count": null,
   "id": "bacd5727-6c56-40b3-aa84-17206e98d6ac",
   "metadata": {
    "tags": []
   },
   "outputs": [],
   "source": []
  },
  {
   "cell_type": "markdown",
   "id": "8f42d3a6-e963-4d8b-bd98-892915da47bb",
   "metadata": {
    "tags": []
   },
   "source": [
    "### Investigate and address missing Fence values"
   ]
  },
  {
   "cell_type": "code",
   "execution_count": 454,
   "id": "0ea61262-f6d6-4cd2-80a7-e838b08d5324",
   "metadata": {
    "tags": []
   },
   "outputs": [
    {
     "data": {
      "text/plain": [
       "MnPrv    227\n",
       "GdPrv     83\n",
       "GdWo      80\n",
       "MnWw      10\n",
       "Name: Fence, dtype: int64"
      ]
     },
     "execution_count": 454,
     "metadata": {},
     "output_type": "execute_result"
    }
   ],
   "source": [
    "props['Fence'].value_counts()"
   ]
  },
  {
   "cell_type": "markdown",
   "id": "0d11befd-aec8-472d-ae5a-1b0412658740",
   "metadata": {
    "tags": []
   },
   "source": [
    "There are no naturally occurring \"NA\", which would suggest a missing value was likely meant to be NA\n",
    "\n",
    "\n",
    "**Decision: Replace NaN with NA, Fence may or may not be used in model**"
   ]
  },
  {
   "cell_type": "code",
   "execution_count": 455,
   "id": "06fe5f07-30ef-4c0b-abe1-28d43a82c0c1",
   "metadata": {
    "tags": []
   },
   "outputs": [],
   "source": [
    "replace_NaN_with_NA(props, ['Fence'])"
   ]
  },
  {
   "cell_type": "code",
   "execution_count": null,
   "id": "dcbb3209-6f4e-4f30-82d5-bcf730fbb78d",
   "metadata": {
    "tags": []
   },
   "outputs": [],
   "source": []
  },
  {
   "cell_type": "markdown",
   "id": "83eb6fbb-dfba-4574-91db-e75ff237ed4e",
   "metadata": {
    "tags": []
   },
   "source": [
    "### Investigate and address missing \"MiscFeature\" values"
   ]
  },
  {
   "cell_type": "code",
   "execution_count": 456,
   "id": "5fef61e3-4a89-48c1-b677-1d79d98465be",
   "metadata": {
    "tags": []
   },
   "outputs": [
    {
     "data": {
      "text/plain": [
       "Shed    56\n",
       "Gar2     4\n",
       "Othr     3\n",
       "TenC     1\n",
       "Elev     1\n",
       "Name: Misc Feature, dtype: int64"
      ]
     },
     "execution_count": 456,
     "metadata": {},
     "output_type": "execute_result"
    }
   ],
   "source": [
    "props['Misc Feature'].value_counts()"
   ]
  },
  {
   "cell_type": "markdown",
   "id": "4c6e4506-d073-40e9-a4bd-c37073d0740b",
   "metadata": {
    "tags": []
   },
   "source": [
    "Misc Feature data is too sparse to be of use, with 62 of ~1900 rows of data\n",
    "\n",
    "\n",
    "**Decision: No cleaning needed, will be dropped**"
   ]
  },
  {
   "cell_type": "code",
   "execution_count": null,
   "id": "80b48f12-8c2f-40d7-b463-24be0804b8bc",
   "metadata": {
    "tags": []
   },
   "outputs": [],
   "source": []
  },
  {
   "cell_type": "code",
   "execution_count": 457,
   "id": "4d1b0825-05f1-453d-9549-4fc22bc478e6",
   "metadata": {
    "tags": []
   },
   "outputs": [
    {
     "data": {
      "text/html": [
       "<div>\n",
       "<style scoped>\n",
       "    .dataframe tbody tr th:only-of-type {\n",
       "        vertical-align: middle;\n",
       "    }\n",
       "\n",
       "    .dataframe tbody tr th {\n",
       "        vertical-align: top;\n",
       "    }\n",
       "\n",
       "    .dataframe thead th {\n",
       "        text-align: right;\n",
       "    }\n",
       "</style>\n",
       "<table border=\"1\" class=\"dataframe\">\n",
       "  <thead>\n",
       "    <tr style=\"text-align: right;\">\n",
       "      <th></th>\n",
       "      <th>Feature</th>\n",
       "      <th>Missing Values</th>\n",
       "    </tr>\n",
       "  </thead>\n",
       "  <tbody>\n",
       "    <tr>\n",
       "      <th>0</th>\n",
       "      <td>Lot Frontage</td>\n",
       "      <td>330</td>\n",
       "    </tr>\n",
       "    <tr>\n",
       "      <th>1</th>\n",
       "      <td>Alley</td>\n",
       "      <td>1911</td>\n",
       "    </tr>\n",
       "    <tr>\n",
       "      <th>2</th>\n",
       "      <td>Mas Vnr Type</td>\n",
       "      <td>22</td>\n",
       "    </tr>\n",
       "    <tr>\n",
       "      <th>3</th>\n",
       "      <td>Mas Vnr Area</td>\n",
       "      <td>22</td>\n",
       "    </tr>\n",
       "    <tr>\n",
       "      <th>4</th>\n",
       "      <td>BsmtFin SF 1</td>\n",
       "      <td>1</td>\n",
       "    </tr>\n",
       "    <tr>\n",
       "      <th>5</th>\n",
       "      <td>BsmtFin SF 2</td>\n",
       "      <td>1</td>\n",
       "    </tr>\n",
       "    <tr>\n",
       "      <th>6</th>\n",
       "      <td>Bsmt Unf SF</td>\n",
       "      <td>1</td>\n",
       "    </tr>\n",
       "    <tr>\n",
       "      <th>7</th>\n",
       "      <td>Total Bsmt SF</td>\n",
       "      <td>1</td>\n",
       "    </tr>\n",
       "    <tr>\n",
       "      <th>8</th>\n",
       "      <td>Bsmt Full Bath</td>\n",
       "      <td>2</td>\n",
       "    </tr>\n",
       "    <tr>\n",
       "      <th>9</th>\n",
       "      <td>Bsmt Half Bath</td>\n",
       "      <td>2</td>\n",
       "    </tr>\n",
       "    <tr>\n",
       "      <th>10</th>\n",
       "      <td>Garage Yr Blt</td>\n",
       "      <td>114</td>\n",
       "    </tr>\n",
       "    <tr>\n",
       "      <th>11</th>\n",
       "      <td>Garage Cars</td>\n",
       "      <td>1</td>\n",
       "    </tr>\n",
       "    <tr>\n",
       "      <th>12</th>\n",
       "      <td>Garage Area</td>\n",
       "      <td>1</td>\n",
       "    </tr>\n",
       "    <tr>\n",
       "      <th>13</th>\n",
       "      <td>Pool QC</td>\n",
       "      <td>2042</td>\n",
       "    </tr>\n",
       "    <tr>\n",
       "      <th>14</th>\n",
       "      <td>Misc Feature</td>\n",
       "      <td>1986</td>\n",
       "    </tr>\n",
       "  </tbody>\n",
       "</table>\n",
       "</div>"
      ],
      "text/plain": [
       "           Feature  Missing Values\n",
       "0     Lot Frontage             330\n",
       "1            Alley            1911\n",
       "2     Mas Vnr Type              22\n",
       "3     Mas Vnr Area              22\n",
       "4     BsmtFin SF 1               1\n",
       "5     BsmtFin SF 2               1\n",
       "6      Bsmt Unf SF               1\n",
       "7    Total Bsmt SF               1\n",
       "8   Bsmt Full Bath               2\n",
       "9   Bsmt Half Bath               2\n",
       "10   Garage Yr Blt             114\n",
       "11     Garage Cars               1\n",
       "12     Garage Area               1\n",
       "13         Pool QC            2042\n",
       "14    Misc Feature            1986"
      ]
     },
     "execution_count": 457,
     "metadata": {},
     "output_type": "execute_result"
    }
   ],
   "source": [
    "# Check nulls\n",
    "null_cols = [(column, props[column].isnull().sum()) for column in props.columns if props[column].isnull().sum() > 0]\n",
    "null_cols_df = pd.DataFrame(null_cols, columns= ['Feature', 'Missing Values'])\n",
    "null_cols_df"
   ]
  },
  {
   "cell_type": "code",
   "execution_count": null,
   "id": "34f355df-c9ef-42b3-9cbb-a7748d2e86a4",
   "metadata": {},
   "outputs": [],
   "source": []
  },
  {
   "cell_type": "markdown",
   "id": "a8910420-eab3-4b51-a6b3-f81a0743d7c5",
   "metadata": {
    "tags": []
   },
   "source": [
    "### Drop missing rows for certain columns only\n",
    "\n",
    "**Which columns and why?** \n",
    "- Msn Vnr Type, Mas Vnr Area\n",
    "    - Because \"None\" is already a value on this scale, and appears in the dataset already, indicating these were not mistaken but truly missing.  \n",
    "- Bsmt SF fields\n",
    "    - These are just a handful of missing numeric values, can't be interpreted as \"NA\" or \"None\"\n",
    "- Garage Cars, Garage Area\n",
    "    - There is only one row missing these values. Could be imputed but given it's a single line, will drop"
   ]
  },
  {
   "cell_type": "code",
   "execution_count": 458,
   "id": "f5e3a723-4087-4ba4-b869-f6a5406e5890",
   "metadata": {
    "tags": []
   },
   "outputs": [
    {
     "data": {
      "text/plain": [
       "TA    1834\n",
       "Gd      89\n",
       "Fa      65\n",
       "NA      55\n",
       "Po       5\n",
       "Ex       3\n",
       "Name: Bsmt Cond, dtype: int64"
      ]
     },
     "execution_count": 458,
     "metadata": {},
     "output_type": "execute_result"
    }
   ],
   "source": [
    "props['Bsmt Cond'].value_counts()"
   ]
  },
  {
   "cell_type": "code",
   "execution_count": 459,
   "id": "22602cde-df9e-499a-b85f-a777da76011e",
   "metadata": {
    "tags": []
   },
   "outputs": [],
   "source": [
    "columns_with_NaN_rows_to_drop = ['Mas Vnr Type', 'Mas Vnr Area','Garage Cars', 'Garage Area', 'BsmtFin SF 1', 'BsmtFin SF 2', 'Total Bsmt SF', 'Bsmt Full Bath', 'Bsmt Half Bath']\n",
    "\n",
    "props.dropna(axis=0, subset = columns_with_NaN_rows_to_drop, inplace = True)\n",
    "\n",
    "\n"
   ]
  },
  {
   "cell_type": "code",
   "execution_count": 460,
   "id": "06c5603b-5231-4a3b-abe4-2e9259391b41",
   "metadata": {
    "tags": []
   },
   "outputs": [
    {
     "data": {
      "text/html": [
       "<div>\n",
       "<style scoped>\n",
       "    .dataframe tbody tr th:only-of-type {\n",
       "        vertical-align: middle;\n",
       "    }\n",
       "\n",
       "    .dataframe tbody tr th {\n",
       "        vertical-align: top;\n",
       "    }\n",
       "\n",
       "    .dataframe thead th {\n",
       "        text-align: right;\n",
       "    }\n",
       "</style>\n",
       "<table border=\"1\" class=\"dataframe\">\n",
       "  <thead>\n",
       "    <tr style=\"text-align: right;\">\n",
       "      <th></th>\n",
       "      <th>Feature</th>\n",
       "      <th>Missing Values</th>\n",
       "    </tr>\n",
       "  </thead>\n",
       "  <tbody>\n",
       "    <tr>\n",
       "      <th>0</th>\n",
       "      <td>Lot Frontage</td>\n",
       "      <td>324</td>\n",
       "    </tr>\n",
       "    <tr>\n",
       "      <th>1</th>\n",
       "      <td>Alley</td>\n",
       "      <td>1888</td>\n",
       "    </tr>\n",
       "    <tr>\n",
       "      <th>2</th>\n",
       "      <td>Garage Yr Blt</td>\n",
       "      <td>112</td>\n",
       "    </tr>\n",
       "    <tr>\n",
       "      <th>3</th>\n",
       "      <td>Pool QC</td>\n",
       "      <td>2017</td>\n",
       "    </tr>\n",
       "    <tr>\n",
       "      <th>4</th>\n",
       "      <td>Misc Feature</td>\n",
       "      <td>1961</td>\n",
       "    </tr>\n",
       "  </tbody>\n",
       "</table>\n",
       "</div>"
      ],
      "text/plain": [
       "         Feature  Missing Values\n",
       "0   Lot Frontage             324\n",
       "1          Alley            1888\n",
       "2  Garage Yr Blt             112\n",
       "3        Pool QC            2017\n",
       "4   Misc Feature            1961"
      ]
     },
     "execution_count": 460,
     "metadata": {},
     "output_type": "execute_result"
    }
   ],
   "source": [
    "# Check nulls\n",
    "null_cols = [(column, props[column].isnull().sum()) for column in props.columns if props[column].isnull().sum() > 0]\n",
    "null_cols_df = pd.DataFrame(null_cols, columns= ['Feature', 'Missing Values'])\n",
    "null_cols_df"
   ]
  },
  {
   "cell_type": "markdown",
   "id": "e2a9d3ea-4453-4a27-800b-bf1185f1784a",
   "metadata": {
    "tags": []
   },
   "source": [
    "### What we have left\n",
    "- Lot frontage will likely be imputed in the model\n",
    "- Alley will not be included in the model due to its sparse nature\n",
    "- Garage Yr Blt will likely be dropped because it is dependent on the age of the house\n",
    "- Pool QC will not be included in the model due to its sparse nature\n",
    "- Misc Feature will not be included in the model due to its sparse nature"
   ]
  },
  {
   "cell_type": "markdown",
   "id": "c5bc4124-e454-401f-8bbc-f2ab8eacb188",
   "metadata": {},
   "source": [
    "## A fresh look at the dataframe, with relevant NaNs cleaned "
   ]
  },
  {
   "cell_type": "code",
   "execution_count": 461,
   "id": "f60e89c1-cfc7-48dd-8f01-dea6a1b833a3",
   "metadata": {
    "tags": []
   },
   "outputs": [],
   "source": [
    "# props.drop(['PID','Alley', 'Garage Yr Blt', 'Pool QC', 'Misc Feature'], axis = 1,  inplace = True)"
   ]
  },
  {
   "cell_type": "markdown",
   "id": "01dfbb53-cab4-4136-a587-d781ce8ebbf2",
   "metadata": {
    "tags": []
   },
   "source": [
    "### Up first, non-numeric columns"
   ]
  },
  {
   "cell_type": "code",
   "execution_count": 462,
   "id": "f12d189e-b91f-4157-9bc8-559562dd2548",
   "metadata": {
    "tags": []
   },
   "outputs": [],
   "source": [
    "# Get the collection of numeric columns we'll look at in a bit\n",
    "post_clean_numeric_columns = props.select_dtypes(include = [np.number])\n",
    "# Same for the non-numeric\n",
    "post_clean_nonnumeric_columns = props.select_dtypes(exclude = [np.number])"
   ]
  },
  {
   "cell_type": "code",
   "execution_count": null,
   "id": "a532cd03-ec6f-4e1e-9ce8-6e6b938c2530",
   "metadata": {
    "tags": []
   },
   "outputs": [],
   "source": []
  },
  {
   "cell_type": "markdown",
   "id": "51b1c917-6236-46fd-912f-e2be622b4de5",
   "metadata": {},
   "source": [
    "### Look through the number of unique values for each non-numeric value and see if we can make it boolean or simplify it"
   ]
  },
  {
   "cell_type": "code",
   "execution_count": 463,
   "id": "12f22cf1-7b20-4620-a63a-18a42981b9ea",
   "metadata": {
    "tags": []
   },
   "outputs": [],
   "source": [
    "unique_values_per_nonnumeric_column = [(column, len(post_clean_nonnumeric_columns[column].unique())) for column in post_clean_nonnumeric_columns.columns]"
   ]
  },
  {
   "cell_type": "code",
   "execution_count": 464,
   "id": "7f1e1a42-1f28-467c-bb69-ae9819f5db65",
   "metadata": {
    "tags": []
   },
   "outputs": [
    {
     "data": {
      "text/plain": [
       "[('MS Zoning', 7),\n",
       " ('Street', 2),\n",
       " ('Alley', 3),\n",
       " ('Lot Shape', 4),\n",
       " ('Land Contour', 4),\n",
       " ('Utilities', 3),\n",
       " ('Lot Config', 5),\n",
       " ('Land Slope', 3),\n",
       " ('Neighborhood', 28),\n",
       " ('Condition 1', 9),\n",
       " ('Condition 2', 8),\n",
       " ('Bldg Type', 5),\n",
       " ('House Style', 8),\n",
       " ('Roof Style', 6),\n",
       " ('Roof Matl', 6),\n",
       " ('Exterior 1st', 15),\n",
       " ('Exterior 2nd', 15),\n",
       " ('Mas Vnr Type', 4),\n",
       " ('Exter Qual', 4),\n",
       " ('Exter Cond', 5),\n",
       " ('Foundation', 6),\n",
       " ('Bsmt Qual', 6),\n",
       " ('Bsmt Cond', 6),\n",
       " ('Bsmt Exposure', 5),\n",
       " ('BsmtFin Type 1', 7),\n",
       " ('BsmtFin Type 2', 7),\n",
       " ('Heating', 5),\n",
       " ('Heating QC', 5),\n",
       " ('Central Air', 2),\n",
       " ('Electrical', 5),\n",
       " ('Kitchen Qual', 4),\n",
       " ('Functional', 8),\n",
       " ('Fireplace Qu', 6),\n",
       " ('Garage Type', 7),\n",
       " ('Garage Finish', 4),\n",
       " ('Garage Qual', 6),\n",
       " ('Garage Cond', 6),\n",
       " ('Paved Drive', 3),\n",
       " ('Pool QC', 5),\n",
       " ('Fence', 5),\n",
       " ('Misc Feature', 6),\n",
       " ('Sale Type', 9)]"
      ]
     },
     "execution_count": 464,
     "metadata": {},
     "output_type": "execute_result"
    }
   ],
   "source": [
    "unique_values_per_nonnumeric_column"
   ]
  },
  {
   "cell_type": "code",
   "execution_count": 465,
   "id": "c9115846-73dc-4614-98c9-aef7d6340624",
   "metadata": {
    "tags": []
   },
   "outputs": [
    {
     "data": {
      "text/plain": [
       "[('Street', 2),\n",
       " ('Alley', 3),\n",
       " ('Utilities', 3),\n",
       " ('Land Slope', 3),\n",
       " ('Central Air', 2),\n",
       " ('Paved Drive', 3)]"
      ]
     },
     "execution_count": 465,
     "metadata": {},
     "output_type": "execute_result"
    }
   ],
   "source": [
    "possible_bools = [ (column, counts) for column, counts in unique_values_per_nonnumeric_column if (counts == 2) | (counts == 3)]\n",
    "possible_bools"
   ]
  },
  {
   "cell_type": "code",
   "execution_count": null,
   "id": "99539049-17de-4c6c-b000-4a97374b8db2",
   "metadata": {
    "tags": []
   },
   "outputs": [],
   "source": [
    "\n",
    "        \n"
   ]
  },
  {
   "cell_type": "code",
   "execution_count": 466,
   "id": "8ecef27d-f671-43a3-92f2-776b61fca88f",
   "metadata": {
    "tags": []
   },
   "outputs": [],
   "source": [
    "list_of_columns_to_binarize = []"
   ]
  },
  {
   "cell_type": "markdown",
   "id": "f1bf8c4b-6c30-4949-a9b2-0af49a72b5d0",
   "metadata": {
    "tags": []
   },
   "source": [
    "## Change Street into a bool called Paved Street"
   ]
  },
  {
   "cell_type": "code",
   "execution_count": 467,
   "id": "d830bf25-06f9-45e2-b82f-399d408e4283",
   "metadata": {
    "tags": []
   },
   "outputs": [],
   "source": [
    "# j = pd.DataFrame(columns=['A', 'B'], index= [1, 2, 3])\n",
    "# j.iloc[:2, 0] = 'Hungry'\n",
    "# j.iloc[2, 0] = 'Hippo'\n",
    "# j.iloc[:1, 1] = 'Rock'\n",
    "# j.iloc[1:, 1] = 'Star'\n",
    "# ct = [('A', 'C'), ('B', None)]\n",
    "# binarize_to_most_common_str_val(j, ct)\n",
    "# j"
   ]
  },
  {
   "cell_type": "code",
   "execution_count": 468,
   "id": "312d7bc3-9427-46e0-b469-d5ed9b6bab51",
   "metadata": {
    "tags": []
   },
   "outputs": [
    {
     "data": {
      "text/plain": [
       "Pave    2019\n",
       "Grvl       7\n",
       "Name: Street, dtype: int64"
      ]
     },
     "execution_count": 468,
     "metadata": {},
     "output_type": "execute_result"
    }
   ],
   "source": [
    "props['Street'].value_counts()"
   ]
  },
  {
   "cell_type": "code",
   "execution_count": 469,
   "id": "6f705051-3d79-40fc-8e6f-548c516cf3cb",
   "metadata": {
    "tags": []
   },
   "outputs": [],
   "source": [
    "list_of_columns_to_binarize.append(('Street', 'Paved Street'))"
   ]
  },
  {
   "cell_type": "code",
   "execution_count": null,
   "id": "1dafc79a-f19b-422b-ace1-2d37396abc33",
   "metadata": {},
   "outputs": [],
   "source": []
  },
  {
   "cell_type": "markdown",
   "id": "8208aa80-f7b0-4003-bac6-49bac2a55e71",
   "metadata": {
    "tags": []
   },
   "source": [
    "## Change Utilities into a bool called Has All Utilities"
   ]
  },
  {
   "cell_type": "markdown",
   "id": "29f0626f-262b-47f9-b0ed-2dfd54ffe04d",
   "metadata": {},
   "source": [
    "Went this route because there is only one single row without all utilities"
   ]
  },
  {
   "cell_type": "code",
   "execution_count": 470,
   "id": "9d0fa98a-a4c0-4f8d-a520-72e10a031d75",
   "metadata": {
    "tags": []
   },
   "outputs": [
    {
     "data": {
      "text/plain": [
       "AllPub    2024\n",
       "NoSeWa       1\n",
       "NoSewr       1\n",
       "Name: Utilities, dtype: int64"
      ]
     },
     "execution_count": 470,
     "metadata": {},
     "output_type": "execute_result"
    }
   ],
   "source": [
    "props['Utilities'].value_counts()"
   ]
  },
  {
   "cell_type": "code",
   "execution_count": 471,
   "id": "0dc33525-b3b8-4f6e-ae82-4801b06712df",
   "metadata": {
    "tags": []
   },
   "outputs": [],
   "source": [
    "list_of_columns_to_binarize.append(('Utilities', 'Has All Utilities'))"
   ]
  },
  {
   "cell_type": "code",
   "execution_count": null,
   "id": "1d025935-8593-45fd-91ce-34f0925ad561",
   "metadata": {
    "tags": []
   },
   "outputs": [],
   "source": []
  },
  {
   "cell_type": "markdown",
   "id": "78f761bf-1825-44f6-abf2-a35a2a79bcab",
   "metadata": {},
   "source": [
    "## Change Land Slope into a bool called Gentle Slope"
   ]
  },
  {
   "cell_type": "code",
   "execution_count": 472,
   "id": "d73675a6-9b71-4a41-bef0-ca5f3e458c32",
   "metadata": {
    "tags": []
   },
   "outputs": [
    {
     "data": {
      "text/plain": [
       "Gtl    1928\n",
       "Mod      88\n",
       "Sev      10\n",
       "Name: Land Slope, dtype: int64"
      ]
     },
     "execution_count": 472,
     "metadata": {},
     "output_type": "execute_result"
    }
   ],
   "source": [
    "props['Land Slope'].value_counts()"
   ]
  },
  {
   "cell_type": "code",
   "execution_count": 473,
   "id": "1dc66945-5d2c-4851-8dbf-49ee411e764f",
   "metadata": {
    "tags": []
   },
   "outputs": [],
   "source": [
    "list_of_columns_to_binarize.append(('Land Slope', 'Gentle Slope'))"
   ]
  },
  {
   "cell_type": "markdown",
   "id": "b1205c38-3ade-400a-bc1d-edf87f44d1a3",
   "metadata": {},
   "source": [
    "## Transform Central Air into a bool\n"
   ]
  },
  {
   "cell_type": "code",
   "execution_count": 474,
   "id": "85d097ce-2128-4815-a45c-e762cdbe1eb0",
   "metadata": {
    "tags": []
   },
   "outputs": [
    {
     "data": {
      "text/plain": [
       "Y    1885\n",
       "N     141\n",
       "Name: Central Air, dtype: int64"
      ]
     },
     "execution_count": 474,
     "metadata": {},
     "output_type": "execute_result"
    }
   ],
   "source": [
    "props['Central Air'].value_counts()"
   ]
  },
  {
   "cell_type": "code",
   "execution_count": 475,
   "id": "b6ffefb5-a610-403c-8a2e-3fc78d88f4ee",
   "metadata": {
    "tags": []
   },
   "outputs": [],
   "source": [
    "list_of_columns_to_binarize.append(('Central Air', None))"
   ]
  },
  {
   "cell_type": "code",
   "execution_count": null,
   "id": "7f42cc08-7cdf-4974-9e54-2652c0332d23",
   "metadata": {},
   "outputs": [],
   "source": []
  },
  {
   "cell_type": "markdown",
   "id": "693ae979-8ab4-4867-a618-8a1343428631",
   "metadata": {},
   "source": [
    "## Transform Paved Drive into a bool"
   ]
  },
  {
   "cell_type": "code",
   "execution_count": 476,
   "id": "1df3fafb-fe7b-458d-ac43-5bcc08fa5df2",
   "metadata": {
    "tags": []
   },
   "outputs": [
    {
     "data": {
      "text/plain": [
       "Y    1837\n",
       "N     150\n",
       "P      39\n",
       "Name: Paved Drive, dtype: int64"
      ]
     },
     "execution_count": 476,
     "metadata": {},
     "output_type": "execute_result"
    }
   ],
   "source": [
    "props['Paved Drive'].value_counts()"
   ]
  },
  {
   "cell_type": "code",
   "execution_count": 477,
   "id": "e748074f-13c3-435e-bd79-8d833418857e",
   "metadata": {
    "tags": []
   },
   "outputs": [],
   "source": [
    "list_of_columns_to_binarize.append(('Paved Drive', None))"
   ]
  },
  {
   "cell_type": "code",
   "execution_count": 478,
   "id": "ca6bbaa1-5d3c-4afe-b491-e28368323de2",
   "metadata": {},
   "outputs": [
    {
     "data": {
      "text/plain": [
       "[('Street', 'Paved Street'),\n",
       " ('Utilities', 'Has All Utilities'),\n",
       " ('Land Slope', 'Gentle Slope'),\n",
       " ('Central Air', None),\n",
       " ('Paved Drive', None)]"
      ]
     },
     "execution_count": 478,
     "metadata": {},
     "output_type": "execute_result"
    }
   ],
   "source": [
    "list_of_columns_to_binarize"
   ]
  },
  {
   "cell_type": "code",
   "execution_count": 479,
   "id": "b8b02e30-cd03-43ae-aee1-f5ac9c9ca3d4",
   "metadata": {
    "tags": []
   },
   "outputs": [],
   "source": [
    "binarize_to_most_common_str_val(props, list_of_columns_to_binarize)"
   ]
  },
  {
   "cell_type": "code",
   "execution_count": null,
   "id": "b14e3de2-91c3-477a-8b72-87679d56df4f",
   "metadata": {
    "tags": []
   },
   "outputs": [],
   "source": []
  },
  {
   "cell_type": "code",
   "execution_count": 480,
   "id": "a899e96c-c66f-4301-98c9-78a5dd136f8c",
   "metadata": {
    "tags": []
   },
   "outputs": [
    {
     "data": {
      "text/html": [
       "<div>\n",
       "<style scoped>\n",
       "    .dataframe tbody tr th:only-of-type {\n",
       "        vertical-align: middle;\n",
       "    }\n",
       "\n",
       "    .dataframe tbody tr th {\n",
       "        vertical-align: top;\n",
       "    }\n",
       "\n",
       "    .dataframe thead th {\n",
       "        text-align: right;\n",
       "    }\n",
       "</style>\n",
       "<table border=\"1\" class=\"dataframe\">\n",
       "  <thead>\n",
       "    <tr style=\"text-align: right;\">\n",
       "      <th></th>\n",
       "      <th>Foundation</th>\n",
       "      <th>Bsmt Qual</th>\n",
       "      <th>Bsmt Cond</th>\n",
       "      <th>Bsmt Exposure</th>\n",
       "      <th>BsmtFin Type 1</th>\n",
       "      <th>BsmtFin Type 2</th>\n",
       "      <th>Heating</th>\n",
       "      <th>Heating QC</th>\n",
       "      <th>Central Air</th>\n",
       "      <th>Electrical</th>\n",
       "      <th>...</th>\n",
       "      <th>Fireplace Qu</th>\n",
       "      <th>Garage Type</th>\n",
       "      <th>Garage Finish</th>\n",
       "      <th>Garage Qual</th>\n",
       "      <th>Garage Cond</th>\n",
       "      <th>Paved Drive</th>\n",
       "      <th>Pool QC</th>\n",
       "      <th>Fence</th>\n",
       "      <th>Misc Feature</th>\n",
       "      <th>Sale Type</th>\n",
       "    </tr>\n",
       "  </thead>\n",
       "  <tbody>\n",
       "    <tr>\n",
       "      <th>count</th>\n",
       "      <td>2026</td>\n",
       "      <td>2026</td>\n",
       "      <td>2026</td>\n",
       "      <td>2026</td>\n",
       "      <td>2026</td>\n",
       "      <td>2026</td>\n",
       "      <td>2026</td>\n",
       "      <td>2026</td>\n",
       "      <td>2026</td>\n",
       "      <td>2026</td>\n",
       "      <td>...</td>\n",
       "      <td>2026</td>\n",
       "      <td>2026</td>\n",
       "      <td>2026</td>\n",
       "      <td>2026</td>\n",
       "      <td>2026</td>\n",
       "      <td>2026</td>\n",
       "      <td>9</td>\n",
       "      <td>2026</td>\n",
       "      <td>65</td>\n",
       "      <td>2026</td>\n",
       "    </tr>\n",
       "    <tr>\n",
       "      <th>unique</th>\n",
       "      <td>6</td>\n",
       "      <td>6</td>\n",
       "      <td>6</td>\n",
       "      <td>5</td>\n",
       "      <td>7</td>\n",
       "      <td>7</td>\n",
       "      <td>5</td>\n",
       "      <td>5</td>\n",
       "      <td>2</td>\n",
       "      <td>5</td>\n",
       "      <td>...</td>\n",
       "      <td>6</td>\n",
       "      <td>7</td>\n",
       "      <td>4</td>\n",
       "      <td>6</td>\n",
       "      <td>6</td>\n",
       "      <td>3</td>\n",
       "      <td>4</td>\n",
       "      <td>5</td>\n",
       "      <td>5</td>\n",
       "      <td>9</td>\n",
       "    </tr>\n",
       "    <tr>\n",
       "      <th>top</th>\n",
       "      <td>PConc</td>\n",
       "      <td>TA</td>\n",
       "      <td>TA</td>\n",
       "      <td>No</td>\n",
       "      <td>GLQ</td>\n",
       "      <td>Unf</td>\n",
       "      <td>GasA</td>\n",
       "      <td>Ex</td>\n",
       "      <td>Y</td>\n",
       "      <td>SBrkr</td>\n",
       "      <td>...</td>\n",
       "      <td>NA</td>\n",
       "      <td>Attchd</td>\n",
       "      <td>Unf</td>\n",
       "      <td>TA</td>\n",
       "      <td>TA</td>\n",
       "      <td>Y</td>\n",
       "      <td>Gd</td>\n",
       "      <td>NA</td>\n",
       "      <td>Shed</td>\n",
       "      <td>WD</td>\n",
       "    </tr>\n",
       "    <tr>\n",
       "      <th>freq</th>\n",
       "      <td>904</td>\n",
       "      <td>886</td>\n",
       "      <td>1813</td>\n",
       "      <td>1321</td>\n",
       "      <td>604</td>\n",
       "      <td>1727</td>\n",
       "      <td>1993</td>\n",
       "      <td>1043</td>\n",
       "      <td>1885</td>\n",
       "      <td>1844</td>\n",
       "      <td>...</td>\n",
       "      <td>990</td>\n",
       "      <td>1194</td>\n",
       "      <td>845</td>\n",
       "      <td>1809</td>\n",
       "      <td>1845</td>\n",
       "      <td>1837</td>\n",
       "      <td>4</td>\n",
       "      <td>1628</td>\n",
       "      <td>56</td>\n",
       "      <td>1768</td>\n",
       "    </tr>\n",
       "  </tbody>\n",
       "</table>\n",
       "<p>4 rows × 22 columns</p>\n",
       "</div>"
      ],
      "text/plain": [
       "       Foundation Bsmt Qual Bsmt Cond Bsmt Exposure BsmtFin Type 1  \\\n",
       "count        2026      2026      2026          2026           2026   \n",
       "unique          6         6         6             5              7   \n",
       "top         PConc        TA        TA            No            GLQ   \n",
       "freq          904       886      1813          1321            604   \n",
       "\n",
       "       BsmtFin Type 2 Heating Heating QC Central Air Electrical  ...  \\\n",
       "count            2026    2026       2026        2026       2026  ...   \n",
       "unique              7       5          5           2          5  ...   \n",
       "top               Unf    GasA         Ex           Y      SBrkr  ...   \n",
       "freq             1727    1993       1043        1885       1844  ...   \n",
       "\n",
       "       Fireplace Qu Garage Type Garage Finish Garage Qual Garage Cond  \\\n",
       "count          2026        2026          2026        2026        2026   \n",
       "unique            6           7             4           6           6   \n",
       "top              NA      Attchd           Unf          TA          TA   \n",
       "freq            990        1194           845        1809        1845   \n",
       "\n",
       "       Paved Drive Pool QC Fence Misc Feature Sale Type  \n",
       "count         2026       9  2026           65      2026  \n",
       "unique           3       4     5            5         9  \n",
       "top              Y      Gd    NA         Shed       WD   \n",
       "freq          1837       4  1628           56      1768  \n",
       "\n",
       "[4 rows x 22 columns]"
      ]
     },
     "execution_count": 480,
     "metadata": {},
     "output_type": "execute_result"
    }
   ],
   "source": [
    "post_clean_nonnumeric_columns.iloc[:, 20:].describe()"
   ]
  },
  {
   "cell_type": "code",
   "execution_count": null,
   "id": "7cb95558-5513-4661-8125-6cbae07c0f23",
   "metadata": {
    "tags": []
   },
   "outputs": [],
   "source": []
  },
  {
   "cell_type": "markdown",
   "id": "9606ab44-71dd-4698-aeb4-8eda44f04317",
   "metadata": {},
   "source": [
    "## Explore numeric data "
   ]
  },
  {
   "cell_type": "code",
   "execution_count": 481,
   "id": "94e1ce49-31aa-4920-991a-7e2ae2d93c2d",
   "metadata": {
    "tags": []
   },
   "outputs": [
    {
     "data": {
      "text/plain": [
       "(2026, 38)"
      ]
     },
     "execution_count": 481,
     "metadata": {},
     "output_type": "execute_result"
    }
   ],
   "source": [
    "post_clean_numeric_columns.shape"
   ]
  },
  {
   "cell_type": "code",
   "execution_count": 482,
   "id": "442cf814-c2f7-470d-b71d-977f81aff539",
   "metadata": {
    "tags": []
   },
   "outputs": [
    {
     "data": {
      "text/html": [
       "<div>\n",
       "<style scoped>\n",
       "    .dataframe tbody tr th:only-of-type {\n",
       "        vertical-align: middle;\n",
       "    }\n",
       "\n",
       "    .dataframe tbody tr th {\n",
       "        vertical-align: top;\n",
       "    }\n",
       "\n",
       "    .dataframe thead th {\n",
       "        text-align: right;\n",
       "    }\n",
       "</style>\n",
       "<table border=\"1\" class=\"dataframe\">\n",
       "  <thead>\n",
       "    <tr style=\"text-align: right;\">\n",
       "      <th></th>\n",
       "      <th>PID</th>\n",
       "      <th>MS SubClass</th>\n",
       "      <th>Lot Frontage</th>\n",
       "      <th>Lot Area</th>\n",
       "      <th>Overall Qual</th>\n",
       "      <th>Overall Cond</th>\n",
       "      <th>Year Built</th>\n",
       "      <th>Year Remod/Add</th>\n",
       "      <th>Mas Vnr Area</th>\n",
       "      <th>BsmtFin SF 1</th>\n",
       "      <th>BsmtFin SF 2</th>\n",
       "      <th>Bsmt Unf SF</th>\n",
       "      <th>Total Bsmt SF</th>\n",
       "      <th>1st Flr SF</th>\n",
       "      <th>2nd Flr SF</th>\n",
       "      <th>Low Qual Fin SF</th>\n",
       "      <th>Gr Liv Area</th>\n",
       "      <th>Bsmt Full Bath</th>\n",
       "      <th>Bsmt Half Bath</th>\n",
       "    </tr>\n",
       "  </thead>\n",
       "  <tbody>\n",
       "    <tr>\n",
       "      <th>count</th>\n",
       "      <td>2.026000e+03</td>\n",
       "      <td>2026.000000</td>\n",
       "      <td>1702.000000</td>\n",
       "      <td>2026.000000</td>\n",
       "      <td>2026.000000</td>\n",
       "      <td>2026.000000</td>\n",
       "      <td>2026.000000</td>\n",
       "      <td>2026.00000</td>\n",
       "      <td>2026.000000</td>\n",
       "      <td>2026.000000</td>\n",
       "      <td>2026.000000</td>\n",
       "      <td>2026.000000</td>\n",
       "      <td>2026.000000</td>\n",
       "      <td>2026.000000</td>\n",
       "      <td>2026.000000</td>\n",
       "      <td>2026.000000</td>\n",
       "      <td>2026.000000</td>\n",
       "      <td>2026.000000</td>\n",
       "      <td>2026.000000</td>\n",
       "    </tr>\n",
       "    <tr>\n",
       "      <th>mean</th>\n",
       "      <td>7.145517e+08</td>\n",
       "      <td>57.134748</td>\n",
       "      <td>68.960047</td>\n",
       "      <td>10038.427937</td>\n",
       "      <td>6.101185</td>\n",
       "      <td>5.567127</td>\n",
       "      <td>1971.415597</td>\n",
       "      <td>1983.98075</td>\n",
       "      <td>99.843534</td>\n",
       "      <td>442.010365</td>\n",
       "      <td>48.380553</td>\n",
       "      <td>566.524186</td>\n",
       "      <td>1056.915104</td>\n",
       "      <td>1162.434353</td>\n",
       "      <td>328.574531</td>\n",
       "      <td>5.580948</td>\n",
       "      <td>1496.589832</td>\n",
       "      <td>0.427443</td>\n",
       "      <td>0.064166</td>\n",
       "    </tr>\n",
       "    <tr>\n",
       "      <th>std</th>\n",
       "      <td>1.887049e+08</td>\n",
       "      <td>42.943214</td>\n",
       "      <td>23.218783</td>\n",
       "      <td>6707.696525</td>\n",
       "      <td>1.425042</td>\n",
       "      <td>1.107410</td>\n",
       "      <td>30.145229</td>\n",
       "      <td>21.03601</td>\n",
       "      <td>175.050567</td>\n",
       "      <td>460.792112</td>\n",
       "      <td>165.804215</td>\n",
       "      <td>444.362373</td>\n",
       "      <td>449.006257</td>\n",
       "      <td>391.544288</td>\n",
       "      <td>425.284319</td>\n",
       "      <td>51.379446</td>\n",
       "      <td>498.902093</td>\n",
       "      <td>0.522971</td>\n",
       "      <td>0.253039</td>\n",
       "    </tr>\n",
       "    <tr>\n",
       "      <th>min</th>\n",
       "      <td>5.263011e+08</td>\n",
       "      <td>20.000000</td>\n",
       "      <td>21.000000</td>\n",
       "      <td>1300.000000</td>\n",
       "      <td>1.000000</td>\n",
       "      <td>1.000000</td>\n",
       "      <td>1872.000000</td>\n",
       "      <td>1950.00000</td>\n",
       "      <td>0.000000</td>\n",
       "      <td>0.000000</td>\n",
       "      <td>0.000000</td>\n",
       "      <td>0.000000</td>\n",
       "      <td>0.000000</td>\n",
       "      <td>334.000000</td>\n",
       "      <td>0.000000</td>\n",
       "      <td>0.000000</td>\n",
       "      <td>334.000000</td>\n",
       "      <td>0.000000</td>\n",
       "      <td>0.000000</td>\n",
       "    </tr>\n",
       "    <tr>\n",
       "      <th>25%</th>\n",
       "      <td>5.284770e+08</td>\n",
       "      <td>20.000000</td>\n",
       "      <td>58.000000</td>\n",
       "      <td>7500.000000</td>\n",
       "      <td>5.000000</td>\n",
       "      <td>5.000000</td>\n",
       "      <td>1953.000000</td>\n",
       "      <td>1964.00000</td>\n",
       "      <td>0.000000</td>\n",
       "      <td>0.000000</td>\n",
       "      <td>0.000000</td>\n",
       "      <td>220.000000</td>\n",
       "      <td>793.000000</td>\n",
       "      <td>879.250000</td>\n",
       "      <td>0.000000</td>\n",
       "      <td>0.000000</td>\n",
       "      <td>1126.250000</td>\n",
       "      <td>0.000000</td>\n",
       "      <td>0.000000</td>\n",
       "    </tr>\n",
       "    <tr>\n",
       "      <th>50%</th>\n",
       "      <td>5.354541e+08</td>\n",
       "      <td>50.000000</td>\n",
       "      <td>68.000000</td>\n",
       "      <td>9402.500000</td>\n",
       "      <td>6.000000</td>\n",
       "      <td>5.000000</td>\n",
       "      <td>1974.000000</td>\n",
       "      <td>1993.00000</td>\n",
       "      <td>0.000000</td>\n",
       "      <td>368.000000</td>\n",
       "      <td>0.000000</td>\n",
       "      <td>474.000000</td>\n",
       "      <td>994.000000</td>\n",
       "      <td>1092.000000</td>\n",
       "      <td>0.000000</td>\n",
       "      <td>0.000000</td>\n",
       "      <td>1442.000000</td>\n",
       "      <td>0.000000</td>\n",
       "      <td>0.000000</td>\n",
       "    </tr>\n",
       "    <tr>\n",
       "      <th>75%</th>\n",
       "      <td>9.071801e+08</td>\n",
       "      <td>70.000000</td>\n",
       "      <td>80.000000</td>\n",
       "      <td>11498.000000</td>\n",
       "      <td>7.000000</td>\n",
       "      <td>6.000000</td>\n",
       "      <td>2000.000000</td>\n",
       "      <td>2004.00000</td>\n",
       "      <td>161.750000</td>\n",
       "      <td>733.000000</td>\n",
       "      <td>0.000000</td>\n",
       "      <td>810.000000</td>\n",
       "      <td>1315.500000</td>\n",
       "      <td>1402.000000</td>\n",
       "      <td>689.000000</td>\n",
       "      <td>0.000000</td>\n",
       "      <td>1728.000000</td>\n",
       "      <td>1.000000</td>\n",
       "      <td>0.000000</td>\n",
       "    </tr>\n",
       "    <tr>\n",
       "      <th>max</th>\n",
       "      <td>9.241520e+08</td>\n",
       "      <td>190.000000</td>\n",
       "      <td>313.000000</td>\n",
       "      <td>159000.000000</td>\n",
       "      <td>10.000000</td>\n",
       "      <td>9.000000</td>\n",
       "      <td>2010.000000</td>\n",
       "      <td>2010.00000</td>\n",
       "      <td>1600.000000</td>\n",
       "      <td>5644.000000</td>\n",
       "      <td>1474.000000</td>\n",
       "      <td>2336.000000</td>\n",
       "      <td>6110.000000</td>\n",
       "      <td>5095.000000</td>\n",
       "      <td>1862.000000</td>\n",
       "      <td>1064.000000</td>\n",
       "      <td>5642.000000</td>\n",
       "      <td>3.000000</td>\n",
       "      <td>2.000000</td>\n",
       "    </tr>\n",
       "  </tbody>\n",
       "</table>\n",
       "</div>"
      ],
      "text/plain": [
       "                PID  MS SubClass  Lot Frontage       Lot Area  Overall Qual  \\\n",
       "count  2.026000e+03  2026.000000   1702.000000    2026.000000   2026.000000   \n",
       "mean   7.145517e+08    57.134748     68.960047   10038.427937      6.101185   \n",
       "std    1.887049e+08    42.943214     23.218783    6707.696525      1.425042   \n",
       "min    5.263011e+08    20.000000     21.000000    1300.000000      1.000000   \n",
       "25%    5.284770e+08    20.000000     58.000000    7500.000000      5.000000   \n",
       "50%    5.354541e+08    50.000000     68.000000    9402.500000      6.000000   \n",
       "75%    9.071801e+08    70.000000     80.000000   11498.000000      7.000000   \n",
       "max    9.241520e+08   190.000000    313.000000  159000.000000     10.000000   \n",
       "\n",
       "       Overall Cond   Year Built  Year Remod/Add  Mas Vnr Area  BsmtFin SF 1  \\\n",
       "count   2026.000000  2026.000000      2026.00000   2026.000000   2026.000000   \n",
       "mean       5.567127  1971.415597      1983.98075     99.843534    442.010365   \n",
       "std        1.107410    30.145229        21.03601    175.050567    460.792112   \n",
       "min        1.000000  1872.000000      1950.00000      0.000000      0.000000   \n",
       "25%        5.000000  1953.000000      1964.00000      0.000000      0.000000   \n",
       "50%        5.000000  1974.000000      1993.00000      0.000000    368.000000   \n",
       "75%        6.000000  2000.000000      2004.00000    161.750000    733.000000   \n",
       "max        9.000000  2010.000000      2010.00000   1600.000000   5644.000000   \n",
       "\n",
       "       BsmtFin SF 2  Bsmt Unf SF  Total Bsmt SF   1st Flr SF   2nd Flr SF  \\\n",
       "count   2026.000000  2026.000000    2026.000000  2026.000000  2026.000000   \n",
       "mean      48.380553   566.524186    1056.915104  1162.434353   328.574531   \n",
       "std      165.804215   444.362373     449.006257   391.544288   425.284319   \n",
       "min        0.000000     0.000000       0.000000   334.000000     0.000000   \n",
       "25%        0.000000   220.000000     793.000000   879.250000     0.000000   \n",
       "50%        0.000000   474.000000     994.000000  1092.000000     0.000000   \n",
       "75%        0.000000   810.000000    1315.500000  1402.000000   689.000000   \n",
       "max     1474.000000  2336.000000    6110.000000  5095.000000  1862.000000   \n",
       "\n",
       "       Low Qual Fin SF  Gr Liv Area  Bsmt Full Bath  Bsmt Half Bath  \n",
       "count      2026.000000  2026.000000     2026.000000     2026.000000  \n",
       "mean          5.580948  1496.589832        0.427443        0.064166  \n",
       "std          51.379446   498.902093        0.522971        0.253039  \n",
       "min           0.000000   334.000000        0.000000        0.000000  \n",
       "25%           0.000000  1126.250000        0.000000        0.000000  \n",
       "50%           0.000000  1442.000000        0.000000        0.000000  \n",
       "75%           0.000000  1728.000000        1.000000        0.000000  \n",
       "max        1064.000000  5642.000000        3.000000        2.000000  "
      ]
     },
     "execution_count": 482,
     "metadata": {},
     "output_type": "execute_result"
    }
   ],
   "source": [
    "post_clean_numeric_columns.iloc[:, :19].describe()"
   ]
  },
  {
   "cell_type": "code",
   "execution_count": 483,
   "id": "4860e51e-0354-445d-9a50-f7dbe904c9e4",
   "metadata": {
    "tags": []
   },
   "outputs": [
    {
     "data": {
      "text/html": [
       "<div>\n",
       "<style scoped>\n",
       "    .dataframe tbody tr th:only-of-type {\n",
       "        vertical-align: middle;\n",
       "    }\n",
       "\n",
       "    .dataframe tbody tr th {\n",
       "        vertical-align: top;\n",
       "    }\n",
       "\n",
       "    .dataframe thead th {\n",
       "        text-align: right;\n",
       "    }\n",
       "</style>\n",
       "<table border=\"1\" class=\"dataframe\">\n",
       "  <thead>\n",
       "    <tr style=\"text-align: right;\">\n",
       "      <th></th>\n",
       "      <th>Full Bath</th>\n",
       "      <th>Half Bath</th>\n",
       "      <th>Bedroom AbvGr</th>\n",
       "      <th>Kitchen AbvGr</th>\n",
       "      <th>TotRms AbvGrd</th>\n",
       "      <th>Fireplaces</th>\n",
       "      <th>Garage Yr Blt</th>\n",
       "      <th>Garage Cars</th>\n",
       "      <th>Garage Area</th>\n",
       "      <th>Wood Deck SF</th>\n",
       "      <th>Open Porch SF</th>\n",
       "      <th>Enclosed Porch</th>\n",
       "      <th>3Ssn Porch</th>\n",
       "      <th>Screen Porch</th>\n",
       "      <th>Pool Area</th>\n",
       "      <th>Misc Val</th>\n",
       "      <th>Mo Sold</th>\n",
       "      <th>Yr Sold</th>\n",
       "      <th>SalePrice</th>\n",
       "    </tr>\n",
       "  </thead>\n",
       "  <tbody>\n",
       "    <tr>\n",
       "      <th>count</th>\n",
       "      <td>2026.000000</td>\n",
       "      <td>2026.000000</td>\n",
       "      <td>2026.000000</td>\n",
       "      <td>2026.000000</td>\n",
       "      <td>2026.000000</td>\n",
       "      <td>2026.000000</td>\n",
       "      <td>1914.000000</td>\n",
       "      <td>2026.000000</td>\n",
       "      <td>2026.000000</td>\n",
       "      <td>2026.000000</td>\n",
       "      <td>2026.000000</td>\n",
       "      <td>2026.000000</td>\n",
       "      <td>2026.000000</td>\n",
       "      <td>2026.000000</td>\n",
       "      <td>2026.000000</td>\n",
       "      <td>2026.000000</td>\n",
       "      <td>2026.000000</td>\n",
       "      <td>2026.000000</td>\n",
       "      <td>2026.000000</td>\n",
       "    </tr>\n",
       "    <tr>\n",
       "      <th>mean</th>\n",
       "      <td>1.571570</td>\n",
       "      <td>0.367720</td>\n",
       "      <td>2.843534</td>\n",
       "      <td>1.042942</td>\n",
       "      <td>6.434353</td>\n",
       "      <td>0.589339</td>\n",
       "      <td>1978.356322</td>\n",
       "      <td>1.773445</td>\n",
       "      <td>472.959526</td>\n",
       "      <td>94.153998</td>\n",
       "      <td>47.002468</td>\n",
       "      <td>22.548371</td>\n",
       "      <td>2.623396</td>\n",
       "      <td>16.715202</td>\n",
       "      <td>2.427443</td>\n",
       "      <td>52.210760</td>\n",
       "      <td>6.210267</td>\n",
       "      <td>2007.778875</td>\n",
       "      <td>180903.863771</td>\n",
       "    </tr>\n",
       "    <tr>\n",
       "      <th>std</th>\n",
       "      <td>0.547101</td>\n",
       "      <td>0.499406</td>\n",
       "      <td>0.826535</td>\n",
       "      <td>0.209955</td>\n",
       "      <td>1.559957</td>\n",
       "      <td>0.638025</td>\n",
       "      <td>24.898844</td>\n",
       "      <td>0.765623</td>\n",
       "      <td>216.184467</td>\n",
       "      <td>128.923298</td>\n",
       "      <td>66.076293</td>\n",
       "      <td>59.760393</td>\n",
       "      <td>25.383222</td>\n",
       "      <td>57.697759</td>\n",
       "      <td>38.014135</td>\n",
       "      <td>576.893785</td>\n",
       "      <td>2.742480</td>\n",
       "      <td>1.314860</td>\n",
       "      <td>79112.847055</td>\n",
       "    </tr>\n",
       "    <tr>\n",
       "      <th>min</th>\n",
       "      <td>0.000000</td>\n",
       "      <td>0.000000</td>\n",
       "      <td>0.000000</td>\n",
       "      <td>0.000000</td>\n",
       "      <td>2.000000</td>\n",
       "      <td>0.000000</td>\n",
       "      <td>1895.000000</td>\n",
       "      <td>0.000000</td>\n",
       "      <td>0.000000</td>\n",
       "      <td>0.000000</td>\n",
       "      <td>0.000000</td>\n",
       "      <td>0.000000</td>\n",
       "      <td>0.000000</td>\n",
       "      <td>0.000000</td>\n",
       "      <td>0.000000</td>\n",
       "      <td>0.000000</td>\n",
       "      <td>1.000000</td>\n",
       "      <td>2006.000000</td>\n",
       "      <td>12789.000000</td>\n",
       "    </tr>\n",
       "    <tr>\n",
       "      <th>25%</th>\n",
       "      <td>1.000000</td>\n",
       "      <td>0.000000</td>\n",
       "      <td>2.000000</td>\n",
       "      <td>1.000000</td>\n",
       "      <td>5.000000</td>\n",
       "      <td>0.000000</td>\n",
       "      <td>1961.000000</td>\n",
       "      <td>1.000000</td>\n",
       "      <td>317.500000</td>\n",
       "      <td>0.000000</td>\n",
       "      <td>0.000000</td>\n",
       "      <td>0.000000</td>\n",
       "      <td>0.000000</td>\n",
       "      <td>0.000000</td>\n",
       "      <td>0.000000</td>\n",
       "      <td>0.000000</td>\n",
       "      <td>4.000000</td>\n",
       "      <td>2007.000000</td>\n",
       "      <td>129500.000000</td>\n",
       "    </tr>\n",
       "    <tr>\n",
       "      <th>50%</th>\n",
       "      <td>2.000000</td>\n",
       "      <td>0.000000</td>\n",
       "      <td>3.000000</td>\n",
       "      <td>1.000000</td>\n",
       "      <td>6.000000</td>\n",
       "      <td>1.000000</td>\n",
       "      <td>1980.000000</td>\n",
       "      <td>2.000000</td>\n",
       "      <td>480.000000</td>\n",
       "      <td>0.000000</td>\n",
       "      <td>26.000000</td>\n",
       "      <td>0.000000</td>\n",
       "      <td>0.000000</td>\n",
       "      <td>0.000000</td>\n",
       "      <td>0.000000</td>\n",
       "      <td>0.000000</td>\n",
       "      <td>6.000000</td>\n",
       "      <td>2008.000000</td>\n",
       "      <td>161000.000000</td>\n",
       "    </tr>\n",
       "    <tr>\n",
       "      <th>75%</th>\n",
       "      <td>2.000000</td>\n",
       "      <td>1.000000</td>\n",
       "      <td>3.000000</td>\n",
       "      <td>1.000000</td>\n",
       "      <td>7.000000</td>\n",
       "      <td>1.000000</td>\n",
       "      <td>2002.000000</td>\n",
       "      <td>2.000000</td>\n",
       "      <td>576.000000</td>\n",
       "      <td>168.000000</td>\n",
       "      <td>70.000000</td>\n",
       "      <td>0.000000</td>\n",
       "      <td>0.000000</td>\n",
       "      <td>0.000000</td>\n",
       "      <td>0.000000</td>\n",
       "      <td>0.000000</td>\n",
       "      <td>8.000000</td>\n",
       "      <td>2009.000000</td>\n",
       "      <td>213430.000000</td>\n",
       "    </tr>\n",
       "    <tr>\n",
       "      <th>max</th>\n",
       "      <td>4.000000</td>\n",
       "      <td>2.000000</td>\n",
       "      <td>8.000000</td>\n",
       "      <td>3.000000</td>\n",
       "      <td>15.000000</td>\n",
       "      <td>4.000000</td>\n",
       "      <td>2010.000000</td>\n",
       "      <td>5.000000</td>\n",
       "      <td>1418.000000</td>\n",
       "      <td>1424.000000</td>\n",
       "      <td>547.000000</td>\n",
       "      <td>432.000000</td>\n",
       "      <td>508.000000</td>\n",
       "      <td>490.000000</td>\n",
       "      <td>800.000000</td>\n",
       "      <td>17000.000000</td>\n",
       "      <td>12.000000</td>\n",
       "      <td>2010.000000</td>\n",
       "      <td>611657.000000</td>\n",
       "    </tr>\n",
       "  </tbody>\n",
       "</table>\n",
       "</div>"
      ],
      "text/plain": [
       "         Full Bath    Half Bath  Bedroom AbvGr  Kitchen AbvGr  TotRms AbvGrd  \\\n",
       "count  2026.000000  2026.000000    2026.000000    2026.000000    2026.000000   \n",
       "mean      1.571570     0.367720       2.843534       1.042942       6.434353   \n",
       "std       0.547101     0.499406       0.826535       0.209955       1.559957   \n",
       "min       0.000000     0.000000       0.000000       0.000000       2.000000   \n",
       "25%       1.000000     0.000000       2.000000       1.000000       5.000000   \n",
       "50%       2.000000     0.000000       3.000000       1.000000       6.000000   \n",
       "75%       2.000000     1.000000       3.000000       1.000000       7.000000   \n",
       "max       4.000000     2.000000       8.000000       3.000000      15.000000   \n",
       "\n",
       "        Fireplaces  Garage Yr Blt  Garage Cars  Garage Area  Wood Deck SF  \\\n",
       "count  2026.000000    1914.000000  2026.000000  2026.000000   2026.000000   \n",
       "mean      0.589339    1978.356322     1.773445   472.959526     94.153998   \n",
       "std       0.638025      24.898844     0.765623   216.184467    128.923298   \n",
       "min       0.000000    1895.000000     0.000000     0.000000      0.000000   \n",
       "25%       0.000000    1961.000000     1.000000   317.500000      0.000000   \n",
       "50%       1.000000    1980.000000     2.000000   480.000000      0.000000   \n",
       "75%       1.000000    2002.000000     2.000000   576.000000    168.000000   \n",
       "max       4.000000    2010.000000     5.000000  1418.000000   1424.000000   \n",
       "\n",
       "       Open Porch SF  Enclosed Porch   3Ssn Porch  Screen Porch    Pool Area  \\\n",
       "count    2026.000000     2026.000000  2026.000000   2026.000000  2026.000000   \n",
       "mean       47.002468       22.548371     2.623396     16.715202     2.427443   \n",
       "std        66.076293       59.760393    25.383222     57.697759    38.014135   \n",
       "min         0.000000        0.000000     0.000000      0.000000     0.000000   \n",
       "25%         0.000000        0.000000     0.000000      0.000000     0.000000   \n",
       "50%        26.000000        0.000000     0.000000      0.000000     0.000000   \n",
       "75%        70.000000        0.000000     0.000000      0.000000     0.000000   \n",
       "max       547.000000      432.000000   508.000000    490.000000   800.000000   \n",
       "\n",
       "           Misc Val      Mo Sold      Yr Sold      SalePrice  \n",
       "count   2026.000000  2026.000000  2026.000000    2026.000000  \n",
       "mean      52.210760     6.210267  2007.778875  180903.863771  \n",
       "std      576.893785     2.742480     1.314860   79112.847055  \n",
       "min        0.000000     1.000000  2006.000000   12789.000000  \n",
       "25%        0.000000     4.000000  2007.000000  129500.000000  \n",
       "50%        0.000000     6.000000  2008.000000  161000.000000  \n",
       "75%        0.000000     8.000000  2009.000000  213430.000000  \n",
       "max    17000.000000    12.000000  2010.000000  611657.000000  "
      ]
     },
     "execution_count": 483,
     "metadata": {},
     "output_type": "execute_result"
    }
   ],
   "source": [
    "post_clean_numeric_columns.iloc[:, 19:].describe()"
   ]
  },
  {
   "cell_type": "code",
   "execution_count": 484,
   "id": "8986df9e-49e9-4fa4-8732-c449ce07258a",
   "metadata": {},
   "outputs": [],
   "source": [
    "# PID, convert years to ages, month"
   ]
  },
  {
   "cell_type": "markdown",
   "id": "3bcfad99-2bcc-47b6-9146-ca5290b405f0",
   "metadata": {
    "tags": []
   },
   "source": [
    "### Convert numeric data to categorical data where appropriate"
   ]
  },
  {
   "cell_type": "code",
   "execution_count": 485,
   "id": "4eb6e241-a8cb-4491-bc7a-4d14d4a68df4",
   "metadata": {
    "tags": []
   },
   "outputs": [],
   "source": [
    "not_actually_numeric = ['PID', 'MS SubClass', 'Overall Qual', 'Overall Cond', 'Mo Sold']\n",
    "\n",
    "convert_num_to_cat(props, not_actually_numeric)\n",
    "# props['PID'] = props['PID'].astype(str)\n",
    "# props['MS SubClass'] = props['MS SubClass'].astype(str)\n",
    "# props['Overall Qual'] = props['Overall Qual'].astype(str)\n",
    "# props['Overall Cond'] = props['Overall Cond'].astype(str)\n",
    "# props['Mo Sold'] = props['Mo Sold'].astype(str)"
   ]
  },
  {
   "cell_type": "code",
   "execution_count": 486,
   "id": "1f5279b3-d355-4c30-93d4-b56bf1a5e444",
   "metadata": {
    "tags": []
   },
   "outputs": [
    {
     "data": {
      "text/plain": [
       "PID              object\n",
       "MS SubClass      object\n",
       "MS Zoning        object\n",
       "Lot Frontage    float64\n",
       "Lot Area          int64\n",
       "                 ...   \n",
       "Misc Val          int64\n",
       "Mo Sold          object\n",
       "Yr Sold           int64\n",
       "Sale Type        object\n",
       "SalePrice         int64\n",
       "Length: 80, dtype: object"
      ]
     },
     "execution_count": 486,
     "metadata": {},
     "output_type": "execute_result"
    }
   ],
   "source": [
    "props.dtypes"
   ]
  },
  {
   "cell_type": "markdown",
   "id": "a373405b-5acd-47b2-a1ae-220f8ca92e5f",
   "metadata": {
    "tags": []
   },
   "source": [
    "### Transform years into ages"
   ]
  },
  {
   "cell_type": "code",
   "execution_count": 487,
   "id": "93c34843-c22c-465b-9c6c-729720c4e088",
   "metadata": {
    "tags": []
   },
   "outputs": [
    {
     "data": {
      "text/plain": [
       "2010"
      ]
     },
     "execution_count": 487,
     "metadata": {},
     "output_type": "execute_result"
    }
   ],
   "source": [
    "props['Year Built'].max()"
   ]
  },
  {
   "cell_type": "code",
   "execution_count": 488,
   "id": "cf138770-e5e4-4486-9a00-adc595a47751",
   "metadata": {
    "tags": []
   },
   "outputs": [],
   "source": [
    "list_of_year_columns = [\n",
    "    ('Year Built', 'Years since built'),\n",
    "    ('Year Remod/Add', 'Years since remodel'),\n",
    "    ('Yr Sold', 'Years since last sold')\n",
    "]"
   ]
  },
  {
   "cell_type": "code",
   "execution_count": 489,
   "id": "8945181d-132e-4689-89d6-6acbe5aff65b",
   "metadata": {
    "tags": []
   },
   "outputs": [],
   "source": [
    "convert_years_to_ages(props, 2010, list_of_year_columns)"
   ]
  },
  {
   "cell_type": "code",
   "execution_count": 490,
   "id": "5451cd16-43b9-4a8a-9566-bbbdd496acc0",
   "metadata": {
    "tags": []
   },
   "outputs": [
    {
     "data": {
      "text/plain": [
       "count    2026.000000\n",
       "mean       38.584403\n",
       "std        30.145229\n",
       "min         0.000000\n",
       "25%        10.000000\n",
       "50%        36.000000\n",
       "75%        57.000000\n",
       "max       138.000000\n",
       "Name: Years since built, dtype: float64"
      ]
     },
     "execution_count": 490,
     "metadata": {},
     "output_type": "execute_result"
    }
   ],
   "source": [
    "props['Years since built'].describe()"
   ]
  },
  {
   "cell_type": "markdown",
   "id": "ef6737d3-eeee-432c-b50e-14bd9821c824",
   "metadata": {
    "tags": []
   },
   "source": [
    "### Re-check our re-casted columns"
   ]
  },
  {
   "cell_type": "code",
   "execution_count": 491,
   "id": "6c54a65f-5764-4919-970d-87cba8fad7e1",
   "metadata": {
    "tags": []
   },
   "outputs": [],
   "source": [
    "post_clean_numeric_columns = props.select_dtypes(include = [np.number])\n",
    "post_clean_nonnumeric_columns = props.select_dtypes(exclude = [np.number])"
   ]
  },
  {
   "cell_type": "code",
   "execution_count": 492,
   "id": "f6b057b8-6b43-4c89-bb9a-47b6c6e6d250",
   "metadata": {
    "tags": []
   },
   "outputs": [
    {
     "data": {
      "text/plain": [
       "(2026, 38)"
      ]
     },
     "execution_count": 492,
     "metadata": {},
     "output_type": "execute_result"
    }
   ],
   "source": [
    "post_clean_numeric_columns.shape"
   ]
  },
  {
   "cell_type": "code",
   "execution_count": 493,
   "id": "74f6c3f2-ed27-4ea4-8a5b-aa549727c847",
   "metadata": {
    "tags": []
   },
   "outputs": [
    {
     "data": {
      "text/plain": [
       "PID               object\n",
       "MS SubClass       object\n",
       "MS Zoning         object\n",
       "Alley             object\n",
       "Lot Shape         object\n",
       "Land Contour      object\n",
       "Lot Config        object\n",
       "Neighborhood      object\n",
       "Condition 1       object\n",
       "Condition 2       object\n",
       "Bldg Type         object\n",
       "House Style       object\n",
       "Overall Qual      object\n",
       "Overall Cond      object\n",
       "Roof Style        object\n",
       "Roof Matl         object\n",
       "Exterior 1st      object\n",
       "Exterior 2nd      object\n",
       "Mas Vnr Type      object\n",
       "Exter Qual        object\n",
       "Exter Cond        object\n",
       "Foundation        object\n",
       "Bsmt Qual         object\n",
       "Bsmt Cond         object\n",
       "Bsmt Exposure     object\n",
       "BsmtFin Type 1    object\n",
       "BsmtFin Type 2    object\n",
       "Heating           object\n",
       "Heating QC        object\n",
       "Electrical        object\n",
       "Kitchen Qual      object\n",
       "Functional        object\n",
       "Fireplace Qu      object\n",
       "Garage Type       object\n",
       "Garage Finish     object\n",
       "Garage Qual       object\n",
       "Garage Cond       object\n",
       "Pool QC           object\n",
       "Fence             object\n",
       "Misc Feature      object\n",
       "Mo Sold           object\n",
       "Sale Type         object\n",
       "dtype: object"
      ]
     },
     "execution_count": 493,
     "metadata": {},
     "output_type": "execute_result"
    }
   ],
   "source": [
    "post_clean_nonnumeric_columns.dtypes"
   ]
  },
  {
   "cell_type": "code",
   "execution_count": 494,
   "id": "21609d47-d368-4fd0-9296-18d5b2258267",
   "metadata": {},
   "outputs": [
    {
     "data": {
      "text/plain": [
       "Lot Frontage             float64\n",
       "Lot Area                   int64\n",
       "Paved Street               int32\n",
       "Has All Utilities          int32\n",
       "Gentle Slope               int32\n",
       "Years since built          int64\n",
       "Years since remodel        int64\n",
       "Mas Vnr Area             float64\n",
       "BsmtFin SF 1             float64\n",
       "BsmtFin SF 2             float64\n",
       "Bsmt Unf SF              float64\n",
       "Total Bsmt SF            float64\n",
       "Central Air                int32\n",
       "1st Flr SF                 int64\n",
       "2nd Flr SF                 int64\n",
       "Low Qual Fin SF            int64\n",
       "Gr Liv Area                int64\n",
       "Bsmt Full Bath           float64\n",
       "Bsmt Half Bath           float64\n",
       "Full Bath                  int64\n",
       "Half Bath                  int64\n",
       "Bedroom AbvGr              int64\n",
       "Kitchen AbvGr              int64\n",
       "TotRms AbvGrd              int64\n",
       "Fireplaces                 int64\n",
       "Garage Yr Blt            float64\n",
       "Garage Cars              float64\n",
       "Garage Area              float64\n",
       "Paved Drive                int32\n",
       "Wood Deck SF               int64\n",
       "Open Porch SF              int64\n",
       "Enclosed Porch             int64\n",
       "3Ssn Porch                 int64\n",
       "Screen Porch               int64\n",
       "Pool Area                  int64\n",
       "Misc Val                   int64\n",
       "Years since last sold      int64\n",
       "SalePrice                  int64\n",
       "dtype: object"
      ]
     },
     "execution_count": 494,
     "metadata": {},
     "output_type": "execute_result"
    }
   ],
   "source": [
    "post_clean_numeric_columns.dtypes"
   ]
  },
  {
   "cell_type": "markdown",
   "id": "6ada97cb-47c2-4be1-828d-faf426b256a0",
   "metadata": {},
   "source": [
    "### Save our data in CSV form"
   ]
  },
  {
   "cell_type": "code",
   "execution_count": 495,
   "id": "1d659828-1125-4541-b301-901093d0f4ac",
   "metadata": {
    "tags": []
   },
   "outputs": [],
   "source": [
    "# uncomment to repeat CSV creation\n",
    "# props.to_csv('../datasets/model-ready-data.csv', index = True)"
   ]
  },
  {
   "cell_type": "code",
   "execution_count": null,
   "id": "97039665-7aa3-46f8-b379-148fd630ca7b",
   "metadata": {
    "tags": []
   },
   "outputs": [],
   "source": []
  },
  {
   "cell_type": "code",
   "execution_count": null,
   "id": "27f374f2-8fee-420f-8118-439aecf30198",
   "metadata": {},
   "outputs": [],
   "source": []
  }
 ],
 "metadata": {
  "kernelspec": {
   "display_name": "Python 3 (ipykernel)",
   "language": "python",
   "name": "python3"
  },
  "language_info": {
   "codemirror_mode": {
    "name": "ipython",
    "version": 3
   },
   "file_extension": ".py",
   "mimetype": "text/x-python",
   "name": "python",
   "nbconvert_exporter": "python",
   "pygments_lexer": "ipython3",
   "version": "3.11.4"
  }
 },
 "nbformat": 4,
 "nbformat_minor": 5
}
