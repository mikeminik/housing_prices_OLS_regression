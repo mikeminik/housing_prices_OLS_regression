{
 "cells": [
  {
   "cell_type": "code",
   "execution_count": null,
   "id": "ac6deb3b-e7cb-4347-9a8b-898bcf05a5f8",
   "metadata": {},
   "outputs": [],
   "source": []
  },
  {
   "cell_type": "code",
   "execution_count": 1,
   "id": "f730ec49-bd82-423e-ad3b-ede9f43e5719",
   "metadata": {
    "tags": []
   },
   "outputs": [],
   "source": [
    "from sklearn.linear_model import LinearRegression, RidgeCV\n",
    "from sklearn.model_selection import train_test_split, cross_validate\n",
    "from sklearn.preprocessing import StandardScaler, PolynomialFeatures, OneHotEncoder\n",
    "from sklearn.impute import SimpleImputer\n",
    "from sklearn import metrics\n",
    "\n",
    "%run 00_Functions.ipynb\n",
    "%run 01_Data_Cleaning.ipynb\n"
   ]
  },
  {
   "cell_type": "code",
   "execution_count": null,
   "id": "b0cc9fd4-a333-4365-abcd-63afb00676bd",
   "metadata": {
    "tags": []
   },
   "outputs": [],
   "source": []
  },
  {
   "cell_type": "markdown",
   "id": "32021310-527d-448c-9141-5da44b1696fb",
   "metadata": {},
   "source": [
    "Make a new version of a usable dataframe"
   ]
  },
  {
   "cell_type": "code",
   "execution_count": 15,
   "id": "ce763465-e09f-4f2e-b18a-5110df4db5b0",
   "metadata": {
    "tags": []
   },
   "outputs": [],
   "source": [
    "X_3 = props.copy()"
   ]
  },
  {
   "cell_type": "code",
   "execution_count": 16,
   "id": "8de0122d-8d96-4e2e-b785-16fa802280c4",
   "metadata": {},
   "outputs": [
    {
     "data": {
      "text/html": [
       "<div>\n",
       "<style scoped>\n",
       "    .dataframe tbody tr th:only-of-type {\n",
       "        vertical-align: middle;\n",
       "    }\n",
       "\n",
       "    .dataframe tbody tr th {\n",
       "        vertical-align: top;\n",
       "    }\n",
       "\n",
       "    .dataframe thead th {\n",
       "        text-align: right;\n",
       "    }\n",
       "</style>\n",
       "<table border=\"1\" class=\"dataframe\">\n",
       "  <thead>\n",
       "    <tr style=\"text-align: right;\">\n",
       "      <th></th>\n",
       "      <th>Lot Frontage</th>\n",
       "      <th>Lot Area</th>\n",
       "      <th>Paved Street</th>\n",
       "      <th>Has All Utilities</th>\n",
       "      <th>Gentle Slope</th>\n",
       "      <th>Years since built</th>\n",
       "      <th>Years since remodel</th>\n",
       "      <th>Mas Vnr Area</th>\n",
       "      <th>BsmtFin SF 1</th>\n",
       "      <th>BsmtFin SF 2</th>\n",
       "      <th>...</th>\n",
       "      <th>Paved Drive</th>\n",
       "      <th>Wood Deck SF</th>\n",
       "      <th>Open Porch SF</th>\n",
       "      <th>Enclosed Porch</th>\n",
       "      <th>3Ssn Porch</th>\n",
       "      <th>Screen Porch</th>\n",
       "      <th>Pool Area</th>\n",
       "      <th>Misc Val</th>\n",
       "      <th>Years since last sold</th>\n",
       "      <th>SalePrice</th>\n",
       "    </tr>\n",
       "    <tr>\n",
       "      <th>Id</th>\n",
       "      <th></th>\n",
       "      <th></th>\n",
       "      <th></th>\n",
       "      <th></th>\n",
       "      <th></th>\n",
       "      <th></th>\n",
       "      <th></th>\n",
       "      <th></th>\n",
       "      <th></th>\n",
       "      <th></th>\n",
       "      <th></th>\n",
       "      <th></th>\n",
       "      <th></th>\n",
       "      <th></th>\n",
       "      <th></th>\n",
       "      <th></th>\n",
       "      <th></th>\n",
       "      <th></th>\n",
       "      <th></th>\n",
       "      <th></th>\n",
       "      <th></th>\n",
       "    </tr>\n",
       "  </thead>\n",
       "  <tbody>\n",
       "    <tr>\n",
       "      <th>109</th>\n",
       "      <td>NaN</td>\n",
       "      <td>13517</td>\n",
       "      <td>1</td>\n",
       "      <td>1</td>\n",
       "      <td>1</td>\n",
       "      <td>34</td>\n",
       "      <td>5</td>\n",
       "      <td>289.0</td>\n",
       "      <td>533.0</td>\n",
       "      <td>0.0</td>\n",
       "      <td>...</td>\n",
       "      <td>1</td>\n",
       "      <td>0</td>\n",
       "      <td>44</td>\n",
       "      <td>0</td>\n",
       "      <td>0</td>\n",
       "      <td>0</td>\n",
       "      <td>0</td>\n",
       "      <td>0</td>\n",
       "      <td>0</td>\n",
       "      <td>130500</td>\n",
       "    </tr>\n",
       "    <tr>\n",
       "      <th>544</th>\n",
       "      <td>43.0</td>\n",
       "      <td>11492</td>\n",
       "      <td>1</td>\n",
       "      <td>1</td>\n",
       "      <td>1</td>\n",
       "      <td>14</td>\n",
       "      <td>13</td>\n",
       "      <td>132.0</td>\n",
       "      <td>637.0</td>\n",
       "      <td>0.0</td>\n",
       "      <td>...</td>\n",
       "      <td>1</td>\n",
       "      <td>0</td>\n",
       "      <td>74</td>\n",
       "      <td>0</td>\n",
       "      <td>0</td>\n",
       "      <td>0</td>\n",
       "      <td>0</td>\n",
       "      <td>0</td>\n",
       "      <td>1</td>\n",
       "      <td>220000</td>\n",
       "    </tr>\n",
       "    <tr>\n",
       "      <th>153</th>\n",
       "      <td>68.0</td>\n",
       "      <td>7922</td>\n",
       "      <td>1</td>\n",
       "      <td>1</td>\n",
       "      <td>1</td>\n",
       "      <td>57</td>\n",
       "      <td>3</td>\n",
       "      <td>0.0</td>\n",
       "      <td>731.0</td>\n",
       "      <td>0.0</td>\n",
       "      <td>...</td>\n",
       "      <td>1</td>\n",
       "      <td>0</td>\n",
       "      <td>52</td>\n",
       "      <td>0</td>\n",
       "      <td>0</td>\n",
       "      <td>0</td>\n",
       "      <td>0</td>\n",
       "      <td>0</td>\n",
       "      <td>0</td>\n",
       "      <td>109000</td>\n",
       "    </tr>\n",
       "    <tr>\n",
       "      <th>318</th>\n",
       "      <td>73.0</td>\n",
       "      <td>9802</td>\n",
       "      <td>1</td>\n",
       "      <td>1</td>\n",
       "      <td>1</td>\n",
       "      <td>4</td>\n",
       "      <td>3</td>\n",
       "      <td>0.0</td>\n",
       "      <td>0.0</td>\n",
       "      <td>0.0</td>\n",
       "      <td>...</td>\n",
       "      <td>1</td>\n",
       "      <td>100</td>\n",
       "      <td>0</td>\n",
       "      <td>0</td>\n",
       "      <td>0</td>\n",
       "      <td>0</td>\n",
       "      <td>0</td>\n",
       "      <td>0</td>\n",
       "      <td>0</td>\n",
       "      <td>174000</td>\n",
       "    </tr>\n",
       "    <tr>\n",
       "      <th>255</th>\n",
       "      <td>82.0</td>\n",
       "      <td>14235</td>\n",
       "      <td>1</td>\n",
       "      <td>1</td>\n",
       "      <td>1</td>\n",
       "      <td>110</td>\n",
       "      <td>17</td>\n",
       "      <td>0.0</td>\n",
       "      <td>0.0</td>\n",
       "      <td>0.0</td>\n",
       "      <td>...</td>\n",
       "      <td>0</td>\n",
       "      <td>0</td>\n",
       "      <td>59</td>\n",
       "      <td>0</td>\n",
       "      <td>0</td>\n",
       "      <td>0</td>\n",
       "      <td>0</td>\n",
       "      <td>0</td>\n",
       "      <td>0</td>\n",
       "      <td>138500</td>\n",
       "    </tr>\n",
       "    <tr>\n",
       "      <th>...</th>\n",
       "      <td>...</td>\n",
       "      <td>...</td>\n",
       "      <td>...</td>\n",
       "      <td>...</td>\n",
       "      <td>...</td>\n",
       "      <td>...</td>\n",
       "      <td>...</td>\n",
       "      <td>...</td>\n",
       "      <td>...</td>\n",
       "      <td>...</td>\n",
       "      <td>...</td>\n",
       "      <td>...</td>\n",
       "      <td>...</td>\n",
       "      <td>...</td>\n",
       "      <td>...</td>\n",
       "      <td>...</td>\n",
       "      <td>...</td>\n",
       "      <td>...</td>\n",
       "      <td>...</td>\n",
       "      <td>...</td>\n",
       "      <td>...</td>\n",
       "    </tr>\n",
       "    <tr>\n",
       "      <th>1587</th>\n",
       "      <td>79.0</td>\n",
       "      <td>11449</td>\n",
       "      <td>1</td>\n",
       "      <td>1</td>\n",
       "      <td>1</td>\n",
       "      <td>3</td>\n",
       "      <td>3</td>\n",
       "      <td>0.0</td>\n",
       "      <td>1011.0</td>\n",
       "      <td>0.0</td>\n",
       "      <td>...</td>\n",
       "      <td>1</td>\n",
       "      <td>0</td>\n",
       "      <td>276</td>\n",
       "      <td>0</td>\n",
       "      <td>0</td>\n",
       "      <td>0</td>\n",
       "      <td>0</td>\n",
       "      <td>0</td>\n",
       "      <td>2</td>\n",
       "      <td>298751</td>\n",
       "    </tr>\n",
       "    <tr>\n",
       "      <th>785</th>\n",
       "      <td>NaN</td>\n",
       "      <td>12342</td>\n",
       "      <td>1</td>\n",
       "      <td>1</td>\n",
       "      <td>1</td>\n",
       "      <td>70</td>\n",
       "      <td>60</td>\n",
       "      <td>0.0</td>\n",
       "      <td>262.0</td>\n",
       "      <td>0.0</td>\n",
       "      <td>...</td>\n",
       "      <td>1</td>\n",
       "      <td>158</td>\n",
       "      <td>0</td>\n",
       "      <td>0</td>\n",
       "      <td>0</td>\n",
       "      <td>0</td>\n",
       "      <td>0</td>\n",
       "      <td>0</td>\n",
       "      <td>1</td>\n",
       "      <td>82500</td>\n",
       "    </tr>\n",
       "    <tr>\n",
       "      <th>916</th>\n",
       "      <td>57.0</td>\n",
       "      <td>7558</td>\n",
       "      <td>1</td>\n",
       "      <td>1</td>\n",
       "      <td>1</td>\n",
       "      <td>82</td>\n",
       "      <td>60</td>\n",
       "      <td>0.0</td>\n",
       "      <td>0.0</td>\n",
       "      <td>0.0</td>\n",
       "      <td>...</td>\n",
       "      <td>1</td>\n",
       "      <td>0</td>\n",
       "      <td>0</td>\n",
       "      <td>0</td>\n",
       "      <td>0</td>\n",
       "      <td>0</td>\n",
       "      <td>0</td>\n",
       "      <td>0</td>\n",
       "      <td>1</td>\n",
       "      <td>177000</td>\n",
       "    </tr>\n",
       "    <tr>\n",
       "      <th>639</th>\n",
       "      <td>80.0</td>\n",
       "      <td>10400</td>\n",
       "      <td>1</td>\n",
       "      <td>1</td>\n",
       "      <td>1</td>\n",
       "      <td>54</td>\n",
       "      <td>54</td>\n",
       "      <td>0.0</td>\n",
       "      <td>155.0</td>\n",
       "      <td>750.0</td>\n",
       "      <td>...</td>\n",
       "      <td>1</td>\n",
       "      <td>0</td>\n",
       "      <td>189</td>\n",
       "      <td>140</td>\n",
       "      <td>0</td>\n",
       "      <td>0</td>\n",
       "      <td>0</td>\n",
       "      <td>0</td>\n",
       "      <td>1</td>\n",
       "      <td>144000</td>\n",
       "    </tr>\n",
       "    <tr>\n",
       "      <th>10</th>\n",
       "      <td>60.0</td>\n",
       "      <td>7500</td>\n",
       "      <td>1</td>\n",
       "      <td>1</td>\n",
       "      <td>1</td>\n",
       "      <td>11</td>\n",
       "      <td>11</td>\n",
       "      <td>0.0</td>\n",
       "      <td>0.0</td>\n",
       "      <td>0.0</td>\n",
       "      <td>...</td>\n",
       "      <td>1</td>\n",
       "      <td>140</td>\n",
       "      <td>60</td>\n",
       "      <td>0</td>\n",
       "      <td>0</td>\n",
       "      <td>0</td>\n",
       "      <td>0</td>\n",
       "      <td>0</td>\n",
       "      <td>0</td>\n",
       "      <td>189000</td>\n",
       "    </tr>\n",
       "  </tbody>\n",
       "</table>\n",
       "<p>2026 rows × 38 columns</p>\n",
       "</div>"
      ],
      "text/plain": [
       "      Lot Frontage  Lot Area  Paved Street  Has All Utilities  Gentle Slope  \\\n",
       "Id                                                                            \n",
       "109            NaN     13517             1                  1             1   \n",
       "544           43.0     11492             1                  1             1   \n",
       "153           68.0      7922             1                  1             1   \n",
       "318           73.0      9802             1                  1             1   \n",
       "255           82.0     14235             1                  1             1   \n",
       "...            ...       ...           ...                ...           ...   \n",
       "1587          79.0     11449             1                  1             1   \n",
       "785            NaN     12342             1                  1             1   \n",
       "916           57.0      7558             1                  1             1   \n",
       "639           80.0     10400             1                  1             1   \n",
       "10            60.0      7500             1                  1             1   \n",
       "\n",
       "      Years since built  Years since remodel  Mas Vnr Area  BsmtFin SF 1  \\\n",
       "Id                                                                         \n",
       "109                  34                    5         289.0         533.0   \n",
       "544                  14                   13         132.0         637.0   \n",
       "153                  57                    3           0.0         731.0   \n",
       "318                   4                    3           0.0           0.0   \n",
       "255                 110                   17           0.0           0.0   \n",
       "...                 ...                  ...           ...           ...   \n",
       "1587                  3                    3           0.0        1011.0   \n",
       "785                  70                   60           0.0         262.0   \n",
       "916                  82                   60           0.0           0.0   \n",
       "639                  54                   54           0.0         155.0   \n",
       "10                   11                   11           0.0           0.0   \n",
       "\n",
       "      BsmtFin SF 2  ...  Paved Drive  Wood Deck SF  Open Porch SF  \\\n",
       "Id                  ...                                             \n",
       "109            0.0  ...            1             0             44   \n",
       "544            0.0  ...            1             0             74   \n",
       "153            0.0  ...            1             0             52   \n",
       "318            0.0  ...            1           100              0   \n",
       "255            0.0  ...            0             0             59   \n",
       "...            ...  ...          ...           ...            ...   \n",
       "1587           0.0  ...            1             0            276   \n",
       "785            0.0  ...            1           158              0   \n",
       "916            0.0  ...            1             0              0   \n",
       "639          750.0  ...            1             0            189   \n",
       "10             0.0  ...            1           140             60   \n",
       "\n",
       "      Enclosed Porch  3Ssn Porch  Screen Porch  Pool Area  Misc Val  \\\n",
       "Id                                                                    \n",
       "109                0           0             0          0         0   \n",
       "544                0           0             0          0         0   \n",
       "153                0           0             0          0         0   \n",
       "318                0           0             0          0         0   \n",
       "255                0           0             0          0         0   \n",
       "...              ...         ...           ...        ...       ...   \n",
       "1587               0           0             0          0         0   \n",
       "785                0           0             0          0         0   \n",
       "916                0           0             0          0         0   \n",
       "639              140           0             0          0         0   \n",
       "10                 0           0             0          0         0   \n",
       "\n",
       "      Years since last sold  SalePrice  \n",
       "Id                                      \n",
       "109                       0     130500  \n",
       "544                       1     220000  \n",
       "153                       0     109000  \n",
       "318                       0     174000  \n",
       "255                       0     138500  \n",
       "...                     ...        ...  \n",
       "1587                      2     298751  \n",
       "785                       1      82500  \n",
       "916                       1     177000  \n",
       "639                       1     144000  \n",
       "10                        0     189000  \n",
       "\n",
       "[2026 rows x 38 columns]"
      ]
     },
     "execution_count": 16,
     "metadata": {},
     "output_type": "execute_result"
    }
   ],
   "source": [
    "X_3.select_dtypes(include = np.number)"
   ]
  },
  {
   "cell_type": "markdown",
   "id": "d67a9e49-c465-42df-ad1e-00fe3e68bd2f",
   "metadata": {},
   "source": [
    "### Dropping values that are either clearly colinear or clearly nonlinear"
   ]
  },
  {
   "cell_type": "code",
   "execution_count": 17,
   "id": "240d0fd4-8b7b-4b5d-8363-8c7d9c3367de",
   "metadata": {
    "tags": []
   },
   "outputs": [],
   "source": [
    "X_3.drop(['PID','Garage Yr Blt'], axis = 1, inplace = True)"
   ]
  },
  {
   "cell_type": "code",
   "execution_count": 18,
   "id": "9491b5ae-d3ef-4cf5-8164-f46d012bbb18",
   "metadata": {
    "tags": []
   },
   "outputs": [],
   "source": [
    "non_numerics = X_3.select_dtypes(exclude = np.number)"
   ]
  },
  {
   "cell_type": "markdown",
   "id": "844efe29-8c22-4e08-8e49-c68f3ba1ad68",
   "metadata": {},
   "source": [
    "### Exploring correlated numeric values to decide which to use in the model / engineer"
   ]
  },
  {
   "cell_type": "code",
   "execution_count": 19,
   "id": "828928f9-1053-4562-bf89-0f36ba4c4cbe",
   "metadata": {
    "tags": []
   },
   "outputs": [],
   "source": [
    "corr = X_3.corr(numeric_only = True)[['SalePrice']].sort_values( by = 'SalePrice', ascending = False)"
   ]
  },
  {
   "cell_type": "code",
   "execution_count": 20,
   "id": "369cb95f-b97f-429e-bd40-52d1fbd84882",
   "metadata": {},
   "outputs": [
    {
     "data": {
      "text/html": [
       "<div>\n",
       "<style scoped>\n",
       "    .dataframe tbody tr th:only-of-type {\n",
       "        vertical-align: middle;\n",
       "    }\n",
       "\n",
       "    .dataframe tbody tr th {\n",
       "        vertical-align: top;\n",
       "    }\n",
       "\n",
       "    .dataframe thead th {\n",
       "        text-align: right;\n",
       "    }\n",
       "</style>\n",
       "<table border=\"1\" class=\"dataframe\">\n",
       "  <thead>\n",
       "    <tr style=\"text-align: right;\">\n",
       "      <th></th>\n",
       "      <th>SalePrice</th>\n",
       "    </tr>\n",
       "  </thead>\n",
       "  <tbody>\n",
       "    <tr>\n",
       "      <th>SalePrice</th>\n",
       "      <td>1.000000</td>\n",
       "    </tr>\n",
       "    <tr>\n",
       "      <th>Gr Liv Area</th>\n",
       "      <td>0.699026</td>\n",
       "    </tr>\n",
       "    <tr>\n",
       "      <th>Garage Area</th>\n",
       "      <td>0.648661</td>\n",
       "    </tr>\n",
       "    <tr>\n",
       "      <th>Garage Cars</th>\n",
       "      <td>0.647015</td>\n",
       "    </tr>\n",
       "    <tr>\n",
       "      <th>Total Bsmt SF</th>\n",
       "      <td>0.631975</td>\n",
       "    </tr>\n",
       "    <tr>\n",
       "      <th>1st Flr SF</th>\n",
       "      <td>0.623523</td>\n",
       "    </tr>\n",
       "    <tr>\n",
       "      <th>Full Bath</th>\n",
       "      <td>0.538471</td>\n",
       "    </tr>\n",
       "    <tr>\n",
       "      <th>Mas Vnr Area</th>\n",
       "      <td>0.512699</td>\n",
       "    </tr>\n",
       "    <tr>\n",
       "      <th>TotRms AbvGrd</th>\n",
       "      <td>0.505188</td>\n",
       "    </tr>\n",
       "    <tr>\n",
       "      <th>Fireplaces</th>\n",
       "      <td>0.471222</td>\n",
       "    </tr>\n",
       "    <tr>\n",
       "      <th>BsmtFin SF 1</th>\n",
       "      <td>0.424380</td>\n",
       "    </tr>\n",
       "    <tr>\n",
       "      <th>Lot Frontage</th>\n",
       "      <td>0.340194</td>\n",
       "    </tr>\n",
       "    <tr>\n",
       "      <th>Wood Deck SF</th>\n",
       "      <td>0.328729</td>\n",
       "    </tr>\n",
       "    <tr>\n",
       "      <th>Open Porch SF</th>\n",
       "      <td>0.325625</td>\n",
       "    </tr>\n",
       "    <tr>\n",
       "      <th>Lot Area</th>\n",
       "      <td>0.295845</td>\n",
       "    </tr>\n",
       "    <tr>\n",
       "      <th>Paved Drive</th>\n",
       "      <td>0.288728</td>\n",
       "    </tr>\n",
       "    <tr>\n",
       "      <th>Bsmt Full Bath</th>\n",
       "      <td>0.284514</td>\n",
       "    </tr>\n",
       "    <tr>\n",
       "      <th>Half Bath</th>\n",
       "      <td>0.278486</td>\n",
       "    </tr>\n",
       "    <tr>\n",
       "      <th>Central Air</th>\n",
       "      <td>0.277770</td>\n",
       "    </tr>\n",
       "    <tr>\n",
       "      <th>2nd Flr SF</th>\n",
       "      <td>0.250946</td>\n",
       "    </tr>\n",
       "    <tr>\n",
       "      <th>Bsmt Unf SF</th>\n",
       "      <td>0.191275</td>\n",
       "    </tr>\n",
       "    <tr>\n",
       "      <th>Bedroom AbvGr</th>\n",
       "      <td>0.138336</td>\n",
       "    </tr>\n",
       "    <tr>\n",
       "      <th>Screen Porch</th>\n",
       "      <td>0.137802</td>\n",
       "    </tr>\n",
       "    <tr>\n",
       "      <th>Paved Street</th>\n",
       "      <td>0.069981</td>\n",
       "    </tr>\n",
       "    <tr>\n",
       "      <th>3Ssn Porch</th>\n",
       "      <td>0.049865</td>\n",
       "    </tr>\n",
       "    <tr>\n",
       "      <th>Has All Utilities</th>\n",
       "      <td>0.033123</td>\n",
       "    </tr>\n",
       "    <tr>\n",
       "      <th>Pool Area</th>\n",
       "      <td>0.023749</td>\n",
       "    </tr>\n",
       "    <tr>\n",
       "      <th>BsmtFin SF 2</th>\n",
       "      <td>0.019387</td>\n",
       "    </tr>\n",
       "    <tr>\n",
       "      <th>Years since last sold</th>\n",
       "      <td>0.011046</td>\n",
       "    </tr>\n",
       "    <tr>\n",
       "      <th>Misc Val</th>\n",
       "      <td>-0.006787</td>\n",
       "    </tr>\n",
       "    <tr>\n",
       "      <th>Low Qual Fin SF</th>\n",
       "      <td>-0.041153</td>\n",
       "    </tr>\n",
       "    <tr>\n",
       "      <th>Bsmt Half Bath</th>\n",
       "      <td>-0.043856</td>\n",
       "    </tr>\n",
       "    <tr>\n",
       "      <th>Gentle Slope</th>\n",
       "      <td>-0.064737</td>\n",
       "    </tr>\n",
       "    <tr>\n",
       "      <th>Kitchen AbvGr</th>\n",
       "      <td>-0.126232</td>\n",
       "    </tr>\n",
       "    <tr>\n",
       "      <th>Enclosed Porch</th>\n",
       "      <td>-0.138048</td>\n",
       "    </tr>\n",
       "    <tr>\n",
       "      <th>Years since remodel</th>\n",
       "      <td>-0.549397</td>\n",
       "    </tr>\n",
       "    <tr>\n",
       "      <th>Years since built</th>\n",
       "      <td>-0.571860</td>\n",
       "    </tr>\n",
       "  </tbody>\n",
       "</table>\n",
       "</div>"
      ],
      "text/plain": [
       "                       SalePrice\n",
       "SalePrice               1.000000\n",
       "Gr Liv Area             0.699026\n",
       "Garage Area             0.648661\n",
       "Garage Cars             0.647015\n",
       "Total Bsmt SF           0.631975\n",
       "1st Flr SF              0.623523\n",
       "Full Bath               0.538471\n",
       "Mas Vnr Area            0.512699\n",
       "TotRms AbvGrd           0.505188\n",
       "Fireplaces              0.471222\n",
       "BsmtFin SF 1            0.424380\n",
       "Lot Frontage            0.340194\n",
       "Wood Deck SF            0.328729\n",
       "Open Porch SF           0.325625\n",
       "Lot Area                0.295845\n",
       "Paved Drive             0.288728\n",
       "Bsmt Full Bath          0.284514\n",
       "Half Bath               0.278486\n",
       "Central Air             0.277770\n",
       "2nd Flr SF              0.250946\n",
       "Bsmt Unf SF             0.191275\n",
       "Bedroom AbvGr           0.138336\n",
       "Screen Porch            0.137802\n",
       "Paved Street            0.069981\n",
       "3Ssn Porch              0.049865\n",
       "Has All Utilities       0.033123\n",
       "Pool Area               0.023749\n",
       "BsmtFin SF 2            0.019387\n",
       "Years since last sold   0.011046\n",
       "Misc Val               -0.006787\n",
       "Low Qual Fin SF        -0.041153\n",
       "Bsmt Half Bath         -0.043856\n",
       "Gentle Slope           -0.064737\n",
       "Kitchen AbvGr          -0.126232\n",
       "Enclosed Porch         -0.138048\n",
       "Years since remodel    -0.549397\n",
       "Years since built      -0.571860"
      ]
     },
     "execution_count": 20,
     "metadata": {},
     "output_type": "execute_result"
    }
   ],
   "source": [
    "corr"
   ]
  },
  {
   "cell_type": "code",
   "execution_count": null,
   "id": "7eaa0b50-2306-4f11-82c5-f3beea7a0e05",
   "metadata": {
    "tags": []
   },
   "outputs": [],
   "source": []
  },
  {
   "cell_type": "code",
   "execution_count": 22,
   "id": "a1e714e7-98f5-4859-9164-c03081d97fca",
   "metadata": {
    "tags": []
   },
   "outputs": [],
   "source": [
    "correlated_numeric_features = corr[(corr['SalePrice'] > 0.10) |  (corr['SalePrice'] < -0.10)].index[1:]"
   ]
  },
  {
   "cell_type": "code",
   "execution_count": null,
   "id": "ea4b1191-b085-4706-a5dd-0fae0b6c407d",
   "metadata": {
    "tags": []
   },
   "outputs": [],
   "source": [
    "X_3_nums = X_3.loc[:, list(correlated_numeric_features)]"
   ]
  },
  {
   "cell_type": "markdown",
   "id": "0902bb5f-c98f-4672-9026-4df9c3048bc1",
   "metadata": {
    "tags": []
   },
   "source": [
    "## Creating dummies of categorical data"
   ]
  },
  {
   "cell_type": "code",
   "execution_count": 23,
   "id": "21fe2c5d-2d11-43f1-9436-0d70f4a476d0",
   "metadata": {
    "tags": []
   },
   "outputs": [],
   "source": [
    "X_3_non_numerics = X_3.select_dtypes(exclude = np.number)"
   ]
  },
  {
   "cell_type": "code",
   "execution_count": null,
   "id": "da1e7d26-0e69-4d27-86fe-e54587065539",
   "metadata": {},
   "outputs": [],
   "source": [
    "replace_NaN_with_NA(X_3, [column for column in X_3_non_numerics.columns if X_3_non_numerics[column].isnull().sum() > 0])"
   ]
  },
  {
   "cell_type": "code",
   "execution_count": 26,
   "id": "19eaf179-f347-43c2-972f-a783bd0e8385",
   "metadata": {
    "tags": []
   },
   "outputs": [],
   "source": [
    "X_3_dummy = pd.get_dummies(X_3_non_numerics, columns = non_numerics.columns, drop_first = True)"
   ]
  },
  {
   "cell_type": "markdown",
   "id": "a25b64f6-84de-4a76-a963-6a3cca5a9084",
   "metadata": {
    "tags": []
   },
   "source": [
    "### Trimming off some dummy features that have underrepresented or overrepresented values"
   ]
  },
  {
   "cell_type": "code",
   "execution_count": 28,
   "id": "6b6bbcc5-d692-47cc-8c5e-8b23a4e35785",
   "metadata": {
    "tags": []
   },
   "outputs": [],
   "source": [
    "X_3_means = X_3_dummy.mean().sort_values().to_frame()\n",
    "X_3_dummy_trimmed = list(X_3_means[(X_3_means[0] > 0.10) & (X_3_means[0] < 0.90)].index)"
   ]
  },
  {
   "cell_type": "code",
   "execution_count": 24,
   "id": "53e8ec48-8ef0-4b4b-ab72-c63bb4a352c8",
   "metadata": {
    "tags": []
   },
   "outputs": [],
   "source": [
    "\n"
   ]
  },
  {
   "cell_type": "code",
   "execution_count": null,
   "id": "57dfa0da-3f66-4000-bede-5bfec307323d",
   "metadata": {
    "tags": []
   },
   "outputs": [],
   "source": []
  },
  {
   "cell_type": "code",
   "execution_count": null,
   "id": "70e1060d-d63b-45bb-a1cc-f53d0b3bb5c4",
   "metadata": {
    "tags": []
   },
   "outputs": [],
   "source": []
  },
  {
   "cell_type": "code",
   "execution_count": null,
   "id": "ec3a1e75-4653-4e07-8b72-9fe0a2e2e458",
   "metadata": {
    "tags": []
   },
   "outputs": [],
   "source": []
  },
  {
   "cell_type": "markdown",
   "id": "7a1aa1af-69ad-45fd-87f4-d7ad8b2ebc18",
   "metadata": {
    "tags": []
   },
   "source": [
    "### Settling in on X and Y for this iteration"
   ]
  },
  {
   "cell_type": "code",
   "execution_count": 29,
   "id": "c7fad191-3a7e-4eb3-8ac8-d5d9674df680",
   "metadata": {
    "tags": []
   },
   "outputs": [],
   "source": [
    "X_3_use = X_3_nums.join(X_3_dummy.loc[:, X_3_dummy_trimmed], on='Id', how='left')\n",
    "y3 = X_3['SalePrice']"
   ]
  },
  {
   "cell_type": "markdown",
   "id": "74866a20-f14e-460a-b63b-3b7cbf72fe46",
   "metadata": {
    "tags": []
   },
   "source": [
    "### Train test split"
   ]
  },
  {
   "cell_type": "code",
   "execution_count": 30,
   "id": "7cf560d3-0293-4639-904d-2c216b2643a4",
   "metadata": {
    "tags": []
   },
   "outputs": [],
   "source": [
    "X3_train, X3_test, y3_train, y3_test = train_test_split(X_3_use, y3, test_size = 0.3, random_state=2023)"
   ]
  },
  {
   "cell_type": "markdown",
   "id": "ca4bbb68-e2d1-423c-aa91-1af1a33a8734",
   "metadata": {},
   "source": [
    "### We will be trying regularization here via Ridge cross validation"
   ]
  },
  {
   "cell_type": "markdown",
   "id": "144faa39-f1cf-4e1f-bc26-4af130af53e4",
   "metadata": {},
   "source": [
    "There is a not a huge case for this, given that previous OLS models were not overfit (in fact, they both performed better on the test data! But it is good to be dilignet"
   ]
  },
  {
   "cell_type": "code",
   "execution_count": 36,
   "id": "295706a7-a88f-4535-ad5a-1a5bee89adcb",
   "metadata": {
    "tags": []
   },
   "outputs": [],
   "source": [
    "r_alphas = np.logspace(-2, 3, 100)"
   ]
  },
  {
   "cell_type": "code",
   "execution_count": 40,
   "id": "08bde4ea-8c0c-40d9-af4e-05eb86697752",
   "metadata": {
    "tags": []
   },
   "outputs": [],
   "source": [
    "si = SimpleImputer()\n",
    "sc = StandardScaler()\n",
    "ridge_cv = RidgeCV(alphas = r_alphas, cv = 10)"
   ]
  },
  {
   "cell_type": "code",
   "execution_count": 41,
   "id": "013c5193-c8ff-415c-ad77-9902c2e8f9d1",
   "metadata": {
    "tags": []
   },
   "outputs": [],
   "source": [
    "X3_train_si = si.fit_transform(X3_train)\n",
    "X3_test_si = si.transform(X3_test)"
   ]
  },
  {
   "cell_type": "code",
   "execution_count": 44,
   "id": "02390e19-da94-4e44-9b62-0cff0d4e7d8d",
   "metadata": {
    "tags": []
   },
   "outputs": [],
   "source": [
    "Z3_train = sc.fit_transform(X3_train_si)\n",
    "Z3_test = sc.transform(X3_test_si)"
   ]
  },
  {
   "cell_type": "code",
   "execution_count": 45,
   "id": "76c5d1ea-bfb2-40e4-845e-1aca7e756e37",
   "metadata": {
    "tags": []
   },
   "outputs": [
    {
     "data": {
      "text/html": [
       "<style>#sk-container-id-1 {color: black;}#sk-container-id-1 pre{padding: 0;}#sk-container-id-1 div.sk-toggleable {background-color: white;}#sk-container-id-1 label.sk-toggleable__label {cursor: pointer;display: block;width: 100%;margin-bottom: 0;padding: 0.3em;box-sizing: border-box;text-align: center;}#sk-container-id-1 label.sk-toggleable__label-arrow:before {content: \"▸\";float: left;margin-right: 0.25em;color: #696969;}#sk-container-id-1 label.sk-toggleable__label-arrow:hover:before {color: black;}#sk-container-id-1 div.sk-estimator:hover label.sk-toggleable__label-arrow:before {color: black;}#sk-container-id-1 div.sk-toggleable__content {max-height: 0;max-width: 0;overflow: hidden;text-align: left;background-color: #f0f8ff;}#sk-container-id-1 div.sk-toggleable__content pre {margin: 0.2em;color: black;border-radius: 0.25em;background-color: #f0f8ff;}#sk-container-id-1 input.sk-toggleable__control:checked~div.sk-toggleable__content {max-height: 200px;max-width: 100%;overflow: auto;}#sk-container-id-1 input.sk-toggleable__control:checked~label.sk-toggleable__label-arrow:before {content: \"▾\";}#sk-container-id-1 div.sk-estimator input.sk-toggleable__control:checked~label.sk-toggleable__label {background-color: #d4ebff;}#sk-container-id-1 div.sk-label input.sk-toggleable__control:checked~label.sk-toggleable__label {background-color: #d4ebff;}#sk-container-id-1 input.sk-hidden--visually {border: 0;clip: rect(1px 1px 1px 1px);clip: rect(1px, 1px, 1px, 1px);height: 1px;margin: -1px;overflow: hidden;padding: 0;position: absolute;width: 1px;}#sk-container-id-1 div.sk-estimator {font-family: monospace;background-color: #f0f8ff;border: 1px dotted black;border-radius: 0.25em;box-sizing: border-box;margin-bottom: 0.5em;}#sk-container-id-1 div.sk-estimator:hover {background-color: #d4ebff;}#sk-container-id-1 div.sk-parallel-item::after {content: \"\";width: 100%;border-bottom: 1px solid gray;flex-grow: 1;}#sk-container-id-1 div.sk-label:hover label.sk-toggleable__label {background-color: #d4ebff;}#sk-container-id-1 div.sk-serial::before {content: \"\";position: absolute;border-left: 1px solid gray;box-sizing: border-box;top: 0;bottom: 0;left: 50%;z-index: 0;}#sk-container-id-1 div.sk-serial {display: flex;flex-direction: column;align-items: center;background-color: white;padding-right: 0.2em;padding-left: 0.2em;position: relative;}#sk-container-id-1 div.sk-item {position: relative;z-index: 1;}#sk-container-id-1 div.sk-parallel {display: flex;align-items: stretch;justify-content: center;background-color: white;position: relative;}#sk-container-id-1 div.sk-item::before, #sk-container-id-1 div.sk-parallel-item::before {content: \"\";position: absolute;border-left: 1px solid gray;box-sizing: border-box;top: 0;bottom: 0;left: 50%;z-index: -1;}#sk-container-id-1 div.sk-parallel-item {display: flex;flex-direction: column;z-index: 1;position: relative;background-color: white;}#sk-container-id-1 div.sk-parallel-item:first-child::after {align-self: flex-end;width: 50%;}#sk-container-id-1 div.sk-parallel-item:last-child::after {align-self: flex-start;width: 50%;}#sk-container-id-1 div.sk-parallel-item:only-child::after {width: 0;}#sk-container-id-1 div.sk-dashed-wrapped {border: 1px dashed gray;margin: 0 0.4em 0.5em 0.4em;box-sizing: border-box;padding-bottom: 0.4em;background-color: white;}#sk-container-id-1 div.sk-label label {font-family: monospace;font-weight: bold;display: inline-block;line-height: 1.2em;}#sk-container-id-1 div.sk-label-container {text-align: center;}#sk-container-id-1 div.sk-container {/* jupyter's `normalize.less` sets `[hidden] { display: none; }` but bootstrap.min.css set `[hidden] { display: none !important; }` so we also need the `!important` here to be able to override the default hidden behavior on the sphinx rendered scikit-learn.org. See: https://github.com/scikit-learn/scikit-learn/issues/21755 */display: inline-block !important;position: relative;}#sk-container-id-1 div.sk-text-repr-fallback {display: none;}</style><div id=\"sk-container-id-1\" class=\"sk-top-container\"><div class=\"sk-text-repr-fallback\"><pre>RidgeCV(alphas=array([1.00000000e-02, 1.12332403e-02, 1.26185688e-02, 1.41747416e-02,\n",
       "       1.59228279e-02, 1.78864953e-02, 2.00923300e-02, 2.25701972e-02,\n",
       "       2.53536449e-02, 2.84803587e-02, 3.19926714e-02, 3.59381366e-02,\n",
       "       4.03701726e-02, 4.53487851e-02, 5.09413801e-02, 5.72236766e-02,\n",
       "       6.42807312e-02, 7.22080902e-02, 8.11130831e-02, 9.11162756e-02,\n",
       "       1.02353102e-01, 1.14975700e-0...\n",
       "       6.89261210e+01, 7.74263683e+01, 8.69749003e+01, 9.77009957e+01,\n",
       "       1.09749877e+02, 1.23284674e+02, 1.38488637e+02, 1.55567614e+02,\n",
       "       1.74752840e+02, 1.96304065e+02, 2.20513074e+02, 2.47707636e+02,\n",
       "       2.78255940e+02, 3.12571585e+02, 3.51119173e+02, 3.94420606e+02,\n",
       "       4.43062146e+02, 4.97702356e+02, 5.59081018e+02, 6.28029144e+02,\n",
       "       7.05480231e+02, 7.92482898e+02, 8.90215085e+02, 1.00000000e+03]),\n",
       "        cv=10)</pre><b>In a Jupyter environment, please rerun this cell to show the HTML representation or trust the notebook. <br />On GitHub, the HTML representation is unable to render, please try loading this page with nbviewer.org.</b></div><div class=\"sk-container\" hidden><div class=\"sk-item\"><div class=\"sk-estimator sk-toggleable\"><input class=\"sk-toggleable__control sk-hidden--visually\" id=\"sk-estimator-id-1\" type=\"checkbox\" checked><label for=\"sk-estimator-id-1\" class=\"sk-toggleable__label sk-toggleable__label-arrow\">RidgeCV</label><div class=\"sk-toggleable__content\"><pre>RidgeCV(alphas=array([1.00000000e-02, 1.12332403e-02, 1.26185688e-02, 1.41747416e-02,\n",
       "       1.59228279e-02, 1.78864953e-02, 2.00923300e-02, 2.25701972e-02,\n",
       "       2.53536449e-02, 2.84803587e-02, 3.19926714e-02, 3.59381366e-02,\n",
       "       4.03701726e-02, 4.53487851e-02, 5.09413801e-02, 5.72236766e-02,\n",
       "       6.42807312e-02, 7.22080902e-02, 8.11130831e-02, 9.11162756e-02,\n",
       "       1.02353102e-01, 1.14975700e-0...\n",
       "       6.89261210e+01, 7.74263683e+01, 8.69749003e+01, 9.77009957e+01,\n",
       "       1.09749877e+02, 1.23284674e+02, 1.38488637e+02, 1.55567614e+02,\n",
       "       1.74752840e+02, 1.96304065e+02, 2.20513074e+02, 2.47707636e+02,\n",
       "       2.78255940e+02, 3.12571585e+02, 3.51119173e+02, 3.94420606e+02,\n",
       "       4.43062146e+02, 4.97702356e+02, 5.59081018e+02, 6.28029144e+02,\n",
       "       7.05480231e+02, 7.92482898e+02, 8.90215085e+02, 1.00000000e+03]),\n",
       "        cv=10)</pre></div></div></div></div></div>"
      ],
      "text/plain": [
       "RidgeCV(alphas=array([1.00000000e-02, 1.12332403e-02, 1.26185688e-02, 1.41747416e-02,\n",
       "       1.59228279e-02, 1.78864953e-02, 2.00923300e-02, 2.25701972e-02,\n",
       "       2.53536449e-02, 2.84803587e-02, 3.19926714e-02, 3.59381366e-02,\n",
       "       4.03701726e-02, 4.53487851e-02, 5.09413801e-02, 5.72236766e-02,\n",
       "       6.42807312e-02, 7.22080902e-02, 8.11130831e-02, 9.11162756e-02,\n",
       "       1.02353102e-01, 1.14975700e-0...\n",
       "       6.89261210e+01, 7.74263683e+01, 8.69749003e+01, 9.77009957e+01,\n",
       "       1.09749877e+02, 1.23284674e+02, 1.38488637e+02, 1.55567614e+02,\n",
       "       1.74752840e+02, 1.96304065e+02, 2.20513074e+02, 2.47707636e+02,\n",
       "       2.78255940e+02, 3.12571585e+02, 3.51119173e+02, 3.94420606e+02,\n",
       "       4.43062146e+02, 4.97702356e+02, 5.59081018e+02, 6.28029144e+02,\n",
       "       7.05480231e+02, 7.92482898e+02, 8.90215085e+02, 1.00000000e+03]),\n",
       "        cv=10)"
      ]
     },
     "execution_count": 45,
     "metadata": {},
     "output_type": "execute_result"
    }
   ],
   "source": [
    "ridge_cv.fit(Z3_train, y3_train)"
   ]
  },
  {
   "cell_type": "code",
   "execution_count": null,
   "id": "37f76bca-e7d4-4508-b435-db8c27cd47bd",
   "metadata": {
    "tags": []
   },
   "outputs": [],
   "source": []
  },
  {
   "cell_type": "code",
   "execution_count": 46,
   "id": "557d4a97-132c-4753-bb7b-befd4831ffb6",
   "metadata": {
    "tags": []
   },
   "outputs": [
    {
     "data": {
      "text/plain": [
       "312.5715849688235"
      ]
     },
     "execution_count": 46,
     "metadata": {},
     "output_type": "execute_result"
    }
   ],
   "source": [
    "ridge_cv.alpha_"
   ]
  },
  {
   "cell_type": "code",
   "execution_count": 47,
   "id": "668f34ac-312f-49e6-8cad-ca7945444960",
   "metadata": {},
   "outputs": [
    {
     "data": {
      "text/plain": [
       "0.7814200039675607"
      ]
     },
     "execution_count": 47,
     "metadata": {},
     "output_type": "execute_result"
    }
   ],
   "source": [
    "ridge_cv.best_score_"
   ]
  },
  {
   "cell_type": "code",
   "execution_count": null,
   "id": "0d573e3e-8815-476f-806a-75b7a7aa0fd3",
   "metadata": {},
   "outputs": [],
   "source": []
  }
 ],
 "metadata": {
  "kernelspec": {
   "display_name": "Python 3 (ipykernel)",
   "language": "python",
   "name": "python3"
  },
  "language_info": {
   "codemirror_mode": {
    "name": "ipython",
    "version": 3
   },
   "file_extension": ".py",
   "mimetype": "text/x-python",
   "name": "python",
   "nbconvert_exporter": "python",
   "pygments_lexer": "ipython3",
   "version": "3.11.4"
  }
 },
 "nbformat": 4,
 "nbformat_minor": 5
}
