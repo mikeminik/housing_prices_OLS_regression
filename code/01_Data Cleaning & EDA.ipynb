{
 "cells": [
  {
   "cell_type": "code",
   "execution_count": 611,
   "id": "de535061-b806-476c-8777-7822492cea6d",
   "metadata": {
    "tags": []
   },
   "outputs": [],
   "source": [
    "import numpy as np\n",
    "import pandas as pd\n",
    "import matplotlib.pyplot as plt\n",
    "import seaborn as sns\n",
    "import missingno as msno"
   ]
  },
  {
   "cell_type": "markdown",
   "id": "0130133c-9bb7-42d1-8463-73c48a25c35d",
   "metadata": {},
   "source": [
    "# Read in data"
   ]
  },
  {
   "cell_type": "code",
   "execution_count": 612,
   "id": "23dafd80-0dc1-41ea-b442-5e11b38a7f6b",
   "metadata": {
    "tags": []
   },
   "outputs": [],
   "source": [
    "props = pd.read_csv('../datasets/train.csv')"
   ]
  },
  {
   "cell_type": "code",
   "execution_count": 613,
   "id": "4cda4e79-9f98-406a-bb0b-70723be6aeb8",
   "metadata": {
    "tags": []
   },
   "outputs": [
    {
     "data": {
      "text/html": [
       "<div>\n",
       "<style scoped>\n",
       "    .dataframe tbody tr th:only-of-type {\n",
       "        vertical-align: middle;\n",
       "    }\n",
       "\n",
       "    .dataframe tbody tr th {\n",
       "        vertical-align: top;\n",
       "    }\n",
       "\n",
       "    .dataframe thead th {\n",
       "        text-align: right;\n",
       "    }\n",
       "</style>\n",
       "<table border=\"1\" class=\"dataframe\">\n",
       "  <thead>\n",
       "    <tr style=\"text-align: right;\">\n",
       "      <th></th>\n",
       "      <th>Id</th>\n",
       "      <th>PID</th>\n",
       "      <th>MS SubClass</th>\n",
       "      <th>MS Zoning</th>\n",
       "      <th>Lot Frontage</th>\n",
       "      <th>Lot Area</th>\n",
       "      <th>Street</th>\n",
       "      <th>Alley</th>\n",
       "      <th>Lot Shape</th>\n",
       "      <th>Land Contour</th>\n",
       "      <th>...</th>\n",
       "      <th>Screen Porch</th>\n",
       "      <th>Pool Area</th>\n",
       "      <th>Pool QC</th>\n",
       "      <th>Fence</th>\n",
       "      <th>Misc Feature</th>\n",
       "      <th>Misc Val</th>\n",
       "      <th>Mo Sold</th>\n",
       "      <th>Yr Sold</th>\n",
       "      <th>Sale Type</th>\n",
       "      <th>SalePrice</th>\n",
       "    </tr>\n",
       "  </thead>\n",
       "  <tbody>\n",
       "    <tr>\n",
       "      <th>0</th>\n",
       "      <td>109</td>\n",
       "      <td>533352170</td>\n",
       "      <td>60</td>\n",
       "      <td>RL</td>\n",
       "      <td>NaN</td>\n",
       "      <td>13517</td>\n",
       "      <td>Pave</td>\n",
       "      <td>NaN</td>\n",
       "      <td>IR1</td>\n",
       "      <td>Lvl</td>\n",
       "      <td>...</td>\n",
       "      <td>0</td>\n",
       "      <td>0</td>\n",
       "      <td>NaN</td>\n",
       "      <td>NaN</td>\n",
       "      <td>NaN</td>\n",
       "      <td>0</td>\n",
       "      <td>3</td>\n",
       "      <td>2010</td>\n",
       "      <td>WD</td>\n",
       "      <td>130500</td>\n",
       "    </tr>\n",
       "    <tr>\n",
       "      <th>1</th>\n",
       "      <td>544</td>\n",
       "      <td>531379050</td>\n",
       "      <td>60</td>\n",
       "      <td>RL</td>\n",
       "      <td>43.0</td>\n",
       "      <td>11492</td>\n",
       "      <td>Pave</td>\n",
       "      <td>NaN</td>\n",
       "      <td>IR1</td>\n",
       "      <td>Lvl</td>\n",
       "      <td>...</td>\n",
       "      <td>0</td>\n",
       "      <td>0</td>\n",
       "      <td>NaN</td>\n",
       "      <td>NaN</td>\n",
       "      <td>NaN</td>\n",
       "      <td>0</td>\n",
       "      <td>4</td>\n",
       "      <td>2009</td>\n",
       "      <td>WD</td>\n",
       "      <td>220000</td>\n",
       "    </tr>\n",
       "    <tr>\n",
       "      <th>2</th>\n",
       "      <td>153</td>\n",
       "      <td>535304180</td>\n",
       "      <td>20</td>\n",
       "      <td>RL</td>\n",
       "      <td>68.0</td>\n",
       "      <td>7922</td>\n",
       "      <td>Pave</td>\n",
       "      <td>NaN</td>\n",
       "      <td>Reg</td>\n",
       "      <td>Lvl</td>\n",
       "      <td>...</td>\n",
       "      <td>0</td>\n",
       "      <td>0</td>\n",
       "      <td>NaN</td>\n",
       "      <td>NaN</td>\n",
       "      <td>NaN</td>\n",
       "      <td>0</td>\n",
       "      <td>1</td>\n",
       "      <td>2010</td>\n",
       "      <td>WD</td>\n",
       "      <td>109000</td>\n",
       "    </tr>\n",
       "    <tr>\n",
       "      <th>3</th>\n",
       "      <td>318</td>\n",
       "      <td>916386060</td>\n",
       "      <td>60</td>\n",
       "      <td>RL</td>\n",
       "      <td>73.0</td>\n",
       "      <td>9802</td>\n",
       "      <td>Pave</td>\n",
       "      <td>NaN</td>\n",
       "      <td>Reg</td>\n",
       "      <td>Lvl</td>\n",
       "      <td>...</td>\n",
       "      <td>0</td>\n",
       "      <td>0</td>\n",
       "      <td>NaN</td>\n",
       "      <td>NaN</td>\n",
       "      <td>NaN</td>\n",
       "      <td>0</td>\n",
       "      <td>4</td>\n",
       "      <td>2010</td>\n",
       "      <td>WD</td>\n",
       "      <td>174000</td>\n",
       "    </tr>\n",
       "    <tr>\n",
       "      <th>4</th>\n",
       "      <td>255</td>\n",
       "      <td>906425045</td>\n",
       "      <td>50</td>\n",
       "      <td>RL</td>\n",
       "      <td>82.0</td>\n",
       "      <td>14235</td>\n",
       "      <td>Pave</td>\n",
       "      <td>NaN</td>\n",
       "      <td>IR1</td>\n",
       "      <td>Lvl</td>\n",
       "      <td>...</td>\n",
       "      <td>0</td>\n",
       "      <td>0</td>\n",
       "      <td>NaN</td>\n",
       "      <td>NaN</td>\n",
       "      <td>NaN</td>\n",
       "      <td>0</td>\n",
       "      <td>3</td>\n",
       "      <td>2010</td>\n",
       "      <td>WD</td>\n",
       "      <td>138500</td>\n",
       "    </tr>\n",
       "    <tr>\n",
       "      <th>5</th>\n",
       "      <td>138</td>\n",
       "      <td>535126040</td>\n",
       "      <td>20</td>\n",
       "      <td>RL</td>\n",
       "      <td>137.0</td>\n",
       "      <td>16492</td>\n",
       "      <td>Pave</td>\n",
       "      <td>NaN</td>\n",
       "      <td>IR1</td>\n",
       "      <td>Lvl</td>\n",
       "      <td>...</td>\n",
       "      <td>0</td>\n",
       "      <td>0</td>\n",
       "      <td>NaN</td>\n",
       "      <td>NaN</td>\n",
       "      <td>NaN</td>\n",
       "      <td>0</td>\n",
       "      <td>6</td>\n",
       "      <td>2010</td>\n",
       "      <td>WD</td>\n",
       "      <td>190000</td>\n",
       "    </tr>\n",
       "    <tr>\n",
       "      <th>6</th>\n",
       "      <td>2827</td>\n",
       "      <td>908186070</td>\n",
       "      <td>180</td>\n",
       "      <td>RM</td>\n",
       "      <td>35.0</td>\n",
       "      <td>3675</td>\n",
       "      <td>Pave</td>\n",
       "      <td>NaN</td>\n",
       "      <td>Reg</td>\n",
       "      <td>Lvl</td>\n",
       "      <td>...</td>\n",
       "      <td>0</td>\n",
       "      <td>0</td>\n",
       "      <td>NaN</td>\n",
       "      <td>NaN</td>\n",
       "      <td>NaN</td>\n",
       "      <td>0</td>\n",
       "      <td>6</td>\n",
       "      <td>2006</td>\n",
       "      <td>New</td>\n",
       "      <td>140000</td>\n",
       "    </tr>\n",
       "    <tr>\n",
       "      <th>7</th>\n",
       "      <td>145</td>\n",
       "      <td>535154050</td>\n",
       "      <td>20</td>\n",
       "      <td>RL</td>\n",
       "      <td>NaN</td>\n",
       "      <td>12160</td>\n",
       "      <td>Pave</td>\n",
       "      <td>NaN</td>\n",
       "      <td>IR1</td>\n",
       "      <td>Lvl</td>\n",
       "      <td>...</td>\n",
       "      <td>0</td>\n",
       "      <td>0</td>\n",
       "      <td>NaN</td>\n",
       "      <td>MnPrv</td>\n",
       "      <td>NaN</td>\n",
       "      <td>0</td>\n",
       "      <td>5</td>\n",
       "      <td>2010</td>\n",
       "      <td>COD</td>\n",
       "      <td>142000</td>\n",
       "    </tr>\n",
       "    <tr>\n",
       "      <th>8</th>\n",
       "      <td>1942</td>\n",
       "      <td>535353130</td>\n",
       "      <td>20</td>\n",
       "      <td>RL</td>\n",
       "      <td>NaN</td>\n",
       "      <td>15783</td>\n",
       "      <td>Pave</td>\n",
       "      <td>NaN</td>\n",
       "      <td>Reg</td>\n",
       "      <td>Lvl</td>\n",
       "      <td>...</td>\n",
       "      <td>0</td>\n",
       "      <td>0</td>\n",
       "      <td>NaN</td>\n",
       "      <td>MnPrv</td>\n",
       "      <td>Shed</td>\n",
       "      <td>400</td>\n",
       "      <td>6</td>\n",
       "      <td>2007</td>\n",
       "      <td>WD</td>\n",
       "      <td>112500</td>\n",
       "    </tr>\n",
       "    <tr>\n",
       "      <th>9</th>\n",
       "      <td>1956</td>\n",
       "      <td>535426130</td>\n",
       "      <td>60</td>\n",
       "      <td>RL</td>\n",
       "      <td>70.0</td>\n",
       "      <td>11606</td>\n",
       "      <td>Pave</td>\n",
       "      <td>NaN</td>\n",
       "      <td>IR1</td>\n",
       "      <td>HLS</td>\n",
       "      <td>...</td>\n",
       "      <td>0</td>\n",
       "      <td>0</td>\n",
       "      <td>NaN</td>\n",
       "      <td>NaN</td>\n",
       "      <td>NaN</td>\n",
       "      <td>0</td>\n",
       "      <td>9</td>\n",
       "      <td>2007</td>\n",
       "      <td>WD</td>\n",
       "      <td>135000</td>\n",
       "    </tr>\n",
       "  </tbody>\n",
       "</table>\n",
       "<p>10 rows × 81 columns</p>\n",
       "</div>"
      ],
      "text/plain": [
       "     Id        PID  MS SubClass MS Zoning  Lot Frontage  Lot Area Street  \\\n",
       "0   109  533352170           60        RL           NaN     13517   Pave   \n",
       "1   544  531379050           60        RL          43.0     11492   Pave   \n",
       "2   153  535304180           20        RL          68.0      7922   Pave   \n",
       "3   318  916386060           60        RL          73.0      9802   Pave   \n",
       "4   255  906425045           50        RL          82.0     14235   Pave   \n",
       "5   138  535126040           20        RL         137.0     16492   Pave   \n",
       "6  2827  908186070          180        RM          35.0      3675   Pave   \n",
       "7   145  535154050           20        RL           NaN     12160   Pave   \n",
       "8  1942  535353130           20        RL           NaN     15783   Pave   \n",
       "9  1956  535426130           60        RL          70.0     11606   Pave   \n",
       "\n",
       "  Alley Lot Shape Land Contour  ... Screen Porch Pool Area Pool QC  Fence  \\\n",
       "0   NaN       IR1          Lvl  ...            0         0     NaN    NaN   \n",
       "1   NaN       IR1          Lvl  ...            0         0     NaN    NaN   \n",
       "2   NaN       Reg          Lvl  ...            0         0     NaN    NaN   \n",
       "3   NaN       Reg          Lvl  ...            0         0     NaN    NaN   \n",
       "4   NaN       IR1          Lvl  ...            0         0     NaN    NaN   \n",
       "5   NaN       IR1          Lvl  ...            0         0     NaN    NaN   \n",
       "6   NaN       Reg          Lvl  ...            0         0     NaN    NaN   \n",
       "7   NaN       IR1          Lvl  ...            0         0     NaN  MnPrv   \n",
       "8   NaN       Reg          Lvl  ...            0         0     NaN  MnPrv   \n",
       "9   NaN       IR1          HLS  ...            0         0     NaN    NaN   \n",
       "\n",
       "  Misc Feature Misc Val Mo Sold Yr Sold  Sale Type  SalePrice  \n",
       "0          NaN        0       3    2010        WD      130500  \n",
       "1          NaN        0       4    2009        WD      220000  \n",
       "2          NaN        0       1    2010        WD      109000  \n",
       "3          NaN        0       4    2010        WD      174000  \n",
       "4          NaN        0       3    2010        WD      138500  \n",
       "5          NaN        0       6    2010        WD      190000  \n",
       "6          NaN        0       6    2006        New     140000  \n",
       "7          NaN        0       5    2010        COD     142000  \n",
       "8         Shed      400       6    2007        WD      112500  \n",
       "9          NaN        0       9    2007        WD      135000  \n",
       "\n",
       "[10 rows x 81 columns]"
      ]
     },
     "execution_count": 613,
     "metadata": {},
     "output_type": "execute_result"
    }
   ],
   "source": [
    "props.head(10)"
   ]
  },
  {
   "cell_type": "code",
   "execution_count": 614,
   "id": "22ebc56f-3076-4aa6-a822-3a298755f0b7",
   "metadata": {
    "tags": []
   },
   "outputs": [
    {
     "data": {
      "text/plain": [
       "(2051, 81)"
      ]
     },
     "execution_count": 614,
     "metadata": {},
     "output_type": "execute_result"
    }
   ],
   "source": [
    "props.shape"
   ]
  },
  {
   "cell_type": "code",
   "execution_count": 615,
   "id": "f51c4d8c-2283-4152-a13d-64c6512dbb37",
   "metadata": {
    "tags": []
   },
   "outputs": [],
   "source": [
    "props.set_index('Id', inplace = True)"
   ]
  },
  {
   "cell_type": "code",
   "execution_count": null,
   "id": "f4b7d829-95ca-4a84-b9c8-396761903e9e",
   "metadata": {
    "jupyter": {
     "source_hidden": true
    },
    "tags": []
   },
   "outputs": [],
   "source": []
  },
  {
   "cell_type": "markdown",
   "id": "4782fc1f-f3ac-49df-bd2d-d84d5eeb5d96",
   "metadata": {
    "tags": []
   },
   "source": [
    "# Check and categorize numeric vs categorical columns"
   ]
  },
  {
   "cell_type": "markdown",
   "id": "61d6ac01-b507-4a85-9173-0f677d7e4399",
   "metadata": {},
   "source": [
    "## Numeric columns"
   ]
  },
  {
   "cell_type": "code",
   "execution_count": 616,
   "id": "1fff59cd-525d-4e79-9938-eac9304ac706",
   "metadata": {
    "tags": []
   },
   "outputs": [],
   "source": [
    "initial_numeric_columns = props.select_dtypes(include = [np.number])"
   ]
  },
  {
   "cell_type": "markdown",
   "id": "ad3b53ec-8290-41d1-818a-b400fb6a9b18",
   "metadata": {},
   "source": [
    "## Non-numeric (presumably categorical) columns"
   ]
  },
  {
   "cell_type": "code",
   "execution_count": 617,
   "id": "74852aaf-5a6d-46cc-a695-ce5996018e03",
   "metadata": {
    "tags": []
   },
   "outputs": [],
   "source": [
    "initial_nonnumeric_columns = props.select_dtypes(exclude = [np.number])"
   ]
  },
  {
   "cell_type": "markdown",
   "id": "e5a98d3d-0f74-4108-adf7-8ea91f7972c1",
   "metadata": {},
   "source": [
    "# Look at missing values"
   ]
  },
  {
   "cell_type": "code",
   "execution_count": 618,
   "id": "df951288-bc6f-4342-87bd-96a74d159b03",
   "metadata": {
    "tags": []
   },
   "outputs": [
    {
     "data": {
      "text/html": [
       "<div>\n",
       "<style scoped>\n",
       "    .dataframe tbody tr th:only-of-type {\n",
       "        vertical-align: middle;\n",
       "    }\n",
       "\n",
       "    .dataframe tbody tr th {\n",
       "        vertical-align: top;\n",
       "    }\n",
       "\n",
       "    .dataframe thead th {\n",
       "        text-align: right;\n",
       "    }\n",
       "</style>\n",
       "<table border=\"1\" class=\"dataframe\">\n",
       "  <thead>\n",
       "    <tr style=\"text-align: right;\">\n",
       "      <th></th>\n",
       "      <th>Feature</th>\n",
       "      <th>Missing Values</th>\n",
       "    </tr>\n",
       "  </thead>\n",
       "  <tbody>\n",
       "    <tr>\n",
       "      <th>0</th>\n",
       "      <td>Lot Frontage</td>\n",
       "      <td>330</td>\n",
       "    </tr>\n",
       "    <tr>\n",
       "      <th>1</th>\n",
       "      <td>Alley</td>\n",
       "      <td>1911</td>\n",
       "    </tr>\n",
       "    <tr>\n",
       "      <th>2</th>\n",
       "      <td>Mas Vnr Type</td>\n",
       "      <td>22</td>\n",
       "    </tr>\n",
       "    <tr>\n",
       "      <th>3</th>\n",
       "      <td>Mas Vnr Area</td>\n",
       "      <td>22</td>\n",
       "    </tr>\n",
       "    <tr>\n",
       "      <th>4</th>\n",
       "      <td>Bsmt Qual</td>\n",
       "      <td>55</td>\n",
       "    </tr>\n",
       "    <tr>\n",
       "      <th>5</th>\n",
       "      <td>Bsmt Cond</td>\n",
       "      <td>55</td>\n",
       "    </tr>\n",
       "    <tr>\n",
       "      <th>6</th>\n",
       "      <td>Bsmt Exposure</td>\n",
       "      <td>58</td>\n",
       "    </tr>\n",
       "    <tr>\n",
       "      <th>7</th>\n",
       "      <td>BsmtFin Type 1</td>\n",
       "      <td>55</td>\n",
       "    </tr>\n",
       "    <tr>\n",
       "      <th>8</th>\n",
       "      <td>BsmtFin SF 1</td>\n",
       "      <td>1</td>\n",
       "    </tr>\n",
       "    <tr>\n",
       "      <th>9</th>\n",
       "      <td>BsmtFin Type 2</td>\n",
       "      <td>56</td>\n",
       "    </tr>\n",
       "    <tr>\n",
       "      <th>10</th>\n",
       "      <td>BsmtFin SF 2</td>\n",
       "      <td>1</td>\n",
       "    </tr>\n",
       "    <tr>\n",
       "      <th>11</th>\n",
       "      <td>Bsmt Unf SF</td>\n",
       "      <td>1</td>\n",
       "    </tr>\n",
       "    <tr>\n",
       "      <th>12</th>\n",
       "      <td>Total Bsmt SF</td>\n",
       "      <td>1</td>\n",
       "    </tr>\n",
       "    <tr>\n",
       "      <th>13</th>\n",
       "      <td>Bsmt Full Bath</td>\n",
       "      <td>2</td>\n",
       "    </tr>\n",
       "    <tr>\n",
       "      <th>14</th>\n",
       "      <td>Bsmt Half Bath</td>\n",
       "      <td>2</td>\n",
       "    </tr>\n",
       "    <tr>\n",
       "      <th>15</th>\n",
       "      <td>Fireplace Qu</td>\n",
       "      <td>1000</td>\n",
       "    </tr>\n",
       "    <tr>\n",
       "      <th>16</th>\n",
       "      <td>Garage Type</td>\n",
       "      <td>113</td>\n",
       "    </tr>\n",
       "    <tr>\n",
       "      <th>17</th>\n",
       "      <td>Garage Yr Blt</td>\n",
       "      <td>114</td>\n",
       "    </tr>\n",
       "    <tr>\n",
       "      <th>18</th>\n",
       "      <td>Garage Finish</td>\n",
       "      <td>114</td>\n",
       "    </tr>\n",
       "    <tr>\n",
       "      <th>19</th>\n",
       "      <td>Garage Cars</td>\n",
       "      <td>1</td>\n",
       "    </tr>\n",
       "    <tr>\n",
       "      <th>20</th>\n",
       "      <td>Garage Area</td>\n",
       "      <td>1</td>\n",
       "    </tr>\n",
       "    <tr>\n",
       "      <th>21</th>\n",
       "      <td>Garage Qual</td>\n",
       "      <td>114</td>\n",
       "    </tr>\n",
       "    <tr>\n",
       "      <th>22</th>\n",
       "      <td>Garage Cond</td>\n",
       "      <td>114</td>\n",
       "    </tr>\n",
       "    <tr>\n",
       "      <th>23</th>\n",
       "      <td>Pool QC</td>\n",
       "      <td>2042</td>\n",
       "    </tr>\n",
       "    <tr>\n",
       "      <th>24</th>\n",
       "      <td>Fence</td>\n",
       "      <td>1651</td>\n",
       "    </tr>\n",
       "    <tr>\n",
       "      <th>25</th>\n",
       "      <td>Misc Feature</td>\n",
       "      <td>1986</td>\n",
       "    </tr>\n",
       "  </tbody>\n",
       "</table>\n",
       "</div>"
      ],
      "text/plain": [
       "           Feature  Missing Values\n",
       "0     Lot Frontage             330\n",
       "1            Alley            1911\n",
       "2     Mas Vnr Type              22\n",
       "3     Mas Vnr Area              22\n",
       "4        Bsmt Qual              55\n",
       "5        Bsmt Cond              55\n",
       "6    Bsmt Exposure              58\n",
       "7   BsmtFin Type 1              55\n",
       "8     BsmtFin SF 1               1\n",
       "9   BsmtFin Type 2              56\n",
       "10    BsmtFin SF 2               1\n",
       "11     Bsmt Unf SF               1\n",
       "12   Total Bsmt SF               1\n",
       "13  Bsmt Full Bath               2\n",
       "14  Bsmt Half Bath               2\n",
       "15    Fireplace Qu            1000\n",
       "16     Garage Type             113\n",
       "17   Garage Yr Blt             114\n",
       "18   Garage Finish             114\n",
       "19     Garage Cars               1\n",
       "20     Garage Area               1\n",
       "21     Garage Qual             114\n",
       "22     Garage Cond             114\n",
       "23         Pool QC            2042\n",
       "24           Fence            1651\n",
       "25    Misc Feature            1986"
      ]
     },
     "execution_count": 618,
     "metadata": {},
     "output_type": "execute_result"
    }
   ],
   "source": [
    "null_cols = [(column, props[column].isnull().sum()) for column in props.columns if props[column].isnull().sum() > 0]\n",
    "null_cols_df = pd.DataFrame(null_cols, columns= ['Feature', 'Missing Values'])\n",
    "null_cols_df"
   ]
  },
  {
   "cell_type": "code",
   "execution_count": null,
   "id": "baaadad5-9acf-422f-bc8a-6d96926aaa90",
   "metadata": {
    "tags": []
   },
   "outputs": [],
   "source": []
  },
  {
   "cell_type": "markdown",
   "id": "fcdde2af-9e67-479b-86d7-ddef0411a8f9",
   "metadata": {},
   "source": [
    "### Missing Non-numeric values"
   ]
  },
  {
   "cell_type": "code",
   "execution_count": 619,
   "id": "e5d3cc91-0647-40c9-8505-0bc724d316a4",
   "metadata": {
    "tags": []
   },
   "outputs": [
    {
     "data": {
      "image/png": "[encoded data removed]",
      "text/plain": [
       "<Figure size 2500x1000 with 2 Axes>"
      ]
     },
     "metadata": {},
     "output_type": "display_data"
    }
   ],
   "source": [
    "msno.matrix(initial_nonnumeric_columns, color = (0, 0.5, 0));"
   ]
  },
  {
   "cell_type": "markdown",
   "id": "a078aead-2f13-40e7-b056-64be8fd62dae",
   "metadata": {},
   "source": [
    "### Missing Numeric values"
   ]
  },
  {
   "cell_type": "code",
   "execution_count": 620,
   "id": "0b3f3178-8fd3-4bc6-b825-9149e881fda7",
   "metadata": {
    "tags": []
   },
   "outputs": [
    {
     "data": {
      "image/png": "[encoded data removed]",
      "text/plain": [
       "<Figure size 2500x1000 with 2 Axes>"
      ]
     },
     "metadata": {},
     "output_type": "display_data"
    }
   ],
   "source": [
    "msno.matrix(initial_numeric_columns, color = (0, 0, 0.5));"
   ]
  },
  {
   "cell_type": "markdown",
   "id": "5d7d6783-2563-4934-8c04-c4d8ead414cd",
   "metadata": {
    "tags": []
   },
   "source": [
    "### Drop missing rows for certain columns only\n",
    "\n",
    "**Which columns and why?** \n",
    "- Msn Vnr Type, Mas Vnr Area\n",
    "    - Because \"None\" is already a value on this scale, indicating these are truly missing. Value of including the feature is higher than ~1 of the data. \n",
    "- Bsmt Qual, Bsmnt Cond\n",
    "    - Because \"NA\" is already a value on this scale, indicating these are truly missing.\n",
    "- Garage Cars, Garage Area\n",
    "    - There is only one row missing these values. Could be imputed but given it's a single line, will drop"
   ]
  },
  {
   "cell_type": "code",
   "execution_count": 621,
   "id": "f5e3a723-4087-4ba4-b869-f6a5406e5890",
   "metadata": {
    "tags": []
   },
   "outputs": [
    {
     "data": {
      "text/plain": [
       "TA    1834\n",
       "Gd      89\n",
       "Fa      65\n",
       "Po       5\n",
       "Ex       3\n",
       "Name: Bsmt Cond, dtype: int64"
      ]
     },
     "execution_count": 621,
     "metadata": {},
     "output_type": "execute_result"
    }
   ],
   "source": [
    "props['Bsmt Cond'].value_counts()"
   ]
  },
  {
   "cell_type": "code",
   "execution_count": 622,
   "id": "22602cde-df9e-499a-b85f-a777da76011e",
   "metadata": {
    "tags": []
   },
   "outputs": [],
   "source": [
    "columns_with_Nan_to_drop = ['Mas Vnr Type', 'Mas Vnr Area','Garage Cars', 'Garage Area']\n",
    "\n",
    "props.dropna(axis=0, subset = columns_with_Nan_to_drop, inplace = True)\n",
    "\n",
    "\n"
   ]
  },
  {
   "cell_type": "code",
   "execution_count": 623,
   "id": "fbaa16eb-8a0e-48cf-8979-57a7815a19ba",
   "metadata": {
    "tags": []
   },
   "outputs": [
    {
     "data": {
      "text/html": [
       "<div>\n",
       "<style scoped>\n",
       "    .dataframe tbody tr th:only-of-type {\n",
       "        vertical-align: middle;\n",
       "    }\n",
       "\n",
       "    .dataframe tbody tr th {\n",
       "        vertical-align: top;\n",
       "    }\n",
       "\n",
       "    .dataframe thead th {\n",
       "        text-align: right;\n",
       "    }\n",
       "</style>\n",
       "<table border=\"1\" class=\"dataframe\">\n",
       "  <thead>\n",
       "    <tr style=\"text-align: right;\">\n",
       "      <th></th>\n",
       "      <th>Feature</th>\n",
       "      <th>Missing Values</th>\n",
       "    </tr>\n",
       "  </thead>\n",
       "  <tbody>\n",
       "    <tr>\n",
       "      <th>0</th>\n",
       "      <td>Lot Frontage</td>\n",
       "      <td>324</td>\n",
       "    </tr>\n",
       "    <tr>\n",
       "      <th>1</th>\n",
       "      <td>Alley</td>\n",
       "      <td>1890</td>\n",
       "    </tr>\n",
       "    <tr>\n",
       "      <th>2</th>\n",
       "      <td>Bsmt Qual</td>\n",
       "      <td>55</td>\n",
       "    </tr>\n",
       "    <tr>\n",
       "      <th>3</th>\n",
       "      <td>Bsmt Cond</td>\n",
       "      <td>55</td>\n",
       "    </tr>\n",
       "    <tr>\n",
       "      <th>4</th>\n",
       "      <td>Bsmt Exposure</td>\n",
       "      <td>58</td>\n",
       "    </tr>\n",
       "    <tr>\n",
       "      <th>5</th>\n",
       "      <td>BsmtFin Type 1</td>\n",
       "      <td>55</td>\n",
       "    </tr>\n",
       "    <tr>\n",
       "      <th>6</th>\n",
       "      <td>BsmtFin SF 1</td>\n",
       "      <td>1</td>\n",
       "    </tr>\n",
       "    <tr>\n",
       "      <th>7</th>\n",
       "      <td>BsmtFin Type 2</td>\n",
       "      <td>56</td>\n",
       "    </tr>\n",
       "    <tr>\n",
       "      <th>8</th>\n",
       "      <td>BsmtFin SF 2</td>\n",
       "      <td>1</td>\n",
       "    </tr>\n",
       "    <tr>\n",
       "      <th>9</th>\n",
       "      <td>Bsmt Unf SF</td>\n",
       "      <td>1</td>\n",
       "    </tr>\n",
       "    <tr>\n",
       "      <th>10</th>\n",
       "      <td>Total Bsmt SF</td>\n",
       "      <td>1</td>\n",
       "    </tr>\n",
       "    <tr>\n",
       "      <th>11</th>\n",
       "      <td>Bsmt Full Bath</td>\n",
       "      <td>2</td>\n",
       "    </tr>\n",
       "    <tr>\n",
       "      <th>12</th>\n",
       "      <td>Bsmt Half Bath</td>\n",
       "      <td>2</td>\n",
       "    </tr>\n",
       "    <tr>\n",
       "      <th>13</th>\n",
       "      <td>Fireplace Qu</td>\n",
       "      <td>991</td>\n",
       "    </tr>\n",
       "    <tr>\n",
       "      <th>14</th>\n",
       "      <td>Garage Type</td>\n",
       "      <td>112</td>\n",
       "    </tr>\n",
       "    <tr>\n",
       "      <th>15</th>\n",
       "      <td>Garage Yr Blt</td>\n",
       "      <td>112</td>\n",
       "    </tr>\n",
       "    <tr>\n",
       "      <th>16</th>\n",
       "      <td>Garage Finish</td>\n",
       "      <td>112</td>\n",
       "    </tr>\n",
       "    <tr>\n",
       "      <th>17</th>\n",
       "      <td>Garage Qual</td>\n",
       "      <td>112</td>\n",
       "    </tr>\n",
       "    <tr>\n",
       "      <th>18</th>\n",
       "      <td>Garage Cond</td>\n",
       "      <td>112</td>\n",
       "    </tr>\n",
       "    <tr>\n",
       "      <th>19</th>\n",
       "      <td>Pool QC</td>\n",
       "      <td>2019</td>\n",
       "    </tr>\n",
       "    <tr>\n",
       "      <th>20</th>\n",
       "      <td>Fence</td>\n",
       "      <td>1629</td>\n",
       "    </tr>\n",
       "    <tr>\n",
       "      <th>21</th>\n",
       "      <td>Misc Feature</td>\n",
       "      <td>1963</td>\n",
       "    </tr>\n",
       "  </tbody>\n",
       "</table>\n",
       "</div>"
      ],
      "text/plain": [
       "           Feature  Missing Values\n",
       "0     Lot Frontage             324\n",
       "1            Alley            1890\n",
       "2        Bsmt Qual              55\n",
       "3        Bsmt Cond              55\n",
       "4    Bsmt Exposure              58\n",
       "5   BsmtFin Type 1              55\n",
       "6     BsmtFin SF 1               1\n",
       "7   BsmtFin Type 2              56\n",
       "8     BsmtFin SF 2               1\n",
       "9      Bsmt Unf SF               1\n",
       "10   Total Bsmt SF               1\n",
       "11  Bsmt Full Bath               2\n",
       "12  Bsmt Half Bath               2\n",
       "13    Fireplace Qu             991\n",
       "14     Garage Type             112\n",
       "15   Garage Yr Blt             112\n",
       "16   Garage Finish             112\n",
       "17     Garage Qual             112\n",
       "18     Garage Cond             112\n",
       "19         Pool QC            2019\n",
       "20           Fence            1629\n",
       "21    Misc Feature            1963"
      ]
     },
     "execution_count": 623,
     "metadata": {},
     "output_type": "execute_result"
    }
   ],
   "source": [
    "# Check nulls\n",
    "null_cols = [(column, props[column].isnull().sum()) for column in props.columns if props[column].isnull().sum() > 0]\n",
    "null_cols_df = pd.DataFrame(null_cols, columns= ['Feature', 'Missing Values'])\n",
    "null_cols_df"
   ]
  },
  {
   "cell_type": "code",
   "execution_count": 624,
   "id": "9522fe77-dd88-4653-a728-3fe03ca1ba9c",
   "metadata": {
    "tags": []
   },
   "outputs": [],
   "source": [
    "def replace_NaN_with_NA(columns):\n",
    "    for column in columns:\n",
    "        props[column].replace(np.NaN, 'NA', inplace = True)\n",
    "    return None"
   ]
  },
  {
   "cell_type": "markdown",
   "id": "42d69ecc-77c9-4da0-a9e4-1ddb065002b9",
   "metadata": {},
   "source": [
    "### Investigate and address missing Fireplace Qu values "
   ]
  },
  {
   "cell_type": "code",
   "execution_count": 625,
   "id": "5a6cd64e-f895-4d65-bd7c-2e79e73fbfa8",
   "metadata": {
    "tags": []
   },
   "outputs": [
    {
     "data": {
      "text/plain": [
       "(991, 2)"
      ]
     },
     "execution_count": 625,
     "metadata": {},
     "output_type": "execute_result"
    }
   ],
   "source": [
    "NaN_fireplaces = props.loc[props['Fireplace Qu'].isnull(), ['Fireplaces', 'Fireplace Qu']]\n",
    "NaN_fireplaces.shape"
   ]
  },
  {
   "cell_type": "code",
   "execution_count": 626,
   "id": "2bc0904c-6b0f-4cfb-9ff1-f89376325080",
   "metadata": {
    "tags": []
   },
   "outputs": [
    {
     "data": {
      "text/plain": [
       "(991, 2)"
      ]
     },
     "execution_count": 626,
     "metadata": {},
     "output_type": "execute_result"
    }
   ],
   "source": [
    "NaN_fireplaces[NaN_fireplaces['Fireplaces'] == 0].shape"
   ]
  },
  {
   "cell_type": "markdown",
   "id": "4ea61aff-2843-442c-9130-841760272e77",
   "metadata": {},
   "source": [
    "From the above we can determine that every NaN in Fireplace Qu is aligned with an intentional \"0\" fireplaces, indicating that these should have been \"NA\" (per the \n",
    "data dictionary), not None\n",
    "Decision: **Replace NaN with 'NA'**"
   ]
  },
  {
   "cell_type": "code",
   "execution_count": 627,
   "id": "8c33bf98-95ab-464c-8818-a11b68b32ac1",
   "metadata": {
    "tags": []
   },
   "outputs": [],
   "source": [
    "# props['Fireplace Qu'].replace(np.NaN, 'NA', inplace = True)\n",
    "\n",
    "replace_NaN_with_NA(['Fireplace Qu'])"
   ]
  },
  {
   "cell_type": "code",
   "execution_count": 628,
   "id": "16121322-ffc9-4bc4-a78d-f1de852147a4",
   "metadata": {
    "tags": []
   },
   "outputs": [
    {
     "data": {
      "text/plain": [
       "NA    991\n",
       "Gd    514\n",
       "TA    402\n",
       "Fa     59\n",
       "Po     31\n",
       "Ex     31\n",
       "Name: Fireplace Qu, dtype: int64"
      ]
     },
     "execution_count": 628,
     "metadata": {},
     "output_type": "execute_result"
    }
   ],
   "source": [
    "props['Fireplace Qu'].value_counts()"
   ]
  },
  {
   "cell_type": "code",
   "execution_count": null,
   "id": "f68dc63d-9740-45df-8ac7-171cdcb290e9",
   "metadata": {},
   "outputs": [],
   "source": []
  },
  {
   "cell_type": "markdown",
   "id": "a1b43c73-3018-4414-833f-c0b86a01125d",
   "metadata": {},
   "source": [
    "### Investigate and address missing Lot Frontage values"
   ]
  },
  {
   "cell_type": "code",
   "execution_count": 629,
   "id": "75d82d7c-5d84-492a-8879-d76cbf3cb0cd",
   "metadata": {
    "tags": []
   },
   "outputs": [
    {
     "data": {
      "text/plain": [
       "Norm      285\n",
       "Feedr      14\n",
       "PosN        9\n",
       "RRAe        5\n",
       "RRNn        3\n",
       "Artery      2\n",
       "RRNe        2\n",
       "PosA        2\n",
       "RRAn        2\n",
       "Name: Condition 1, dtype: int64"
      ]
     },
     "execution_count": 629,
     "metadata": {},
     "output_type": "execute_result"
    }
   ],
   "source": [
    "# Cond 1 and 2 seem to be the closest category related to lot frontage (abutting streets/railroads)\n",
    "NaN_LF = props.loc[props['Lot Frontage'].isnull(), ['Condition 1', 'Condition 2']]\n",
    "NaN_LF['Condition 1'].value_counts()"
   ]
  },
  {
   "cell_type": "markdown",
   "id": "c4bfbeb5-b87a-4b40-9027-9803387ce3c0",
   "metadata": {},
   "source": [
    "It is difficult to infer why these are missing and there are too many to lose ( > 10% of the data). \n",
    "\n",
    "**Decision: Will likely be imputed or not included in model**"
   ]
  },
  {
   "cell_type": "code",
   "execution_count": null,
   "id": "42420391-0125-4080-8ced-3bb48c79d994",
   "metadata": {},
   "outputs": [],
   "source": []
  },
  {
   "cell_type": "markdown",
   "id": "691d0fff-3dfa-44c0-8b0a-50b7ec975c89",
   "metadata": {},
   "source": [
    "### Investigate and address missing Alley values"
   ]
  },
  {
   "cell_type": "code",
   "execution_count": 630,
   "id": "6c1a6564-d320-4a8c-8c96-190422711d7e",
   "metadata": {
    "tags": []
   },
   "outputs": [
    {
     "data": {
      "text/plain": [
       "Norm      1628\n",
       "Feedr      103\n",
       "Artery      58\n",
       "RRAn        33\n",
       "PosN        26\n",
       "RRAe        21\n",
       "PosA        12\n",
       "RRNn         6\n",
       "RRNe         3\n",
       "Name: Condition 1, dtype: int64"
      ]
     },
     "execution_count": 630,
     "metadata": {},
     "output_type": "execute_result"
    }
   ],
   "source": [
    "NaN_Alley = props.loc[props['Alley'].isnull(), ['Condition 1', 'Condition 2']]\n",
    "NaN_Alley['Condition 1'].value_counts()"
   ]
  },
  {
   "cell_type": "markdown",
   "id": "cc5dbbd9-f9eb-493c-ad16-5e4e8598a772",
   "metadata": {},
   "source": [
    "It is difficult to infer why these are missing and there are too many to lose ( > 90% of the data). \n",
    "\n",
    "**Decision: Will likely not be included in model**"
   ]
  },
  {
   "cell_type": "code",
   "execution_count": null,
   "id": "3754faa9-d6f7-4f8a-b6ed-986093402852",
   "metadata": {},
   "outputs": [],
   "source": []
  },
  {
   "cell_type": "markdown",
   "id": "aa94b2ae-cf7c-427b-bf7f-cb8e3aa6d367",
   "metadata": {},
   "source": [
    "### Investigate and address missing Garage values"
   ]
  },
  {
   "cell_type": "code",
   "execution_count": 631,
   "id": "a1d21843-dca7-4210-bb86-6e416cabc2f5",
   "metadata": {
    "tags": []
   },
   "outputs": [],
   "source": [
    "# Based on MissingNo matrix above, it seems very likely these missing values are on same rows"
   ]
  },
  {
   "cell_type": "code",
   "execution_count": 632,
   "id": "a116e35c-c872-4784-83a3-59a4bf3c84a5",
   "metadata": {
    "tags": []
   },
   "outputs": [
    {
     "data": {
      "text/plain": [
       "Garage Cars  Garage Area\n",
       "0.0          0.0            112\n",
       "dtype: int64"
      ]
     },
     "execution_count": 632,
     "metadata": {},
     "output_type": "execute_result"
    }
   ],
   "source": [
    "#NaN_garage = \n",
    "props.loc[(props['Garage Qual'].isnull()), ['Garage Cars', 'Garage Area']].value_counts()"
   ]
  },
  {
   "cell_type": "markdown",
   "id": "6f75c332-2f94-435a-b8c1-6a006f2d0616",
   "metadata": {},
   "source": [
    "Seems that these were deliberately marked a 0 car garages, which indicates No Garage or \"NA\" rather than NaN. Also, garage year is dependent on the year the house was built.\n",
    "\n",
    "**Decision: Garage NaNs will be replaced with NA, with the exception of Garage Yr Blt which will in all likelihood be dropped**"
   ]
  },
  {
   "cell_type": "code",
   "execution_count": 633,
   "id": "1f58e6b1-06df-4c6e-a23a-1fbc9d6001b2",
   "metadata": {
    "tags": []
   },
   "outputs": [],
   "source": [
    "replace_NaN_with_NA(['Garage Type', 'Garage Finish', 'Garage Qual', 'Garage Cond'])"
   ]
  },
  {
   "cell_type": "code",
   "execution_count": 634,
   "id": "44793775-c939-4d4c-84d4-0cb4c5d63c74",
   "metadata": {
    "tags": []
   },
   "outputs": [
    {
     "data": {
      "text/html": [
       "<div>\n",
       "<style scoped>\n",
       "    .dataframe tbody tr th:only-of-type {\n",
       "        vertical-align: middle;\n",
       "    }\n",
       "\n",
       "    .dataframe tbody tr th {\n",
       "        vertical-align: top;\n",
       "    }\n",
       "\n",
       "    .dataframe thead th {\n",
       "        text-align: right;\n",
       "    }\n",
       "</style>\n",
       "<table border=\"1\" class=\"dataframe\">\n",
       "  <thead>\n",
       "    <tr style=\"text-align: right;\">\n",
       "      <th></th>\n",
       "      <th>Feature</th>\n",
       "      <th>Missing Values</th>\n",
       "    </tr>\n",
       "  </thead>\n",
       "  <tbody>\n",
       "    <tr>\n",
       "      <th>0</th>\n",
       "      <td>Lot Frontage</td>\n",
       "      <td>324</td>\n",
       "    </tr>\n",
       "    <tr>\n",
       "      <th>1</th>\n",
       "      <td>Alley</td>\n",
       "      <td>1890</td>\n",
       "    </tr>\n",
       "    <tr>\n",
       "      <th>2</th>\n",
       "      <td>Bsmt Qual</td>\n",
       "      <td>55</td>\n",
       "    </tr>\n",
       "    <tr>\n",
       "      <th>3</th>\n",
       "      <td>Bsmt Cond</td>\n",
       "      <td>55</td>\n",
       "    </tr>\n",
       "    <tr>\n",
       "      <th>4</th>\n",
       "      <td>Bsmt Exposure</td>\n",
       "      <td>58</td>\n",
       "    </tr>\n",
       "    <tr>\n",
       "      <th>5</th>\n",
       "      <td>BsmtFin Type 1</td>\n",
       "      <td>55</td>\n",
       "    </tr>\n",
       "    <tr>\n",
       "      <th>6</th>\n",
       "      <td>BsmtFin SF 1</td>\n",
       "      <td>1</td>\n",
       "    </tr>\n",
       "    <tr>\n",
       "      <th>7</th>\n",
       "      <td>BsmtFin Type 2</td>\n",
       "      <td>56</td>\n",
       "    </tr>\n",
       "    <tr>\n",
       "      <th>8</th>\n",
       "      <td>BsmtFin SF 2</td>\n",
       "      <td>1</td>\n",
       "    </tr>\n",
       "    <tr>\n",
       "      <th>9</th>\n",
       "      <td>Bsmt Unf SF</td>\n",
       "      <td>1</td>\n",
       "    </tr>\n",
       "    <tr>\n",
       "      <th>10</th>\n",
       "      <td>Total Bsmt SF</td>\n",
       "      <td>1</td>\n",
       "    </tr>\n",
       "    <tr>\n",
       "      <th>11</th>\n",
       "      <td>Bsmt Full Bath</td>\n",
       "      <td>2</td>\n",
       "    </tr>\n",
       "    <tr>\n",
       "      <th>12</th>\n",
       "      <td>Bsmt Half Bath</td>\n",
       "      <td>2</td>\n",
       "    </tr>\n",
       "    <tr>\n",
       "      <th>13</th>\n",
       "      <td>Garage Yr Blt</td>\n",
       "      <td>112</td>\n",
       "    </tr>\n",
       "    <tr>\n",
       "      <th>14</th>\n",
       "      <td>Pool QC</td>\n",
       "      <td>2019</td>\n",
       "    </tr>\n",
       "    <tr>\n",
       "      <th>15</th>\n",
       "      <td>Fence</td>\n",
       "      <td>1629</td>\n",
       "    </tr>\n",
       "    <tr>\n",
       "      <th>16</th>\n",
       "      <td>Misc Feature</td>\n",
       "      <td>1963</td>\n",
       "    </tr>\n",
       "  </tbody>\n",
       "</table>\n",
       "</div>"
      ],
      "text/plain": [
       "           Feature  Missing Values\n",
       "0     Lot Frontage             324\n",
       "1            Alley            1890\n",
       "2        Bsmt Qual              55\n",
       "3        Bsmt Cond              55\n",
       "4    Bsmt Exposure              58\n",
       "5   BsmtFin Type 1              55\n",
       "6     BsmtFin SF 1               1\n",
       "7   BsmtFin Type 2              56\n",
       "8     BsmtFin SF 2               1\n",
       "9      Bsmt Unf SF               1\n",
       "10   Total Bsmt SF               1\n",
       "11  Bsmt Full Bath               2\n",
       "12  Bsmt Half Bath               2\n",
       "13   Garage Yr Blt             112\n",
       "14         Pool QC            2019\n",
       "15           Fence            1629\n",
       "16    Misc Feature            1963"
      ]
     },
     "execution_count": 634,
     "metadata": {},
     "output_type": "execute_result"
    }
   ],
   "source": [
    "# Check nulls\n",
    "null_cols = [(column, props[column].isnull().sum()) for column in props.columns if props[column].isnull().sum() > 0]\n",
    "null_cols_df = pd.DataFrame(null_cols, columns= ['Feature', 'Missing Values'])\n",
    "null_cols_df"
   ]
  },
  {
   "cell_type": "markdown",
   "id": "aedddb87-f050-4757-ac88-e459bdc697e6",
   "metadata": {
    "tags": []
   },
   "source": [
    "### Investigate and address missing Basement values"
   ]
  },
  {
   "cell_type": "code",
   "execution_count": 635,
   "id": "d3fa9688-6292-4562-8dc9-1471c2f3dd26",
   "metadata": {
    "tags": []
   },
   "outputs": [],
   "source": [
    "# None of the basement values had NA recorded, indicating that the NaN is likely intended to be NA but was left blank\n",
    "\n",
    "replace_NaN_with_NA(['Bsmt Qual', 'Bsmt Cond', 'Bsmt Exposure', 'BsmtFin Type 1', 'BsmtFin Type 2'])"
   ]
  },
  {
   "cell_type": "markdown",
   "id": "1a3ee9e3-803b-42d1-ad79-beca40287f2b",
   "metadata": {},
   "source": [
    "### Investigate and address missing Pool QC values"
   ]
  },
  {
   "cell_type": "code",
   "execution_count": 636,
   "id": "338bea9d-0c8e-419c-857f-18f66942e00c",
   "metadata": {
    "tags": []
   },
   "outputs": [
    {
     "data": {
      "text/html": [
       "<div>\n",
       "<style scoped>\n",
       "    .dataframe tbody tr th:only-of-type {\n",
       "        vertical-align: middle;\n",
       "    }\n",
       "\n",
       "    .dataframe tbody tr th {\n",
       "        vertical-align: top;\n",
       "    }\n",
       "\n",
       "    .dataframe thead th {\n",
       "        text-align: right;\n",
       "    }\n",
       "</style>\n",
       "<table border=\"1\" class=\"dataframe\">\n",
       "  <thead>\n",
       "    <tr style=\"text-align: right;\">\n",
       "      <th></th>\n",
       "      <th>Pool Area</th>\n",
       "    </tr>\n",
       "    <tr>\n",
       "      <th>Id</th>\n",
       "      <th></th>\n",
       "    </tr>\n",
       "  </thead>\n",
       "  <tbody>\n",
       "    <tr>\n",
       "      <th>2351</th>\n",
       "      <td>519</td>\n",
       "    </tr>\n",
       "    <tr>\n",
       "      <th>1567</th>\n",
       "      <td>576</td>\n",
       "    </tr>\n",
       "    <tr>\n",
       "      <th>2499</th>\n",
       "      <td>800</td>\n",
       "    </tr>\n",
       "    <tr>\n",
       "      <th>2231</th>\n",
       "      <td>228</td>\n",
       "    </tr>\n",
       "    <tr>\n",
       "      <th>1499</th>\n",
       "      <td>480</td>\n",
       "    </tr>\n",
       "    <tr>\n",
       "      <th>2358</th>\n",
       "      <td>648</td>\n",
       "    </tr>\n",
       "    <tr>\n",
       "      <th>2736</th>\n",
       "      <td>738</td>\n",
       "    </tr>\n",
       "    <tr>\n",
       "      <th>1941</th>\n",
       "      <td>368</td>\n",
       "    </tr>\n",
       "    <tr>\n",
       "      <th>2279</th>\n",
       "      <td>561</td>\n",
       "    </tr>\n",
       "  </tbody>\n",
       "</table>\n",
       "</div>"
      ],
      "text/plain": [
       "      Pool Area\n",
       "Id             \n",
       "2351        519\n",
       "1567        576\n",
       "2499        800\n",
       "2231        228\n",
       "1499        480\n",
       "2358        648\n",
       "2736        738\n",
       "1941        368\n",
       "2279        561"
      ]
     },
     "execution_count": 636,
     "metadata": {},
     "output_type": "execute_result"
    }
   ],
   "source": [
    "props.loc[(props['Pool QC'].notnull()), ['Pool Area']]"
   ]
  },
  {
   "cell_type": "markdown",
   "id": "41e16994-45ba-49cc-b8e2-81dbe4660d63",
   "metadata": {
    "tags": []
   },
   "source": [
    "This pool data seems too sparse to be of use. There are only 8 properties with pools.\n",
    "\n",
    "**Decision: Pool QC and Pool Area to be dropped**"
   ]
  },
  {
   "cell_type": "code",
   "execution_count": null,
   "id": "bacd5727-6c56-40b3-aa84-17206e98d6ac",
   "metadata": {
    "tags": []
   },
   "outputs": [],
   "source": []
  },
  {
   "cell_type": "markdown",
   "id": "8f42d3a6-e963-4d8b-bd98-892915da47bb",
   "metadata": {
    "tags": []
   },
   "source": [
    "### Investigate and address missing Fence values"
   ]
  },
  {
   "cell_type": "code",
   "execution_count": 637,
   "id": "0ea61262-f6d6-4cd2-80a7-e838b08d5324",
   "metadata": {
    "tags": []
   },
   "outputs": [
    {
     "data": {
      "text/plain": [
       "MnPrv    226\n",
       "GdPrv     83\n",
       "GdWo      80\n",
       "MnWw      10\n",
       "Name: Fence, dtype: int64"
      ]
     },
     "execution_count": 637,
     "metadata": {},
     "output_type": "execute_result"
    }
   ],
   "source": [
    "props['Fence'].value_counts()"
   ]
  },
  {
   "cell_type": "markdown",
   "id": "0d11befd-aec8-472d-ae5a-1b0412658740",
   "metadata": {
    "tags": []
   },
   "source": [
    "There are no naturally occurring \"NA\", which would suggest a missing value was likely meant to be NA\n",
    "\n",
    "\n",
    "**Decision: Replace NaN with NA, Fence may or may not be used in model**"
   ]
  },
  {
   "cell_type": "code",
   "execution_count": 638,
   "id": "06fe5f07-30ef-4c0b-abe1-28d43a82c0c1",
   "metadata": {
    "tags": []
   },
   "outputs": [],
   "source": [
    "replace_NaN_with_NA(['Fence'])"
   ]
  },
  {
   "cell_type": "code",
   "execution_count": null,
   "id": "dcbb3209-6f4e-4f30-82d5-bcf730fbb78d",
   "metadata": {
    "tags": []
   },
   "outputs": [],
   "source": []
  },
  {
   "cell_type": "markdown",
   "id": "83eb6fbb-dfba-4574-91db-e75ff237ed4e",
   "metadata": {
    "tags": []
   },
   "source": [
    "### Investigate and address missing \"MiscFeature\" values"
   ]
  },
  {
   "cell_type": "code",
   "execution_count": 639,
   "id": "5fef61e3-4a89-48c1-b677-1d79d98465be",
   "metadata": {
    "tags": []
   },
   "outputs": [
    {
     "data": {
      "text/plain": [
       "Shed    56\n",
       "Gar2     4\n",
       "Othr     3\n",
       "TenC     1\n",
       "Elev     1\n",
       "Name: Misc Feature, dtype: int64"
      ]
     },
     "execution_count": 639,
     "metadata": {},
     "output_type": "execute_result"
    }
   ],
   "source": [
    "props['Misc Feature'].value_counts()"
   ]
  },
  {
   "cell_type": "markdown",
   "id": "4c6e4506-d073-40e9-a4bd-c37073d0740b",
   "metadata": {
    "tags": []
   },
   "source": [
    "Misc Feature data is too sparse to be of use, with 62 of ~1900 rows of data\n",
    "\n",
    "\n",
    "**Decision: No cleaning needed, will be dropped**"
   ]
  },
  {
   "cell_type": "code",
   "execution_count": null,
   "id": "80b48f12-8c2f-40d7-b463-24be0804b8bc",
   "metadata": {
    "tags": []
   },
   "outputs": [],
   "source": []
  },
  {
   "cell_type": "code",
   "execution_count": 640,
   "id": "4d1b0825-05f1-453d-9549-4fc22bc478e6",
   "metadata": {
    "tags": []
   },
   "outputs": [
    {
     "data": {
      "text/html": [
       "<div>\n",
       "<style scoped>\n",
       "    .dataframe tbody tr th:only-of-type {\n",
       "        vertical-align: middle;\n",
       "    }\n",
       "\n",
       "    .dataframe tbody tr th {\n",
       "        vertical-align: top;\n",
       "    }\n",
       "\n",
       "    .dataframe thead th {\n",
       "        text-align: right;\n",
       "    }\n",
       "</style>\n",
       "<table border=\"1\" class=\"dataframe\">\n",
       "  <thead>\n",
       "    <tr style=\"text-align: right;\">\n",
       "      <th></th>\n",
       "      <th>Feature</th>\n",
       "      <th>Missing Values</th>\n",
       "    </tr>\n",
       "  </thead>\n",
       "  <tbody>\n",
       "    <tr>\n",
       "      <th>0</th>\n",
       "      <td>Lot Frontage</td>\n",
       "      <td>324</td>\n",
       "    </tr>\n",
       "    <tr>\n",
       "      <th>1</th>\n",
       "      <td>Alley</td>\n",
       "      <td>1890</td>\n",
       "    </tr>\n",
       "    <tr>\n",
       "      <th>2</th>\n",
       "      <td>BsmtFin SF 1</td>\n",
       "      <td>1</td>\n",
       "    </tr>\n",
       "    <tr>\n",
       "      <th>3</th>\n",
       "      <td>BsmtFin SF 2</td>\n",
       "      <td>1</td>\n",
       "    </tr>\n",
       "    <tr>\n",
       "      <th>4</th>\n",
       "      <td>Bsmt Unf SF</td>\n",
       "      <td>1</td>\n",
       "    </tr>\n",
       "    <tr>\n",
       "      <th>5</th>\n",
       "      <td>Total Bsmt SF</td>\n",
       "      <td>1</td>\n",
       "    </tr>\n",
       "    <tr>\n",
       "      <th>6</th>\n",
       "      <td>Bsmt Full Bath</td>\n",
       "      <td>2</td>\n",
       "    </tr>\n",
       "    <tr>\n",
       "      <th>7</th>\n",
       "      <td>Bsmt Half Bath</td>\n",
       "      <td>2</td>\n",
       "    </tr>\n",
       "    <tr>\n",
       "      <th>8</th>\n",
       "      <td>Garage Yr Blt</td>\n",
       "      <td>112</td>\n",
       "    </tr>\n",
       "    <tr>\n",
       "      <th>9</th>\n",
       "      <td>Pool QC</td>\n",
       "      <td>2019</td>\n",
       "    </tr>\n",
       "    <tr>\n",
       "      <th>10</th>\n",
       "      <td>Misc Feature</td>\n",
       "      <td>1963</td>\n",
       "    </tr>\n",
       "  </tbody>\n",
       "</table>\n",
       "</div>"
      ],
      "text/plain": [
       "           Feature  Missing Values\n",
       "0     Lot Frontage             324\n",
       "1            Alley            1890\n",
       "2     BsmtFin SF 1               1\n",
       "3     BsmtFin SF 2               1\n",
       "4      Bsmt Unf SF               1\n",
       "5    Total Bsmt SF               1\n",
       "6   Bsmt Full Bath               2\n",
       "7   Bsmt Half Bath               2\n",
       "8    Garage Yr Blt             112\n",
       "9          Pool QC            2019\n",
       "10    Misc Feature            1963"
      ]
     },
     "execution_count": 640,
     "metadata": {},
     "output_type": "execute_result"
    }
   ],
   "source": [
    "# Check nulls\n",
    "null_cols = [(column, props[column].isnull().sum()) for column in props.columns if props[column].isnull().sum() > 0]\n",
    "null_cols_df = pd.DataFrame(null_cols, columns= ['Feature', 'Missing Values'])\n",
    "null_cols_df"
   ]
  },
  {
   "cell_type": "code",
   "execution_count": null,
   "id": "34f355df-c9ef-42b3-9cbb-a7748d2e86a4",
   "metadata": {},
   "outputs": [],
   "source": []
  },
  {
   "cell_type": "markdown",
   "id": "c5bc4124-e454-401f-8bbc-f2ab8eacb188",
   "metadata": {},
   "source": [
    "## A fresh look at the dataframe, with NaNs cleaned and irrelevant columns with NaNs dropped"
   ]
  },
  {
   "cell_type": "code",
   "execution_count": 641,
   "id": "f60e89c1-cfc7-48dd-8f01-dea6a1b833a3",
   "metadata": {
    "tags": []
   },
   "outputs": [],
   "source": [
    "props.drop(['PID','Alley', 'Garage Yr Blt', 'Pool QC', 'Misc Feature'], axis = 1,  inplace = True)"
   ]
  },
  {
   "cell_type": "code",
   "execution_count": 642,
   "id": "c30571d1-d2bb-42b1-9c66-3909227f63af",
   "metadata": {
    "tags": []
   },
   "outputs": [
    {
     "data": {
      "text/plain": [
       "(2028, 75)"
      ]
     },
     "execution_count": 642,
     "metadata": {},
     "output_type": "execute_result"
    }
   ],
   "source": [
    "props.shape"
   ]
  },
  {
   "cell_type": "markdown",
   "id": "ad7392eb-b035-4331-a1fc-54d1dfe5c367",
   "metadata": {},
   "source": [
    "### Investigate categorical variables to see if anything can be transformed into a numeric value"
   ]
  },
  {
   "cell_type": "code",
   "execution_count": 643,
   "id": "f12d189e-b91f-4157-9bc8-559562dd2548",
   "metadata": {
    "tags": []
   },
   "outputs": [],
   "source": [
    "post_clean_numeric_columns = props.select_dtypes(include = [np.number])\n",
    "post_clean_nonnumeric_columns = props.select_dtypes(exclude = [np.number])"
   ]
  },
  {
   "cell_type": "code",
   "execution_count": 644,
   "id": "a532cd03-ec6f-4e1e-9ce8-6e6b938c2530",
   "metadata": {
    "tags": []
   },
   "outputs": [
    {
     "data": {
      "text/html": [
       "<div>\n",
       "<style scoped>\n",
       "    .dataframe tbody tr th:only-of-type {\n",
       "        vertical-align: middle;\n",
       "    }\n",
       "\n",
       "    .dataframe tbody tr th {\n",
       "        vertical-align: top;\n",
       "    }\n",
       "\n",
       "    .dataframe thead th {\n",
       "        text-align: right;\n",
       "    }\n",
       "</style>\n",
       "<table border=\"1\" class=\"dataframe\">\n",
       "  <thead>\n",
       "    <tr style=\"text-align: right;\">\n",
       "      <th></th>\n",
       "      <th>Feature</th>\n",
       "      <th>Missing Values</th>\n",
       "    </tr>\n",
       "  </thead>\n",
       "  <tbody>\n",
       "    <tr>\n",
       "      <th>0</th>\n",
       "      <td>Lot Frontage</td>\n",
       "      <td>324</td>\n",
       "    </tr>\n",
       "    <tr>\n",
       "      <th>1</th>\n",
       "      <td>BsmtFin SF 1</td>\n",
       "      <td>1</td>\n",
       "    </tr>\n",
       "    <tr>\n",
       "      <th>2</th>\n",
       "      <td>BsmtFin SF 2</td>\n",
       "      <td>1</td>\n",
       "    </tr>\n",
       "    <tr>\n",
       "      <th>3</th>\n",
       "      <td>Bsmt Unf SF</td>\n",
       "      <td>1</td>\n",
       "    </tr>\n",
       "    <tr>\n",
       "      <th>4</th>\n",
       "      <td>Total Bsmt SF</td>\n",
       "      <td>1</td>\n",
       "    </tr>\n",
       "    <tr>\n",
       "      <th>5</th>\n",
       "      <td>Bsmt Full Bath</td>\n",
       "      <td>2</td>\n",
       "    </tr>\n",
       "    <tr>\n",
       "      <th>6</th>\n",
       "      <td>Bsmt Half Bath</td>\n",
       "      <td>2</td>\n",
       "    </tr>\n",
       "  </tbody>\n",
       "</table>\n",
       "</div>"
      ],
      "text/plain": [
       "          Feature  Missing Values\n",
       "0    Lot Frontage             324\n",
       "1    BsmtFin SF 1               1\n",
       "2    BsmtFin SF 2               1\n",
       "3     Bsmt Unf SF               1\n",
       "4   Total Bsmt SF               1\n",
       "5  Bsmt Full Bath               2\n",
       "6  Bsmt Half Bath               2"
      ]
     },
     "execution_count": 644,
     "metadata": {},
     "output_type": "execute_result"
    }
   ],
   "source": [
    "# Check nulls\n",
    "null_cols = [(column, props[column].isnull().sum()) for column in props.columns if props[column].isnull().sum() > 0]\n",
    "null_cols_df = pd.DataFrame(null_cols, columns= ['Feature', 'Missing Values'])\n",
    "null_cols_df"
   ]
  },
  {
   "cell_type": "code",
   "execution_count": 645,
   "id": "12f22cf1-7b20-4620-a63a-18a42981b9ea",
   "metadata": {
    "tags": []
   },
   "outputs": [],
   "source": [
    "unique_values_per_nonnumeric_column = [(column, len(post_clean_nonnumeric_columns[column].unique())) for column in post_clean_nonnumeric_columns.columns]"
   ]
  },
  {
   "cell_type": "code",
   "execution_count": 646,
   "id": "7f1e1a42-1f28-467c-bb69-ae9819f5db65",
   "metadata": {
    "tags": []
   },
   "outputs": [
    {
     "data": {
      "text/plain": [
       "[('MS Zoning', 7),\n",
       " ('Street', 2),\n",
       " ('Lot Shape', 4),\n",
       " ('Land Contour', 4),\n",
       " ('Utilities', 3),\n",
       " ('Lot Config', 5),\n",
       " ('Land Slope', 3),\n",
       " ('Neighborhood', 28),\n",
       " ('Condition 1', 9),\n",
       " ('Condition 2', 8),\n",
       " ('Bldg Type', 5),\n",
       " ('House Style', 8),\n",
       " ('Roof Style', 6),\n",
       " ('Roof Matl', 6),\n",
       " ('Exterior 1st', 15),\n",
       " ('Exterior 2nd', 15),\n",
       " ('Mas Vnr Type', 4),\n",
       " ('Exter Qual', 4),\n",
       " ('Exter Cond', 5),\n",
       " ('Foundation', 6),\n",
       " ('Bsmt Qual', 6),\n",
       " ('Bsmt Cond', 6),\n",
       " ('Bsmt Exposure', 5),\n",
       " ('BsmtFin Type 1', 7),\n",
       " ('BsmtFin Type 2', 7),\n",
       " ('Heating', 5),\n",
       " ('Heating QC', 5),\n",
       " ('Central Air', 2),\n",
       " ('Electrical', 5),\n",
       " ('Kitchen Qual', 4),\n",
       " ('Functional', 8),\n",
       " ('Fireplace Qu', 6),\n",
       " ('Garage Type', 7),\n",
       " ('Garage Finish', 4),\n",
       " ('Garage Qual', 6),\n",
       " ('Garage Cond', 6),\n",
       " ('Paved Drive', 3),\n",
       " ('Fence', 5),\n",
       " ('Sale Type', 9)]"
      ]
     },
     "execution_count": 646,
     "metadata": {},
     "output_type": "execute_result"
    }
   ],
   "source": [
    "unique_values_per_nonnumeric_column"
   ]
  },
  {
   "cell_type": "code",
   "execution_count": 647,
   "id": "c9115846-73dc-4614-98c9-aef7d6340624",
   "metadata": {
    "tags": []
   },
   "outputs": [
    {
     "data": {
      "text/plain": [
       "[('Street', 2), ('Central Air', 2)]"
      ]
     },
     "execution_count": 647,
     "metadata": {},
     "output_type": "execute_result"
    }
   ],
   "source": [
    "possible_bools = [ (column, counts) for column, counts in unique_values_per_nonnumeric_column if (counts == 2)]\n",
    "possible_bools"
   ]
  },
  {
   "cell_type": "markdown",
   "id": "aea7e046-e484-4295-8f99-ddd13fda2355",
   "metadata": {
    "tags": []
   },
   "source": [
    "## Transform Street into a bool called Paved Street"
   ]
  },
  {
   "cell_type": "code",
   "execution_count": 648,
   "id": "312d7bc3-9427-46e0-b469-d5ed9b6bab51",
   "metadata": {
    "tags": []
   },
   "outputs": [
    {
     "data": {
      "text/plain": [
       "Pave    2021\n",
       "Grvl       7\n",
       "Name: Street, dtype: int64"
      ]
     },
     "execution_count": 648,
     "metadata": {},
     "output_type": "execute_result"
    }
   ],
   "source": [
    "props['Street'].value_counts()"
   ]
  },
  {
   "cell_type": "code",
   "execution_count": 649,
   "id": "b5eaf047-4e40-47ce-b245-79bb13c542c2",
   "metadata": {
    "tags": []
   },
   "outputs": [],
   "source": [
    "# Replace every 'Pave' with a 1 so the column header is accurate\n",
    "props['Street'] = props['Street'].str.contains('Pave').astype(int)"
   ]
  },
  {
   "cell_type": "code",
   "execution_count": 650,
   "id": "047216a6-d906-4e41-8cfa-98f9ea3806a5",
   "metadata": {
    "tags": []
   },
   "outputs": [],
   "source": [
    "props.rename({'Street' : 'Paved Street'}, axis = 1, inplace = True)"
   ]
  },
  {
   "cell_type": "code",
   "execution_count": null,
   "id": "2e98e285-99f7-4946-ba0b-8346f5573d11",
   "metadata": {
    "tags": []
   },
   "outputs": [],
   "source": []
  },
  {
   "cell_type": "code",
   "execution_count": 651,
   "id": "12210cda-0b68-47cf-97cc-2a28f8ae2508",
   "metadata": {
    "tags": []
   },
   "outputs": [
    {
     "data": {
      "text/plain": [
       "1    2021\n",
       "0       7\n",
       "Name: Paved Street, dtype: int64"
      ]
     },
     "execution_count": 651,
     "metadata": {},
     "output_type": "execute_result"
    }
   ],
   "source": [
    "props['Paved Street'].value_counts()"
   ]
  },
  {
   "cell_type": "code",
   "execution_count": null,
   "id": "1dafc79a-f19b-422b-ace1-2d37396abc33",
   "metadata": {},
   "outputs": [],
   "source": []
  },
  {
   "cell_type": "markdown",
   "id": "97a6897e-32d0-4e74-a270-c36f25ebd133",
   "metadata": {
    "tags": []
   },
   "source": [
    "## Transform Utilities into a bool called Has All Utilities"
   ]
  },
  {
   "cell_type": "markdown",
   "id": "b982a4e7-dc2c-4774-afa7-c045783c17f9",
   "metadata": {},
   "source": [
    "Went this route because there is only one single row without all utilities"
   ]
  },
  {
   "cell_type": "code",
   "execution_count": 652,
   "id": "9d0fa98a-a4c0-4f8d-a520-72e10a031d75",
   "metadata": {
    "tags": []
   },
   "outputs": [
    {
     "data": {
      "text/plain": [
       "AllPub    2026\n",
       "NoSeWa       1\n",
       "NoSewr       1\n",
       "Name: Utilities, dtype: int64"
      ]
     },
     "execution_count": 652,
     "metadata": {},
     "output_type": "execute_result"
    }
   ],
   "source": [
    "props['Utilities'].value_counts()"
   ]
  },
  {
   "cell_type": "code",
   "execution_count": 653,
   "id": "32813a1c-b441-47f3-b49d-71e572ba2e96",
   "metadata": {
    "tags": []
   },
   "outputs": [],
   "source": [
    "props['Utilities'] = props['Utilities'].str.contains('AllPub').astype(int)"
   ]
  },
  {
   "cell_type": "code",
   "execution_count": 654,
   "id": "305ba09f-8845-40f7-8782-61066c2c265a",
   "metadata": {
    "tags": []
   },
   "outputs": [],
   "source": [
    "props.rename({'Utilities' : 'Has All Utilities'}, axis = 1, inplace = True)"
   ]
  },
  {
   "cell_type": "code",
   "execution_count": null,
   "id": "b0cf9dd8-e59a-4aa8-9c65-f9529e948593",
   "metadata": {},
   "outputs": [],
   "source": []
  },
  {
   "cell_type": "markdown",
   "id": "30627bbd-a930-4838-8bff-c05ca73a5891",
   "metadata": {},
   "source": [
    "## Transform Central Air into a bool\n"
   ]
  },
  {
   "cell_type": "code",
   "execution_count": 655,
   "id": "85d097ce-2128-4815-a45c-e762cdbe1eb0",
   "metadata": {
    "tags": []
   },
   "outputs": [
    {
     "data": {
      "text/plain": [
       "Y    1887\n",
       "N     141\n",
       "Name: Central Air, dtype: int64"
      ]
     },
     "execution_count": 655,
     "metadata": {},
     "output_type": "execute_result"
    }
   ],
   "source": [
    "props['Central Air'].value_counts()"
   ]
  },
  {
   "cell_type": "code",
   "execution_count": 656,
   "id": "b6ffefb5-a610-403c-8a2e-3fc78d88f4ee",
   "metadata": {
    "tags": []
   },
   "outputs": [],
   "source": [
    "props['Central Air'] = props['Central Air'].str.contains('').astype(int)"
   ]
  },
  {
   "cell_type": "code",
   "execution_count": null,
   "id": "7f42cc08-7cdf-4974-9e54-2652c0332d23",
   "metadata": {},
   "outputs": [],
   "source": []
  },
  {
   "cell_type": "code",
   "execution_count": 657,
   "id": "5a0cde21-ef6c-48d7-8e41-7b186f41c07c",
   "metadata": {
    "tags": []
   },
   "outputs": [
    {
     "data": {
      "text/html": [
       "<div>\n",
       "<style scoped>\n",
       "    .dataframe tbody tr th:only-of-type {\n",
       "        vertical-align: middle;\n",
       "    }\n",
       "\n",
       "    .dataframe tbody tr th {\n",
       "        vertical-align: top;\n",
       "    }\n",
       "\n",
       "    .dataframe thead th {\n",
       "        text-align: right;\n",
       "    }\n",
       "</style>\n",
       "<table border=\"1\" class=\"dataframe\">\n",
       "  <thead>\n",
       "    <tr style=\"text-align: right;\">\n",
       "      <th></th>\n",
       "      <th>MS SubClass</th>\n",
       "      <th>MS Zoning</th>\n",
       "      <th>Lot Frontage</th>\n",
       "      <th>Lot Area</th>\n",
       "      <th>Paved Street</th>\n",
       "      <th>Lot Shape</th>\n",
       "      <th>Land Contour</th>\n",
       "      <th>Has All Utilities</th>\n",
       "      <th>Lot Config</th>\n",
       "      <th>Land Slope</th>\n",
       "      <th>...</th>\n",
       "      <th>Enclosed Porch</th>\n",
       "      <th>3Ssn Porch</th>\n",
       "      <th>Screen Porch</th>\n",
       "      <th>Pool Area</th>\n",
       "      <th>Fence</th>\n",
       "      <th>Misc Val</th>\n",
       "      <th>Mo Sold</th>\n",
       "      <th>Yr Sold</th>\n",
       "      <th>Sale Type</th>\n",
       "      <th>SalePrice</th>\n",
       "    </tr>\n",
       "    <tr>\n",
       "      <th>Id</th>\n",
       "      <th></th>\n",
       "      <th></th>\n",
       "      <th></th>\n",
       "      <th></th>\n",
       "      <th></th>\n",
       "      <th></th>\n",
       "      <th></th>\n",
       "      <th></th>\n",
       "      <th></th>\n",
       "      <th></th>\n",
       "      <th></th>\n",
       "      <th></th>\n",
       "      <th></th>\n",
       "      <th></th>\n",
       "      <th></th>\n",
       "      <th></th>\n",
       "      <th></th>\n",
       "      <th></th>\n",
       "      <th></th>\n",
       "      <th></th>\n",
       "      <th></th>\n",
       "    </tr>\n",
       "  </thead>\n",
       "  <tbody>\n",
       "    <tr>\n",
       "      <th>109</th>\n",
       "      <td>60</td>\n",
       "      <td>RL</td>\n",
       "      <td>NaN</td>\n",
       "      <td>13517</td>\n",
       "      <td>1</td>\n",
       "      <td>IR1</td>\n",
       "      <td>Lvl</td>\n",
       "      <td>1</td>\n",
       "      <td>CulDSac</td>\n",
       "      <td>Gtl</td>\n",
       "      <td>...</td>\n",
       "      <td>0</td>\n",
       "      <td>0</td>\n",
       "      <td>0</td>\n",
       "      <td>0</td>\n",
       "      <td>NA</td>\n",
       "      <td>0</td>\n",
       "      <td>3</td>\n",
       "      <td>2010</td>\n",
       "      <td>WD</td>\n",
       "      <td>130500</td>\n",
       "    </tr>\n",
       "    <tr>\n",
       "      <th>544</th>\n",
       "      <td>60</td>\n",
       "      <td>RL</td>\n",
       "      <td>43.0</td>\n",
       "      <td>11492</td>\n",
       "      <td>1</td>\n",
       "      <td>IR1</td>\n",
       "      <td>Lvl</td>\n",
       "      <td>1</td>\n",
       "      <td>CulDSac</td>\n",
       "      <td>Gtl</td>\n",
       "      <td>...</td>\n",
       "      <td>0</td>\n",
       "      <td>0</td>\n",
       "      <td>0</td>\n",
       "      <td>0</td>\n",
       "      <td>NA</td>\n",
       "      <td>0</td>\n",
       "      <td>4</td>\n",
       "      <td>2009</td>\n",
       "      <td>WD</td>\n",
       "      <td>220000</td>\n",
       "    </tr>\n",
       "    <tr>\n",
       "      <th>153</th>\n",
       "      <td>20</td>\n",
       "      <td>RL</td>\n",
       "      <td>68.0</td>\n",
       "      <td>7922</td>\n",
       "      <td>1</td>\n",
       "      <td>Reg</td>\n",
       "      <td>Lvl</td>\n",
       "      <td>1</td>\n",
       "      <td>Inside</td>\n",
       "      <td>Gtl</td>\n",
       "      <td>...</td>\n",
       "      <td>0</td>\n",
       "      <td>0</td>\n",
       "      <td>0</td>\n",
       "      <td>0</td>\n",
       "      <td>NA</td>\n",
       "      <td>0</td>\n",
       "      <td>1</td>\n",
       "      <td>2010</td>\n",
       "      <td>WD</td>\n",
       "      <td>109000</td>\n",
       "    </tr>\n",
       "    <tr>\n",
       "      <th>318</th>\n",
       "      <td>60</td>\n",
       "      <td>RL</td>\n",
       "      <td>73.0</td>\n",
       "      <td>9802</td>\n",
       "      <td>1</td>\n",
       "      <td>Reg</td>\n",
       "      <td>Lvl</td>\n",
       "      <td>1</td>\n",
       "      <td>Inside</td>\n",
       "      <td>Gtl</td>\n",
       "      <td>...</td>\n",
       "      <td>0</td>\n",
       "      <td>0</td>\n",
       "      <td>0</td>\n",
       "      <td>0</td>\n",
       "      <td>NA</td>\n",
       "      <td>0</td>\n",
       "      <td>4</td>\n",
       "      <td>2010</td>\n",
       "      <td>WD</td>\n",
       "      <td>174000</td>\n",
       "    </tr>\n",
       "    <tr>\n",
       "      <th>255</th>\n",
       "      <td>50</td>\n",
       "      <td>RL</td>\n",
       "      <td>82.0</td>\n",
       "      <td>14235</td>\n",
       "      <td>1</td>\n",
       "      <td>IR1</td>\n",
       "      <td>Lvl</td>\n",
       "      <td>1</td>\n",
       "      <td>Inside</td>\n",
       "      <td>Gtl</td>\n",
       "      <td>...</td>\n",
       "      <td>0</td>\n",
       "      <td>0</td>\n",
       "      <td>0</td>\n",
       "      <td>0</td>\n",
       "      <td>NA</td>\n",
       "      <td>0</td>\n",
       "      <td>3</td>\n",
       "      <td>2010</td>\n",
       "      <td>WD</td>\n",
       "      <td>138500</td>\n",
       "    </tr>\n",
       "  </tbody>\n",
       "</table>\n",
       "<p>5 rows × 75 columns</p>\n",
       "</div>"
      ],
      "text/plain": [
       "     MS SubClass MS Zoning  Lot Frontage  Lot Area  Paved Street Lot Shape  \\\n",
       "Id                                                                           \n",
       "109           60        RL           NaN     13517             1       IR1   \n",
       "544           60        RL          43.0     11492             1       IR1   \n",
       "153           20        RL          68.0      7922             1       Reg   \n",
       "318           60        RL          73.0      9802             1       Reg   \n",
       "255           50        RL          82.0     14235             1       IR1   \n",
       "\n",
       "    Land Contour  Has All Utilities Lot Config Land Slope  ... Enclosed Porch  \\\n",
       "Id                                                         ...                  \n",
       "109          Lvl                  1    CulDSac        Gtl  ...              0   \n",
       "544          Lvl                  1    CulDSac        Gtl  ...              0   \n",
       "153          Lvl                  1     Inside        Gtl  ...              0   \n",
       "318          Lvl                  1     Inside        Gtl  ...              0   \n",
       "255          Lvl                  1     Inside        Gtl  ...              0   \n",
       "\n",
       "    3Ssn Porch Screen Porch Pool Area Fence  Misc Val  Mo Sold  Yr Sold  \\\n",
       "Id                                                                        \n",
       "109          0            0         0    NA         0        3     2010   \n",
       "544          0            0         0    NA         0        4     2009   \n",
       "153          0            0         0    NA         0        1     2010   \n",
       "318          0            0         0    NA         0        4     2010   \n",
       "255          0            0         0    NA         0        3     2010   \n",
       "\n",
       "     Sale Type SalePrice  \n",
       "Id                        \n",
       "109        WD     130500  \n",
       "544        WD     220000  \n",
       "153        WD     109000  \n",
       "318        WD     174000  \n",
       "255        WD     138500  \n",
       "\n",
       "[5 rows x 75 columns]"
      ]
     },
     "execution_count": 657,
     "metadata": {},
     "output_type": "execute_result"
    }
   ],
   "source": [
    "props.head()"
   ]
  },
  {
   "cell_type": "markdown",
   "id": "617a8511-e617-4ae9-9f19-5157559f4608",
   "metadata": {},
   "source": [
    "Look for missing categorical data"
   ]
  },
  {
   "cell_type": "code",
   "execution_count": null,
   "id": "917c8425-841c-43d9-9509-f4da142e2e41",
   "metadata": {
    "tags": []
   },
   "outputs": [],
   "source": []
  },
  {
   "cell_type": "markdown",
   "id": "9606ab44-71dd-4698-aeb4-8eda44f04317",
   "metadata": {},
   "source": [
    "### Explore numeric data "
   ]
  },
  {
   "cell_type": "code",
   "execution_count": 658,
   "id": "442cf814-c2f7-470d-b71d-977f81aff539",
   "metadata": {
    "tags": []
   },
   "outputs": [
    {
     "data": {
      "text/html": [
       "<div>\n",
       "<style scoped>\n",
       "    .dataframe tbody tr th:only-of-type {\n",
       "        vertical-align: middle;\n",
       "    }\n",
       "\n",
       "    .dataframe tbody tr th {\n",
       "        vertical-align: top;\n",
       "    }\n",
       "\n",
       "    .dataframe thead th {\n",
       "        text-align: right;\n",
       "    }\n",
       "</style>\n",
       "<table border=\"1\" class=\"dataframe\">\n",
       "  <thead>\n",
       "    <tr style=\"text-align: right;\">\n",
       "      <th></th>\n",
       "      <th>MS SubClass</th>\n",
       "      <th>Lot Frontage</th>\n",
       "      <th>Lot Area</th>\n",
       "      <th>Overall Qual</th>\n",
       "      <th>Overall Cond</th>\n",
       "      <th>Year Built</th>\n",
       "      <th>Year Remod/Add</th>\n",
       "      <th>Mas Vnr Area</th>\n",
       "      <th>BsmtFin SF 1</th>\n",
       "      <th>BsmtFin SF 2</th>\n",
       "      <th>Bsmt Unf SF</th>\n",
       "      <th>Total Bsmt SF</th>\n",
       "      <th>1st Flr SF</th>\n",
       "      <th>2nd Flr SF</th>\n",
       "      <th>Low Qual Fin SF</th>\n",
       "    </tr>\n",
       "  </thead>\n",
       "  <tbody>\n",
       "    <tr>\n",
       "      <th>count</th>\n",
       "      <td>2028.000000</td>\n",
       "      <td>1704.000000</td>\n",
       "      <td>2028.000000</td>\n",
       "      <td>2028.000000</td>\n",
       "      <td>2028.000000</td>\n",
       "      <td>2028.000000</td>\n",
       "      <td>2028.000000</td>\n",
       "      <td>2028.000000</td>\n",
       "      <td>2027.000000</td>\n",
       "      <td>2027.000000</td>\n",
       "      <td>2027.000000</td>\n",
       "      <td>2027.000000</td>\n",
       "      <td>2028.000000</td>\n",
       "      <td>2028.000000</td>\n",
       "      <td>2028.000000</td>\n",
       "    </tr>\n",
       "    <tr>\n",
       "      <th>mean</th>\n",
       "      <td>57.098126</td>\n",
       "      <td>69.009390</td>\n",
       "      <td>10054.636095</td>\n",
       "      <td>6.099606</td>\n",
       "      <td>5.568540</td>\n",
       "      <td>1971.396943</td>\n",
       "      <td>1983.969921</td>\n",
       "      <td>99.745069</td>\n",
       "      <td>441.792304</td>\n",
       "      <td>48.356685</td>\n",
       "      <td>566.244697</td>\n",
       "      <td>1056.393685</td>\n",
       "      <td>1163.613412</td>\n",
       "      <td>328.250493</td>\n",
       "      <td>5.575444</td>\n",
       "    </tr>\n",
       "    <tr>\n",
       "      <th>std</th>\n",
       "      <td>42.937854</td>\n",
       "      <td>23.253408</td>\n",
       "      <td>6755.076471</td>\n",
       "      <td>1.425312</td>\n",
       "      <td>1.107777</td>\n",
       "      <td>30.136897</td>\n",
       "      <td>21.040862</td>\n",
       "      <td>174.992265</td>\n",
       "      <td>460.782979</td>\n",
       "      <td>165.766774</td>\n",
       "      <td>444.430865</td>\n",
       "      <td>449.508848</td>\n",
       "      <td>395.820141</td>\n",
       "      <td>425.199615</td>\n",
       "      <td>51.354392</td>\n",
       "    </tr>\n",
       "    <tr>\n",
       "      <th>min</th>\n",
       "      <td>20.000000</td>\n",
       "      <td>21.000000</td>\n",
       "      <td>1300.000000</td>\n",
       "      <td>1.000000</td>\n",
       "      <td>1.000000</td>\n",
       "      <td>1872.000000</td>\n",
       "      <td>1950.000000</td>\n",
       "      <td>0.000000</td>\n",
       "      <td>0.000000</td>\n",
       "      <td>0.000000</td>\n",
       "      <td>0.000000</td>\n",
       "      <td>0.000000</td>\n",
       "      <td>334.000000</td>\n",
       "      <td>0.000000</td>\n",
       "      <td>0.000000</td>\n",
       "    </tr>\n",
       "    <tr>\n",
       "      <th>25%</th>\n",
       "      <td>20.000000</td>\n",
       "      <td>58.000000</td>\n",
       "      <td>7500.000000</td>\n",
       "      <td>5.000000</td>\n",
       "      <td>5.000000</td>\n",
       "      <td>1953.000000</td>\n",
       "      <td>1964.000000</td>\n",
       "      <td>0.000000</td>\n",
       "      <td>0.000000</td>\n",
       "      <td>0.000000</td>\n",
       "      <td>220.000000</td>\n",
       "      <td>792.500000</td>\n",
       "      <td>879.750000</td>\n",
       "      <td>0.000000</td>\n",
       "      <td>0.000000</td>\n",
       "    </tr>\n",
       "    <tr>\n",
       "      <th>50%</th>\n",
       "      <td>50.000000</td>\n",
       "      <td>68.000000</td>\n",
       "      <td>9402.500000</td>\n",
       "      <td>6.000000</td>\n",
       "      <td>5.000000</td>\n",
       "      <td>1973.500000</td>\n",
       "      <td>1993.000000</td>\n",
       "      <td>0.000000</td>\n",
       "      <td>368.000000</td>\n",
       "      <td>0.000000</td>\n",
       "      <td>474.000000</td>\n",
       "      <td>994.000000</td>\n",
       "      <td>1092.000000</td>\n",
       "      <td>0.000000</td>\n",
       "      <td>0.000000</td>\n",
       "    </tr>\n",
       "    <tr>\n",
       "      <th>75%</th>\n",
       "      <td>70.000000</td>\n",
       "      <td>80.000000</td>\n",
       "      <td>11500.000000</td>\n",
       "      <td>7.000000</td>\n",
       "      <td>6.000000</td>\n",
       "      <td>2000.000000</td>\n",
       "      <td>2004.000000</td>\n",
       "      <td>161.250000</td>\n",
       "      <td>733.000000</td>\n",
       "      <td>0.000000</td>\n",
       "      <td>810.000000</td>\n",
       "      <td>1315.000000</td>\n",
       "      <td>1402.250000</td>\n",
       "      <td>689.000000</td>\n",
       "      <td>0.000000</td>\n",
       "    </tr>\n",
       "    <tr>\n",
       "      <th>max</th>\n",
       "      <td>190.000000</td>\n",
       "      <td>313.000000</td>\n",
       "      <td>159000.000000</td>\n",
       "      <td>10.000000</td>\n",
       "      <td>9.000000</td>\n",
       "      <td>2010.000000</td>\n",
       "      <td>2010.000000</td>\n",
       "      <td>1600.000000</td>\n",
       "      <td>5644.000000</td>\n",
       "      <td>1474.000000</td>\n",
       "      <td>2336.000000</td>\n",
       "      <td>6110.000000</td>\n",
       "      <td>5095.000000</td>\n",
       "      <td>1862.000000</td>\n",
       "      <td>1064.000000</td>\n",
       "    </tr>\n",
       "  </tbody>\n",
       "</table>\n",
       "</div>"
      ],
      "text/plain": [
       "       MS SubClass  Lot Frontage       Lot Area  Overall Qual  Overall Cond  \\\n",
       "count  2028.000000   1704.000000    2028.000000   2028.000000   2028.000000   \n",
       "mean     57.098126     69.009390   10054.636095      6.099606      5.568540   \n",
       "std      42.937854     23.253408    6755.076471      1.425312      1.107777   \n",
       "min      20.000000     21.000000    1300.000000      1.000000      1.000000   \n",
       "25%      20.000000     58.000000    7500.000000      5.000000      5.000000   \n",
       "50%      50.000000     68.000000    9402.500000      6.000000      5.000000   \n",
       "75%      70.000000     80.000000   11500.000000      7.000000      6.000000   \n",
       "max     190.000000    313.000000  159000.000000     10.000000      9.000000   \n",
       "\n",
       "        Year Built  Year Remod/Add  Mas Vnr Area  BsmtFin SF 1  BsmtFin SF 2  \\\n",
       "count  2028.000000     2028.000000   2028.000000   2027.000000   2027.000000   \n",
       "mean   1971.396943     1983.969921     99.745069    441.792304     48.356685   \n",
       "std      30.136897       21.040862    174.992265    460.782979    165.766774   \n",
       "min    1872.000000     1950.000000      0.000000      0.000000      0.000000   \n",
       "25%    1953.000000     1964.000000      0.000000      0.000000      0.000000   \n",
       "50%    1973.500000     1993.000000      0.000000    368.000000      0.000000   \n",
       "75%    2000.000000     2004.000000    161.250000    733.000000      0.000000   \n",
       "max    2010.000000     2010.000000   1600.000000   5644.000000   1474.000000   \n",
       "\n",
       "       Bsmt Unf SF  Total Bsmt SF   1st Flr SF   2nd Flr SF  Low Qual Fin SF  \n",
       "count  2027.000000    2027.000000  2028.000000  2028.000000      2028.000000  \n",
       "mean    566.244697    1056.393685  1163.613412   328.250493         5.575444  \n",
       "std     444.430865     449.508848   395.820141   425.199615        51.354392  \n",
       "min       0.000000       0.000000   334.000000     0.000000         0.000000  \n",
       "25%     220.000000     792.500000   879.750000     0.000000         0.000000  \n",
       "50%     474.000000     994.000000  1092.000000     0.000000         0.000000  \n",
       "75%     810.000000    1315.000000  1402.250000   689.000000         0.000000  \n",
       "max    2336.000000    6110.000000  5095.000000  1862.000000      1064.000000  "
      ]
     },
     "execution_count": 658,
     "metadata": {},
     "output_type": "execute_result"
    }
   ],
   "source": [
    "post_clean_numeric_columns.iloc[:, :15].describe()"
   ]
  },
  {
   "cell_type": "markdown",
   "id": "3bcfad99-2bcc-47b6-9146-ca5290b405f0",
   "metadata": {
    "tags": []
   },
   "source": [
    "### Convert numeric data to categorical data where appropriate"
   ]
  },
  {
   "cell_type": "code",
   "execution_count": 659,
   "id": "4eb6e241-a8cb-4491-bc7a-4d14d4a68df4",
   "metadata": {
    "tags": []
   },
   "outputs": [],
   "source": [
    "props['MS SubClass'] = props['MS SubClass'].astype(str)\n",
    "props['Overall Qual'] = props['Overall Qual'].astype(str)\n",
    "props['Overall Cond'] = props['Overall Cond'].astype(str)"
   ]
  },
  {
   "cell_type": "code",
   "execution_count": 660,
   "id": "cf4e0089-b061-4564-920f-cf5420653206",
   "metadata": {
    "tags": []
   },
   "outputs": [
    {
     "data": {
      "text/html": [
       "<div>\n",
       "<style scoped>\n",
       "    .dataframe tbody tr th:only-of-type {\n",
       "        vertical-align: middle;\n",
       "    }\n",
       "\n",
       "    .dataframe tbody tr th {\n",
       "        vertical-align: top;\n",
       "    }\n",
       "\n",
       "    .dataframe thead th {\n",
       "        text-align: right;\n",
       "    }\n",
       "</style>\n",
       "<table border=\"1\" class=\"dataframe\">\n",
       "  <thead>\n",
       "    <tr style=\"text-align: right;\">\n",
       "      <th></th>\n",
       "      <th>Gr Liv Area</th>\n",
       "      <th>Bsmt Full Bath</th>\n",
       "      <th>Bsmt Half Bath</th>\n",
       "      <th>Full Bath</th>\n",
       "      <th>Half Bath</th>\n",
       "      <th>Bedroom AbvGr</th>\n",
       "      <th>Kitchen AbvGr</th>\n",
       "      <th>TotRms AbvGrd</th>\n",
       "      <th>Fireplaces</th>\n",
       "      <th>Garage Cars</th>\n",
       "      <th>...</th>\n",
       "      <th>Wood Deck SF</th>\n",
       "      <th>Open Porch SF</th>\n",
       "      <th>Enclosed Porch</th>\n",
       "      <th>3Ssn Porch</th>\n",
       "      <th>Screen Porch</th>\n",
       "      <th>Pool Area</th>\n",
       "      <th>Misc Val</th>\n",
       "      <th>Mo Sold</th>\n",
       "      <th>Yr Sold</th>\n",
       "      <th>SalePrice</th>\n",
       "    </tr>\n",
       "  </thead>\n",
       "  <tbody>\n",
       "    <tr>\n",
       "      <th>count</th>\n",
       "      <td>2028.000000</td>\n",
       "      <td>2026.000000</td>\n",
       "      <td>2026.000000</td>\n",
       "      <td>2028.000000</td>\n",
       "      <td>2028.000000</td>\n",
       "      <td>2028.000000</td>\n",
       "      <td>2028.000000</td>\n",
       "      <td>2028.000000</td>\n",
       "      <td>2028.000000</td>\n",
       "      <td>2028.000000</td>\n",
       "      <td>...</td>\n",
       "      <td>2028.000000</td>\n",
       "      <td>2028.000000</td>\n",
       "      <td>2028.000000</td>\n",
       "      <td>2028.000000</td>\n",
       "      <td>2028.000000</td>\n",
       "      <td>2028.000000</td>\n",
       "      <td>2028.00000</td>\n",
       "      <td>2028.000000</td>\n",
       "      <td>2028.000000</td>\n",
       "      <td>2028.000000</td>\n",
       "    </tr>\n",
       "    <tr>\n",
       "      <th>mean</th>\n",
       "      <td>1497.439349</td>\n",
       "      <td>0.427443</td>\n",
       "      <td>0.064166</td>\n",
       "      <td>1.571992</td>\n",
       "      <td>0.367850</td>\n",
       "      <td>2.844181</td>\n",
       "      <td>1.042899</td>\n",
       "      <td>6.435404</td>\n",
       "      <td>0.589744</td>\n",
       "      <td>1.773176</td>\n",
       "      <td>...</td>\n",
       "      <td>94.061144</td>\n",
       "      <td>47.139546</td>\n",
       "      <td>22.526134</td>\n",
       "      <td>2.620809</td>\n",
       "      <td>16.698718</td>\n",
       "      <td>2.425049</td>\n",
       "      <td>52.15927</td>\n",
       "      <td>6.209566</td>\n",
       "      <td>2007.779093</td>\n",
       "      <td>180904.796844</td>\n",
       "    </tr>\n",
       "    <tr>\n",
       "      <th>std</th>\n",
       "      <td>501.495868</td>\n",
       "      <td>0.522971</td>\n",
       "      <td>0.253039</td>\n",
       "      <td>0.547898</td>\n",
       "      <td>0.499424</td>\n",
       "      <td>0.827727</td>\n",
       "      <td>0.209856</td>\n",
       "      <td>1.563417</td>\n",
       "      <td>0.638614</td>\n",
       "      <td>0.765454</td>\n",
       "      <td>...</td>\n",
       "      <td>128.893581</td>\n",
       "      <td>66.445075</td>\n",
       "      <td>59.735099</td>\n",
       "      <td>25.370830</td>\n",
       "      <td>57.671676</td>\n",
       "      <td>37.995453</td>\n",
       "      <td>576.61144</td>\n",
       "      <td>2.741623</td>\n",
       "      <td>1.314230</td>\n",
       "      <td>79139.782650</td>\n",
       "    </tr>\n",
       "    <tr>\n",
       "      <th>min</th>\n",
       "      <td>334.000000</td>\n",
       "      <td>0.000000</td>\n",
       "      <td>0.000000</td>\n",
       "      <td>0.000000</td>\n",
       "      <td>0.000000</td>\n",
       "      <td>0.000000</td>\n",
       "      <td>0.000000</td>\n",
       "      <td>2.000000</td>\n",
       "      <td>0.000000</td>\n",
       "      <td>0.000000</td>\n",
       "      <td>...</td>\n",
       "      <td>0.000000</td>\n",
       "      <td>0.000000</td>\n",
       "      <td>0.000000</td>\n",
       "      <td>0.000000</td>\n",
       "      <td>0.000000</td>\n",
       "      <td>0.000000</td>\n",
       "      <td>0.00000</td>\n",
       "      <td>1.000000</td>\n",
       "      <td>2006.000000</td>\n",
       "      <td>12789.000000</td>\n",
       "    </tr>\n",
       "    <tr>\n",
       "      <th>25%</th>\n",
       "      <td>1126.000000</td>\n",
       "      <td>0.000000</td>\n",
       "      <td>0.000000</td>\n",
       "      <td>1.000000</td>\n",
       "      <td>0.000000</td>\n",
       "      <td>2.000000</td>\n",
       "      <td>1.000000</td>\n",
       "      <td>5.000000</td>\n",
       "      <td>0.000000</td>\n",
       "      <td>1.000000</td>\n",
       "      <td>...</td>\n",
       "      <td>0.000000</td>\n",
       "      <td>0.000000</td>\n",
       "      <td>0.000000</td>\n",
       "      <td>0.000000</td>\n",
       "      <td>0.000000</td>\n",
       "      <td>0.000000</td>\n",
       "      <td>0.00000</td>\n",
       "      <td>4.000000</td>\n",
       "      <td>2007.000000</td>\n",
       "      <td>129500.000000</td>\n",
       "    </tr>\n",
       "    <tr>\n",
       "      <th>50%</th>\n",
       "      <td>1442.000000</td>\n",
       "      <td>0.000000</td>\n",
       "      <td>0.000000</td>\n",
       "      <td>2.000000</td>\n",
       "      <td>0.000000</td>\n",
       "      <td>3.000000</td>\n",
       "      <td>1.000000</td>\n",
       "      <td>6.000000</td>\n",
       "      <td>1.000000</td>\n",
       "      <td>2.000000</td>\n",
       "      <td>...</td>\n",
       "      <td>0.000000</td>\n",
       "      <td>26.000000</td>\n",
       "      <td>0.000000</td>\n",
       "      <td>0.000000</td>\n",
       "      <td>0.000000</td>\n",
       "      <td>0.000000</td>\n",
       "      <td>0.00000</td>\n",
       "      <td>6.000000</td>\n",
       "      <td>2008.000000</td>\n",
       "      <td>161000.000000</td>\n",
       "    </tr>\n",
       "    <tr>\n",
       "      <th>75%</th>\n",
       "      <td>1728.000000</td>\n",
       "      <td>1.000000</td>\n",
       "      <td>0.000000</td>\n",
       "      <td>2.000000</td>\n",
       "      <td>1.000000</td>\n",
       "      <td>3.000000</td>\n",
       "      <td>1.000000</td>\n",
       "      <td>7.000000</td>\n",
       "      <td>1.000000</td>\n",
       "      <td>2.000000</td>\n",
       "      <td>...</td>\n",
       "      <td>168.000000</td>\n",
       "      <td>70.000000</td>\n",
       "      <td>0.000000</td>\n",
       "      <td>0.000000</td>\n",
       "      <td>0.000000</td>\n",
       "      <td>0.000000</td>\n",
       "      <td>0.00000</td>\n",
       "      <td>8.000000</td>\n",
       "      <td>2009.000000</td>\n",
       "      <td>213492.500000</td>\n",
       "    </tr>\n",
       "    <tr>\n",
       "      <th>max</th>\n",
       "      <td>5642.000000</td>\n",
       "      <td>3.000000</td>\n",
       "      <td>2.000000</td>\n",
       "      <td>4.000000</td>\n",
       "      <td>2.000000</td>\n",
       "      <td>8.000000</td>\n",
       "      <td>3.000000</td>\n",
       "      <td>15.000000</td>\n",
       "      <td>4.000000</td>\n",
       "      <td>5.000000</td>\n",
       "      <td>...</td>\n",
       "      <td>1424.000000</td>\n",
       "      <td>547.000000</td>\n",
       "      <td>432.000000</td>\n",
       "      <td>508.000000</td>\n",
       "      <td>490.000000</td>\n",
       "      <td>800.000000</td>\n",
       "      <td>17000.00000</td>\n",
       "      <td>12.000000</td>\n",
       "      <td>2010.000000</td>\n",
       "      <td>611657.000000</td>\n",
       "    </tr>\n",
       "  </tbody>\n",
       "</table>\n",
       "<p>8 rows × 21 columns</p>\n",
       "</div>"
      ],
      "text/plain": [
       "       Gr Liv Area  Bsmt Full Bath  Bsmt Half Bath    Full Bath    Half Bath  \\\n",
       "count  2028.000000     2026.000000     2026.000000  2028.000000  2028.000000   \n",
       "mean   1497.439349        0.427443        0.064166     1.571992     0.367850   \n",
       "std     501.495868        0.522971        0.253039     0.547898     0.499424   \n",
       "min     334.000000        0.000000        0.000000     0.000000     0.000000   \n",
       "25%    1126.000000        0.000000        0.000000     1.000000     0.000000   \n",
       "50%    1442.000000        0.000000        0.000000     2.000000     0.000000   \n",
       "75%    1728.000000        1.000000        0.000000     2.000000     1.000000   \n",
       "max    5642.000000        3.000000        2.000000     4.000000     2.000000   \n",
       "\n",
       "       Bedroom AbvGr  Kitchen AbvGr  TotRms AbvGrd   Fireplaces  Garage Cars  \\\n",
       "count    2028.000000    2028.000000    2028.000000  2028.000000  2028.000000   \n",
       "mean        2.844181       1.042899       6.435404     0.589744     1.773176   \n",
       "std         0.827727       0.209856       1.563417     0.638614     0.765454   \n",
       "min         0.000000       0.000000       2.000000     0.000000     0.000000   \n",
       "25%         2.000000       1.000000       5.000000     0.000000     1.000000   \n",
       "50%         3.000000       1.000000       6.000000     1.000000     2.000000   \n",
       "75%         3.000000       1.000000       7.000000     1.000000     2.000000   \n",
       "max         8.000000       3.000000      15.000000     4.000000     5.000000   \n",
       "\n",
       "       ...  Wood Deck SF  Open Porch SF  Enclosed Porch   3Ssn Porch  \\\n",
       "count  ...   2028.000000    2028.000000     2028.000000  2028.000000   \n",
       "mean   ...     94.061144      47.139546       22.526134     2.620809   \n",
       "std    ...    128.893581      66.445075       59.735099    25.370830   \n",
       "min    ...      0.000000       0.000000        0.000000     0.000000   \n",
       "25%    ...      0.000000       0.000000        0.000000     0.000000   \n",
       "50%    ...      0.000000      26.000000        0.000000     0.000000   \n",
       "75%    ...    168.000000      70.000000        0.000000     0.000000   \n",
       "max    ...   1424.000000     547.000000      432.000000   508.000000   \n",
       "\n",
       "       Screen Porch    Pool Area     Misc Val      Mo Sold      Yr Sold  \\\n",
       "count   2028.000000  2028.000000   2028.00000  2028.000000  2028.000000   \n",
       "mean      16.698718     2.425049     52.15927     6.209566  2007.779093   \n",
       "std       57.671676    37.995453    576.61144     2.741623     1.314230   \n",
       "min        0.000000     0.000000      0.00000     1.000000  2006.000000   \n",
       "25%        0.000000     0.000000      0.00000     4.000000  2007.000000   \n",
       "50%        0.000000     0.000000      0.00000     6.000000  2008.000000   \n",
       "75%        0.000000     0.000000      0.00000     8.000000  2009.000000   \n",
       "max      490.000000   800.000000  17000.00000    12.000000  2010.000000   \n",
       "\n",
       "           SalePrice  \n",
       "count    2028.000000  \n",
       "mean   180904.796844  \n",
       "std     79139.782650  \n",
       "min     12789.000000  \n",
       "25%    129500.000000  \n",
       "50%    161000.000000  \n",
       "75%    213492.500000  \n",
       "max    611657.000000  \n",
       "\n",
       "[8 rows x 21 columns]"
      ]
     },
     "execution_count": 660,
     "metadata": {},
     "output_type": "execute_result"
    }
   ],
   "source": [
    "post_clean_numeric_columns.iloc[:, 15:].describe()"
   ]
  },
  {
   "cell_type": "code",
   "execution_count": 661,
   "id": "fb482d1a-4484-4cb6-b6e6-33f955ea2542",
   "metadata": {
    "tags": []
   },
   "outputs": [
    {
     "data": {
      "text/plain": [
       "MS SubClass      object\n",
       "MS Zoning        object\n",
       "Lot Frontage    float64\n",
       "Lot Area          int64\n",
       "Paved Street      int32\n",
       "                 ...   \n",
       "Misc Val          int64\n",
       "Mo Sold           int64\n",
       "Yr Sold           int64\n",
       "Sale Type        object\n",
       "SalePrice         int64\n",
       "Length: 75, dtype: object"
      ]
     },
     "execution_count": 661,
     "metadata": {},
     "output_type": "execute_result"
    }
   ],
   "source": [
    "props.dtypes"
   ]
  },
  {
   "cell_type": "code",
   "execution_count": 662,
   "id": "6c54a65f-5764-4919-970d-87cba8fad7e1",
   "metadata": {
    "tags": []
   },
   "outputs": [],
   "source": [
    "post_clean_numeric_columns = props.select_dtypes(include = [np.number])\n",
    "post_clean_nonnumeric_columns = props.select_dtypes(exclude = [np.number])"
   ]
  },
  {
   "cell_type": "code",
   "execution_count": 663,
   "id": "f6b057b8-6b43-4c89-bb9a-47b6c6e6d250",
   "metadata": {
    "tags": []
   },
   "outputs": [
    {
     "data": {
      "text/html": [
       "<div>\n",
       "<style scoped>\n",
       "    .dataframe tbody tr th:only-of-type {\n",
       "        vertical-align: middle;\n",
       "    }\n",
       "\n",
       "    .dataframe tbody tr th {\n",
       "        vertical-align: top;\n",
       "    }\n",
       "\n",
       "    .dataframe thead th {\n",
       "        text-align: right;\n",
       "    }\n",
       "</style>\n",
       "<table border=\"1\" class=\"dataframe\">\n",
       "  <thead>\n",
       "    <tr style=\"text-align: right;\">\n",
       "      <th></th>\n",
       "      <th>Exterior 2nd</th>\n",
       "      <th>Mas Vnr Type</th>\n",
       "      <th>Exter Qual</th>\n",
       "      <th>Exter Cond</th>\n",
       "      <th>Foundation</th>\n",
       "      <th>Bsmt Qual</th>\n",
       "      <th>Bsmt Cond</th>\n",
       "      <th>Bsmt Exposure</th>\n",
       "      <th>BsmtFin Type 1</th>\n",
       "      <th>BsmtFin Type 2</th>\n",
       "      <th>Heating</th>\n",
       "      <th>Heating QC</th>\n",
       "      <th>Electrical</th>\n",
       "      <th>Kitchen Qual</th>\n",
       "    </tr>\n",
       "    <tr>\n",
       "      <th>Id</th>\n",
       "      <th></th>\n",
       "      <th></th>\n",
       "      <th></th>\n",
       "      <th></th>\n",
       "      <th></th>\n",
       "      <th></th>\n",
       "      <th></th>\n",
       "      <th></th>\n",
       "      <th></th>\n",
       "      <th></th>\n",
       "      <th></th>\n",
       "      <th></th>\n",
       "      <th></th>\n",
       "      <th></th>\n",
       "    </tr>\n",
       "  </thead>\n",
       "  <tbody>\n",
       "    <tr>\n",
       "      <th>109</th>\n",
       "      <td>Plywood</td>\n",
       "      <td>BrkFace</td>\n",
       "      <td>Gd</td>\n",
       "      <td>TA</td>\n",
       "      <td>CBlock</td>\n",
       "      <td>TA</td>\n",
       "      <td>TA</td>\n",
       "      <td>No</td>\n",
       "      <td>GLQ</td>\n",
       "      <td>Unf</td>\n",
       "      <td>GasA</td>\n",
       "      <td>Ex</td>\n",
       "      <td>SBrkr</td>\n",
       "      <td>Gd</td>\n",
       "    </tr>\n",
       "    <tr>\n",
       "      <th>544</th>\n",
       "      <td>VinylSd</td>\n",
       "      <td>BrkFace</td>\n",
       "      <td>Gd</td>\n",
       "      <td>TA</td>\n",
       "      <td>PConc</td>\n",
       "      <td>Gd</td>\n",
       "      <td>TA</td>\n",
       "      <td>No</td>\n",
       "      <td>GLQ</td>\n",
       "      <td>Unf</td>\n",
       "      <td>GasA</td>\n",
       "      <td>Ex</td>\n",
       "      <td>SBrkr</td>\n",
       "      <td>Gd</td>\n",
       "    </tr>\n",
       "    <tr>\n",
       "      <th>153</th>\n",
       "      <td>VinylSd</td>\n",
       "      <td>None</td>\n",
       "      <td>TA</td>\n",
       "      <td>Gd</td>\n",
       "      <td>CBlock</td>\n",
       "      <td>TA</td>\n",
       "      <td>TA</td>\n",
       "      <td>No</td>\n",
       "      <td>GLQ</td>\n",
       "      <td>Unf</td>\n",
       "      <td>GasA</td>\n",
       "      <td>TA</td>\n",
       "      <td>SBrkr</td>\n",
       "      <td>Gd</td>\n",
       "    </tr>\n",
       "    <tr>\n",
       "      <th>318</th>\n",
       "      <td>VinylSd</td>\n",
       "      <td>None</td>\n",
       "      <td>TA</td>\n",
       "      <td>TA</td>\n",
       "      <td>PConc</td>\n",
       "      <td>Gd</td>\n",
       "      <td>TA</td>\n",
       "      <td>No</td>\n",
       "      <td>Unf</td>\n",
       "      <td>Unf</td>\n",
       "      <td>GasA</td>\n",
       "      <td>Gd</td>\n",
       "      <td>SBrkr</td>\n",
       "      <td>TA</td>\n",
       "    </tr>\n",
       "    <tr>\n",
       "      <th>255</th>\n",
       "      <td>Plywood</td>\n",
       "      <td>None</td>\n",
       "      <td>TA</td>\n",
       "      <td>TA</td>\n",
       "      <td>PConc</td>\n",
       "      <td>Fa</td>\n",
       "      <td>Gd</td>\n",
       "      <td>No</td>\n",
       "      <td>Unf</td>\n",
       "      <td>Unf</td>\n",
       "      <td>GasA</td>\n",
       "      <td>TA</td>\n",
       "      <td>SBrkr</td>\n",
       "      <td>TA</td>\n",
       "    </tr>\n",
       "    <tr>\n",
       "      <th>...</th>\n",
       "      <td>...</td>\n",
       "      <td>...</td>\n",
       "      <td>...</td>\n",
       "      <td>...</td>\n",
       "      <td>...</td>\n",
       "      <td>...</td>\n",
       "      <td>...</td>\n",
       "      <td>...</td>\n",
       "      <td>...</td>\n",
       "      <td>...</td>\n",
       "      <td>...</td>\n",
       "      <td>...</td>\n",
       "      <td>...</td>\n",
       "      <td>...</td>\n",
       "    </tr>\n",
       "    <tr>\n",
       "      <th>1587</th>\n",
       "      <td>VinylSd</td>\n",
       "      <td>None</td>\n",
       "      <td>Gd</td>\n",
       "      <td>TA</td>\n",
       "      <td>PConc</td>\n",
       "      <td>Gd</td>\n",
       "      <td>TA</td>\n",
       "      <td>Av</td>\n",
       "      <td>GLQ</td>\n",
       "      <td>Unf</td>\n",
       "      <td>GasA</td>\n",
       "      <td>Ex</td>\n",
       "      <td>SBrkr</td>\n",
       "      <td>Gd</td>\n",
       "    </tr>\n",
       "    <tr>\n",
       "      <th>785</th>\n",
       "      <td>VinylSd</td>\n",
       "      <td>None</td>\n",
       "      <td>TA</td>\n",
       "      <td>TA</td>\n",
       "      <td>CBlock</td>\n",
       "      <td>TA</td>\n",
       "      <td>TA</td>\n",
       "      <td>No</td>\n",
       "      <td>BLQ</td>\n",
       "      <td>Unf</td>\n",
       "      <td>GasA</td>\n",
       "      <td>Ex</td>\n",
       "      <td>SBrkr</td>\n",
       "      <td>TA</td>\n",
       "    </tr>\n",
       "    <tr>\n",
       "      <th>916</th>\n",
       "      <td>Stone</td>\n",
       "      <td>None</td>\n",
       "      <td>TA</td>\n",
       "      <td>TA</td>\n",
       "      <td>BrkTil</td>\n",
       "      <td>TA</td>\n",
       "      <td>TA</td>\n",
       "      <td>No</td>\n",
       "      <td>Unf</td>\n",
       "      <td>Unf</td>\n",
       "      <td>GasA</td>\n",
       "      <td>Gd</td>\n",
       "      <td>SBrkr</td>\n",
       "      <td>TA</td>\n",
       "    </tr>\n",
       "    <tr>\n",
       "      <th>639</th>\n",
       "      <td>Plywood</td>\n",
       "      <td>None</td>\n",
       "      <td>TA</td>\n",
       "      <td>TA</td>\n",
       "      <td>CBlock</td>\n",
       "      <td>TA</td>\n",
       "      <td>TA</td>\n",
       "      <td>No</td>\n",
       "      <td>Rec</td>\n",
       "      <td>LwQ</td>\n",
       "      <td>GasA</td>\n",
       "      <td>TA</td>\n",
       "      <td>SBrkr</td>\n",
       "      <td>TA</td>\n",
       "    </tr>\n",
       "    <tr>\n",
       "      <th>10</th>\n",
       "      <td>VinylSd</td>\n",
       "      <td>None</td>\n",
       "      <td>TA</td>\n",
       "      <td>TA</td>\n",
       "      <td>PConc</td>\n",
       "      <td>TA</td>\n",
       "      <td>TA</td>\n",
       "      <td>No</td>\n",
       "      <td>Unf</td>\n",
       "      <td>Unf</td>\n",
       "      <td>GasA</td>\n",
       "      <td>Gd</td>\n",
       "      <td>SBrkr</td>\n",
       "      <td>Gd</td>\n",
       "    </tr>\n",
       "  </tbody>\n",
       "</table>\n",
       "<p>2028 rows × 14 columns</p>\n",
       "</div>"
      ],
      "text/plain": [
       "     Exterior 2nd Mas Vnr Type Exter Qual Exter Cond Foundation Bsmt Qual  \\\n",
       "Id                                                                          \n",
       "109       Plywood      BrkFace         Gd         TA     CBlock        TA   \n",
       "544       VinylSd      BrkFace         Gd         TA      PConc        Gd   \n",
       "153       VinylSd         None         TA         Gd     CBlock        TA   \n",
       "318       VinylSd         None         TA         TA      PConc        Gd   \n",
       "255       Plywood         None         TA         TA      PConc        Fa   \n",
       "...           ...          ...        ...        ...        ...       ...   \n",
       "1587      VinylSd         None         Gd         TA      PConc        Gd   \n",
       "785       VinylSd         None         TA         TA     CBlock        TA   \n",
       "916         Stone         None         TA         TA     BrkTil        TA   \n",
       "639       Plywood         None         TA         TA     CBlock        TA   \n",
       "10        VinylSd         None         TA         TA      PConc        TA   \n",
       "\n",
       "     Bsmt Cond Bsmt Exposure BsmtFin Type 1 BsmtFin Type 2 Heating Heating QC  \\\n",
       "Id                                                                              \n",
       "109         TA            No            GLQ            Unf    GasA         Ex   \n",
       "544         TA            No            GLQ            Unf    GasA         Ex   \n",
       "153         TA            No            GLQ            Unf    GasA         TA   \n",
       "318         TA            No            Unf            Unf    GasA         Gd   \n",
       "255         Gd            No            Unf            Unf    GasA         TA   \n",
       "...        ...           ...            ...            ...     ...        ...   \n",
       "1587        TA            Av            GLQ            Unf    GasA         Ex   \n",
       "785         TA            No            BLQ            Unf    GasA         Ex   \n",
       "916         TA            No            Unf            Unf    GasA         Gd   \n",
       "639         TA            No            Rec            LwQ    GasA         TA   \n",
       "10          TA            No            Unf            Unf    GasA         Gd   \n",
       "\n",
       "     Electrical Kitchen Qual  \n",
       "Id                            \n",
       "109       SBrkr           Gd  \n",
       "544       SBrkr           Gd  \n",
       "153       SBrkr           Gd  \n",
       "318       SBrkr           TA  \n",
       "255       SBrkr           TA  \n",
       "...         ...          ...  \n",
       "1587      SBrkr           Gd  \n",
       "785       SBrkr           TA  \n",
       "916       SBrkr           TA  \n",
       "639       SBrkr           TA  \n",
       "10        SBrkr           Gd  \n",
       "\n",
       "[2028 rows x 14 columns]"
      ]
     },
     "execution_count": 663,
     "metadata": {},
     "output_type": "execute_result"
    }
   ],
   "source": [
    "post_clean_nonnumeric_columns.iloc[:, 16:30]"
   ]
  },
  {
   "cell_type": "code",
   "execution_count": 528,
   "id": "74f6c3f2-ed27-4ea4-8a5b-aa549727c847",
   "metadata": {
    "tags": []
   },
   "outputs": [
    {
     "ename": "ValueError",
     "evalue": "could not convert string to float: 'NA'",
     "output_type": "error",
     "traceback": [
      "\u001b[1;31m---------------------------------------------------------------------------\u001b[0m",
      "\u001b[1;31mValueError\u001b[0m                                Traceback (most recent call last)",
      "Cell \u001b[1;32mIn[528], line 1\u001b[0m\n\u001b[1;32m----> 1\u001b[0m props[\u001b[38;5;124m'\u001b[39m\u001b[38;5;124mBsmtFin SF 1\u001b[39m\u001b[38;5;124m'\u001b[39m] \u001b[38;5;241m=\u001b[39m props[\u001b[38;5;124m'\u001b[39m\u001b[38;5;124mBsmtFin SF 1\u001b[39m\u001b[38;5;124m'\u001b[39m]\u001b[38;5;241m.\u001b[39mastype(\u001b[38;5;28mfloat\u001b[39m)\n",
      "File \u001b[1;32m~\\anaconda3\\Lib\\site-packages\\pandas\\core\\generic.py:6240\u001b[0m, in \u001b[0;36mNDFrame.astype\u001b[1;34m(self, dtype, copy, errors)\u001b[0m\n\u001b[0;32m   6233\u001b[0m     results \u001b[38;5;241m=\u001b[39m [\n\u001b[0;32m   6234\u001b[0m         \u001b[38;5;28mself\u001b[39m\u001b[38;5;241m.\u001b[39miloc[:, i]\u001b[38;5;241m.\u001b[39mastype(dtype, copy\u001b[38;5;241m=\u001b[39mcopy)\n\u001b[0;32m   6235\u001b[0m         \u001b[38;5;28;01mfor\u001b[39;00m i \u001b[38;5;129;01min\u001b[39;00m \u001b[38;5;28mrange\u001b[39m(\u001b[38;5;28mlen\u001b[39m(\u001b[38;5;28mself\u001b[39m\u001b[38;5;241m.\u001b[39mcolumns))\n\u001b[0;32m   6236\u001b[0m     ]\n\u001b[0;32m   6238\u001b[0m \u001b[38;5;28;01melse\u001b[39;00m:\n\u001b[0;32m   6239\u001b[0m     \u001b[38;5;66;03m# else, only a single dtype is given\u001b[39;00m\n\u001b[1;32m-> 6240\u001b[0m     new_data \u001b[38;5;241m=\u001b[39m \u001b[38;5;28mself\u001b[39m\u001b[38;5;241m.\u001b[39m_mgr\u001b[38;5;241m.\u001b[39mastype(dtype\u001b[38;5;241m=\u001b[39mdtype, copy\u001b[38;5;241m=\u001b[39mcopy, errors\u001b[38;5;241m=\u001b[39merrors)\n\u001b[0;32m   6241\u001b[0m     \u001b[38;5;28;01mreturn\u001b[39;00m \u001b[38;5;28mself\u001b[39m\u001b[38;5;241m.\u001b[39m_constructor(new_data)\u001b[38;5;241m.\u001b[39m__finalize__(\u001b[38;5;28mself\u001b[39m, method\u001b[38;5;241m=\u001b[39m\u001b[38;5;124m\"\u001b[39m\u001b[38;5;124mastype\u001b[39m\u001b[38;5;124m\"\u001b[39m)\n\u001b[0;32m   6243\u001b[0m \u001b[38;5;66;03m# GH 33113: handle empty frame or series\u001b[39;00m\n",
      "File \u001b[1;32m~\\anaconda3\\Lib\\site-packages\\pandas\\core\\internals\\managers.py:448\u001b[0m, in \u001b[0;36mBaseBlockManager.astype\u001b[1;34m(self, dtype, copy, errors)\u001b[0m\n\u001b[0;32m    447\u001b[0m \u001b[38;5;28;01mdef\u001b[39;00m \u001b[38;5;21mastype\u001b[39m(\u001b[38;5;28mself\u001b[39m: T, dtype, copy: \u001b[38;5;28mbool\u001b[39m \u001b[38;5;241m=\u001b[39m \u001b[38;5;28;01mFalse\u001b[39;00m, errors: \u001b[38;5;28mstr\u001b[39m \u001b[38;5;241m=\u001b[39m \u001b[38;5;124m\"\u001b[39m\u001b[38;5;124mraise\u001b[39m\u001b[38;5;124m\"\u001b[39m) \u001b[38;5;241m-\u001b[39m\u001b[38;5;241m>\u001b[39m T:\n\u001b[1;32m--> 448\u001b[0m     \u001b[38;5;28;01mreturn\u001b[39;00m \u001b[38;5;28mself\u001b[39m\u001b[38;5;241m.\u001b[39mapply(\u001b[38;5;124m\"\u001b[39m\u001b[38;5;124mastype\u001b[39m\u001b[38;5;124m\"\u001b[39m, dtype\u001b[38;5;241m=\u001b[39mdtype, copy\u001b[38;5;241m=\u001b[39mcopy, errors\u001b[38;5;241m=\u001b[39merrors)\n",
      "File \u001b[1;32m~\\anaconda3\\Lib\\site-packages\\pandas\\core\\internals\\managers.py:352\u001b[0m, in \u001b[0;36mBaseBlockManager.apply\u001b[1;34m(self, f, align_keys, ignore_failures, **kwargs)\u001b[0m\n\u001b[0;32m    350\u001b[0m         applied \u001b[38;5;241m=\u001b[39m b\u001b[38;5;241m.\u001b[39mapply(f, \u001b[38;5;241m*\u001b[39m\u001b[38;5;241m*\u001b[39mkwargs)\n\u001b[0;32m    351\u001b[0m     \u001b[38;5;28;01melse\u001b[39;00m:\n\u001b[1;32m--> 352\u001b[0m         applied \u001b[38;5;241m=\u001b[39m \u001b[38;5;28mgetattr\u001b[39m(b, f)(\u001b[38;5;241m*\u001b[39m\u001b[38;5;241m*\u001b[39mkwargs)\n\u001b[0;32m    353\u001b[0m \u001b[38;5;28;01mexcept\u001b[39;00m (\u001b[38;5;167;01mTypeError\u001b[39;00m, \u001b[38;5;167;01mNotImplementedError\u001b[39;00m):\n\u001b[0;32m    354\u001b[0m     \u001b[38;5;28;01mif\u001b[39;00m \u001b[38;5;129;01mnot\u001b[39;00m ignore_failures:\n",
      "File \u001b[1;32m~\\anaconda3\\Lib\\site-packages\\pandas\\core\\internals\\blocks.py:526\u001b[0m, in \u001b[0;36mBlock.astype\u001b[1;34m(self, dtype, copy, errors)\u001b[0m\n\u001b[0;32m    508\u001b[0m \u001b[38;5;250m\u001b[39m\u001b[38;5;124;03m\"\"\"\u001b[39;00m\n\u001b[0;32m    509\u001b[0m \u001b[38;5;124;03mCoerce to the new dtype.\u001b[39;00m\n\u001b[0;32m    510\u001b[0m \n\u001b[1;32m   (...)\u001b[0m\n\u001b[0;32m    522\u001b[0m \u001b[38;5;124;03mBlock\u001b[39;00m\n\u001b[0;32m    523\u001b[0m \u001b[38;5;124;03m\"\"\"\u001b[39;00m\n\u001b[0;32m    524\u001b[0m values \u001b[38;5;241m=\u001b[39m \u001b[38;5;28mself\u001b[39m\u001b[38;5;241m.\u001b[39mvalues\n\u001b[1;32m--> 526\u001b[0m new_values \u001b[38;5;241m=\u001b[39m astype_array_safe(values, dtype, copy\u001b[38;5;241m=\u001b[39mcopy, errors\u001b[38;5;241m=\u001b[39merrors)\n\u001b[0;32m    528\u001b[0m new_values \u001b[38;5;241m=\u001b[39m maybe_coerce_values(new_values)\n\u001b[0;32m    529\u001b[0m newb \u001b[38;5;241m=\u001b[39m \u001b[38;5;28mself\u001b[39m\u001b[38;5;241m.\u001b[39mmake_block(new_values)\n",
      "File \u001b[1;32m~\\anaconda3\\Lib\\site-packages\\pandas\\core\\dtypes\\astype.py:299\u001b[0m, in \u001b[0;36mastype_array_safe\u001b[1;34m(values, dtype, copy, errors)\u001b[0m\n\u001b[0;32m    296\u001b[0m     \u001b[38;5;28;01mreturn\u001b[39;00m values\u001b[38;5;241m.\u001b[39mcopy()\n\u001b[0;32m    298\u001b[0m \u001b[38;5;28;01mtry\u001b[39;00m:\n\u001b[1;32m--> 299\u001b[0m     new_values \u001b[38;5;241m=\u001b[39m astype_array(values, dtype, copy\u001b[38;5;241m=\u001b[39mcopy)\n\u001b[0;32m    300\u001b[0m \u001b[38;5;28;01mexcept\u001b[39;00m (\u001b[38;5;167;01mValueError\u001b[39;00m, \u001b[38;5;167;01mTypeError\u001b[39;00m):\n\u001b[0;32m    301\u001b[0m     \u001b[38;5;66;03m# e.g. astype_nansafe can fail on object-dtype of strings\u001b[39;00m\n\u001b[0;32m    302\u001b[0m     \u001b[38;5;66;03m#  trying to convert to float\u001b[39;00m\n\u001b[0;32m    303\u001b[0m     \u001b[38;5;28;01mif\u001b[39;00m errors \u001b[38;5;241m==\u001b[39m \u001b[38;5;124m\"\u001b[39m\u001b[38;5;124mignore\u001b[39m\u001b[38;5;124m\"\u001b[39m:\n",
      "File \u001b[1;32m~\\anaconda3\\Lib\\site-packages\\pandas\\core\\dtypes\\astype.py:230\u001b[0m, in \u001b[0;36mastype_array\u001b[1;34m(values, dtype, copy)\u001b[0m\n\u001b[0;32m    227\u001b[0m     values \u001b[38;5;241m=\u001b[39m values\u001b[38;5;241m.\u001b[39mastype(dtype, copy\u001b[38;5;241m=\u001b[39mcopy)\n\u001b[0;32m    229\u001b[0m \u001b[38;5;28;01melse\u001b[39;00m:\n\u001b[1;32m--> 230\u001b[0m     values \u001b[38;5;241m=\u001b[39m astype_nansafe(values, dtype, copy\u001b[38;5;241m=\u001b[39mcopy)\n\u001b[0;32m    232\u001b[0m \u001b[38;5;66;03m# in pandas we don't store numpy str dtypes, so convert to object\u001b[39;00m\n\u001b[0;32m    233\u001b[0m \u001b[38;5;28;01mif\u001b[39;00m \u001b[38;5;28misinstance\u001b[39m(dtype, np\u001b[38;5;241m.\u001b[39mdtype) \u001b[38;5;129;01mand\u001b[39;00m \u001b[38;5;28missubclass\u001b[39m(values\u001b[38;5;241m.\u001b[39mdtype\u001b[38;5;241m.\u001b[39mtype, \u001b[38;5;28mstr\u001b[39m):\n",
      "File \u001b[1;32m~\\anaconda3\\Lib\\site-packages\\pandas\\core\\dtypes\\astype.py:170\u001b[0m, in \u001b[0;36mastype_nansafe\u001b[1;34m(arr, dtype, copy, skipna)\u001b[0m\n\u001b[0;32m    166\u001b[0m     \u001b[38;5;28;01mraise\u001b[39;00m \u001b[38;5;167;01mValueError\u001b[39;00m(msg)\n\u001b[0;32m    168\u001b[0m \u001b[38;5;28;01mif\u001b[39;00m copy \u001b[38;5;129;01mor\u001b[39;00m is_object_dtype(arr\u001b[38;5;241m.\u001b[39mdtype) \u001b[38;5;129;01mor\u001b[39;00m is_object_dtype(dtype):\n\u001b[0;32m    169\u001b[0m     \u001b[38;5;66;03m# Explicit copy, or required since NumPy can't view from / to object.\u001b[39;00m\n\u001b[1;32m--> 170\u001b[0m     \u001b[38;5;28;01mreturn\u001b[39;00m arr\u001b[38;5;241m.\u001b[39mastype(dtype, copy\u001b[38;5;241m=\u001b[39m\u001b[38;5;28;01mTrue\u001b[39;00m)\n\u001b[0;32m    172\u001b[0m \u001b[38;5;28;01mreturn\u001b[39;00m arr\u001b[38;5;241m.\u001b[39mastype(dtype, copy\u001b[38;5;241m=\u001b[39mcopy)\n",
      "\u001b[1;31mValueError\u001b[0m: could not convert string to float: 'NA'"
     ]
    }
   ],
   "source": []
  },
  {
   "cell_type": "code",
   "execution_count": null,
   "id": "21609d47-d368-4fd0-9296-18d5b2258267",
   "metadata": {},
   "outputs": [],
   "source": []
  }
 ],
 "metadata": {
  "kernelspec": {
   "display_name": "Python 3 (ipykernel)",
   "language": "python",
   "name": "python3"
  },
  "language_info": {
   "codemirror_mode": {
    "name": "ipython",
    "version": 3
   },
   "file_extension": ".py",
   "mimetype": "text/x-python",
   "name": "python",
   "nbconvert_exporter": "python",
   "pygments_lexer": "ipython3",
   "version": "3.11.4"
  }
 },
 "nbformat": 4,
 "nbformat_minor": 5
}
