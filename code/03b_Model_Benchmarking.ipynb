{
 "cells": [
  {
   "cell_type": "code",
   "execution_count": 14,
   "id": "34868784-7672-4285-a1ee-7f8d9db975f8",
   "metadata": {
    "tags": []
   },
   "outputs": [],
   "source": [
    "%run 02b_Preprocessing_and_feature_engineering.ipynb"
   ]
  },
  {
   "cell_type": "code",
   "execution_count": null,
   "id": "57114093-23ab-45b4-9423-d4eaaf7a6896",
   "metadata": {},
   "outputs": [],
   "source": []
  },
  {
   "cell_type": "code",
   "execution_count": 15,
   "id": "3871b8a6-147b-4a7e-a076-99eb9e8c9e78",
   "metadata": {
    "tags": []
   },
   "outputs": [],
   "source": [
    "y2_test_mean = y2_test.mean()"
   ]
  },
  {
   "cell_type": "code",
   "execution_count": 16,
   "id": "41e1873a-37b8-4bd1-8e24-4c9aee687013",
   "metadata": {
    "tags": []
   },
   "outputs": [],
   "source": [
    "y2_baseline = y2_test/y2_test * y_test_mean"
   ]
  },
  {
   "cell_type": "code",
   "execution_count": 17,
   "id": "439384a1-19ba-44af-9679-4f9fb521be52",
   "metadata": {
    "tags": []
   },
   "outputs": [
    {
     "data": {
      "text/plain": [
       "(608,)"
      ]
     },
     "execution_count": 17,
     "metadata": {},
     "output_type": "execute_result"
    }
   ],
   "source": [
    "y2_baseline.shape"
   ]
  },
  {
   "cell_type": "code",
   "execution_count": null,
   "id": "3470959e-9a9d-4ec3-b097-7f9a09f0228b",
   "metadata": {
    "tags": []
   },
   "outputs": [],
   "source": []
  },
  {
   "cell_type": "code",
   "execution_count": 18,
   "id": "19dd3029-105e-4965-95dc-073ad0cd6a87",
   "metadata": {
    "tags": []
   },
   "outputs": [],
   "source": [
    "y2_baseline = y2_test/y2_test * y_test_mean"
   ]
  },
  {
   "cell_type": "code",
   "execution_count": null,
   "id": "456d3f83-08e0-47e8-b80f-bbc4779d2e3a",
   "metadata": {
    "tags": []
   },
   "outputs": [],
   "source": []
  },
  {
   "cell_type": "markdown",
   "id": "72893775-5a27-4889-a2de-f759c027747d",
   "metadata": {},
   "source": [
    "## R2 Score"
   ]
  },
  {
   "cell_type": "markdown",
   "id": "086148f9-bc6b-423f-9bd2-d61624ce13bd",
   "metadata": {},
   "source": [
    "### Train"
   ]
  },
  {
   "cell_type": "code",
   "execution_count": 19,
   "id": "80c193be-78df-4111-8466-6f69928a8ff7",
   "metadata": {
    "tags": []
   },
   "outputs": [
    {
     "data": {
      "text/plain": [
       "0.8398469824385021"
      ]
     },
     "execution_count": 19,
     "metadata": {},
     "output_type": "execute_result"
    }
   ],
   "source": [
    "ols.score(X2_train_si, y2_train)"
   ]
  },
  {
   "cell_type": "markdown",
   "id": "aa9f101b-281f-4794-96fa-d6cee9078d1b",
   "metadata": {},
   "source": [
    "### Test"
   ]
  },
  {
   "cell_type": "code",
   "execution_count": 20,
   "id": "eb329b4e-6ecc-48c1-88fc-9a97293c6381",
   "metadata": {
    "tags": []
   },
   "outputs": [
    {
     "data": {
      "text/plain": [
       "0.8598011212832428"
      ]
     },
     "execution_count": 20,
     "metadata": {},
     "output_type": "execute_result"
    }
   ],
   "source": [
    "ols.score(X2_test_si, y2_test)"
   ]
  },
  {
   "cell_type": "markdown",
   "id": "95acc82c-b3c1-4ff2-8de5-d99a89b4659a",
   "metadata": {},
   "source": [
    "### Obtaining Predictions"
   ]
  },
  {
   "cell_type": "code",
   "execution_count": 21,
   "id": "ea7453d9-e7ae-47ff-9fea-92b2dcaa8933",
   "metadata": {
    "tags": []
   },
   "outputs": [],
   "source": [
    "y2_test_pred = ols.predict(X2_test_si)\n",
    "y2_train_pred = ols.predict(X2_train_si)"
   ]
  },
  {
   "cell_type": "markdown",
   "id": "45a95cb1-1dce-491d-9480-5d4bd1bc9197",
   "metadata": {
    "tags": []
   },
   "source": [
    "## Mean Absolute Error"
   ]
  },
  {
   "cell_type": "markdown",
   "id": "cea74a08-53ae-4f7c-9a7f-416c55344c21",
   "metadata": {},
   "source": [
    "### Train"
   ]
  },
  {
   "cell_type": "code",
   "execution_count": 22,
   "id": "a833f37b-0646-4807-b0b2-a5e5a6a36ea5",
   "metadata": {
    "tags": []
   },
   "outputs": [
    {
     "data": {
      "text/plain": [
       "19740.238049741813"
      ]
     },
     "execution_count": 22,
     "metadata": {},
     "output_type": "execute_result"
    }
   ],
   "source": [
    "metrics.mean_absolute_error(y2_train, y2_train_pred)"
   ]
  },
  {
   "cell_type": "markdown",
   "id": "f1068d34-a874-4c98-bdd4-c3e954a6630d",
   "metadata": {
    "tags": []
   },
   "source": [
    "### Test"
   ]
  },
  {
   "cell_type": "code",
   "execution_count": 23,
   "id": "25b02fe5-e804-44da-aca5-e4c82d7ddf5c",
   "metadata": {
    "tags": []
   },
   "outputs": [
    {
     "data": {
      "text/plain": [
       "21382.877120508732"
      ]
     },
     "execution_count": 23,
     "metadata": {},
     "output_type": "execute_result"
    }
   ],
   "source": [
    "metrics.mean_absolute_error(y2_test, y2_test_pred)"
   ]
  },
  {
   "cell_type": "markdown",
   "id": "df08ed1f-f170-4249-a060-6509d067127d",
   "metadata": {},
   "source": [
    "### Baseline"
   ]
  },
  {
   "cell_type": "code",
   "execution_count": 24,
   "id": "42f602d4-11ea-4334-972d-684f771bd52d",
   "metadata": {
    "tags": []
   },
   "outputs": [
    {
     "data": {
      "text/plain": [
       "61811.8075116863"
      ]
     },
     "execution_count": 24,
     "metadata": {},
     "output_type": "execute_result"
    }
   ],
   "source": [
    "metrics.mean_absolute_error(y2_test, y_baseline)"
   ]
  },
  {
   "cell_type": "markdown",
   "id": "1a947f0c-83e3-4341-aa38-c5057d89625a",
   "metadata": {},
   "source": [
    "## Mean Squared Error and Root Mean Squared Error"
   ]
  },
  {
   "cell_type": "markdown",
   "id": "c88290d5-d2c3-4191-9b64-8170c8f85a87",
   "metadata": {},
   "source": [
    "### Train"
   ]
  },
  {
   "cell_type": "code",
   "execution_count": null,
   "id": "198c12b8-5e69-42eb-9fd8-8fcaa29b20ab",
   "metadata": {},
   "outputs": [],
   "source": []
  },
  {
   "cell_type": "code",
   "execution_count": 25,
   "id": "01ee8351-64bb-4911-92ea-ae41a7ba677c",
   "metadata": {
    "tags": []
   },
   "outputs": [
    {
     "name": "stdout",
     "output_type": "stream",
     "text": [
      "MSE: 950909515.598514   RMSE: 30836.82077644377\n"
     ]
    }
   ],
   "source": [
    "print(f\"MSE: {metrics.mean_squared_error(y2_train, y2_train_pred, squared=True)}   RMSE: {metrics.mean_squared_error(y2_train, y2_train_pred, squared=False)}\")"
   ]
  },
  {
   "cell_type": "markdown",
   "id": "0451bc8c-c107-4317-9037-0ac516c7e893",
   "metadata": {},
   "source": [
    "### Test"
   ]
  },
  {
   "cell_type": "code",
   "execution_count": 26,
   "id": "b8ae29f0-e172-4e22-b05b-48ab417651da",
   "metadata": {
    "tags": []
   },
   "outputs": [
    {
     "name": "stdout",
     "output_type": "stream",
     "text": [
      "MSE: 977602643.7769591   RMSE: 31266.637871331146\n"
     ]
    }
   ],
   "source": [
    "print(f\"MSE: {metrics.mean_squared_error(y2_test, y2_test_pred, squared=True)}   RMSE: {metrics.mean_squared_error(y2_test, y2_test_pred, squared=False)}\")"
   ]
  },
  {
   "cell_type": "markdown",
   "id": "b0ef5efe-3696-4d52-b877-da36c62dc8ae",
   "metadata": {},
   "source": [
    "### Baseline"
   ]
  },
  {
   "cell_type": "code",
   "execution_count": 27,
   "id": "9744beb4-5b8e-45de-953c-e6f584d3c095",
   "metadata": {
    "tags": []
   },
   "outputs": [
    {
     "name": "stdout",
     "output_type": "stream",
     "text": [
      "MSE: 6972970488.244796   RMSE: 83504.31418941656\n"
     ]
    }
   ],
   "source": [
    "print(f\"MSE: {metrics.mean_squared_error(y2_test, y_baseline, squared=True)}   RMSE: {metrics.mean_squared_error(y2_test, y_baseline, squared=False)}\")"
   ]
  },
  {
   "cell_type": "code",
   "execution_count": null,
   "id": "96482f49-e65f-4c6d-b9b5-49d742b96ff5",
   "metadata": {},
   "outputs": [],
   "source": []
  }
 ],
 "metadata": {
  "kernelspec": {
   "display_name": "Python 3 (ipykernel)",
   "language": "python",
   "name": "python3"
  },
  "language_info": {
   "codemirror_mode": {
    "name": "ipython",
    "version": 3
   },
   "file_extension": ".py",
   "mimetype": "text/x-python",
   "name": "python",
   "nbconvert_exporter": "python",
   "pygments_lexer": "ipython3",
   "version": "3.11.4"
  }
 },
 "nbformat": 4,
 "nbformat_minor": 5
}
