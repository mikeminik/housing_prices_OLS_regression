{
 "cells": [
  {
   "cell_type": "code",
   "execution_count": 22,
   "id": "76acd7d1-a2d2-4e5a-82f3-3067f02a5277",
   "metadata": {
    "tags": []
   },
   "outputs": [],
   "source": [
    "from sklearn.linear_model import LinearRegression\n",
    "from sklearn.model_selection import train_test_split, cross_validate\n",
    "from sklearn.preprocessing import StandardScaler, PolynomialFeatures\n",
    "from sklearn.impute import SimpleImputer\n",
    "from sklearn import metrics\n",
    "\n",
    "%run 00_Functions.ipynb\n",
    "%run 01_Data_Cleaning.ipynb\n"
   ]
  },
  {
   "cell_type": "code",
   "execution_count": null,
   "id": "ff3727bd-0265-4866-bb02-58d481675b75",
   "metadata": {},
   "outputs": [],
   "source": []
  },
  {
   "cell_type": "code",
   "execution_count": 23,
   "id": "f7e4badc-9112-4d7a-a22c-e4923fa7bfd3",
   "metadata": {
    "tags": []
   },
   "outputs": [],
   "source": [
    "pd.set_option('display.max_columns', None)\n",
    "pd.set_option('display.max_rows', None)\n",
    "# see all of my columns, no truncating!"
   ]
  },
  {
   "cell_type": "code",
   "execution_count": null,
   "id": "d5f7f0e9-3b25-4978-a875-656bbed08bce",
   "metadata": {
    "tags": []
   },
   "outputs": [],
   "source": []
  },
  {
   "cell_type": "code",
   "execution_count": null,
   "id": "a15ade62-425e-4ad3-b9da-c17da45de095",
   "metadata": {},
   "outputs": [],
   "source": []
  },
  {
   "cell_type": "code",
   "execution_count": null,
   "id": "a974ec88-1ddd-482e-aa66-7e78f5a351c6",
   "metadata": {
    "tags": []
   },
   "outputs": [],
   "source": []
  },
  {
   "cell_type": "code",
   "execution_count": null,
   "id": "5fbc7ce9-1bb7-400a-b1f9-301e293ab415",
   "metadata": {
    "tags": []
   },
   "outputs": [],
   "source": []
  },
  {
   "cell_type": "markdown",
   "id": "262b3238-3615-4e97-a889-3b3972bc8357",
   "metadata": {},
   "source": [
    "### Drop PID since we know it should have no correlation to Sale Price"
   ]
  },
  {
   "cell_type": "code",
   "execution_count": 24,
   "id": "949bcc64-05a7-4f46-9319-c71633bf76bd",
   "metadata": {
    "tags": []
   },
   "outputs": [],
   "source": [
    "props.drop('PID', axis = 1, inplace = True)"
   ]
  },
  {
   "cell_type": "code",
   "execution_count": 25,
   "id": "e26497d8-a70c-489a-9b11-788ccfc8378a",
   "metadata": {
    "tags": []
   },
   "outputs": [
    {
     "data": {
      "text/html": [
       "<div>\n",
       "<style scoped>\n",
       "    .dataframe tbody tr th:only-of-type {\n",
       "        vertical-align: middle;\n",
       "    }\n",
       "\n",
       "    .dataframe tbody tr th {\n",
       "        vertical-align: top;\n",
       "    }\n",
       "\n",
       "    .dataframe thead th {\n",
       "        text-align: right;\n",
       "    }\n",
       "</style>\n",
       "<table border=\"1\" class=\"dataframe\">\n",
       "  <thead>\n",
       "    <tr style=\"text-align: right;\">\n",
       "      <th></th>\n",
       "      <th>MS SubClass</th>\n",
       "      <th>MS Zoning</th>\n",
       "      <th>Alley</th>\n",
       "      <th>Lot Shape</th>\n",
       "      <th>Land Contour</th>\n",
       "      <th>Lot Config</th>\n",
       "      <th>Neighborhood</th>\n",
       "      <th>Condition 1</th>\n",
       "      <th>Condition 2</th>\n",
       "      <th>Bldg Type</th>\n",
       "      <th>House Style</th>\n",
       "      <th>Overall Qual</th>\n",
       "      <th>Overall Cond</th>\n",
       "      <th>Roof Style</th>\n",
       "      <th>Roof Matl</th>\n",
       "      <th>Exterior 1st</th>\n",
       "      <th>Exterior 2nd</th>\n",
       "      <th>Mas Vnr Type</th>\n",
       "      <th>Exter Qual</th>\n",
       "      <th>Exter Cond</th>\n",
       "      <th>Foundation</th>\n",
       "      <th>Bsmt Qual</th>\n",
       "      <th>Bsmt Cond</th>\n",
       "      <th>Bsmt Exposure</th>\n",
       "      <th>BsmtFin Type 1</th>\n",
       "      <th>BsmtFin Type 2</th>\n",
       "      <th>Heating</th>\n",
       "      <th>Heating QC</th>\n",
       "      <th>Electrical</th>\n",
       "      <th>Kitchen Qual</th>\n",
       "      <th>Functional</th>\n",
       "      <th>Fireplace Qu</th>\n",
       "      <th>Garage Type</th>\n",
       "      <th>Garage Finish</th>\n",
       "      <th>Garage Qual</th>\n",
       "      <th>Garage Cond</th>\n",
       "      <th>Pool QC</th>\n",
       "      <th>Fence</th>\n",
       "      <th>Misc Feature</th>\n",
       "      <th>Mo Sold</th>\n",
       "      <th>Sale Type</th>\n",
       "    </tr>\n",
       "    <tr>\n",
       "      <th>Id</th>\n",
       "      <th></th>\n",
       "      <th></th>\n",
       "      <th></th>\n",
       "      <th></th>\n",
       "      <th></th>\n",
       "      <th></th>\n",
       "      <th></th>\n",
       "      <th></th>\n",
       "      <th></th>\n",
       "      <th></th>\n",
       "      <th></th>\n",
       "      <th></th>\n",
       "      <th></th>\n",
       "      <th></th>\n",
       "      <th></th>\n",
       "      <th></th>\n",
       "      <th></th>\n",
       "      <th></th>\n",
       "      <th></th>\n",
       "      <th></th>\n",
       "      <th></th>\n",
       "      <th></th>\n",
       "      <th></th>\n",
       "      <th></th>\n",
       "      <th></th>\n",
       "      <th></th>\n",
       "      <th></th>\n",
       "      <th></th>\n",
       "      <th></th>\n",
       "      <th></th>\n",
       "      <th></th>\n",
       "      <th></th>\n",
       "      <th></th>\n",
       "      <th></th>\n",
       "      <th></th>\n",
       "      <th></th>\n",
       "      <th></th>\n",
       "      <th></th>\n",
       "      <th></th>\n",
       "      <th></th>\n",
       "      <th></th>\n",
       "    </tr>\n",
       "  </thead>\n",
       "  <tbody>\n",
       "    <tr>\n",
       "      <th>109</th>\n",
       "      <td>60</td>\n",
       "      <td>RL</td>\n",
       "      <td>NaN</td>\n",
       "      <td>IR1</td>\n",
       "      <td>Lvl</td>\n",
       "      <td>CulDSac</td>\n",
       "      <td>Sawyer</td>\n",
       "      <td>RRAe</td>\n",
       "      <td>Norm</td>\n",
       "      <td>1Fam</td>\n",
       "      <td>2Story</td>\n",
       "      <td>6</td>\n",
       "      <td>8</td>\n",
       "      <td>Gable</td>\n",
       "      <td>CompShg</td>\n",
       "      <td>HdBoard</td>\n",
       "      <td>Plywood</td>\n",
       "      <td>BrkFace</td>\n",
       "      <td>Gd</td>\n",
       "      <td>TA</td>\n",
       "      <td>CBlock</td>\n",
       "      <td>TA</td>\n",
       "      <td>TA</td>\n",
       "      <td>No</td>\n",
       "      <td>GLQ</td>\n",
       "      <td>Unf</td>\n",
       "      <td>GasA</td>\n",
       "      <td>Ex</td>\n",
       "      <td>SBrkr</td>\n",
       "      <td>Gd</td>\n",
       "      <td>Typ</td>\n",
       "      <td>NA</td>\n",
       "      <td>Attchd</td>\n",
       "      <td>RFn</td>\n",
       "      <td>TA</td>\n",
       "      <td>TA</td>\n",
       "      <td>NaN</td>\n",
       "      <td>NA</td>\n",
       "      <td>NaN</td>\n",
       "      <td>3</td>\n",
       "      <td>WD</td>\n",
       "    </tr>\n",
       "    <tr>\n",
       "      <th>544</th>\n",
       "      <td>60</td>\n",
       "      <td>RL</td>\n",
       "      <td>NaN</td>\n",
       "      <td>IR1</td>\n",
       "      <td>Lvl</td>\n",
       "      <td>CulDSac</td>\n",
       "      <td>SawyerW</td>\n",
       "      <td>Norm</td>\n",
       "      <td>Norm</td>\n",
       "      <td>1Fam</td>\n",
       "      <td>2Story</td>\n",
       "      <td>7</td>\n",
       "      <td>5</td>\n",
       "      <td>Gable</td>\n",
       "      <td>CompShg</td>\n",
       "      <td>VinylSd</td>\n",
       "      <td>VinylSd</td>\n",
       "      <td>BrkFace</td>\n",
       "      <td>Gd</td>\n",
       "      <td>TA</td>\n",
       "      <td>PConc</td>\n",
       "      <td>Gd</td>\n",
       "      <td>TA</td>\n",
       "      <td>No</td>\n",
       "      <td>GLQ</td>\n",
       "      <td>Unf</td>\n",
       "      <td>GasA</td>\n",
       "      <td>Ex</td>\n",
       "      <td>SBrkr</td>\n",
       "      <td>Gd</td>\n",
       "      <td>Typ</td>\n",
       "      <td>TA</td>\n",
       "      <td>Attchd</td>\n",
       "      <td>RFn</td>\n",
       "      <td>TA</td>\n",
       "      <td>TA</td>\n",
       "      <td>NaN</td>\n",
       "      <td>NA</td>\n",
       "      <td>NaN</td>\n",
       "      <td>4</td>\n",
       "      <td>WD</td>\n",
       "    </tr>\n",
       "    <tr>\n",
       "      <th>153</th>\n",
       "      <td>20</td>\n",
       "      <td>RL</td>\n",
       "      <td>NaN</td>\n",
       "      <td>Reg</td>\n",
       "      <td>Lvl</td>\n",
       "      <td>Inside</td>\n",
       "      <td>NAmes</td>\n",
       "      <td>Norm</td>\n",
       "      <td>Norm</td>\n",
       "      <td>1Fam</td>\n",
       "      <td>1Story</td>\n",
       "      <td>5</td>\n",
       "      <td>7</td>\n",
       "      <td>Gable</td>\n",
       "      <td>CompShg</td>\n",
       "      <td>VinylSd</td>\n",
       "      <td>VinylSd</td>\n",
       "      <td>None</td>\n",
       "      <td>TA</td>\n",
       "      <td>Gd</td>\n",
       "      <td>CBlock</td>\n",
       "      <td>TA</td>\n",
       "      <td>TA</td>\n",
       "      <td>No</td>\n",
       "      <td>GLQ</td>\n",
       "      <td>Unf</td>\n",
       "      <td>GasA</td>\n",
       "      <td>TA</td>\n",
       "      <td>SBrkr</td>\n",
       "      <td>Gd</td>\n",
       "      <td>Typ</td>\n",
       "      <td>NA</td>\n",
       "      <td>Detchd</td>\n",
       "      <td>Unf</td>\n",
       "      <td>TA</td>\n",
       "      <td>TA</td>\n",
       "      <td>NaN</td>\n",
       "      <td>NA</td>\n",
       "      <td>NaN</td>\n",
       "      <td>1</td>\n",
       "      <td>WD</td>\n",
       "    </tr>\n",
       "    <tr>\n",
       "      <th>318</th>\n",
       "      <td>60</td>\n",
       "      <td>RL</td>\n",
       "      <td>NaN</td>\n",
       "      <td>Reg</td>\n",
       "      <td>Lvl</td>\n",
       "      <td>Inside</td>\n",
       "      <td>Timber</td>\n",
       "      <td>Norm</td>\n",
       "      <td>Norm</td>\n",
       "      <td>1Fam</td>\n",
       "      <td>2Story</td>\n",
       "      <td>5</td>\n",
       "      <td>5</td>\n",
       "      <td>Gable</td>\n",
       "      <td>CompShg</td>\n",
       "      <td>VinylSd</td>\n",
       "      <td>VinylSd</td>\n",
       "      <td>None</td>\n",
       "      <td>TA</td>\n",
       "      <td>TA</td>\n",
       "      <td>PConc</td>\n",
       "      <td>Gd</td>\n",
       "      <td>TA</td>\n",
       "      <td>No</td>\n",
       "      <td>Unf</td>\n",
       "      <td>Unf</td>\n",
       "      <td>GasA</td>\n",
       "      <td>Gd</td>\n",
       "      <td>SBrkr</td>\n",
       "      <td>TA</td>\n",
       "      <td>Typ</td>\n",
       "      <td>NA</td>\n",
       "      <td>BuiltIn</td>\n",
       "      <td>Fin</td>\n",
       "      <td>TA</td>\n",
       "      <td>TA</td>\n",
       "      <td>NaN</td>\n",
       "      <td>NA</td>\n",
       "      <td>NaN</td>\n",
       "      <td>4</td>\n",
       "      <td>WD</td>\n",
       "    </tr>\n",
       "    <tr>\n",
       "      <th>255</th>\n",
       "      <td>50</td>\n",
       "      <td>RL</td>\n",
       "      <td>NaN</td>\n",
       "      <td>IR1</td>\n",
       "      <td>Lvl</td>\n",
       "      <td>Inside</td>\n",
       "      <td>SawyerW</td>\n",
       "      <td>Norm</td>\n",
       "      <td>Norm</td>\n",
       "      <td>1Fam</td>\n",
       "      <td>1.5Fin</td>\n",
       "      <td>6</td>\n",
       "      <td>8</td>\n",
       "      <td>Gable</td>\n",
       "      <td>CompShg</td>\n",
       "      <td>Wd Sdng</td>\n",
       "      <td>Plywood</td>\n",
       "      <td>None</td>\n",
       "      <td>TA</td>\n",
       "      <td>TA</td>\n",
       "      <td>PConc</td>\n",
       "      <td>Fa</td>\n",
       "      <td>Gd</td>\n",
       "      <td>No</td>\n",
       "      <td>Unf</td>\n",
       "      <td>Unf</td>\n",
       "      <td>GasA</td>\n",
       "      <td>TA</td>\n",
       "      <td>SBrkr</td>\n",
       "      <td>TA</td>\n",
       "      <td>Typ</td>\n",
       "      <td>NA</td>\n",
       "      <td>Detchd</td>\n",
       "      <td>Unf</td>\n",
       "      <td>TA</td>\n",
       "      <td>TA</td>\n",
       "      <td>NaN</td>\n",
       "      <td>NA</td>\n",
       "      <td>NaN</td>\n",
       "      <td>3</td>\n",
       "      <td>WD</td>\n",
       "    </tr>\n",
       "  </tbody>\n",
       "</table>\n",
       "</div>"
      ],
      "text/plain": [
       "    MS SubClass MS Zoning Alley Lot Shape Land Contour Lot Config  \\\n",
       "Id                                                                  \n",
       "109          60        RL   NaN       IR1          Lvl    CulDSac   \n",
       "544          60        RL   NaN       IR1          Lvl    CulDSac   \n",
       "153          20        RL   NaN       Reg          Lvl     Inside   \n",
       "318          60        RL   NaN       Reg          Lvl     Inside   \n",
       "255          50        RL   NaN       IR1          Lvl     Inside   \n",
       "\n",
       "    Neighborhood Condition 1 Condition 2 Bldg Type House Style Overall Qual  \\\n",
       "Id                                                                            \n",
       "109       Sawyer        RRAe        Norm      1Fam      2Story            6   \n",
       "544      SawyerW        Norm        Norm      1Fam      2Story            7   \n",
       "153        NAmes        Norm        Norm      1Fam      1Story            5   \n",
       "318       Timber        Norm        Norm      1Fam      2Story            5   \n",
       "255      SawyerW        Norm        Norm      1Fam      1.5Fin            6   \n",
       "\n",
       "    Overall Cond Roof Style Roof Matl Exterior 1st Exterior 2nd Mas Vnr Type  \\\n",
       "Id                                                                             \n",
       "109            8      Gable   CompShg      HdBoard      Plywood      BrkFace   \n",
       "544            5      Gable   CompShg      VinylSd      VinylSd      BrkFace   \n",
       "153            7      Gable   CompShg      VinylSd      VinylSd         None   \n",
       "318            5      Gable   CompShg      VinylSd      VinylSd         None   \n",
       "255            8      Gable   CompShg      Wd Sdng      Plywood         None   \n",
       "\n",
       "    Exter Qual Exter Cond Foundation Bsmt Qual Bsmt Cond Bsmt Exposure  \\\n",
       "Id                                                                       \n",
       "109         Gd         TA     CBlock        TA        TA            No   \n",
       "544         Gd         TA      PConc        Gd        TA            No   \n",
       "153         TA         Gd     CBlock        TA        TA            No   \n",
       "318         TA         TA      PConc        Gd        TA            No   \n",
       "255         TA         TA      PConc        Fa        Gd            No   \n",
       "\n",
       "    BsmtFin Type 1 BsmtFin Type 2 Heating Heating QC Electrical Kitchen Qual  \\\n",
       "Id                                                                             \n",
       "109            GLQ            Unf    GasA         Ex      SBrkr           Gd   \n",
       "544            GLQ            Unf    GasA         Ex      SBrkr           Gd   \n",
       "153            GLQ            Unf    GasA         TA      SBrkr           Gd   \n",
       "318            Unf            Unf    GasA         Gd      SBrkr           TA   \n",
       "255            Unf            Unf    GasA         TA      SBrkr           TA   \n",
       "\n",
       "    Functional Fireplace Qu Garage Type Garage Finish Garage Qual Garage Cond  \\\n",
       "Id                                                                              \n",
       "109        Typ           NA      Attchd           RFn          TA          TA   \n",
       "544        Typ           TA      Attchd           RFn          TA          TA   \n",
       "153        Typ           NA      Detchd           Unf          TA          TA   \n",
       "318        Typ           NA     BuiltIn           Fin          TA          TA   \n",
       "255        Typ           NA      Detchd           Unf          TA          TA   \n",
       "\n",
       "    Pool QC Fence Misc Feature Mo Sold Sale Type  \n",
       "Id                                                \n",
       "109     NaN    NA          NaN       3       WD   \n",
       "544     NaN    NA          NaN       4       WD   \n",
       "153     NaN    NA          NaN       1       WD   \n",
       "318     NaN    NA          NaN       4       WD   \n",
       "255     NaN    NA          NaN       3       WD   "
      ]
     },
     "execution_count": 25,
     "metadata": {},
     "output_type": "execute_result"
    }
   ],
   "source": [
    "non_numerics = props.select_dtypes(exclude = np.number)\n",
    "non_numerics.head()"
   ]
  },
  {
   "cell_type": "markdown",
   "id": "9c7e08c6-d512-4f70-9744-7cdb9a6e1e33",
   "metadata": {
    "tags": []
   },
   "source": [
    "## OneHotEncode Non Numeric Columns"
   ]
  },
  {
   "cell_type": "code",
   "execution_count": 26,
   "id": "d7255062-6ebd-4086-9be7-d8fbc68f687e",
   "metadata": {
    "tags": []
   },
   "outputs": [
    {
     "data": {
      "text/plain": [
       "Index(['MS SubClass', 'MS Zoning', 'Alley', 'Lot Shape', 'Land Contour',\n",
       "       'Lot Config', 'Neighborhood', 'Condition 1', 'Condition 2', 'Bldg Type',\n",
       "       'House Style', 'Overall Qual', 'Overall Cond', 'Roof Style',\n",
       "       'Roof Matl', 'Exterior 1st', 'Exterior 2nd', 'Mas Vnr Type',\n",
       "       'Exter Qual', 'Exter Cond', 'Foundation', 'Bsmt Qual', 'Bsmt Cond',\n",
       "       'Bsmt Exposure', 'BsmtFin Type 1', 'BsmtFin Type 2', 'Heating',\n",
       "       'Heating QC', 'Electrical', 'Kitchen Qual', 'Functional',\n",
       "       'Fireplace Qu', 'Garage Type', 'Garage Finish', 'Garage Qual',\n",
       "       'Garage Cond', 'Pool QC', 'Fence', 'Misc Feature', 'Mo Sold',\n",
       "       'Sale Type'],\n",
       "      dtype='object')"
      ]
     },
     "execution_count": 26,
     "metadata": {},
     "output_type": "execute_result"
    }
   ],
   "source": [
    "non_numerics.columns"
   ]
  },
  {
   "cell_type": "code",
   "execution_count": 27,
   "id": "032bb1f8-db2f-4e57-87a7-5834c87cf249",
   "metadata": {
    "tags": []
   },
   "outputs": [],
   "source": [
    "props_dummy = pd.get_dummies(props, columns = non_numerics.columns, drop_first = True)"
   ]
  },
  {
   "cell_type": "code",
   "execution_count": null,
   "id": "1cc58f0e-0f7a-41c3-a579-dbc35fbe5dc6",
   "metadata": {
    "tags": []
   },
   "outputs": [],
   "source": []
  },
  {
   "cell_type": "code",
   "execution_count": null,
   "id": "d76e23ca-a5ed-4c7c-837d-d130903f1460",
   "metadata": {},
   "outputs": [],
   "source": []
  },
  {
   "cell_type": "code",
   "execution_count": 28,
   "id": "e21ecce4-728a-4846-95e5-1209a68136b9",
   "metadata": {
    "tags": []
   },
   "outputs": [],
   "source": [
    "corr = props_dummy.corr(numeric_only = True)[['SalePrice']].sort_values( by = 'SalePrice', ascending = False)"
   ]
  },
  {
   "cell_type": "code",
   "execution_count": null,
   "id": "41ba5086-145a-4a7e-909a-3455602573f5",
   "metadata": {
    "tags": []
   },
   "outputs": [],
   "source": []
  },
  {
   "cell_type": "code",
   "execution_count": 29,
   "id": "ee495ff1-cecd-4827-ad69-6395aa8c8bb9",
   "metadata": {
    "tags": []
   },
   "outputs": [],
   "source": [
    "correlated_features = corr[(corr['SalePrice'] > 0.2) |  (corr['SalePrice'] < -0.2)].index[1:]"
   ]
  },
  {
   "cell_type": "code",
   "execution_count": 30,
   "id": "0d8fb416-a035-4c29-b601-ceac1d688a42",
   "metadata": {
    "tags": []
   },
   "outputs": [
    {
     "data": {
      "text/plain": [
       "Index(['Gr Liv Area', 'Garage Area', 'Garage Cars', 'Total Bsmt SF',\n",
       "       '1st Flr SF', 'Garage Yr Blt', 'Full Bath', 'Foundation_PConc',\n",
       "       'Mas Vnr Area', 'TotRms AbvGrd', 'Overall Qual_9', 'Fireplaces',\n",
       "       'BsmtFin Type 1_GLQ', 'Exter Qual_Gd', 'Neighborhood_NridgHt',\n",
       "       'BsmtFin SF 1', 'Overall Qual_8', 'Fireplace Qu_Gd', 'Bsmt Exposure_Gd',\n",
       "       'Overall Cond_5', 'MS SubClass_60', 'Garage Type_Attchd',\n",
       "       'Sale Type_New', 'Exterior 1st_VinylSd', 'Lot Frontage',\n",
       "       'Exterior 2nd_VinylSd', 'Wood Deck SF', 'Open Porch SF',\n",
       "       'Mas Vnr Type_Stone', 'Kitchen Qual_Gd', 'Overall Qual_10', 'Lot Area',\n",
       "       'Paved Drive', 'Bsmt Full Bath', 'Half Bath', 'Central Air',\n",
       "       'Garage Cond_TA', 'Roof Style_Hip', 'Neighborhood_NoRidge',\n",
       "       'Mas Vnr Type_BrkFace', 'Neighborhood_StoneBr', 'Electrical_SBrkr',\n",
       "       '2nd Flr SF', 'Garage Qual_TA', 'Bsmt Qual_Gd', 'MS Zoning_RL',\n",
       "       'Garage Type_BuiltIn', 'Land Contour_HLS', 'House Style_2Story',\n",
       "       'Sale Type_WD ', 'Neighborhood_OldTown', 'Garage Finish_NA',\n",
       "       'Garage Type_NA', 'Garage Qual_NA', 'Garage Cond_NA', 'MS SubClass_30',\n",
       "       'Roof Style_Gable', 'Overall Qual_4', 'MS Zoning_RM',\n",
       "       'Bsmt Exposure_No', 'Lot Shape_Reg', 'Heating QC_TA',\n",
       "       'Foundation_CBlock', 'Overall Qual_5', 'Garage Type_Detchd',\n",
       "       'Mas Vnr Type_None', 'Garage Finish_Unf', 'Bsmt Qual_TA',\n",
       "       'Fireplace Qu_NA', 'Kitchen Qual_TA', 'Years since remodel',\n",
       "       'Years since built', 'Exter Qual_TA'],\n",
       "      dtype='object')"
      ]
     },
     "execution_count": 30,
     "metadata": {},
     "output_type": "execute_result"
    }
   ],
   "source": [
    "correlated_features"
   ]
  },
  {
   "cell_type": "markdown",
   "id": "563cbd1a-b027-4245-bc2a-109ce625ef6a",
   "metadata": {
    "tags": []
   },
   "source": [
    "## Some dropping / feature engineering based on what we see above"
   ]
  },
  {
   "cell_type": "markdown",
   "id": "364904e0-b273-4695-a0fb-2cccdc7c41e6",
   "metadata": {},
   "source": [
    "The following are either sparse data or could introduce multicolinearity (such as ages of subsections of the house and totals of square footage already represented here)"
   ]
  },
  {
   "cell_type": "code",
   "execution_count": null,
   "id": "36853b01-2578-4740-9dca-94882faf99d2",
   "metadata": {
    "tags": []
   },
   "outputs": [],
   "source": []
  },
  {
   "cell_type": "code",
   "execution_count": 31,
   "id": "d44a217e-e645-41d9-946e-b659a4e3a675",
   "metadata": {
    "tags": []
   },
   "outputs": [],
   "source": [
    "features_to_use_list = [feature for feature in correlated_features if feature not in ['Total Bsmt SF', 'Garage Yr Blt', 'TotRms AbvGrd']]"
   ]
  },
  {
   "cell_type": "code",
   "execution_count": 32,
   "id": "8facc731-4133-4580-8a21-0c6bf10d58ad",
   "metadata": {
    "tags": []
   },
   "outputs": [],
   "source": [
    "X_1 = props_dummy.loc[: , features_to_use_list]\n",
    "y = props['SalePrice']\n"
   ]
  },
  {
   "cell_type": "code",
   "execution_count": 33,
   "id": "2e43017c-4b47-42d9-8dc0-c111fad2bb63",
   "metadata": {
    "tags": []
   },
   "outputs": [],
   "source": [
    "# log_transform(props, ['Gr Liv Area','1st Flr SF','2nd Flr SF','BsmtFin SF 1','BsmtFin SF 2'])\n",
    "# props.loc[: , ['Gr Liv Area','1st Flr SF','2nd Flr SF','BsmtFin SF 1','BsmtFin SF 2']].fillna(0, inplace = True)"
   ]
  },
  {
   "cell_type": "code",
   "execution_count": null,
   "id": "7bb6e367-5d9f-42df-8131-83e684d7dc7a",
   "metadata": {
    "tags": []
   },
   "outputs": [],
   "source": []
  },
  {
   "cell_type": "code",
   "execution_count": 34,
   "id": "eb93b43e-3ff7-451b-b4c4-73b4be4e22d7",
   "metadata": {
    "tags": []
   },
   "outputs": [],
   "source": [
    "X_train, X_test, y_train, y_test = train_test_split(X_1, y, test_size = 0.3, random_state=2023)"
   ]
  },
  {
   "cell_type": "code",
   "execution_count": 35,
   "id": "118eab89-ec6c-4fc8-99a1-c3e373661fb0",
   "metadata": {
    "tags": []
   },
   "outputs": [],
   "source": [
    "si = SimpleImputer()"
   ]
  },
  {
   "cell_type": "code",
   "execution_count": 36,
   "id": "345a9248-4030-461f-8a7a-e34198a0a6fc",
   "metadata": {
    "tags": []
   },
   "outputs": [],
   "source": [
    "X_train_si = si.fit_transform(X_train)\n",
    "X_test_si = si.transform(X_test)"
   ]
  },
  {
   "cell_type": "code",
   "execution_count": null,
   "id": "db8dc738-00e1-4088-96bf-a2032ca50709",
   "metadata": {
    "tags": []
   },
   "outputs": [],
   "source": []
  },
  {
   "cell_type": "code",
   "execution_count": 37,
   "id": "eb68c0ee-26ec-43ce-9353-1814cc90c0be",
   "metadata": {
    "tags": []
   },
   "outputs": [
    {
     "data": {
      "text/html": [
       "<style>#sk-container-id-2 {color: black;}#sk-container-id-2 pre{padding: 0;}#sk-container-id-2 div.sk-toggleable {background-color: white;}#sk-container-id-2 label.sk-toggleable__label {cursor: pointer;display: block;width: 100%;margin-bottom: 0;padding: 0.3em;box-sizing: border-box;text-align: center;}#sk-container-id-2 label.sk-toggleable__label-arrow:before {content: \"▸\";float: left;margin-right: 0.25em;color: #696969;}#sk-container-id-2 label.sk-toggleable__label-arrow:hover:before {color: black;}#sk-container-id-2 div.sk-estimator:hover label.sk-toggleable__label-arrow:before {color: black;}#sk-container-id-2 div.sk-toggleable__content {max-height: 0;max-width: 0;overflow: hidden;text-align: left;background-color: #f0f8ff;}#sk-container-id-2 div.sk-toggleable__content pre {margin: 0.2em;color: black;border-radius: 0.25em;background-color: #f0f8ff;}#sk-container-id-2 input.sk-toggleable__control:checked~div.sk-toggleable__content {max-height: 200px;max-width: 100%;overflow: auto;}#sk-container-id-2 input.sk-toggleable__control:checked~label.sk-toggleable__label-arrow:before {content: \"▾\";}#sk-container-id-2 div.sk-estimator input.sk-toggleable__control:checked~label.sk-toggleable__label {background-color: #d4ebff;}#sk-container-id-2 div.sk-label input.sk-toggleable__control:checked~label.sk-toggleable__label {background-color: #d4ebff;}#sk-container-id-2 input.sk-hidden--visually {border: 0;clip: rect(1px 1px 1px 1px);clip: rect(1px, 1px, 1px, 1px);height: 1px;margin: -1px;overflow: hidden;padding: 0;position: absolute;width: 1px;}#sk-container-id-2 div.sk-estimator {font-family: monospace;background-color: #f0f8ff;border: 1px dotted black;border-radius: 0.25em;box-sizing: border-box;margin-bottom: 0.5em;}#sk-container-id-2 div.sk-estimator:hover {background-color: #d4ebff;}#sk-container-id-2 div.sk-parallel-item::after {content: \"\";width: 100%;border-bottom: 1px solid gray;flex-grow: 1;}#sk-container-id-2 div.sk-label:hover label.sk-toggleable__label {background-color: #d4ebff;}#sk-container-id-2 div.sk-serial::before {content: \"\";position: absolute;border-left: 1px solid gray;box-sizing: border-box;top: 0;bottom: 0;left: 50%;z-index: 0;}#sk-container-id-2 div.sk-serial {display: flex;flex-direction: column;align-items: center;background-color: white;padding-right: 0.2em;padding-left: 0.2em;position: relative;}#sk-container-id-2 div.sk-item {position: relative;z-index: 1;}#sk-container-id-2 div.sk-parallel {display: flex;align-items: stretch;justify-content: center;background-color: white;position: relative;}#sk-container-id-2 div.sk-item::before, #sk-container-id-2 div.sk-parallel-item::before {content: \"\";position: absolute;border-left: 1px solid gray;box-sizing: border-box;top: 0;bottom: 0;left: 50%;z-index: -1;}#sk-container-id-2 div.sk-parallel-item {display: flex;flex-direction: column;z-index: 1;position: relative;background-color: white;}#sk-container-id-2 div.sk-parallel-item:first-child::after {align-self: flex-end;width: 50%;}#sk-container-id-2 div.sk-parallel-item:last-child::after {align-self: flex-start;width: 50%;}#sk-container-id-2 div.sk-parallel-item:only-child::after {width: 0;}#sk-container-id-2 div.sk-dashed-wrapped {border: 1px dashed gray;margin: 0 0.4em 0.5em 0.4em;box-sizing: border-box;padding-bottom: 0.4em;background-color: white;}#sk-container-id-2 div.sk-label label {font-family: monospace;font-weight: bold;display: inline-block;line-height: 1.2em;}#sk-container-id-2 div.sk-label-container {text-align: center;}#sk-container-id-2 div.sk-container {/* jupyter's `normalize.less` sets `[hidden] { display: none; }` but bootstrap.min.css set `[hidden] { display: none !important; }` so we also need the `!important` here to be able to override the default hidden behavior on the sphinx rendered scikit-learn.org. See: https://github.com/scikit-learn/scikit-learn/issues/21755 */display: inline-block !important;position: relative;}#sk-container-id-2 div.sk-text-repr-fallback {display: none;}</style><div id=\"sk-container-id-2\" class=\"sk-top-container\"><div class=\"sk-text-repr-fallback\"><pre>LinearRegression()</pre><b>In a Jupyter environment, please rerun this cell to show the HTML representation or trust the notebook. <br />On GitHub, the HTML representation is unable to render, please try loading this page with nbviewer.org.</b></div><div class=\"sk-container\" hidden><div class=\"sk-item\"><div class=\"sk-estimator sk-toggleable\"><input class=\"sk-toggleable__control sk-hidden--visually\" id=\"sk-estimator-id-2\" type=\"checkbox\" checked><label for=\"sk-estimator-id-2\" class=\"sk-toggleable__label sk-toggleable__label-arrow\">LinearRegression</label><div class=\"sk-toggleable__content\"><pre>LinearRegression()</pre></div></div></div></div></div>"
      ],
      "text/plain": [
       "LinearRegression()"
      ]
     },
     "execution_count": 37,
     "metadata": {},
     "output_type": "execute_result"
    }
   ],
   "source": [
    "ols = LinearRegression()\n",
    "ols.fit(X_train_si, y_train)"
   ]
  },
  {
   "cell_type": "code",
   "execution_count": null,
   "id": "c41c8834-9ee6-4baa-8f5c-095fa1793949",
   "metadata": {},
   "outputs": [],
   "source": []
  }
 ],
 "metadata": {
  "kernelspec": {
   "display_name": "Python 3 (ipykernel)",
   "language": "python",
   "name": "python3"
  },
  "language_info": {
   "codemirror_mode": {
    "name": "ipython",
    "version": 3
   },
   "file_extension": ".py",
   "mimetype": "text/x-python",
   "name": "python",
   "nbconvert_exporter": "python",
   "pygments_lexer": "ipython3",
   "version": "3.11.4"
  }
 },
 "nbformat": 4,
 "nbformat_minor": 5
}
