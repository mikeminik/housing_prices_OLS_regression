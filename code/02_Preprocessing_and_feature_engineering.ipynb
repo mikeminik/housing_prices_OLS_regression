{
 "cells": [
  {
   "cell_type": "code",
   "execution_count": 120,
   "id": "76acd7d1-a2d2-4e5a-82f3-3067f02a5277",
   "metadata": {
    "tags": []
   },
   "outputs": [],
   "source": [
    "import numpy as np\n",
    "import pandas as pd\n",
    "import matplotlib.pyplot as plt\n",
    "import seaborn as sns\n",
    "from sklearn.linear_model import LinearRegression\n",
    "from sklearn.model_selection import train_test_split, cross_validate\n",
    "from sklearn.preprocessing import StandardScaler, PolynomialFeatures"
   ]
  },
  {
   "cell_type": "code",
   "execution_count": 121,
   "id": "a974ec88-1ddd-482e-aa66-7e78f5a351c6",
   "metadata": {
    "tags": []
   },
   "outputs": [],
   "source": [
    "props = pd.read_csv('../datasets/model-ready-data.csv')"
   ]
  },
  {
   "cell_type": "code",
   "execution_count": 122,
   "id": "5fbc7ce9-1bb7-400a-b1f9-301e293ab415",
   "metadata": {
    "tags": []
   },
   "outputs": [],
   "source": [
    "props.set_index('Id', inplace = True)"
   ]
  },
  {
   "cell_type": "markdown",
   "id": "7fbc32ae-6c63-4fa7-b759-d57dcc792f64",
   "metadata": {},
   "source": [
    "### Recast some of the stubborn numerics that don't want to stay objects"
   ]
  },
  {
   "cell_type": "code",
   "execution_count": 123,
   "id": "352b9420-b8ac-47a7-a34d-e590642d16d1",
   "metadata": {
    "tags": []
   },
   "outputs": [],
   "source": [
    "props['PID'] = props['PID'].astype(str)\n",
    "props['MS SubClass'] = props['MS SubClass'].astype(str)\n",
    "props['Overall Qual'] = props['Overall Qual'].astype(str)\n",
    "props['Overall Cond'] = props['Overall Cond'].astype(str)\n",
    "props['Mo Sold'] = props['Mo Sold'].astype(str)"
   ]
  },
  {
   "cell_type": "markdown",
   "id": "262b3238-3615-4e97-a889-3b3972bc8357",
   "metadata": {},
   "source": [
    "### Drop PID since we know it should have no correlation to Sale Price"
   ]
  },
  {
   "cell_type": "code",
   "execution_count": 124,
   "id": "949bcc64-05a7-4f46-9319-c71633bf76bd",
   "metadata": {
    "tags": []
   },
   "outputs": [],
   "source": [
    "props.drop('PID', axis = 1, inplace = True)"
   ]
  },
  {
   "cell_type": "code",
   "execution_count": 125,
   "id": "e26497d8-a70c-489a-9b11-788ccfc8378a",
   "metadata": {
    "tags": []
   },
   "outputs": [
    {
     "data": {
      "text/html": [
       "<div>\n",
       "<style scoped>\n",
       "    .dataframe tbody tr th:only-of-type {\n",
       "        vertical-align: middle;\n",
       "    }\n",
       "\n",
       "    .dataframe tbody tr th {\n",
       "        vertical-align: top;\n",
       "    }\n",
       "\n",
       "    .dataframe thead th {\n",
       "        text-align: right;\n",
       "    }\n",
       "</style>\n",
       "<table border=\"1\" class=\"dataframe\">\n",
       "  <thead>\n",
       "    <tr style=\"text-align: right;\">\n",
       "      <th></th>\n",
       "      <th>MS SubClass</th>\n",
       "      <th>MS Zoning</th>\n",
       "      <th>Alley</th>\n",
       "      <th>Lot Shape</th>\n",
       "      <th>Land Contour</th>\n",
       "      <th>Lot Config</th>\n",
       "      <th>Neighborhood</th>\n",
       "      <th>Condition 1</th>\n",
       "      <th>Condition 2</th>\n",
       "      <th>Bldg Type</th>\n",
       "      <th>...</th>\n",
       "      <th>Fireplace Qu</th>\n",
       "      <th>Garage Type</th>\n",
       "      <th>Garage Finish</th>\n",
       "      <th>Garage Qual</th>\n",
       "      <th>Garage Cond</th>\n",
       "      <th>Pool QC</th>\n",
       "      <th>Fence</th>\n",
       "      <th>Misc Feature</th>\n",
       "      <th>Mo Sold</th>\n",
       "      <th>Sale Type</th>\n",
       "    </tr>\n",
       "    <tr>\n",
       "      <th>Id</th>\n",
       "      <th></th>\n",
       "      <th></th>\n",
       "      <th></th>\n",
       "      <th></th>\n",
       "      <th></th>\n",
       "      <th></th>\n",
       "      <th></th>\n",
       "      <th></th>\n",
       "      <th></th>\n",
       "      <th></th>\n",
       "      <th></th>\n",
       "      <th></th>\n",
       "      <th></th>\n",
       "      <th></th>\n",
       "      <th></th>\n",
       "      <th></th>\n",
       "      <th></th>\n",
       "      <th></th>\n",
       "      <th></th>\n",
       "      <th></th>\n",
       "      <th></th>\n",
       "    </tr>\n",
       "  </thead>\n",
       "  <tbody>\n",
       "    <tr>\n",
       "      <th>109</th>\n",
       "      <td>60</td>\n",
       "      <td>RL</td>\n",
       "      <td>NaN</td>\n",
       "      <td>IR1</td>\n",
       "      <td>Lvl</td>\n",
       "      <td>CulDSac</td>\n",
       "      <td>Sawyer</td>\n",
       "      <td>RRAe</td>\n",
       "      <td>Norm</td>\n",
       "      <td>1Fam</td>\n",
       "      <td>...</td>\n",
       "      <td>NaN</td>\n",
       "      <td>Attchd</td>\n",
       "      <td>RFn</td>\n",
       "      <td>TA</td>\n",
       "      <td>TA</td>\n",
       "      <td>NaN</td>\n",
       "      <td>NaN</td>\n",
       "      <td>NaN</td>\n",
       "      <td>3</td>\n",
       "      <td>WD</td>\n",
       "    </tr>\n",
       "    <tr>\n",
       "      <th>544</th>\n",
       "      <td>60</td>\n",
       "      <td>RL</td>\n",
       "      <td>NaN</td>\n",
       "      <td>IR1</td>\n",
       "      <td>Lvl</td>\n",
       "      <td>CulDSac</td>\n",
       "      <td>SawyerW</td>\n",
       "      <td>Norm</td>\n",
       "      <td>Norm</td>\n",
       "      <td>1Fam</td>\n",
       "      <td>...</td>\n",
       "      <td>TA</td>\n",
       "      <td>Attchd</td>\n",
       "      <td>RFn</td>\n",
       "      <td>TA</td>\n",
       "      <td>TA</td>\n",
       "      <td>NaN</td>\n",
       "      <td>NaN</td>\n",
       "      <td>NaN</td>\n",
       "      <td>4</td>\n",
       "      <td>WD</td>\n",
       "    </tr>\n",
       "    <tr>\n",
       "      <th>153</th>\n",
       "      <td>20</td>\n",
       "      <td>RL</td>\n",
       "      <td>NaN</td>\n",
       "      <td>Reg</td>\n",
       "      <td>Lvl</td>\n",
       "      <td>Inside</td>\n",
       "      <td>NAmes</td>\n",
       "      <td>Norm</td>\n",
       "      <td>Norm</td>\n",
       "      <td>1Fam</td>\n",
       "      <td>...</td>\n",
       "      <td>NaN</td>\n",
       "      <td>Detchd</td>\n",
       "      <td>Unf</td>\n",
       "      <td>TA</td>\n",
       "      <td>TA</td>\n",
       "      <td>NaN</td>\n",
       "      <td>NaN</td>\n",
       "      <td>NaN</td>\n",
       "      <td>1</td>\n",
       "      <td>WD</td>\n",
       "    </tr>\n",
       "    <tr>\n",
       "      <th>318</th>\n",
       "      <td>60</td>\n",
       "      <td>RL</td>\n",
       "      <td>NaN</td>\n",
       "      <td>Reg</td>\n",
       "      <td>Lvl</td>\n",
       "      <td>Inside</td>\n",
       "      <td>Timber</td>\n",
       "      <td>Norm</td>\n",
       "      <td>Norm</td>\n",
       "      <td>1Fam</td>\n",
       "      <td>...</td>\n",
       "      <td>NaN</td>\n",
       "      <td>BuiltIn</td>\n",
       "      <td>Fin</td>\n",
       "      <td>TA</td>\n",
       "      <td>TA</td>\n",
       "      <td>NaN</td>\n",
       "      <td>NaN</td>\n",
       "      <td>NaN</td>\n",
       "      <td>4</td>\n",
       "      <td>WD</td>\n",
       "    </tr>\n",
       "    <tr>\n",
       "      <th>255</th>\n",
       "      <td>50</td>\n",
       "      <td>RL</td>\n",
       "      <td>NaN</td>\n",
       "      <td>IR1</td>\n",
       "      <td>Lvl</td>\n",
       "      <td>Inside</td>\n",
       "      <td>SawyerW</td>\n",
       "      <td>Norm</td>\n",
       "      <td>Norm</td>\n",
       "      <td>1Fam</td>\n",
       "      <td>...</td>\n",
       "      <td>NaN</td>\n",
       "      <td>Detchd</td>\n",
       "      <td>Unf</td>\n",
       "      <td>TA</td>\n",
       "      <td>TA</td>\n",
       "      <td>NaN</td>\n",
       "      <td>NaN</td>\n",
       "      <td>NaN</td>\n",
       "      <td>3</td>\n",
       "      <td>WD</td>\n",
       "    </tr>\n",
       "  </tbody>\n",
       "</table>\n",
       "<p>5 rows × 41 columns</p>\n",
       "</div>"
      ],
      "text/plain": [
       "    MS SubClass MS Zoning Alley Lot Shape Land Contour Lot Config  \\\n",
       "Id                                                                  \n",
       "109          60        RL   NaN       IR1          Lvl    CulDSac   \n",
       "544          60        RL   NaN       IR1          Lvl    CulDSac   \n",
       "153          20        RL   NaN       Reg          Lvl     Inside   \n",
       "318          60        RL   NaN       Reg          Lvl     Inside   \n",
       "255          50        RL   NaN       IR1          Lvl     Inside   \n",
       "\n",
       "    Neighborhood Condition 1 Condition 2 Bldg Type  ... Fireplace Qu  \\\n",
       "Id                                                  ...                \n",
       "109       Sawyer        RRAe        Norm      1Fam  ...          NaN   \n",
       "544      SawyerW        Norm        Norm      1Fam  ...           TA   \n",
       "153        NAmes        Norm        Norm      1Fam  ...          NaN   \n",
       "318       Timber        Norm        Norm      1Fam  ...          NaN   \n",
       "255      SawyerW        Norm        Norm      1Fam  ...          NaN   \n",
       "\n",
       "    Garage Type Garage Finish Garage Qual Garage Cond Pool QC Fence  \\\n",
       "Id                                                                    \n",
       "109      Attchd           RFn          TA          TA     NaN   NaN   \n",
       "544      Attchd           RFn          TA          TA     NaN   NaN   \n",
       "153      Detchd           Unf          TA          TA     NaN   NaN   \n",
       "318     BuiltIn           Fin          TA          TA     NaN   NaN   \n",
       "255      Detchd           Unf          TA          TA     NaN   NaN   \n",
       "\n",
       "    Misc Feature Mo Sold Sale Type  \n",
       "Id                                  \n",
       "109          NaN       3       WD   \n",
       "544          NaN       4       WD   \n",
       "153          NaN       1       WD   \n",
       "318          NaN       4       WD   \n",
       "255          NaN       3       WD   \n",
       "\n",
       "[5 rows x 41 columns]"
      ]
     },
     "execution_count": 125,
     "metadata": {},
     "output_type": "execute_result"
    }
   ],
   "source": [
    "non_numerics = props.select_dtypes(exclude = np.number)\n",
    "non_numerics.head()"
   ]
  },
  {
   "cell_type": "code",
   "execution_count": null,
   "id": "103d807e-ed58-4a70-857b-280b6081145f",
   "metadata": {
    "tags": []
   },
   "outputs": [],
   "source": []
  },
  {
   "cell_type": "code",
   "execution_count": 126,
   "id": "d7255062-6ebd-4086-9be7-d8fbc68f687e",
   "metadata": {
    "tags": []
   },
   "outputs": [
    {
     "data": {
      "text/plain": [
       "Index(['MS SubClass', 'MS Zoning', 'Alley', 'Lot Shape', 'Land Contour',\n",
       "       'Lot Config', 'Neighborhood', 'Condition 1', 'Condition 2', 'Bldg Type',\n",
       "       'House Style', 'Overall Qual', 'Overall Cond', 'Roof Style',\n",
       "       'Roof Matl', 'Exterior 1st', 'Exterior 2nd', 'Mas Vnr Type',\n",
       "       'Exter Qual', 'Exter Cond', 'Foundation', 'Bsmt Qual', 'Bsmt Cond',\n",
       "       'Bsmt Exposure', 'BsmtFin Type 1', 'BsmtFin Type 2', 'Heating',\n",
       "       'Heating QC', 'Electrical', 'Kitchen Qual', 'Functional',\n",
       "       'Fireplace Qu', 'Garage Type', 'Garage Finish', 'Garage Qual',\n",
       "       'Garage Cond', 'Pool QC', 'Fence', 'Misc Feature', 'Mo Sold',\n",
       "       'Sale Type'],\n",
       "      dtype='object')"
      ]
     },
     "execution_count": 126,
     "metadata": {},
     "output_type": "execute_result"
    }
   ],
   "source": [
    "non_numerics.columns"
   ]
  },
  {
   "cell_type": "code",
   "execution_count": 127,
   "id": "032bb1f8-db2f-4e57-87a7-5834c87cf249",
   "metadata": {
    "tags": []
   },
   "outputs": [],
   "source": [
    "props_dummy = pd.get_dummies(props, columns = non_numerics.columns, drop_first = True)"
   ]
  },
  {
   "cell_type": "code",
   "execution_count": 128,
   "id": "1cc58f0e-0f7a-41c3-a579-dbc35fbe5dc6",
   "metadata": {
    "tags": []
   },
   "outputs": [
    {
     "data": {
      "text/plain": [
       "(2026, 284)"
      ]
     },
     "execution_count": 128,
     "metadata": {},
     "output_type": "execute_result"
    }
   ],
   "source": [
    "props_dummy.shape"
   ]
  },
  {
   "cell_type": "code",
   "execution_count": 129,
   "id": "e21ecce4-728a-4846-95e5-1209a68136b9",
   "metadata": {
    "tags": []
   },
   "outputs": [],
   "source": [
    "corr = props_dummy.corr(numeric_only = True)[['SalePrice']].sort_values( by = 'SalePrice', ascending = False)"
   ]
  },
  {
   "cell_type": "code",
   "execution_count": null,
   "id": "41ba5086-145a-4a7e-909a-3455602573f5",
   "metadata": {
    "tags": []
   },
   "outputs": [],
   "source": []
  },
  {
   "cell_type": "code",
   "execution_count": 130,
   "id": "ee495ff1-cecd-4827-ad69-6395aa8c8bb9",
   "metadata": {
    "tags": []
   },
   "outputs": [],
   "source": [
    "correlated_features = corr[(corr['SalePrice'] > 0.2) |  (corr['SalePrice'] < -0.2)]"
   ]
  },
  {
   "cell_type": "code",
   "execution_count": 131,
   "id": "0d8fb416-a035-4c29-b601-ceac1d688a42",
   "metadata": {
    "tags": []
   },
   "outputs": [
    {
     "data": {
      "text/plain": [
       "Index(['Gr Liv Area', 'Garage Area', 'Garage Cars', 'Total Bsmt SF',\n",
       "       '1st Flr SF', 'Garage Yr Blt', 'Full Bath', 'Foundation_PConc',\n",
       "       'Mas Vnr Area', 'TotRms AbvGrd', 'Overall Qual_9', 'Fireplaces',\n",
       "       'BsmtFin Type 1_GLQ', 'Exter Qual_Gd', 'Neighborhood_NridgHt',\n",
       "       'BsmtFin SF 1', 'Overall Qual_8', 'Fireplace Qu_Gd', 'Bsmt Exposure_Gd',\n",
       "       'Overall Cond_5', 'MS SubClass_60', 'Garage Type_Attchd',\n",
       "       'Sale Type_New', 'Exterior 1st_VinylSd', 'Lot Frontage',\n",
       "       'Exterior 2nd_VinylSd', 'Wood Deck SF', 'Open Porch SF',\n",
       "       'Mas Vnr Type_Stone', 'Kitchen Qual_Gd', 'Overall Qual_10', 'Lot Area',\n",
       "       'Paved Drive', 'Bsmt Full Bath', 'Half Bath', 'Garage Cond_TA',\n",
       "       'Roof Style_Hip', 'Neighborhood_NoRidge', 'Mas Vnr Type_BrkFace',\n",
       "       'Neighborhood_StoneBr', 'Electrical_SBrkr', '2nd Flr SF',\n",
       "       'Garage Qual_TA', 'Bsmt Qual_Gd', 'MS Zoning_RL', 'Garage Type_BuiltIn',\n",
       "       'Land Contour_HLS', 'House Style_2Story', 'Sale Type_WD ',\n",
       "       'Neighborhood_OldTown', 'MS SubClass_30', 'Roof Style_Gable',\n",
       "       'Overall Qual_4', 'MS Zoning_RM', 'Bsmt Exposure_No', 'Lot Shape_Reg',\n",
       "       'Heating QC_TA', 'Foundation_CBlock', 'Overall Qual_5',\n",
       "       'Garage Type_Detchd', 'Mas Vnr Type_None', 'Garage Finish_Unf',\n",
       "       'Bsmt Qual_TA', 'Kitchen Qual_TA', 'Year Remod/Add',\n",
       "       'Years since built', 'Exter Qual_TA'],\n",
       "      dtype='object')"
      ]
     },
     "execution_count": 131,
     "metadata": {},
     "output_type": "execute_result"
    }
   ],
   "source": [
    "correlated_features.index[1:]"
   ]
  },
  {
   "cell_type": "markdown",
   "id": "563cbd1a-b027-4245-bc2a-109ce625ef6a",
   "metadata": {
    "tags": []
   },
   "source": [
    "## Some dropping / feature engineering based on what we see above"
   ]
  },
  {
   "cell_type": "markdown",
   "id": "364904e0-b273-4695-a0fb-2cccdc7c41e6",
   "metadata": {},
   "source": [
    "The following are either sparse data or could introduce multicolinearity (such as ages of subsections of the house and totals of square footage already represented here)"
   ]
  },
  {
   "cell_type": "code",
   "execution_count": 132,
   "id": "7c70d64f-88c2-4248-a5ac-6512131ebf91",
   "metadata": {
    "tags": []
   },
   "outputs": [],
   "source": [
    "\n",
    "props.drop(['Alley', 'Garage Yr Blt', 'Pool QC', 'Misc Feature', 'Fence' ], axis = 1, inplace = True )"
   ]
  },
  {
   "cell_type": "code",
   "execution_count": 133,
   "id": "33aab3ed-4b04-43f5-afbd-ed2931b67fe1",
   "metadata": {
    "tags": []
   },
   "outputs": [],
   "source": [
    "sf = [feature for feature in props.columns if 'sf' in feature.lower() or 'tot' in feature.lower() ]"
   ]
  },
  {
   "cell_type": "code",
   "execution_count": 134,
   "id": "9a6a4574-aed7-4d4f-866e-e5da138a946f",
   "metadata": {
    "tags": []
   },
   "outputs": [],
   "source": [
    "props.drop(['Total Bsmt SF', 'TotRms AbvGrd'], axis = 1, inplace = True)"
   ]
  },
  {
   "cell_type": "code",
   "execution_count": 135,
   "id": "059f7df5-ece7-448f-a606-86e469222b8d",
   "metadata": {
    "tags": []
   },
   "outputs": [
    {
     "ename": "NameError",
     "evalue": "name 'C' is not defined",
     "output_type": "error",
     "traceback": [
      "\u001b[1;31m---------------------------------------------------------------------------\u001b[0m",
      "\u001b[1;31mNameError\u001b[0m                                 Traceback (most recent call last)",
      "Cell \u001b[1;32mIn[135], line 1\u001b[0m\n\u001b[1;32m----> 1\u001b[0m non_numerics \u001b[38;5;241m=\u001b[39m C\n\u001b[0;32m      2\u001b[0m props_dummy \u001b[38;5;241m=\u001b[39m pd\u001b[38;5;241m.\u001b[39mget_dummies(props, columns \u001b[38;5;241m=\u001b[39m non_numerics\u001b[38;5;241m.\u001b[39mcolumns, drop_first \u001b[38;5;241m=\u001b[39m \u001b[38;5;28;01mTrue\u001b[39;00m)\n\u001b[0;32m      3\u001b[0m props_dummy\u001b[38;5;241m.\u001b[39mshape\n",
      "\u001b[1;31mNameError\u001b[0m: name 'C' is not defined"
     ]
    }
   ],
   "source": [
    "non_numerics = C\n",
    "props_dummy = pd.get_dummies(props, columns = non_numerics.columns, drop_first = True)\n",
    "props_dummy.shape"
   ]
  },
  {
   "cell_type": "code",
   "execution_count": null,
   "id": "dc914edc-3c90-46e3-8a35-95c16c8288d3",
   "metadata": {
    "tags": []
   },
   "outputs": [],
   "source": [
    "corr = props_dummy.corr(numeric_only = True)[['SalePrice']].sort_values( by = 'SalePrice', ascending = False)"
   ]
  },
  {
   "cell_type": "code",
   "execution_count": 119,
   "id": "606fa69f-aa06-4707-8590-4ad553eb2481",
   "metadata": {
    "tags": []
   },
   "outputs": [
    {
     "ename": "InvalidIndexError",
     "evalue": "['Gr Liv Area', 'Garage Area', 'Garage Cars', '1st Flr SF', 'Full Bath', 'Foundation_PConc', 'Mas Vnr Area', 'Overall Qual_9', 'Fireplaces', 'BsmtFin Type 1_GLQ', 'Exter Qual_Gd', 'Neighborhood_NridgHt', 'BsmtFin SF 1', 'Overall Qual_8', 'Fireplace Qu_Gd', 'Bsmt Exposure_Gd', 'Overall Cond_5', 'MS SubClass_60', 'Garage Type_Attchd', 'Sale Type_New', 'Exterior 1st_VinylSd', 'Lot Frontage', 'Exterior 2nd_VinylSd', 'Wood Deck SF', 'Open Porch SF', 'Mas Vnr Type_Stone', 'Kitchen Qual_Gd', 'Overall Qual_10', 'Lot Area', 'Paved Drive', 'Bsmt Full Bath', 'Half Bath', 'Garage Cond_TA', 'Roof Style_Hip', 'Neighborhood_NoRidge', 'Mas Vnr Type_BrkFace', 'Neighborhood_StoneBr', 'Electrical_SBrkr', '2nd Flr SF', 'Garage Qual_TA', 'Bsmt Qual_Gd', 'MS Zoning_RL', 'Garage Type_BuiltIn', 'Land Contour_HLS', 'House Style_2Story', 'Sale Type_WD ', 'Neighborhood_OldTown', 'MS SubClass_30', 'Roof Style_Gable', 'Overall Qual_4', 'MS Zoning_RM', 'Bsmt Exposure_No', 'Lot Shape_Reg', 'Heating QC_TA', 'Foundation_CBlock', 'Overall Qual_5', 'Garage Type_Detchd', 'Mas Vnr Type_None', 'Garage Finish_Unf', 'Bsmt Qual_TA', 'Kitchen Qual_TA', 'Year Remod/Add', 'Years since built', 'Exter Qual_TA']",
     "output_type": "error",
     "traceback": [
      "\u001b[1;31m---------------------------------------------------------------------------\u001b[0m",
      "\u001b[1;31mTypeError\u001b[0m                                 Traceback (most recent call last)",
      "File \u001b[1;32m~\\anaconda3\\Lib\\site-packages\\pandas\\core\\indexes\\base.py:3802\u001b[0m, in \u001b[0;36mIndex.get_loc\u001b[1;34m(self, key, method, tolerance)\u001b[0m\n\u001b[0;32m   3801\u001b[0m \u001b[38;5;28;01mtry\u001b[39;00m:\n\u001b[1;32m-> 3802\u001b[0m     \u001b[38;5;28;01mreturn\u001b[39;00m \u001b[38;5;28mself\u001b[39m\u001b[38;5;241m.\u001b[39m_engine\u001b[38;5;241m.\u001b[39mget_loc(casted_key)\n\u001b[0;32m   3803\u001b[0m \u001b[38;5;28;01mexcept\u001b[39;00m \u001b[38;5;167;01mKeyError\u001b[39;00m \u001b[38;5;28;01mas\u001b[39;00m err:\n",
      "File \u001b[1;32m~\\anaconda3\\Lib\\site-packages\\pandas\\_libs\\index.pyx:138\u001b[0m, in \u001b[0;36mpandas._libs.index.IndexEngine.get_loc\u001b[1;34m()\u001b[0m\n",
      "File \u001b[1;32m~\\anaconda3\\Lib\\site-packages\\pandas\\_libs\\index.pyx:144\u001b[0m, in \u001b[0;36mpandas._libs.index.IndexEngine.get_loc\u001b[1;34m()\u001b[0m\n",
      "\u001b[1;31mTypeError\u001b[0m: '['Gr Liv Area', 'Garage Area', 'Garage Cars', '1st Flr SF', 'Full Bath', 'Foundation_PConc', 'Mas Vnr Area', 'Overall Qual_9', 'Fireplaces', 'BsmtFin Type 1_GLQ', 'Exter Qual_Gd', 'Neighborhood_NridgHt', 'BsmtFin SF 1', 'Overall Qual_8', 'Fireplace Qu_Gd', 'Bsmt Exposure_Gd', 'Overall Cond_5', 'MS SubClass_60', 'Garage Type_Attchd', 'Sale Type_New', 'Exterior 1st_VinylSd', 'Lot Frontage', 'Exterior 2nd_VinylSd', 'Wood Deck SF', 'Open Porch SF', 'Mas Vnr Type_Stone', 'Kitchen Qual_Gd', 'Overall Qual_10', 'Lot Area', 'Paved Drive', 'Bsmt Full Bath', 'Half Bath', 'Garage Cond_TA', 'Roof Style_Hip', 'Neighborhood_NoRidge', 'Mas Vnr Type_BrkFace', 'Neighborhood_StoneBr', 'Electrical_SBrkr', '2nd Flr SF', 'Garage Qual_TA', 'Bsmt Qual_Gd', 'MS Zoning_RL', 'Garage Type_BuiltIn', 'Land Contour_HLS', 'House Style_2Story', 'Sale Type_WD ', 'Neighborhood_OldTown', 'MS SubClass_30', 'Roof Style_Gable', 'Overall Qual_4', 'MS Zoning_RM', 'Bsmt Exposure_No', 'Lot Shape_Reg', 'Heating QC_TA', 'Foundation_CBlock', 'Overall Qual_5', 'Garage Type_Detchd', 'Mas Vnr Type_None', 'Garage Finish_Unf', 'Bsmt Qual_TA', 'Kitchen Qual_TA', 'Year Remod/Add', 'Years since built', 'Exter Qual_TA']' is an invalid key",
      "\nDuring handling of the above exception, another exception occurred:\n",
      "\u001b[1;31mInvalidIndexError\u001b[0m                         Traceback (most recent call last)",
      "Cell \u001b[1;32mIn[119], line 1\u001b[0m\n\u001b[1;32m----> 1\u001b[0m props\u001b[38;5;241m.\u001b[39mloc[: [item \u001b[38;5;28;01mfor\u001b[39;00m item \u001b[38;5;129;01min\u001b[39;00m correlated_features\u001b[38;5;241m.\u001b[39mindex[\u001b[38;5;241m1\u001b[39m:]]]\n",
      "File \u001b[1;32m~\\anaconda3\\Lib\\site-packages\\pandas\\core\\indexing.py:1073\u001b[0m, in \u001b[0;36m_LocationIndexer.__getitem__\u001b[1;34m(self, key)\u001b[0m\n\u001b[0;32m   1070\u001b[0m axis \u001b[38;5;241m=\u001b[39m \u001b[38;5;28mself\u001b[39m\u001b[38;5;241m.\u001b[39maxis \u001b[38;5;129;01mor\u001b[39;00m \u001b[38;5;241m0\u001b[39m\n\u001b[0;32m   1072\u001b[0m maybe_callable \u001b[38;5;241m=\u001b[39m com\u001b[38;5;241m.\u001b[39mapply_if_callable(key, \u001b[38;5;28mself\u001b[39m\u001b[38;5;241m.\u001b[39mobj)\n\u001b[1;32m-> 1073\u001b[0m \u001b[38;5;28;01mreturn\u001b[39;00m \u001b[38;5;28mself\u001b[39m\u001b[38;5;241m.\u001b[39m_getitem_axis(maybe_callable, axis\u001b[38;5;241m=\u001b[39maxis)\n",
      "File \u001b[1;32m~\\anaconda3\\Lib\\site-packages\\pandas\\core\\indexing.py:1290\u001b[0m, in \u001b[0;36m_LocIndexer._getitem_axis\u001b[1;34m(self, key, axis)\u001b[0m\n\u001b[0;32m   1288\u001b[0m \u001b[38;5;28;01mif\u001b[39;00m \u001b[38;5;28misinstance\u001b[39m(key, \u001b[38;5;28mslice\u001b[39m):\n\u001b[0;32m   1289\u001b[0m     \u001b[38;5;28mself\u001b[39m\u001b[38;5;241m.\u001b[39m_validate_key(key, axis)\n\u001b[1;32m-> 1290\u001b[0m     \u001b[38;5;28;01mreturn\u001b[39;00m \u001b[38;5;28mself\u001b[39m\u001b[38;5;241m.\u001b[39m_get_slice_axis(key, axis\u001b[38;5;241m=\u001b[39maxis)\n\u001b[0;32m   1291\u001b[0m \u001b[38;5;28;01melif\u001b[39;00m com\u001b[38;5;241m.\u001b[39mis_bool_indexer(key):\n\u001b[0;32m   1292\u001b[0m     \u001b[38;5;28;01mreturn\u001b[39;00m \u001b[38;5;28mself\u001b[39m\u001b[38;5;241m.\u001b[39m_getbool_axis(key, axis\u001b[38;5;241m=\u001b[39maxis)\n",
      "File \u001b[1;32m~\\anaconda3\\Lib\\site-packages\\pandas\\core\\indexing.py:1324\u001b[0m, in \u001b[0;36m_LocIndexer._get_slice_axis\u001b[1;34m(self, slice_obj, axis)\u001b[0m\n\u001b[0;32m   1321\u001b[0m     \u001b[38;5;28;01mreturn\u001b[39;00m obj\u001b[38;5;241m.\u001b[39mcopy(deep\u001b[38;5;241m=\u001b[39m\u001b[38;5;28;01mFalse\u001b[39;00m)\n\u001b[0;32m   1323\u001b[0m labels \u001b[38;5;241m=\u001b[39m obj\u001b[38;5;241m.\u001b[39m_get_axis(axis)\n\u001b[1;32m-> 1324\u001b[0m indexer \u001b[38;5;241m=\u001b[39m labels\u001b[38;5;241m.\u001b[39mslice_indexer(slice_obj\u001b[38;5;241m.\u001b[39mstart, slice_obj\u001b[38;5;241m.\u001b[39mstop, slice_obj\u001b[38;5;241m.\u001b[39mstep)\n\u001b[0;32m   1326\u001b[0m \u001b[38;5;28;01mif\u001b[39;00m \u001b[38;5;28misinstance\u001b[39m(indexer, \u001b[38;5;28mslice\u001b[39m):\n\u001b[0;32m   1327\u001b[0m     \u001b[38;5;28;01mreturn\u001b[39;00m \u001b[38;5;28mself\u001b[39m\u001b[38;5;241m.\u001b[39mobj\u001b[38;5;241m.\u001b[39m_slice(indexer, axis\u001b[38;5;241m=\u001b[39maxis)\n",
      "File \u001b[1;32m~\\anaconda3\\Lib\\site-packages\\pandas\\core\\indexes\\base.py:6559\u001b[0m, in \u001b[0;36mIndex.slice_indexer\u001b[1;34m(self, start, end, step, kind)\u001b[0m\n\u001b[0;32m   6516\u001b[0m \u001b[38;5;250m\u001b[39m\u001b[38;5;124;03m\"\"\"\u001b[39;00m\n\u001b[0;32m   6517\u001b[0m \u001b[38;5;124;03mCompute the slice indexer for input labels and step.\u001b[39;00m\n\u001b[0;32m   6518\u001b[0m \n\u001b[1;32m   (...)\u001b[0m\n\u001b[0;32m   6555\u001b[0m \u001b[38;5;124;03mslice(1, 3, None)\u001b[39;00m\n\u001b[0;32m   6556\u001b[0m \u001b[38;5;124;03m\"\"\"\u001b[39;00m\n\u001b[0;32m   6557\u001b[0m \u001b[38;5;28mself\u001b[39m\u001b[38;5;241m.\u001b[39m_deprecated_arg(kind, \u001b[38;5;124m\"\u001b[39m\u001b[38;5;124mkind\u001b[39m\u001b[38;5;124m\"\u001b[39m, \u001b[38;5;124m\"\u001b[39m\u001b[38;5;124mslice_indexer\u001b[39m\u001b[38;5;124m\"\u001b[39m)\n\u001b[1;32m-> 6559\u001b[0m start_slice, end_slice \u001b[38;5;241m=\u001b[39m \u001b[38;5;28mself\u001b[39m\u001b[38;5;241m.\u001b[39mslice_locs(start, end, step\u001b[38;5;241m=\u001b[39mstep)\n\u001b[0;32m   6561\u001b[0m \u001b[38;5;66;03m# return a slice\u001b[39;00m\n\u001b[0;32m   6562\u001b[0m \u001b[38;5;28;01mif\u001b[39;00m \u001b[38;5;129;01mnot\u001b[39;00m is_scalar(start_slice):\n",
      "File \u001b[1;32m~\\anaconda3\\Lib\\site-packages\\pandas\\core\\indexes\\base.py:6773\u001b[0m, in \u001b[0;36mIndex.slice_locs\u001b[1;34m(self, start, end, step, kind)\u001b[0m\n\u001b[0;32m   6771\u001b[0m end_slice \u001b[38;5;241m=\u001b[39m \u001b[38;5;28;01mNone\u001b[39;00m\n\u001b[0;32m   6772\u001b[0m \u001b[38;5;28;01mif\u001b[39;00m end \u001b[38;5;129;01mis\u001b[39;00m \u001b[38;5;129;01mnot\u001b[39;00m \u001b[38;5;28;01mNone\u001b[39;00m:\n\u001b[1;32m-> 6773\u001b[0m     end_slice \u001b[38;5;241m=\u001b[39m \u001b[38;5;28mself\u001b[39m\u001b[38;5;241m.\u001b[39mget_slice_bound(end, \u001b[38;5;124m\"\u001b[39m\u001b[38;5;124mright\u001b[39m\u001b[38;5;124m\"\u001b[39m)\n\u001b[0;32m   6774\u001b[0m \u001b[38;5;28;01mif\u001b[39;00m end_slice \u001b[38;5;129;01mis\u001b[39;00m \u001b[38;5;28;01mNone\u001b[39;00m:\n\u001b[0;32m   6775\u001b[0m     end_slice \u001b[38;5;241m=\u001b[39m \u001b[38;5;28mlen\u001b[39m(\u001b[38;5;28mself\u001b[39m)\n",
      "File \u001b[1;32m~\\anaconda3\\Lib\\site-packages\\pandas\\core\\indexes\\base.py:6680\u001b[0m, in \u001b[0;36mIndex.get_slice_bound\u001b[1;34m(self, label, side, kind)\u001b[0m\n\u001b[0;32m   6678\u001b[0m \u001b[38;5;66;03m# we need to look up the label\u001b[39;00m\n\u001b[0;32m   6679\u001b[0m \u001b[38;5;28;01mtry\u001b[39;00m:\n\u001b[1;32m-> 6680\u001b[0m     slc \u001b[38;5;241m=\u001b[39m \u001b[38;5;28mself\u001b[39m\u001b[38;5;241m.\u001b[39mget_loc(label)\n\u001b[0;32m   6681\u001b[0m \u001b[38;5;28;01mexcept\u001b[39;00m \u001b[38;5;167;01mKeyError\u001b[39;00m \u001b[38;5;28;01mas\u001b[39;00m err:\n\u001b[0;32m   6682\u001b[0m     \u001b[38;5;28;01mtry\u001b[39;00m:\n",
      "File \u001b[1;32m~\\anaconda3\\Lib\\site-packages\\pandas\\core\\indexes\\base.py:3809\u001b[0m, in \u001b[0;36mIndex.get_loc\u001b[1;34m(self, key, method, tolerance)\u001b[0m\n\u001b[0;32m   3804\u001b[0m         \u001b[38;5;28;01mraise\u001b[39;00m \u001b[38;5;167;01mKeyError\u001b[39;00m(key) \u001b[38;5;28;01mfrom\u001b[39;00m \u001b[38;5;21;01merr\u001b[39;00m\n\u001b[0;32m   3805\u001b[0m     \u001b[38;5;28;01mexcept\u001b[39;00m \u001b[38;5;167;01mTypeError\u001b[39;00m:\n\u001b[0;32m   3806\u001b[0m         \u001b[38;5;66;03m# If we have a listlike key, _check_indexing_error will raise\u001b[39;00m\n\u001b[0;32m   3807\u001b[0m         \u001b[38;5;66;03m#  InvalidIndexError. Otherwise we fall through and re-raise\u001b[39;00m\n\u001b[0;32m   3808\u001b[0m         \u001b[38;5;66;03m#  the TypeError.\u001b[39;00m\n\u001b[1;32m-> 3809\u001b[0m         \u001b[38;5;28mself\u001b[39m\u001b[38;5;241m.\u001b[39m_check_indexing_error(key)\n\u001b[0;32m   3810\u001b[0m         \u001b[38;5;28;01mraise\u001b[39;00m\n\u001b[0;32m   3812\u001b[0m \u001b[38;5;66;03m# GH#42269\u001b[39;00m\n",
      "File \u001b[1;32m~\\anaconda3\\Lib\\site-packages\\pandas\\core\\indexes\\base.py:5925\u001b[0m, in \u001b[0;36mIndex._check_indexing_error\u001b[1;34m(self, key)\u001b[0m\n\u001b[0;32m   5921\u001b[0m \u001b[38;5;28;01mdef\u001b[39;00m \u001b[38;5;21m_check_indexing_error\u001b[39m(\u001b[38;5;28mself\u001b[39m, key):\n\u001b[0;32m   5922\u001b[0m     \u001b[38;5;28;01mif\u001b[39;00m \u001b[38;5;129;01mnot\u001b[39;00m is_scalar(key):\n\u001b[0;32m   5923\u001b[0m         \u001b[38;5;66;03m# if key is not a scalar, directly raise an error (the code below\u001b[39;00m\n\u001b[0;32m   5924\u001b[0m         \u001b[38;5;66;03m# would convert to numpy arrays and raise later any way) - GH29926\u001b[39;00m\n\u001b[1;32m-> 5925\u001b[0m         \u001b[38;5;28;01mraise\u001b[39;00m InvalidIndexError(key)\n",
      "\u001b[1;31mInvalidIndexError\u001b[0m: ['Gr Liv Area', 'Garage Area', 'Garage Cars', '1st Flr SF', 'Full Bath', 'Foundation_PConc', 'Mas Vnr Area', 'Overall Qual_9', 'Fireplaces', 'BsmtFin Type 1_GLQ', 'Exter Qual_Gd', 'Neighborhood_NridgHt', 'BsmtFin SF 1', 'Overall Qual_8', 'Fireplace Qu_Gd', 'Bsmt Exposure_Gd', 'Overall Cond_5', 'MS SubClass_60', 'Garage Type_Attchd', 'Sale Type_New', 'Exterior 1st_VinylSd', 'Lot Frontage', 'Exterior 2nd_VinylSd', 'Wood Deck SF', 'Open Porch SF', 'Mas Vnr Type_Stone', 'Kitchen Qual_Gd', 'Overall Qual_10', 'Lot Area', 'Paved Drive', 'Bsmt Full Bath', 'Half Bath', 'Garage Cond_TA', 'Roof Style_Hip', 'Neighborhood_NoRidge', 'Mas Vnr Type_BrkFace', 'Neighborhood_StoneBr', 'Electrical_SBrkr', '2nd Flr SF', 'Garage Qual_TA', 'Bsmt Qual_Gd', 'MS Zoning_RL', 'Garage Type_BuiltIn', 'Land Contour_HLS', 'House Style_2Story', 'Sale Type_WD ', 'Neighborhood_OldTown', 'MS SubClass_30', 'Roof Style_Gable', 'Overall Qual_4', 'MS Zoning_RM', 'Bsmt Exposure_No', 'Lot Shape_Reg', 'Heating QC_TA', 'Foundation_CBlock', 'Overall Qual_5', 'Garage Type_Detchd', 'Mas Vnr Type_None', 'Garage Finish_Unf', 'Bsmt Qual_TA', 'Kitchen Qual_TA', 'Year Remod/Add', 'Years since built', 'Exter Qual_TA']"
     ]
    }
   ],
   "source": [
    "props.loc[: [item for item in correlated_features.index[1:]]]"
   ]
  },
  {
   "cell_type": "code",
   "execution_count": 100,
   "id": "7bb6e367-5d9f-42df-8131-83e684d7dc7a",
   "metadata": {
    "tags": []
   },
   "outputs": [],
   "source": [
    "ols = LinearRegression()"
   ]
  },
  {
   "cell_type": "code",
   "execution_count": null,
   "id": "eb93b43e-3ff7-451b-b4c4-73b4be4e22d7",
   "metadata": {
    "tags": []
   },
   "outputs": [],
   "source": [
    "X_train, X_test, y_train, y_test = train_test_split("
   ]
  },
  {
   "cell_type": "code",
   "execution_count": null,
   "id": "eb68c0ee-26ec-43ce-9353-1814cc90c0be",
   "metadata": {},
   "outputs": [],
   "source": []
  }
 ],
 "metadata": {
  "kernelspec": {
   "display_name": "Python 3 (ipykernel)",
   "language": "python",
   "name": "python3"
  },
  "language_info": {
   "codemirror_mode": {
    "name": "ipython",
    "version": 3
   },
   "file_extension": ".py",
   "mimetype": "text/x-python",
   "name": "python",
   "nbconvert_exporter": "python",
   "pygments_lexer": "ipython3",
   "version": "3.11.4"
  }
 },
 "nbformat": 4,
 "nbformat_minor": 5
}
