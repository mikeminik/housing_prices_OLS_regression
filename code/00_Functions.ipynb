{
 "cells": [
  {
   "cell_type": "code",
   "execution_count": 3,
   "id": "969ea9d7-bdbc-4e0b-8835-cc0f73e5e9dd",
   "metadata": {
    "tags": []
   },
   "outputs": [],
   "source": [
    "import numpy as np\n",
    "import pandas as pd"
   ]
  },
  {
   "cell_type": "code",
   "execution_count": 11,
   "id": "0bb6801b-d3ae-4b53-bc8e-8ca4e442a2f1",
   "metadata": {
    "tags": []
   },
   "outputs": [],
   "source": [
    "def replace_NaN_with_NA(data, columns):\n",
    "    for column in columns:\n",
    "        data[column].replace(np.NaN, 'NA', inplace = True)\n",
    "    return None"
   ]
  },
  {
   "cell_type": "code",
   "execution_count": 12,
   "id": "abec70d6-8d86-4678-9f19-9d46b8040949",
   "metadata": {},
   "outputs": [],
   "source": [
    "# This function finds the most commonly occurring string value in a series, converts that to a 1 and everything else to a 0. Used to consolidate minority categorical values \n",
    "# that you don't think there's a lot of difference between\n",
    "def binarize_to_most_common_str_val(data, column_tuple):\n",
    "    for column, new_name in column_tuple:\n",
    "        true_value = data[column].value_counts().sort_values(ascending=False).index[0]\n",
    "        data[column] = data[column].str.contains(true_value).astype(int)\n",
    "        if new_name != None:\n",
    "            data.rename({column : new_name}, axis = 1, inplace = True)"
   ]
  },
  {
   "cell_type": "code",
   "execution_count": 9,
   "id": "8a45353d-1d06-43c7-a270-32b7f07c1b33",
   "metadata": {},
   "outputs": [],
   "source": [
    "#convert numeric columns that shouldn't be numeric to objects\n",
    "def convert_num_to_cat(data, list_columns):\n",
    "    for column in list_columns:\n",
    "        data[column] = data[column].astype(str)"
   ]
  },
  {
   "cell_type": "code",
   "execution_count": 10,
   "id": "4b8644b6-c541-456b-80f9-a8970687f25c",
   "metadata": {
    "tags": []
   },
   "outputs": [],
   "source": [
    "def convert_years_to_ages(data, latest_year, column_tuple):\n",
    "    for column, new_name in column_tuple:\n",
    "        data[column] = latest_year - data[column]\n",
    "        if new_name != None:\n",
    "            data.rename({column : new_name}, axis = 1, inplace = True)"
   ]
  },
  {
   "cell_type": "code",
   "execution_count": 14,
   "id": "e41f0fde-97b1-417a-bd64-0687a6708a36",
   "metadata": {
    "tags": []
   },
   "outputs": [],
   "source": [
    "def log_transform(data, columns):\n",
    "    for feature in columns:\n",
    "        data[feature] += 1\n",
    "        data[feature] = np.log(data[feature])\n",
    "#Citation: Google Bard for idea on how to handle 0s when log transforming"
   ]
  },
  {
   "cell_type": "code",
   "execution_count": null,
   "id": "976a8aa2-f629-470e-8322-83f555664342",
   "metadata": {},
   "outputs": [],
   "source": []
  }
 ],
 "metadata": {
  "kernelspec": {
   "display_name": "Python 3 (ipykernel)",
   "language": "python",
   "name": "python3"
  },
  "language_info": {
   "codemirror_mode": {
    "name": "ipython",
    "version": 3
   },
   "file_extension": ".py",
   "mimetype": "text/x-python",
   "name": "python",
   "nbconvert_exporter": "python",
   "pygments_lexer": "ipython3",
   "version": "3.11.4"
  }
 },
 "nbformat": 4,
 "nbformat_minor": 5
}
