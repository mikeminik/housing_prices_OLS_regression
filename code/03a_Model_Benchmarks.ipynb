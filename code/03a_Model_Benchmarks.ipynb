{
 "cells": [
  {
   "cell_type": "code",
   "execution_count": 14,
   "id": "f3efae66-7744-43ae-81dc-d57a63e37c8c",
   "metadata": {
    "tags": []
   },
   "outputs": [],
   "source": [
    "%run 02a_Preprocessing_and_feature_engineering.ipynb"
   ]
  },
  {
   "cell_type": "code",
   "execution_count": 15,
   "id": "65b8e264-3e9f-4c2f-94ee-2e6537d99fc3",
   "metadata": {
    "tags": []
   },
   "outputs": [],
   "source": [
    "y_test_mean = y_test.mean()"
   ]
  },
  {
   "cell_type": "code",
   "execution_count": 16,
   "id": "4384b268-eaa7-4ecb-9e1b-c9357aa75eee",
   "metadata": {
    "tags": []
   },
   "outputs": [],
   "source": [
    "y_baseline = y_test/y_test * y_test_mean"
   ]
  },
  {
   "cell_type": "code",
   "execution_count": 17,
   "id": "751a8742-9de7-4291-801b-3309e6cc88f0",
   "metadata": {
    "tags": []
   },
   "outputs": [
    {
     "data": {
      "text/plain": [
       "(608,)"
      ]
     },
     "execution_count": 17,
     "metadata": {},
     "output_type": "execute_result"
    }
   ],
   "source": [
    "y_baseline.shape"
   ]
  },
  {
   "cell_type": "markdown",
   "id": "c136b153-cbbc-4715-83d2-c67c063b1f3f",
   "metadata": {},
   "source": [
    "## R2 Score"
   ]
  },
  {
   "cell_type": "markdown",
   "id": "e0511116-26df-4dd3-a1cb-fa4b753f5dbe",
   "metadata": {},
   "source": [
    "### Train"
   ]
  },
  {
   "cell_type": "code",
   "execution_count": 18,
   "id": "8b491f7c-e600-41c9-8a0d-139ed36f551b",
   "metadata": {
    "tags": []
   },
   "outputs": [
    {
     "data": {
      "text/plain": [
       "0.8583353658768584"
      ]
     },
     "execution_count": 18,
     "metadata": {},
     "output_type": "execute_result"
    }
   ],
   "source": [
    "ols.score(X_train_si, y_train)"
   ]
  },
  {
   "cell_type": "markdown",
   "id": "7fb4488b-19ad-4dc6-98e4-19ac54ae53cc",
   "metadata": {},
   "source": [
    "### Test"
   ]
  },
  {
   "cell_type": "code",
   "execution_count": 19,
   "id": "57fbe224-33d6-45f3-b65e-b88cda02cc83",
   "metadata": {
    "tags": []
   },
   "outputs": [
    {
     "data": {
      "text/plain": [
       "0.8793903672532197"
      ]
     },
     "execution_count": 19,
     "metadata": {},
     "output_type": "execute_result"
    }
   ],
   "source": [
    "ols.score(X_test_si, y_test)"
   ]
  },
  {
   "cell_type": "markdown",
   "id": "565730d7-6c28-4f55-a931-90689a241761",
   "metadata": {},
   "source": [
    "### Obtaining Predictions"
   ]
  },
  {
   "cell_type": "code",
   "execution_count": 20,
   "id": "feca9d0b-50ca-488c-8214-b2258cfb58ec",
   "metadata": {
    "tags": []
   },
   "outputs": [],
   "source": [
    "y_test_pred = ols.predict(X_test_si)\n",
    "y_train_pred = ols.predict(X_train_si)"
   ]
  },
  {
   "cell_type": "markdown",
   "id": "bc550c43-0591-41bb-812d-e16b3ebb2f5c",
   "metadata": {
    "tags": []
   },
   "source": [
    "## Mean Absolute Error"
   ]
  },
  {
   "cell_type": "markdown",
   "id": "1f5fa3fc-6298-4580-badb-9ffbf867724f",
   "metadata": {},
   "source": [
    "### Train"
   ]
  },
  {
   "cell_type": "code",
   "execution_count": 21,
   "id": "419675d4-4aba-464e-b6bd-4639f89f54aa",
   "metadata": {
    "tags": []
   },
   "outputs": [
    {
     "data": {
      "text/plain": [
       "18166.13957245864"
      ]
     },
     "execution_count": 21,
     "metadata": {},
     "output_type": "execute_result"
    }
   ],
   "source": [
    "metrics.mean_absolute_error(y_train, y_train_pred)"
   ]
  },
  {
   "cell_type": "markdown",
   "id": "fbd10916-40a7-4e9c-85cd-32e6e71bd8dd",
   "metadata": {
    "tags": []
   },
   "source": [
    "### Test"
   ]
  },
  {
   "cell_type": "code",
   "execution_count": 22,
   "id": "cb4a1749-d7ca-447a-9efc-0c6dfda9f18d",
   "metadata": {
    "tags": []
   },
   "outputs": [
    {
     "data": {
      "text/plain": [
       "19648.07190336444"
      ]
     },
     "execution_count": 22,
     "metadata": {},
     "output_type": "execute_result"
    }
   ],
   "source": [
    "metrics.mean_absolute_error(y_test, y_test_pred)"
   ]
  },
  {
   "cell_type": "markdown",
   "id": "f1a5fcec-73c1-48b1-af74-49e58f2aaac5",
   "metadata": {},
   "source": [
    "### Baseline"
   ]
  },
  {
   "cell_type": "code",
   "execution_count": 23,
   "id": "61406501-22bc-43bd-9d3e-16567fb060c3",
   "metadata": {
    "tags": []
   },
   "outputs": [
    {
     "data": {
      "text/plain": [
       "61811.8075116863"
      ]
     },
     "execution_count": 23,
     "metadata": {},
     "output_type": "execute_result"
    }
   ],
   "source": [
    "metrics.mean_absolute_error(y_test, y_baseline)"
   ]
  },
  {
   "cell_type": "markdown",
   "id": "6c02bd19-da14-4f92-a39b-12d489401cfb",
   "metadata": {},
   "source": [
    "## Mean Squared Error and Root Mean Squared Error"
   ]
  },
  {
   "cell_type": "markdown",
   "id": "6fce30b2-fb06-47c2-b208-0aa1bd48a306",
   "metadata": {},
   "source": [
    "### Train"
   ]
  },
  {
   "cell_type": "code",
   "execution_count": null,
   "id": "5c72024d-3afa-4274-877c-5a53849e9641",
   "metadata": {},
   "outputs": [],
   "source": []
  },
  {
   "cell_type": "code",
   "execution_count": 24,
   "id": "011ed508-10db-472c-a86b-f45063caf69b",
   "metadata": {
    "tags": []
   },
   "outputs": [
    {
     "name": "stdout",
     "output_type": "stream",
     "text": [
      "MSE: 841134626.5127305   RMSE: 29002.321053886884\n"
     ]
    }
   ],
   "source": [
    "print(f\"MSE: {metrics.mean_squared_error(y_train, y_train_pred, squared=True)}   RMSE: {metrics.mean_squared_error(y_train, y_train_pred, squared=False)}\")"
   ]
  },
  {
   "cell_type": "markdown",
   "id": "2ee8569a-c125-4eae-84d7-cc3a3b6b5fdb",
   "metadata": {},
   "source": [
    "### Test"
   ]
  },
  {
   "cell_type": "code",
   "execution_count": 25,
   "id": "604d8784-6293-4e50-b93f-95eb4e45f3a8",
   "metadata": {
    "tags": []
   },
   "outputs": [
    {
     "name": "stdout",
     "output_type": "stream",
     "text": [
      "MSE: 841007409.7413421   RMSE: 29000.12775387967\n"
     ]
    }
   ],
   "source": [
    "print(f\"MSE: {metrics.mean_squared_error(y_test, y_test_pred, squared=True)}   RMSE: {metrics.mean_squared_error(y_test, y_test_pred, squared=False)}\")"
   ]
  },
  {
   "cell_type": "markdown",
   "id": "dfb07098-ea3a-4f3e-bdbd-248e50355d46",
   "metadata": {},
   "source": [
    "### Baseline"
   ]
  },
  {
   "cell_type": "code",
   "execution_count": 26,
   "id": "2046ca39-27d2-434c-ac66-003c08788011",
   "metadata": {
    "tags": []
   },
   "outputs": [
    {
     "name": "stdout",
     "output_type": "stream",
     "text": [
      "MSE: 6972970488.244796   RMSE: 83504.31418941656\n"
     ]
    }
   ],
   "source": [
    "print(f\"MSE: {metrics.mean_squared_error(y_test, y_baseline, squared=True)}   RMSE: {metrics.mean_squared_error(y_test, y_baseline, squared=False)}\")"
   ]
  },
  {
   "cell_type": "code",
   "execution_count": null,
   "id": "75b9bfe0-9d54-421b-9543-d14ae587ace7",
   "metadata": {},
   "outputs": [],
   "source": []
  }
 ],
 "metadata": {
  "kernelspec": {
   "display_name": "Python 3 (ipykernel)",
   "language": "python",
   "name": "python3"
  },
  "language_info": {
   "codemirror_mode": {
    "name": "ipython",
    "version": 3
   },
   "file_extension": ".py",
   "mimetype": "text/x-python",
   "name": "python",
   "nbconvert_exporter": "python",
   "pygments_lexer": "ipython3",
   "version": "3.11.4"
  }
 },
 "nbformat": 4,
 "nbformat_minor": 5
}
