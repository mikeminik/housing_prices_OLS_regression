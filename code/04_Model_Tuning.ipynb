{
 "cells": [
  {
   "cell_type": "markdown",
   "id": "0de761de-1729-47fc-950a-6b04a3516cc4",
   "metadata": {},
   "source": [
    "### This is largely a scratch pad that was used for tuning experimentation"
   ]
  },
  {
   "cell_type": "code",
   "execution_count": 80,
   "id": "f730ec49-bd82-423e-ad3b-ede9f43e5719",
   "metadata": {
    "tags": []
   },
   "outputs": [],
   "source": [
    "import numpy as np\n",
    "import pandas as pd\n",
    "import matplotlib.pyplot as plt\n",
    "import seaborn as sns\n",
    "from sklearn.linear_model import LinearRegression\n",
    "from sklearn.model_selection import train_test_split, cross_validate\n",
    "from sklearn.preprocessing import StandardScaler, PolynomialFeatures, OneHotEncoder\n",
    "from sklearn.impute import SimpleImputer\n",
    "from sklearn import metrics\n",
    "\n",
    "%run 00_Functions.ipynb\n",
    "%run 01_Data_Cleaning.ipynb\n"
   ]
  },
  {
   "cell_type": "code",
   "execution_count": 81,
   "id": "b0cc9fd4-a333-4365-abcd-63afb00676bd",
   "metadata": {
    "tags": []
   },
   "outputs": [],
   "source": [
    "pd.set_option('display.max_columns', 50)\n",
    "pd.set_option('display.max_rows', 100)\n",
    "# see all of my columns, no truncating!"
   ]
  },
  {
   "cell_type": "markdown",
   "id": "32021310-527d-448c-9141-5da44b1696fb",
   "metadata": {},
   "source": [
    "Make a new version of a usable dataframe"
   ]
  },
  {
   "cell_type": "code",
   "execution_count": 82,
   "id": "ce763465-e09f-4f2e-b18a-5110df4db5b0",
   "metadata": {
    "tags": []
   },
   "outputs": [],
   "source": [
    "X_3 = props.copy()"
   ]
  },
  {
   "cell_type": "code",
   "execution_count": null,
   "id": "137b227c-536e-4324-963e-5c6e8cde090d",
   "metadata": {},
   "outputs": [],
   "source": []
  },
  {
   "cell_type": "code",
   "execution_count": null,
   "id": "d14822a4-78e7-4185-ba76-d6c4760a4027",
   "metadata": {
    "tags": []
   },
   "outputs": [],
   "source": []
  },
  {
   "cell_type": "code",
   "execution_count": 84,
   "id": "173704a1-c06b-4ec4-90b1-2204ab1af332",
   "metadata": {
    "tags": []
   },
   "outputs": [],
   "source": [
    "SF = ['Gr Liv Area','1st Flr SF','2nd Flr SF','BsmtFin SF 1','BsmtFin SF 2']\n",
    "log_transform(X_3, SF)"
   ]
  },
  {
   "cell_type": "code",
   "execution_count": 85,
   "id": "3897d22d-54df-40e7-ac19-ffadd3259936",
   "metadata": {
    "tags": []
   },
   "outputs": [],
   "source": [
    "X_3.loc[: , SF].fillna(0, inplace = True)"
   ]
  },
  {
   "cell_type": "code",
   "execution_count": 86,
   "id": "9f1a2e33-18ab-41a6-9cdf-9cb515a16d95",
   "metadata": {
    "tags": []
   },
   "outputs": [
    {
     "data": {
      "text/plain": [
       "Gr Liv Area     0\n",
       "1st Flr SF      0\n",
       "2nd Flr SF      0\n",
       "BsmtFin SF 1    0\n",
       "BsmtFin SF 2    0\n",
       "dtype: int64"
      ]
     },
     "execution_count": 86,
     "metadata": {},
     "output_type": "execute_result"
    }
   ],
   "source": [
    "X_3.loc[: , SF].isnull().sum()"
   ]
  },
  {
   "cell_type": "code",
   "execution_count": 78,
   "id": "2de0f427-9541-4994-beaa-868b48b25c40",
   "metadata": {
    "tags": []
   },
   "outputs": [
    {
     "name": "stderr",
     "output_type": "stream",
     "text": [
      "C:\\Users\\mikem\\anaconda3\\Lib\\site-packages\\numpy\\lib\\function_base.py:4573: RuntimeWarning: invalid value encountered in subtract\n",
      "  diff_b_a = subtract(b, a)\n",
      "C:\\Users\\mikem\\anaconda3\\Lib\\site-packages\\numpy\\lib\\function_base.py:4573: RuntimeWarning: invalid value encountered in subtract\n",
      "  diff_b_a = subtract(b, a)\n",
      "C:\\Users\\mikem\\anaconda3\\Lib\\site-packages\\numpy\\lib\\function_base.py:4573: RuntimeWarning: invalid value encountered in subtract\n",
      "  diff_b_a = subtract(b, a)\n"
     ]
    },
    {
     "data": {
      "text/html": [
       "<div>\n",
       "<style scoped>\n",
       "    .dataframe tbody tr th:only-of-type {\n",
       "        vertical-align: middle;\n",
       "    }\n",
       "\n",
       "    .dataframe tbody tr th {\n",
       "        vertical-align: top;\n",
       "    }\n",
       "\n",
       "    .dataframe thead th {\n",
       "        text-align: right;\n",
       "    }\n",
       "</style>\n",
       "<table border=\"1\" class=\"dataframe\">\n",
       "  <thead>\n",
       "    <tr style=\"text-align: right;\">\n",
       "      <th></th>\n",
       "      <th>Lot Frontage</th>\n",
       "      <th>Lot Area</th>\n",
       "      <th>Paved Street</th>\n",
       "      <th>Has All Utilities</th>\n",
       "      <th>Gentle Slope</th>\n",
       "      <th>Years since built</th>\n",
       "      <th>Years since remodel</th>\n",
       "      <th>Mas Vnr Area</th>\n",
       "      <th>BsmtFin SF 1</th>\n",
       "      <th>BsmtFin SF 2</th>\n",
       "      <th>Bsmt Unf SF</th>\n",
       "      <th>Total Bsmt SF</th>\n",
       "      <th>Central Air</th>\n",
       "      <th>1st Flr SF</th>\n",
       "      <th>2nd Flr SF</th>\n",
       "      <th>Low Qual Fin SF</th>\n",
       "      <th>Gr Liv Area</th>\n",
       "      <th>Bsmt Full Bath</th>\n",
       "      <th>Bsmt Half Bath</th>\n",
       "      <th>Full Bath</th>\n",
       "      <th>Half Bath</th>\n",
       "      <th>Bedroom AbvGr</th>\n",
       "      <th>Kitchen AbvGr</th>\n",
       "      <th>TotRms AbvGrd</th>\n",
       "      <th>Fireplaces</th>\n",
       "      <th>Garage Yr Blt</th>\n",
       "      <th>Garage Cars</th>\n",
       "      <th>Garage Area</th>\n",
       "      <th>Paved Drive</th>\n",
       "      <th>Wood Deck SF</th>\n",
       "      <th>Open Porch SF</th>\n",
       "      <th>Enclosed Porch</th>\n",
       "      <th>3Ssn Porch</th>\n",
       "      <th>Screen Porch</th>\n",
       "      <th>Pool Area</th>\n",
       "      <th>Misc Val</th>\n",
       "      <th>Years since last sold</th>\n",
       "      <th>SalePrice</th>\n",
       "    </tr>\n",
       "  </thead>\n",
       "  <tbody>\n",
       "    <tr>\n",
       "      <th>count</th>\n",
       "      <td>1702.000000</td>\n",
       "      <td>2026.000000</td>\n",
       "      <td>2026.000000</td>\n",
       "      <td>2026.000000</td>\n",
       "      <td>2026.000000</td>\n",
       "      <td>2026.000000</td>\n",
       "      <td>2026.00000</td>\n",
       "      <td>2026.000000</td>\n",
       "      <td>2026.000000</td>\n",
       "      <td>2026.000000</td>\n",
       "      <td>2026.000000</td>\n",
       "      <td>2026.000000</td>\n",
       "      <td>2026.000000</td>\n",
       "      <td>2026.000000</td>\n",
       "      <td>2026.000000</td>\n",
       "      <td>2026.000000</td>\n",
       "      <td>2026.000000</td>\n",
       "      <td>2026.000000</td>\n",
       "      <td>2026.000000</td>\n",
       "      <td>2026.000000</td>\n",
       "      <td>2026.000000</td>\n",
       "      <td>2026.000000</td>\n",
       "      <td>2026.000000</td>\n",
       "      <td>2026.000000</td>\n",
       "      <td>2026.000000</td>\n",
       "      <td>1914.000000</td>\n",
       "      <td>2026.000000</td>\n",
       "      <td>2026.000000</td>\n",
       "      <td>2026.000000</td>\n",
       "      <td>2026.000000</td>\n",
       "      <td>2026.000000</td>\n",
       "      <td>2026.000000</td>\n",
       "      <td>2026.000000</td>\n",
       "      <td>2026.000000</td>\n",
       "      <td>2026.000000</td>\n",
       "      <td>2026.000000</td>\n",
       "      <td>2026.000000</td>\n",
       "      <td>2026.000000</td>\n",
       "    </tr>\n",
       "    <tr>\n",
       "      <th>mean</th>\n",
       "      <td>68.960047</td>\n",
       "      <td>10038.427937</td>\n",
       "      <td>0.996545</td>\n",
       "      <td>0.999013</td>\n",
       "      <td>0.951629</td>\n",
       "      <td>38.584403</td>\n",
       "      <td>26.01925</td>\n",
       "      <td>99.843534</td>\n",
       "      <td>-inf</td>\n",
       "      <td>-inf</td>\n",
       "      <td>566.524186</td>\n",
       "      <td>1056.915104</td>\n",
       "      <td>0.930405</td>\n",
       "      <td>7.005916</td>\n",
       "      <td>-inf</td>\n",
       "      <td>5.580948</td>\n",
       "      <td>7.259112</td>\n",
       "      <td>0.427443</td>\n",
       "      <td>0.064166</td>\n",
       "      <td>1.571570</td>\n",
       "      <td>0.367720</td>\n",
       "      <td>2.843534</td>\n",
       "      <td>1.042942</td>\n",
       "      <td>6.434353</td>\n",
       "      <td>0.589339</td>\n",
       "      <td>1978.356322</td>\n",
       "      <td>1.773445</td>\n",
       "      <td>472.959526</td>\n",
       "      <td>0.906713</td>\n",
       "      <td>94.153998</td>\n",
       "      <td>47.002468</td>\n",
       "      <td>22.548371</td>\n",
       "      <td>2.623396</td>\n",
       "      <td>16.715202</td>\n",
       "      <td>2.427443</td>\n",
       "      <td>52.210760</td>\n",
       "      <td>2.221125</td>\n",
       "      <td>180903.863771</td>\n",
       "    </tr>\n",
       "    <tr>\n",
       "      <th>std</th>\n",
       "      <td>23.218783</td>\n",
       "      <td>6707.696525</td>\n",
       "      <td>0.058693</td>\n",
       "      <td>0.031411</td>\n",
       "      <td>0.214602</td>\n",
       "      <td>30.145229</td>\n",
       "      <td>21.03601</td>\n",
       "      <td>175.050567</td>\n",
       "      <td>NaN</td>\n",
       "      <td>NaN</td>\n",
       "      <td>444.362373</td>\n",
       "      <td>449.006257</td>\n",
       "      <td>0.254526</td>\n",
       "      <td>0.323153</td>\n",
       "      <td>NaN</td>\n",
       "      <td>51.379446</td>\n",
       "      <td>0.321674</td>\n",
       "      <td>0.522971</td>\n",
       "      <td>0.253039</td>\n",
       "      <td>0.547101</td>\n",
       "      <td>0.499406</td>\n",
       "      <td>0.826535</td>\n",
       "      <td>0.209955</td>\n",
       "      <td>1.559957</td>\n",
       "      <td>0.638025</td>\n",
       "      <td>24.898844</td>\n",
       "      <td>0.765623</td>\n",
       "      <td>216.184467</td>\n",
       "      <td>0.290906</td>\n",
       "      <td>128.923298</td>\n",
       "      <td>66.076293</td>\n",
       "      <td>59.760393</td>\n",
       "      <td>25.383222</td>\n",
       "      <td>57.697759</td>\n",
       "      <td>38.014135</td>\n",
       "      <td>576.893785</td>\n",
       "      <td>1.314860</td>\n",
       "      <td>79112.847055</td>\n",
       "    </tr>\n",
       "    <tr>\n",
       "      <th>min</th>\n",
       "      <td>21.000000</td>\n",
       "      <td>1300.000000</td>\n",
       "      <td>0.000000</td>\n",
       "      <td>0.000000</td>\n",
       "      <td>0.000000</td>\n",
       "      <td>0.000000</td>\n",
       "      <td>0.00000</td>\n",
       "      <td>0.000000</td>\n",
       "      <td>-inf</td>\n",
       "      <td>-inf</td>\n",
       "      <td>0.000000</td>\n",
       "      <td>0.000000</td>\n",
       "      <td>0.000000</td>\n",
       "      <td>5.811141</td>\n",
       "      <td>-inf</td>\n",
       "      <td>0.000000</td>\n",
       "      <td>5.811141</td>\n",
       "      <td>0.000000</td>\n",
       "      <td>0.000000</td>\n",
       "      <td>0.000000</td>\n",
       "      <td>0.000000</td>\n",
       "      <td>0.000000</td>\n",
       "      <td>0.000000</td>\n",
       "      <td>2.000000</td>\n",
       "      <td>0.000000</td>\n",
       "      <td>1895.000000</td>\n",
       "      <td>0.000000</td>\n",
       "      <td>0.000000</td>\n",
       "      <td>0.000000</td>\n",
       "      <td>0.000000</td>\n",
       "      <td>0.000000</td>\n",
       "      <td>0.000000</td>\n",
       "      <td>0.000000</td>\n",
       "      <td>0.000000</td>\n",
       "      <td>0.000000</td>\n",
       "      <td>0.000000</td>\n",
       "      <td>0.000000</td>\n",
       "      <td>12789.000000</td>\n",
       "    </tr>\n",
       "    <tr>\n",
       "      <th>25%</th>\n",
       "      <td>58.000000</td>\n",
       "      <td>7500.000000</td>\n",
       "      <td>1.000000</td>\n",
       "      <td>1.000000</td>\n",
       "      <td>1.000000</td>\n",
       "      <td>10.000000</td>\n",
       "      <td>6.00000</td>\n",
       "      <td>0.000000</td>\n",
       "      <td>NaN</td>\n",
       "      <td>NaN</td>\n",
       "      <td>220.000000</td>\n",
       "      <td>793.000000</td>\n",
       "      <td>1.000000</td>\n",
       "      <td>6.779069</td>\n",
       "      <td>NaN</td>\n",
       "      <td>0.000000</td>\n",
       "      <td>7.026649</td>\n",
       "      <td>0.000000</td>\n",
       "      <td>0.000000</td>\n",
       "      <td>1.000000</td>\n",
       "      <td>0.000000</td>\n",
       "      <td>2.000000</td>\n",
       "      <td>1.000000</td>\n",
       "      <td>5.000000</td>\n",
       "      <td>0.000000</td>\n",
       "      <td>1961.000000</td>\n",
       "      <td>1.000000</td>\n",
       "      <td>317.500000</td>\n",
       "      <td>1.000000</td>\n",
       "      <td>0.000000</td>\n",
       "      <td>0.000000</td>\n",
       "      <td>0.000000</td>\n",
       "      <td>0.000000</td>\n",
       "      <td>0.000000</td>\n",
       "      <td>0.000000</td>\n",
       "      <td>0.000000</td>\n",
       "      <td>1.000000</td>\n",
       "      <td>129500.000000</td>\n",
       "    </tr>\n",
       "    <tr>\n",
       "      <th>50%</th>\n",
       "      <td>68.000000</td>\n",
       "      <td>9402.500000</td>\n",
       "      <td>1.000000</td>\n",
       "      <td>1.000000</td>\n",
       "      <td>1.000000</td>\n",
       "      <td>36.000000</td>\n",
       "      <td>17.00000</td>\n",
       "      <td>0.000000</td>\n",
       "      <td>5.908083</td>\n",
       "      <td>NaN</td>\n",
       "      <td>474.000000</td>\n",
       "      <td>994.000000</td>\n",
       "      <td>1.000000</td>\n",
       "      <td>6.995766</td>\n",
       "      <td>NaN</td>\n",
       "      <td>0.000000</td>\n",
       "      <td>7.273786</td>\n",
       "      <td>0.000000</td>\n",
       "      <td>0.000000</td>\n",
       "      <td>2.000000</td>\n",
       "      <td>0.000000</td>\n",
       "      <td>3.000000</td>\n",
       "      <td>1.000000</td>\n",
       "      <td>6.000000</td>\n",
       "      <td>1.000000</td>\n",
       "      <td>1980.000000</td>\n",
       "      <td>2.000000</td>\n",
       "      <td>480.000000</td>\n",
       "      <td>1.000000</td>\n",
       "      <td>0.000000</td>\n",
       "      <td>26.000000</td>\n",
       "      <td>0.000000</td>\n",
       "      <td>0.000000</td>\n",
       "      <td>0.000000</td>\n",
       "      <td>0.000000</td>\n",
       "      <td>0.000000</td>\n",
       "      <td>2.000000</td>\n",
       "      <td>161000.000000</td>\n",
       "    </tr>\n",
       "    <tr>\n",
       "      <th>75%</th>\n",
       "      <td>80.000000</td>\n",
       "      <td>11498.000000</td>\n",
       "      <td>1.000000</td>\n",
       "      <td>1.000000</td>\n",
       "      <td>1.000000</td>\n",
       "      <td>57.000000</td>\n",
       "      <td>46.00000</td>\n",
       "      <td>161.750000</td>\n",
       "      <td>6.597146</td>\n",
       "      <td>NaN</td>\n",
       "      <td>810.000000</td>\n",
       "      <td>1315.500000</td>\n",
       "      <td>1.000000</td>\n",
       "      <td>7.245655</td>\n",
       "      <td>6.535241</td>\n",
       "      <td>0.000000</td>\n",
       "      <td>7.454720</td>\n",
       "      <td>1.000000</td>\n",
       "      <td>0.000000</td>\n",
       "      <td>2.000000</td>\n",
       "      <td>1.000000</td>\n",
       "      <td>3.000000</td>\n",
       "      <td>1.000000</td>\n",
       "      <td>7.000000</td>\n",
       "      <td>1.000000</td>\n",
       "      <td>2002.000000</td>\n",
       "      <td>2.000000</td>\n",
       "      <td>576.000000</td>\n",
       "      <td>1.000000</td>\n",
       "      <td>168.000000</td>\n",
       "      <td>70.000000</td>\n",
       "      <td>0.000000</td>\n",
       "      <td>0.000000</td>\n",
       "      <td>0.000000</td>\n",
       "      <td>0.000000</td>\n",
       "      <td>0.000000</td>\n",
       "      <td>3.000000</td>\n",
       "      <td>213430.000000</td>\n",
       "    </tr>\n",
       "    <tr>\n",
       "      <th>max</th>\n",
       "      <td>313.000000</td>\n",
       "      <td>159000.000000</td>\n",
       "      <td>1.000000</td>\n",
       "      <td>1.000000</td>\n",
       "      <td>1.000000</td>\n",
       "      <td>138.000000</td>\n",
       "      <td>60.00000</td>\n",
       "      <td>1600.000000</td>\n",
       "      <td>8.638348</td>\n",
       "      <td>7.295735</td>\n",
       "      <td>2336.000000</td>\n",
       "      <td>6110.000000</td>\n",
       "      <td>1.000000</td>\n",
       "      <td>8.536015</td>\n",
       "      <td>7.529406</td>\n",
       "      <td>1064.000000</td>\n",
       "      <td>8.637994</td>\n",
       "      <td>3.000000</td>\n",
       "      <td>2.000000</td>\n",
       "      <td>4.000000</td>\n",
       "      <td>2.000000</td>\n",
       "      <td>8.000000</td>\n",
       "      <td>3.000000</td>\n",
       "      <td>15.000000</td>\n",
       "      <td>4.000000</td>\n",
       "      <td>2010.000000</td>\n",
       "      <td>5.000000</td>\n",
       "      <td>1418.000000</td>\n",
       "      <td>1.000000</td>\n",
       "      <td>1424.000000</td>\n",
       "      <td>547.000000</td>\n",
       "      <td>432.000000</td>\n",
       "      <td>508.000000</td>\n",
       "      <td>490.000000</td>\n",
       "      <td>800.000000</td>\n",
       "      <td>17000.000000</td>\n",
       "      <td>4.000000</td>\n",
       "      <td>611657.000000</td>\n",
       "    </tr>\n",
       "  </tbody>\n",
       "</table>\n",
       "</div>"
      ],
      "text/plain": [
       "       Lot Frontage       Lot Area  Paved Street  Has All Utilities  \\\n",
       "count   1702.000000    2026.000000   2026.000000        2026.000000   \n",
       "mean      68.960047   10038.427937      0.996545           0.999013   \n",
       "std       23.218783    6707.696525      0.058693           0.031411   \n",
       "min       21.000000    1300.000000      0.000000           0.000000   \n",
       "25%       58.000000    7500.000000      1.000000           1.000000   \n",
       "50%       68.000000    9402.500000      1.000000           1.000000   \n",
       "75%       80.000000   11498.000000      1.000000           1.000000   \n",
       "max      313.000000  159000.000000      1.000000           1.000000   \n",
       "\n",
       "       Gentle Slope  Years since built  Years since remodel  Mas Vnr Area  \\\n",
       "count   2026.000000        2026.000000           2026.00000   2026.000000   \n",
       "mean       0.951629          38.584403             26.01925     99.843534   \n",
       "std        0.214602          30.145229             21.03601    175.050567   \n",
       "min        0.000000           0.000000              0.00000      0.000000   \n",
       "25%        1.000000          10.000000              6.00000      0.000000   \n",
       "50%        1.000000          36.000000             17.00000      0.000000   \n",
       "75%        1.000000          57.000000             46.00000    161.750000   \n",
       "max        1.000000         138.000000             60.00000   1600.000000   \n",
       "\n",
       "       BsmtFin SF 1  BsmtFin SF 2  Bsmt Unf SF  Total Bsmt SF  Central Air  \\\n",
       "count   2026.000000   2026.000000  2026.000000    2026.000000  2026.000000   \n",
       "mean           -inf          -inf   566.524186    1056.915104     0.930405   \n",
       "std             NaN           NaN   444.362373     449.006257     0.254526   \n",
       "min            -inf          -inf     0.000000       0.000000     0.000000   \n",
       "25%             NaN           NaN   220.000000     793.000000     1.000000   \n",
       "50%        5.908083           NaN   474.000000     994.000000     1.000000   \n",
       "75%        6.597146           NaN   810.000000    1315.500000     1.000000   \n",
       "max        8.638348      7.295735  2336.000000    6110.000000     1.000000   \n",
       "\n",
       "        1st Flr SF   2nd Flr SF  Low Qual Fin SF  Gr Liv Area  Bsmt Full Bath  \\\n",
       "count  2026.000000  2026.000000      2026.000000  2026.000000     2026.000000   \n",
       "mean      7.005916         -inf         5.580948     7.259112        0.427443   \n",
       "std       0.323153          NaN        51.379446     0.321674        0.522971   \n",
       "min       5.811141         -inf         0.000000     5.811141        0.000000   \n",
       "25%       6.779069          NaN         0.000000     7.026649        0.000000   \n",
       "50%       6.995766          NaN         0.000000     7.273786        0.000000   \n",
       "75%       7.245655     6.535241         0.000000     7.454720        1.000000   \n",
       "max       8.536015     7.529406      1064.000000     8.637994        3.000000   \n",
       "\n",
       "       Bsmt Half Bath    Full Bath    Half Bath  Bedroom AbvGr  Kitchen AbvGr  \\\n",
       "count     2026.000000  2026.000000  2026.000000    2026.000000    2026.000000   \n",
       "mean         0.064166     1.571570     0.367720       2.843534       1.042942   \n",
       "std          0.253039     0.547101     0.499406       0.826535       0.209955   \n",
       "min          0.000000     0.000000     0.000000       0.000000       0.000000   \n",
       "25%          0.000000     1.000000     0.000000       2.000000       1.000000   \n",
       "50%          0.000000     2.000000     0.000000       3.000000       1.000000   \n",
       "75%          0.000000     2.000000     1.000000       3.000000       1.000000   \n",
       "max          2.000000     4.000000     2.000000       8.000000       3.000000   \n",
       "\n",
       "       TotRms AbvGrd   Fireplaces  Garage Yr Blt  Garage Cars  Garage Area  \\\n",
       "count    2026.000000  2026.000000    1914.000000  2026.000000  2026.000000   \n",
       "mean        6.434353     0.589339    1978.356322     1.773445   472.959526   \n",
       "std         1.559957     0.638025      24.898844     0.765623   216.184467   \n",
       "min         2.000000     0.000000    1895.000000     0.000000     0.000000   \n",
       "25%         5.000000     0.000000    1961.000000     1.000000   317.500000   \n",
       "50%         6.000000     1.000000    1980.000000     2.000000   480.000000   \n",
       "75%         7.000000     1.000000    2002.000000     2.000000   576.000000   \n",
       "max        15.000000     4.000000    2010.000000     5.000000  1418.000000   \n",
       "\n",
       "       Paved Drive  Wood Deck SF  Open Porch SF  Enclosed Porch   3Ssn Porch  \\\n",
       "count  2026.000000   2026.000000    2026.000000     2026.000000  2026.000000   \n",
       "mean      0.906713     94.153998      47.002468       22.548371     2.623396   \n",
       "std       0.290906    128.923298      66.076293       59.760393    25.383222   \n",
       "min       0.000000      0.000000       0.000000        0.000000     0.000000   \n",
       "25%       1.000000      0.000000       0.000000        0.000000     0.000000   \n",
       "50%       1.000000      0.000000      26.000000        0.000000     0.000000   \n",
       "75%       1.000000    168.000000      70.000000        0.000000     0.000000   \n",
       "max       1.000000   1424.000000     547.000000      432.000000   508.000000   \n",
       "\n",
       "       Screen Porch    Pool Area      Misc Val  Years since last sold  \\\n",
       "count   2026.000000  2026.000000   2026.000000            2026.000000   \n",
       "mean      16.715202     2.427443     52.210760               2.221125   \n",
       "std       57.697759    38.014135    576.893785               1.314860   \n",
       "min        0.000000     0.000000      0.000000               0.000000   \n",
       "25%        0.000000     0.000000      0.000000               1.000000   \n",
       "50%        0.000000     0.000000      0.000000               2.000000   \n",
       "75%        0.000000     0.000000      0.000000               3.000000   \n",
       "max      490.000000   800.000000  17000.000000               4.000000   \n",
       "\n",
       "           SalePrice  \n",
       "count    2026.000000  \n",
       "mean   180903.863771  \n",
       "std     79112.847055  \n",
       "min     12789.000000  \n",
       "25%    129500.000000  \n",
       "50%    161000.000000  \n",
       "75%    213430.000000  \n",
       "max    611657.000000  "
      ]
     },
     "execution_count": 78,
     "metadata": {},
     "output_type": "execute_result"
    }
   ],
   "source": [
    "X_3.describe()"
   ]
  },
  {
   "cell_type": "code",
   "execution_count": 87,
   "id": "ec625098-091a-4079-8f2c-68ff0fdc3b08",
   "metadata": {
    "tags": []
   },
   "outputs": [],
   "source": [
    "X = X_3.loc[: , SF]\n",
    "y = X_3['SalePrice']"
   ]
  },
  {
   "cell_type": "code",
   "execution_count": 88,
   "id": "ea55fde7-089d-4cb1-ba6a-2975a89fe835",
   "metadata": {
    "tags": []
   },
   "outputs": [],
   "source": [
    "X_train, X_test, y_train, y_test = train_test_split(X, y, test_size = 0.3, random_state=2023)"
   ]
  },
  {
   "cell_type": "code",
   "execution_count": 89,
   "id": "8b042a38-b9fe-4885-a7f8-0f05721fbfc7",
   "metadata": {
    "tags": []
   },
   "outputs": [
    {
     "data": {
      "text/html": [
       "<style>#sk-container-id-3 {color: black;}#sk-container-id-3 pre{padding: 0;}#sk-container-id-3 div.sk-toggleable {background-color: white;}#sk-container-id-3 label.sk-toggleable__label {cursor: pointer;display: block;width: 100%;margin-bottom: 0;padding: 0.3em;box-sizing: border-box;text-align: center;}#sk-container-id-3 label.sk-toggleable__label-arrow:before {content: \"▸\";float: left;margin-right: 0.25em;color: #696969;}#sk-container-id-3 label.sk-toggleable__label-arrow:hover:before {color: black;}#sk-container-id-3 div.sk-estimator:hover label.sk-toggleable__label-arrow:before {color: black;}#sk-container-id-3 div.sk-toggleable__content {max-height: 0;max-width: 0;overflow: hidden;text-align: left;background-color: #f0f8ff;}#sk-container-id-3 div.sk-toggleable__content pre {margin: 0.2em;color: black;border-radius: 0.25em;background-color: #f0f8ff;}#sk-container-id-3 input.sk-toggleable__control:checked~div.sk-toggleable__content {max-height: 200px;max-width: 100%;overflow: auto;}#sk-container-id-3 input.sk-toggleable__control:checked~label.sk-toggleable__label-arrow:before {content: \"▾\";}#sk-container-id-3 div.sk-estimator input.sk-toggleable__control:checked~label.sk-toggleable__label {background-color: #d4ebff;}#sk-container-id-3 div.sk-label input.sk-toggleable__control:checked~label.sk-toggleable__label {background-color: #d4ebff;}#sk-container-id-3 input.sk-hidden--visually {border: 0;clip: rect(1px 1px 1px 1px);clip: rect(1px, 1px, 1px, 1px);height: 1px;margin: -1px;overflow: hidden;padding: 0;position: absolute;width: 1px;}#sk-container-id-3 div.sk-estimator {font-family: monospace;background-color: #f0f8ff;border: 1px dotted black;border-radius: 0.25em;box-sizing: border-box;margin-bottom: 0.5em;}#sk-container-id-3 div.sk-estimator:hover {background-color: #d4ebff;}#sk-container-id-3 div.sk-parallel-item::after {content: \"\";width: 100%;border-bottom: 1px solid gray;flex-grow: 1;}#sk-container-id-3 div.sk-label:hover label.sk-toggleable__label {background-color: #d4ebff;}#sk-container-id-3 div.sk-serial::before {content: \"\";position: absolute;border-left: 1px solid gray;box-sizing: border-box;top: 0;bottom: 0;left: 50%;z-index: 0;}#sk-container-id-3 div.sk-serial {display: flex;flex-direction: column;align-items: center;background-color: white;padding-right: 0.2em;padding-left: 0.2em;position: relative;}#sk-container-id-3 div.sk-item {position: relative;z-index: 1;}#sk-container-id-3 div.sk-parallel {display: flex;align-items: stretch;justify-content: center;background-color: white;position: relative;}#sk-container-id-3 div.sk-item::before, #sk-container-id-3 div.sk-parallel-item::before {content: \"\";position: absolute;border-left: 1px solid gray;box-sizing: border-box;top: 0;bottom: 0;left: 50%;z-index: -1;}#sk-container-id-3 div.sk-parallel-item {display: flex;flex-direction: column;z-index: 1;position: relative;background-color: white;}#sk-container-id-3 div.sk-parallel-item:first-child::after {align-self: flex-end;width: 50%;}#sk-container-id-3 div.sk-parallel-item:last-child::after {align-self: flex-start;width: 50%;}#sk-container-id-3 div.sk-parallel-item:only-child::after {width: 0;}#sk-container-id-3 div.sk-dashed-wrapped {border: 1px dashed gray;margin: 0 0.4em 0.5em 0.4em;box-sizing: border-box;padding-bottom: 0.4em;background-color: white;}#sk-container-id-3 div.sk-label label {font-family: monospace;font-weight: bold;display: inline-block;line-height: 1.2em;}#sk-container-id-3 div.sk-label-container {text-align: center;}#sk-container-id-3 div.sk-container {/* jupyter's `normalize.less` sets `[hidden] { display: none; }` but bootstrap.min.css set `[hidden] { display: none !important; }` so we also need the `!important` here to be able to override the default hidden behavior on the sphinx rendered scikit-learn.org. See: https://github.com/scikit-learn/scikit-learn/issues/21755 */display: inline-block !important;position: relative;}#sk-container-id-3 div.sk-text-repr-fallback {display: none;}</style><div id=\"sk-container-id-3\" class=\"sk-top-container\"><div class=\"sk-text-repr-fallback\"><pre>LinearRegression()</pre><b>In a Jupyter environment, please rerun this cell to show the HTML representation or trust the notebook. <br />On GitHub, the HTML representation is unable to render, please try loading this page with nbviewer.org.</b></div><div class=\"sk-container\" hidden><div class=\"sk-item\"><div class=\"sk-estimator sk-toggleable\"><input class=\"sk-toggleable__control sk-hidden--visually\" id=\"sk-estimator-id-3\" type=\"checkbox\" checked><label for=\"sk-estimator-id-3\" class=\"sk-toggleable__label sk-toggleable__label-arrow\">LinearRegression</label><div class=\"sk-toggleable__content\"><pre>LinearRegression()</pre></div></div></div></div></div>"
      ],
      "text/plain": [
       "LinearRegression()"
      ]
     },
     "execution_count": 89,
     "metadata": {},
     "output_type": "execute_result"
    }
   ],
   "source": [
    "lr = LinearRegression()\n",
    "lr.fit(X_train, y_train)"
   ]
  },
  {
   "cell_type": "code",
   "execution_count": 90,
   "id": "3f1371ca-1434-4ff8-8473-01cea01e1a6d",
   "metadata": {
    "tags": []
   },
   "outputs": [
    {
     "data": {
      "text/plain": [
       "0.5949990906795617"
      ]
     },
     "execution_count": 90,
     "metadata": {},
     "output_type": "execute_result"
    }
   ],
   "source": [
    "lr.score(X_test, y_test)"
   ]
  },
  {
   "cell_type": "code",
   "execution_count": 38,
   "id": "5f974a08-132b-4777-849d-7aa70cb9ffc9",
   "metadata": {
    "tags": []
   },
   "outputs": [],
   "source": [
    "y_pred = lr.predict(X_test)"
   ]
  },
  {
   "cell_type": "code",
   "execution_count": 39,
   "id": "4cc280b8-39fd-4650-8642-e4c6857eb73c",
   "metadata": {
    "tags": []
   },
   "outputs": [],
   "source": [
    "resids = y_test - y_pred"
   ]
  },
  {
   "cell_type": "code",
   "execution_count": 40,
   "id": "0b9e9a1d-3584-4ec2-a2c6-476b547d7171",
   "metadata": {
    "tags": []
   },
   "outputs": [
    {
     "data": {
      "text/plain": [
       "<matplotlib.collections.PathCollection at 0x26cef1d8650>"
      ]
     },
     "execution_count": 40,
     "metadata": {},
     "output_type": "execute_result"
    },
    {
     "data": {
      "image/png": "[encoded data removed]",
      "text/plain": [
       "<Figure size 600x600 with 1 Axes>"
      ]
     },
     "metadata": {},
     "output_type": "display_data"
    }
   ],
   "source": [
    "plt.figure(figsize=(6,6))\n",
    "plt.scatter(x = y_pred, y = resids)"
   ]
  },
  {
   "cell_type": "code",
   "execution_count": 41,
   "id": "974702b2-55ca-46d3-b02e-9346a3b6653d",
   "metadata": {
    "tags": []
   },
   "outputs": [
    {
     "data": {
      "text/plain": [
       "(array([  2.,   4.,  10.,  24.,  89., 119., 136.,  90.,  64.,  31.,  11.,\n",
       "          7.,   9.,   4.,   3.,   1.,   2.,   0.,   1.,   1.]),\n",
       " array([-151498.9443072 , -128289.08310895, -105079.2219107 ,\n",
       "         -81869.36071245,  -58659.4995142 ,  -35449.63831595,\n",
       "         -12239.7771177 ,   10970.08408054,   34179.94527879,\n",
       "          57389.80647704,   80599.66767529,  103809.52887354,\n",
       "         127019.39007179,  150229.25127003,  173439.11246828,\n",
       "         196648.97366653,  219858.83486478,  243068.69606303,\n",
       "         266278.55726128,  289488.41845953,  312698.27965777]),\n",
       " <BarContainer object of 20 artists>)"
      ]
     },
     "execution_count": 41,
     "metadata": {},
     "output_type": "execute_result"
    },
    {
     "data": {
      "image/png": "[encoded data removed]",
      "text/plain": [
       "<Figure size 600x600 with 1 Axes>"
      ]
     },
     "metadata": {},
     "output_type": "display_data"
    }
   ],
   "source": [
    "plt.figure(figsize=(6,6))\n",
    "plt.hist(resids, bins = 20)"
   ]
  },
  {
   "cell_type": "markdown",
   "id": "d67a9e49-c465-42df-ad1e-00fe3e68bd2f",
   "metadata": {},
   "source": [
    "### Dropping values that are either clearly colinear (square footage totals, for example) and PID)"
   ]
  },
  {
   "cell_type": "code",
   "execution_count": 213,
   "id": "240d0fd4-8b7b-4b5d-8363-8c7d9c3367de",
   "metadata": {
    "tags": []
   },
   "outputs": [],
   "source": [
    "X_2.drop(['PID','Garage Yr Blt'], axis = 1, inplace = True)"
   ]
  },
  {
   "cell_type": "code",
   "execution_count": 214,
   "id": "9491b5ae-d3ef-4cf5-8164-f46d012bbb18",
   "metadata": {
    "tags": []
   },
   "outputs": [],
   "source": [
    "non_numerics = X_2.select_dtypes(exclude = np.number)"
   ]
  },
  {
   "cell_type": "code",
   "execution_count": null,
   "id": "6c16e6a7-bb8c-4858-a583-a8993c3bc676",
   "metadata": {},
   "outputs": [],
   "source": []
  },
  {
   "cell_type": "code",
   "execution_count": 215,
   "id": "828928f9-1053-4562-bf89-0f36ba4c4cbe",
   "metadata": {
    "tags": []
   },
   "outputs": [],
   "source": [
    "corr = X_2.corr(numeric_only = True)[['SalePrice']].sort_values( by = 'SalePrice', ascending = False)"
   ]
  },
  {
   "cell_type": "code",
   "execution_count": 216,
   "id": "369cb95f-b97f-429e-bd40-52d1fbd84882",
   "metadata": {},
   "outputs": [
    {
     "data": {
      "text/html": [
       "<div>\n",
       "<style scoped>\n",
       "    .dataframe tbody tr th:only-of-type {\n",
       "        vertical-align: middle;\n",
       "    }\n",
       "\n",
       "    .dataframe tbody tr th {\n",
       "        vertical-align: top;\n",
       "    }\n",
       "\n",
       "    .dataframe thead th {\n",
       "        text-align: right;\n",
       "    }\n",
       "</style>\n",
       "<table border=\"1\" class=\"dataframe\">\n",
       "  <thead>\n",
       "    <tr style=\"text-align: right;\">\n",
       "      <th></th>\n",
       "      <th>SalePrice</th>\n",
       "    </tr>\n",
       "  </thead>\n",
       "  <tbody>\n",
       "    <tr>\n",
       "      <th>SalePrice</th>\n",
       "      <td>1.000000</td>\n",
       "    </tr>\n",
       "    <tr>\n",
       "      <th>Gr Liv Area</th>\n",
       "      <td>0.699026</td>\n",
       "    </tr>\n",
       "    <tr>\n",
       "      <th>Garage Area</th>\n",
       "      <td>0.648661</td>\n",
       "    </tr>\n",
       "    <tr>\n",
       "      <th>Garage Cars</th>\n",
       "      <td>0.647015</td>\n",
       "    </tr>\n",
       "    <tr>\n",
       "      <th>Total Bsmt SF</th>\n",
       "      <td>0.631975</td>\n",
       "    </tr>\n",
       "    <tr>\n",
       "      <th>1st Flr SF</th>\n",
       "      <td>0.623523</td>\n",
       "    </tr>\n",
       "    <tr>\n",
       "      <th>Full Bath</th>\n",
       "      <td>0.538471</td>\n",
       "    </tr>\n",
       "    <tr>\n",
       "      <th>Mas Vnr Area</th>\n",
       "      <td>0.512699</td>\n",
       "    </tr>\n",
       "    <tr>\n",
       "      <th>TotRms AbvGrd</th>\n",
       "      <td>0.505188</td>\n",
       "    </tr>\n",
       "    <tr>\n",
       "      <th>Fireplaces</th>\n",
       "      <td>0.471222</td>\n",
       "    </tr>\n",
       "    <tr>\n",
       "      <th>BsmtFin SF 1</th>\n",
       "      <td>0.424380</td>\n",
       "    </tr>\n",
       "    <tr>\n",
       "      <th>Lot Frontage</th>\n",
       "      <td>0.340194</td>\n",
       "    </tr>\n",
       "    <tr>\n",
       "      <th>Wood Deck SF</th>\n",
       "      <td>0.328729</td>\n",
       "    </tr>\n",
       "    <tr>\n",
       "      <th>Open Porch SF</th>\n",
       "      <td>0.325625</td>\n",
       "    </tr>\n",
       "    <tr>\n",
       "      <th>Lot Area</th>\n",
       "      <td>0.295845</td>\n",
       "    </tr>\n",
       "    <tr>\n",
       "      <th>Paved Drive</th>\n",
       "      <td>0.288728</td>\n",
       "    </tr>\n",
       "    <tr>\n",
       "      <th>Bsmt Full Bath</th>\n",
       "      <td>0.284514</td>\n",
       "    </tr>\n",
       "    <tr>\n",
       "      <th>Half Bath</th>\n",
       "      <td>0.278486</td>\n",
       "    </tr>\n",
       "    <tr>\n",
       "      <th>Central Air</th>\n",
       "      <td>0.277770</td>\n",
       "    </tr>\n",
       "    <tr>\n",
       "      <th>2nd Flr SF</th>\n",
       "      <td>0.250946</td>\n",
       "    </tr>\n",
       "    <tr>\n",
       "      <th>Bsmt Unf SF</th>\n",
       "      <td>0.191275</td>\n",
       "    </tr>\n",
       "    <tr>\n",
       "      <th>Bedroom AbvGr</th>\n",
       "      <td>0.138336</td>\n",
       "    </tr>\n",
       "    <tr>\n",
       "      <th>Screen Porch</th>\n",
       "      <td>0.137802</td>\n",
       "    </tr>\n",
       "    <tr>\n",
       "      <th>Paved Street</th>\n",
       "      <td>0.069981</td>\n",
       "    </tr>\n",
       "    <tr>\n",
       "      <th>3Ssn Porch</th>\n",
       "      <td>0.049865</td>\n",
       "    </tr>\n",
       "    <tr>\n",
       "      <th>Has All Utilities</th>\n",
       "      <td>0.033123</td>\n",
       "    </tr>\n",
       "    <tr>\n",
       "      <th>Pool Area</th>\n",
       "      <td>0.023749</td>\n",
       "    </tr>\n",
       "    <tr>\n",
       "      <th>BsmtFin SF 2</th>\n",
       "      <td>0.019387</td>\n",
       "    </tr>\n",
       "    <tr>\n",
       "      <th>Years since last sold</th>\n",
       "      <td>0.011046</td>\n",
       "    </tr>\n",
       "    <tr>\n",
       "      <th>Misc Val</th>\n",
       "      <td>-0.006787</td>\n",
       "    </tr>\n",
       "    <tr>\n",
       "      <th>Low Qual Fin SF</th>\n",
       "      <td>-0.041153</td>\n",
       "    </tr>\n",
       "    <tr>\n",
       "      <th>Bsmt Half Bath</th>\n",
       "      <td>-0.043856</td>\n",
       "    </tr>\n",
       "    <tr>\n",
       "      <th>Gentle Slope</th>\n",
       "      <td>-0.064737</td>\n",
       "    </tr>\n",
       "    <tr>\n",
       "      <th>Kitchen AbvGr</th>\n",
       "      <td>-0.126232</td>\n",
       "    </tr>\n",
       "    <tr>\n",
       "      <th>Enclosed Porch</th>\n",
       "      <td>-0.138048</td>\n",
       "    </tr>\n",
       "    <tr>\n",
       "      <th>Years since remodel</th>\n",
       "      <td>-0.549397</td>\n",
       "    </tr>\n",
       "    <tr>\n",
       "      <th>Years since built</th>\n",
       "      <td>-0.571860</td>\n",
       "    </tr>\n",
       "  </tbody>\n",
       "</table>\n",
       "</div>"
      ],
      "text/plain": [
       "                       SalePrice\n",
       "SalePrice               1.000000\n",
       "Gr Liv Area             0.699026\n",
       "Garage Area             0.648661\n",
       "Garage Cars             0.647015\n",
       "Total Bsmt SF           0.631975\n",
       "1st Flr SF              0.623523\n",
       "Full Bath               0.538471\n",
       "Mas Vnr Area            0.512699\n",
       "TotRms AbvGrd           0.505188\n",
       "Fireplaces              0.471222\n",
       "BsmtFin SF 1            0.424380\n",
       "Lot Frontage            0.340194\n",
       "Wood Deck SF            0.328729\n",
       "Open Porch SF           0.325625\n",
       "Lot Area                0.295845\n",
       "Paved Drive             0.288728\n",
       "Bsmt Full Bath          0.284514\n",
       "Half Bath               0.278486\n",
       "Central Air             0.277770\n",
       "2nd Flr SF              0.250946\n",
       "Bsmt Unf SF             0.191275\n",
       "Bedroom AbvGr           0.138336\n",
       "Screen Porch            0.137802\n",
       "Paved Street            0.069981\n",
       "3Ssn Porch              0.049865\n",
       "Has All Utilities       0.033123\n",
       "Pool Area               0.023749\n",
       "BsmtFin SF 2            0.019387\n",
       "Years since last sold   0.011046\n",
       "Misc Val               -0.006787\n",
       "Low Qual Fin SF        -0.041153\n",
       "Bsmt Half Bath         -0.043856\n",
       "Gentle Slope           -0.064737\n",
       "Kitchen AbvGr          -0.126232\n",
       "Enclosed Porch         -0.138048\n",
       "Years since remodel    -0.549397\n",
       "Years since built      -0.571860"
      ]
     },
     "execution_count": 216,
     "metadata": {},
     "output_type": "execute_result"
    }
   ],
   "source": [
    "corr"
   ]
  },
  {
   "cell_type": "code",
   "execution_count": 217,
   "id": "b5999bad-4c62-4add-a880-95edf8e645c9",
   "metadata": {
    "tags": []
   },
   "outputs": [
    {
     "data": {
      "text/plain": [
       "Index(['MS SubClass', 'MS Zoning', 'Alley', 'Lot Shape', 'Land Contour',\n",
       "       'Lot Config', 'Neighborhood', 'Condition 1', 'Condition 2', 'Bldg Type',\n",
       "       'House Style', 'Overall Qual', 'Overall Cond', 'Roof Style',\n",
       "       'Roof Matl', 'Exterior 1st', 'Exterior 2nd', 'Mas Vnr Type',\n",
       "       'Exter Qual', 'Exter Cond', 'Foundation', 'Bsmt Qual', 'Bsmt Cond',\n",
       "       'Bsmt Exposure', 'BsmtFin Type 1', 'BsmtFin Type 2', 'Heating',\n",
       "       'Heating QC', 'Electrical', 'Kitchen Qual', 'Functional',\n",
       "       'Fireplace Qu', 'Garage Type', 'Garage Finish', 'Garage Qual',\n",
       "       'Garage Cond', 'Pool QC', 'Fence', 'Misc Feature', 'Mo Sold',\n",
       "       'Sale Type'],\n",
       "      dtype='object')"
      ]
     },
     "execution_count": 217,
     "metadata": {},
     "output_type": "execute_result"
    }
   ],
   "source": [
    "non_numerics.columns"
   ]
  },
  {
   "cell_type": "code",
   "execution_count": 218,
   "id": "2991ec6a-1832-47fb-b0b1-8dc2040bc3bf",
   "metadata": {
    "tags": []
   },
   "outputs": [],
   "source": [
    "# props_dummy = pd.get_dummies(props, columns = non_numerics.columns, drop_first = True)"
   ]
  },
  {
   "cell_type": "code",
   "execution_count": null,
   "id": "b8c609cb-8601-4c68-9b58-df7746bee36e",
   "metadata": {
    "tags": []
   },
   "outputs": [],
   "source": []
  },
  {
   "cell_type": "code",
   "execution_count": null,
   "id": "fed63c89-3229-4fe1-80ca-270a63b184ee",
   "metadata": {},
   "outputs": [],
   "source": []
  },
  {
   "cell_type": "code",
   "execution_count": 219,
   "id": "01e2387a-2fbc-428a-856b-03aaf21c7069",
   "metadata": {
    "tags": []
   },
   "outputs": [],
   "source": [
    "corr = X_2.corr(numeric_only = True)[['SalePrice']].sort_values( by = 'SalePrice', ascending = False)"
   ]
  },
  {
   "cell_type": "code",
   "execution_count": null,
   "id": "7eaa0b50-2306-4f11-82c5-f3beea7a0e05",
   "metadata": {
    "tags": []
   },
   "outputs": [],
   "source": []
  },
  {
   "cell_type": "code",
   "execution_count": 220,
   "id": "a1e714e7-98f5-4859-9164-c03081d97fca",
   "metadata": {
    "tags": []
   },
   "outputs": [],
   "source": [
    "correlated_numeric_features = corr[(corr['SalePrice'] > 0.10) |  (corr['SalePrice'] < -0.10)].index[1:]"
   ]
  },
  {
   "cell_type": "code",
   "execution_count": null,
   "id": "ea4b1191-b085-4706-a5dd-0fae0b6c407d",
   "metadata": {
    "tags": []
   },
   "outputs": [],
   "source": []
  },
  {
   "cell_type": "markdown",
   "id": "0902bb5f-c98f-4672-9026-4df9c3048bc1",
   "metadata": {
    "tags": []
   },
   "source": [
    "## Some dropping / feature engineering based on what we see above"
   ]
  },
  {
   "cell_type": "markdown",
   "id": "b484beec-936c-404e-888b-2fe0e5a07bd0",
   "metadata": {},
   "source": [
    "The following are either sparse data or could introduce multicolinearity (such as ages of subsections of the house and totals of square footage already represented here)"
   ]
  },
  {
   "cell_type": "code",
   "execution_count": 221,
   "id": "21fe2c5d-2d11-43f1-9436-0d70f4a476d0",
   "metadata": {
    "tags": []
   },
   "outputs": [],
   "source": [
    "X_2_non_numerics = X_2.select_dtypes(exclude = np.number)"
   ]
  },
  {
   "cell_type": "code",
   "execution_count": 222,
   "id": "53e8ec48-8ef0-4b4b-ab72-c63bb4a352c8",
   "metadata": {
    "tags": []
   },
   "outputs": [],
   "source": [
    "X_2_nums = X_2.loc[:, list(correlated_numeric_features)]\n",
    "y2 = X_2['SalePrice']"
   ]
  },
  {
   "cell_type": "code",
   "execution_count": 223,
   "id": "fe494547-caa4-4a08-b546-2850d0bd5bc7",
   "metadata": {
    "tags": []
   },
   "outputs": [],
   "source": [
    "replace_NaN_with_NA(X_2, [column for column in X_2_non_numerics.columns if X_2_non_numerics[column].isnull().sum() > 0])"
   ]
  },
  {
   "cell_type": "code",
   "execution_count": null,
   "id": "57dfa0da-3f66-4000-bede-5bfec307323d",
   "metadata": {
    "tags": []
   },
   "outputs": [],
   "source": []
  },
  {
   "cell_type": "code",
   "execution_count": 224,
   "id": "19eaf179-f347-43c2-972f-a783bd0e8385",
   "metadata": {
    "tags": []
   },
   "outputs": [],
   "source": [
    "X_2_dummy = pd.get_dummies(X_2_non_numerics, columns = non_numerics.columns, drop_first = True)"
   ]
  },
  {
   "cell_type": "code",
   "execution_count": 225,
   "id": "70e1060d-d63b-45bb-a1cc-f53d0b3bb5c4",
   "metadata": {
    "tags": []
   },
   "outputs": [
    {
     "data": {
      "text/plain": [
       "(2026, 257)"
      ]
     },
     "execution_count": 225,
     "metadata": {},
     "output_type": "execute_result"
    }
   ],
   "source": [
    "X_2_dummy.shape"
   ]
  },
  {
   "cell_type": "code",
   "execution_count": 226,
   "id": "ec3a1e75-4653-4e07-8b72-9fe0a2e2e458",
   "metadata": {
    "tags": []
   },
   "outputs": [
    {
     "data": {
      "text/plain": [
       "(2026, 26)"
      ]
     },
     "execution_count": 226,
     "metadata": {},
     "output_type": "execute_result"
    }
   ],
   "source": [
    "X_2_nums.shape"
   ]
  },
  {
   "cell_type": "code",
   "execution_count": 227,
   "id": "6b6bbcc5-d692-47cc-8c5e-8b23a4e35785",
   "metadata": {
    "tags": []
   },
   "outputs": [],
   "source": [
    "X_2_means = X_2_dummy.mean().sort_values().to_frame()\n",
    "X_2_dummy_trimmed = list(X_2_means[(X_2_means[0] > 0.10) & (X_2_means[0] < 0.90)].index)"
   ]
  },
  {
   "cell_type": "code",
   "execution_count": null,
   "id": "caf08c80-be74-4a9f-a00d-8cb9de66e868",
   "metadata": {
    "tags": []
   },
   "outputs": [],
   "source": []
  },
  {
   "cell_type": "code",
   "execution_count": 228,
   "id": "c7fad191-3a7e-4eb3-8ac8-d5d9674df680",
   "metadata": {
    "tags": []
   },
   "outputs": [],
   "source": [
    "X_2_use = X_2_nums.join(X_2_dummy.loc[:, X_2_dummy_trimmed], on='Id', how='left')"
   ]
  },
  {
   "cell_type": "code",
   "execution_count": null,
   "id": "f6c39896-74b3-442c-ab4d-2addf8a1459d",
   "metadata": {
    "tags": []
   },
   "outputs": [],
   "source": []
  },
  {
   "cell_type": "code",
   "execution_count": 229,
   "id": "7cf560d3-0293-4639-904d-2c216b2643a4",
   "metadata": {
    "tags": []
   },
   "outputs": [],
   "source": [
    "X2_train, X2_test, y2_train, y2_test = train_test_split(X_2_use, y2, test_size = 0.3, random_state=2023)"
   ]
  },
  {
   "cell_type": "code",
   "execution_count": 230,
   "id": "08bde4ea-8c0c-40d9-af4e-05eb86697752",
   "metadata": {
    "tags": []
   },
   "outputs": [],
   "source": [
    "si = SimpleImputer()"
   ]
  },
  {
   "cell_type": "code",
   "execution_count": 231,
   "id": "013c5193-c8ff-415c-ad77-9902c2e8f9d1",
   "metadata": {
    "tags": []
   },
   "outputs": [],
   "source": [
    "X2_train_si = si.fit_transform(X2_train)\n",
    "X2_test_si = si.transform(X2_test)"
   ]
  },
  {
   "cell_type": "code",
   "execution_count": null,
   "id": "02390e19-da94-4e44-9b62-0cff0d4e7d8d",
   "metadata": {
    "tags": []
   },
   "outputs": [],
   "source": []
  },
  {
   "cell_type": "code",
   "execution_count": 232,
   "id": "37f76bca-e7d4-4508-b435-db8c27cd47bd",
   "metadata": {
    "tags": []
   },
   "outputs": [
    {
     "data": {
      "text/html": [
       "<style>#sk-container-id-5 {color: black;}#sk-container-id-5 pre{padding: 0;}#sk-container-id-5 div.sk-toggleable {background-color: white;}#sk-container-id-5 label.sk-toggleable__label {cursor: pointer;display: block;width: 100%;margin-bottom: 0;padding: 0.3em;box-sizing: border-box;text-align: center;}#sk-container-id-5 label.sk-toggleable__label-arrow:before {content: \"▸\";float: left;margin-right: 0.25em;color: #696969;}#sk-container-id-5 label.sk-toggleable__label-arrow:hover:before {color: black;}#sk-container-id-5 div.sk-estimator:hover label.sk-toggleable__label-arrow:before {color: black;}#sk-container-id-5 div.sk-toggleable__content {max-height: 0;max-width: 0;overflow: hidden;text-align: left;background-color: #f0f8ff;}#sk-container-id-5 div.sk-toggleable__content pre {margin: 0.2em;color: black;border-radius: 0.25em;background-color: #f0f8ff;}#sk-container-id-5 input.sk-toggleable__control:checked~div.sk-toggleable__content {max-height: 200px;max-width: 100%;overflow: auto;}#sk-container-id-5 input.sk-toggleable__control:checked~label.sk-toggleable__label-arrow:before {content: \"▾\";}#sk-container-id-5 div.sk-estimator input.sk-toggleable__control:checked~label.sk-toggleable__label {background-color: #d4ebff;}#sk-container-id-5 div.sk-label input.sk-toggleable__control:checked~label.sk-toggleable__label {background-color: #d4ebff;}#sk-container-id-5 input.sk-hidden--visually {border: 0;clip: rect(1px 1px 1px 1px);clip: rect(1px, 1px, 1px, 1px);height: 1px;margin: -1px;overflow: hidden;padding: 0;position: absolute;width: 1px;}#sk-container-id-5 div.sk-estimator {font-family: monospace;background-color: #f0f8ff;border: 1px dotted black;border-radius: 0.25em;box-sizing: border-box;margin-bottom: 0.5em;}#sk-container-id-5 div.sk-estimator:hover {background-color: #d4ebff;}#sk-container-id-5 div.sk-parallel-item::after {content: \"\";width: 100%;border-bottom: 1px solid gray;flex-grow: 1;}#sk-container-id-5 div.sk-label:hover label.sk-toggleable__label {background-color: #d4ebff;}#sk-container-id-5 div.sk-serial::before {content: \"\";position: absolute;border-left: 1px solid gray;box-sizing: border-box;top: 0;bottom: 0;left: 50%;z-index: 0;}#sk-container-id-5 div.sk-serial {display: flex;flex-direction: column;align-items: center;background-color: white;padding-right: 0.2em;padding-left: 0.2em;position: relative;}#sk-container-id-5 div.sk-item {position: relative;z-index: 1;}#sk-container-id-5 div.sk-parallel {display: flex;align-items: stretch;justify-content: center;background-color: white;position: relative;}#sk-container-id-5 div.sk-item::before, #sk-container-id-5 div.sk-parallel-item::before {content: \"\";position: absolute;border-left: 1px solid gray;box-sizing: border-box;top: 0;bottom: 0;left: 50%;z-index: -1;}#sk-container-id-5 div.sk-parallel-item {display: flex;flex-direction: column;z-index: 1;position: relative;background-color: white;}#sk-container-id-5 div.sk-parallel-item:first-child::after {align-self: flex-end;width: 50%;}#sk-container-id-5 div.sk-parallel-item:last-child::after {align-self: flex-start;width: 50%;}#sk-container-id-5 div.sk-parallel-item:only-child::after {width: 0;}#sk-container-id-5 div.sk-dashed-wrapped {border: 1px dashed gray;margin: 0 0.4em 0.5em 0.4em;box-sizing: border-box;padding-bottom: 0.4em;background-color: white;}#sk-container-id-5 div.sk-label label {font-family: monospace;font-weight: bold;display: inline-block;line-height: 1.2em;}#sk-container-id-5 div.sk-label-container {text-align: center;}#sk-container-id-5 div.sk-container {/* jupyter's `normalize.less` sets `[hidden] { display: none; }` but bootstrap.min.css set `[hidden] { display: none !important; }` so we also need the `!important` here to be able to override the default hidden behavior on the sphinx rendered scikit-learn.org. See: https://github.com/scikit-learn/scikit-learn/issues/21755 */display: inline-block !important;position: relative;}#sk-container-id-5 div.sk-text-repr-fallback {display: none;}</style><div id=\"sk-container-id-5\" class=\"sk-top-container\"><div class=\"sk-text-repr-fallback\"><pre>LinearRegression()</pre><b>In a Jupyter environment, please rerun this cell to show the HTML representation or trust the notebook. <br />On GitHub, the HTML representation is unable to render, please try loading this page with nbviewer.org.</b></div><div class=\"sk-container\" hidden><div class=\"sk-item\"><div class=\"sk-estimator sk-toggleable\"><input class=\"sk-toggleable__control sk-hidden--visually\" id=\"sk-estimator-id-5\" type=\"checkbox\" checked><label for=\"sk-estimator-id-5\" class=\"sk-toggleable__label sk-toggleable__label-arrow\">LinearRegression</label><div class=\"sk-toggleable__content\"><pre>LinearRegression()</pre></div></div></div></div></div>"
      ],
      "text/plain": [
       "LinearRegression()"
      ]
     },
     "execution_count": 232,
     "metadata": {},
     "output_type": "execute_result"
    }
   ],
   "source": [
    "ols = LinearRegression()\n",
    "ols.fit(X2_train_si, y2_train)"
   ]
  },
  {
   "cell_type": "code",
   "execution_count": 233,
   "id": "557d4a97-132c-4753-bb7b-befd4831ffb6",
   "metadata": {
    "tags": []
   },
   "outputs": [
    {
     "data": {
      "text/plain": [
       "array([ 1.04728573e+01,  4.96997962e+00,  1.38858350e+04,  2.20363508e+01,\n",
       "        2.09077131e+01,  6.89599951e+03,  3.65794818e+01,  1.57737204e+03,\n",
       "        9.76476709e+03, -1.46349654e+01, -6.84405236e+01,  1.53412878e+01,\n",
       "       -5.58614147e+00,  3.94772446e-01,  8.25681846e+03,  1.04004583e+04,\n",
       "        6.06504247e+02,  9.72413523e+03,  4.30240505e+01, -6.82151216e+00,\n",
       "       -8.45281702e+02,  6.69202876e+01, -1.77409535e+04,  2.50509110e+01,\n",
       "       -3.66416172e+02, -1.99901164e+02,  1.73780252e+03,  1.50983151e+04,\n",
       "       -3.53183069e+03,  1.91527433e+04,  4.27329609e+03,  1.65227770e+04,\n",
       "        8.56542064e+03, -9.47705958e+03,  7.39108424e+03,  8.34677302e+03,\n",
       "       -6.04190916e+03, -4.33008937e+03, -3.95056907e+03, -2.20341528e+03,\n",
       "        1.09155300e+04, -8.44114497e+03,  2.57430918e+03,  3.19745222e+03,\n",
       "        9.79913658e+02,  3.07640467e+03, -1.58213194e+03, -2.70187844e+03,\n",
       "       -7.00564894e+03,  4.25184384e+03,  4.13032817e+02, -4.83594245e+03,\n",
       "        3.33453085e+02, -1.16874151e+04, -2.24234646e+03, -4.35804482e+03,\n",
       "        1.17136279e+04,  2.23810305e+03, -2.94257958e+04, -4.59102484e+03,\n",
       "        8.48409304e+03,  1.10567537e+04, -2.65106502e+04, -1.87549744e+03,\n",
       "       -2.03857880e+04,  1.64232223e+03, -9.72479949e+03,  5.02980705e+03,\n",
       "       -2.12600036e+03, -2.56757611e+04, -5.48793370e+02,  1.57426210e+03,\n",
       "        4.17070541e+03,  7.63405616e+03, -3.88087680e+04, -1.67460832e+03,\n",
       "       -9.68721640e+03, -1.94277200e+03,  3.69969791e+03, -2.55400455e+03,\n",
       "       -3.38681408e+03,  8.85845040e+03,  9.32368733e+03,  1.52408025e+04,\n",
       "       -3.68183992e+03, -7.23682277e+03,  6.50486416e+03,  1.02515103e+03])"
      ]
     },
     "execution_count": 233,
     "metadata": {},
     "output_type": "execute_result"
    }
   ],
   "source": [
    "ols.coef_"
   ]
  },
  {
   "cell_type": "code",
   "execution_count": 234,
   "id": "269ed71b-183f-4700-ba82-da60c8929ef8",
   "metadata": {
    "tags": []
   },
   "outputs": [
    {
     "data": {
      "text/plain": [
       "0.8598011212832428"
      ]
     },
     "execution_count": 234,
     "metadata": {},
     "output_type": "execute_result"
    }
   ],
   "source": [
    "ols.score(X2_test_si, y2_test)"
   ]
  },
  {
   "cell_type": "code",
   "execution_count": 235,
   "id": "e3a40382-a2ef-4249-adbb-87dd1ad78d27",
   "metadata": {
    "tags": []
   },
   "outputs": [
    {
     "data": {
      "text/plain": [
       "0.8398469824385021"
      ]
     },
     "execution_count": 235,
     "metadata": {},
     "output_type": "execute_result"
    }
   ],
   "source": [
    "ols.score(X2_train_si, y2_train)"
   ]
  },
  {
   "cell_type": "code",
   "execution_count": null,
   "id": "668f34ac-312f-49e6-8cad-ca7945444960",
   "metadata": {},
   "outputs": [],
   "source": []
  },
  {
   "cell_type": "code",
   "execution_count": 236,
   "id": "aa7a868d-43cf-45a4-a3a2-d6c01839eced",
   "metadata": {
    "tags": []
   },
   "outputs": [],
   "source": [
    "y2_test_mean = y2_test.mean()"
   ]
  },
  {
   "cell_type": "code",
   "execution_count": 237,
   "id": "5378bfef-a08f-45f8-8340-f65158db0f22",
   "metadata": {
    "tags": []
   },
   "outputs": [],
   "source": [
    "y2_baseline = y2_test/y2_test * y2_test_mean"
   ]
  },
  {
   "cell_type": "code",
   "execution_count": 238,
   "id": "6486de04-d0f0-4444-b4cb-9f16ab3d77a8",
   "metadata": {
    "tags": []
   },
   "outputs": [
    {
     "data": {
      "text/plain": [
       "(608,)"
      ]
     },
     "execution_count": 238,
     "metadata": {},
     "output_type": "execute_result"
    }
   ],
   "source": [
    "y2_baseline.shape"
   ]
  },
  {
   "cell_type": "markdown",
   "id": "5e9c4c9e-f227-4eec-bc7d-5992d8c5dea6",
   "metadata": {},
   "source": [
    "## R2 Score"
   ]
  },
  {
   "cell_type": "markdown",
   "id": "bac0d356-9c6d-46b5-86d7-11e2ec70ae9d",
   "metadata": {},
   "source": [
    "### Train"
   ]
  },
  {
   "cell_type": "code",
   "execution_count": 239,
   "id": "3a71bc88-eadb-4403-af82-d996595f673a",
   "metadata": {
    "tags": []
   },
   "outputs": [
    {
     "data": {
      "text/plain": [
       "0.8398469824385021"
      ]
     },
     "execution_count": 239,
     "metadata": {},
     "output_type": "execute_result"
    }
   ],
   "source": [
    "ols.score(X2_train_si, y2_train)"
   ]
  },
  {
   "cell_type": "markdown",
   "id": "d4c9bb55-8741-472f-8125-799297d4173a",
   "metadata": {},
   "source": [
    "### Test"
   ]
  },
  {
   "cell_type": "code",
   "execution_count": 240,
   "id": "d5092a33-7ccd-4c98-8e20-d68ffac146ee",
   "metadata": {
    "tags": []
   },
   "outputs": [
    {
     "data": {
      "text/plain": [
       "0.8598011212832428"
      ]
     },
     "execution_count": 240,
     "metadata": {},
     "output_type": "execute_result"
    }
   ],
   "source": [
    "ols.score(X2_test_si, y2_test)"
   ]
  },
  {
   "cell_type": "markdown",
   "id": "8cfe3648-9d60-4f9b-90ea-0f481b698959",
   "metadata": {},
   "source": [
    "### Obtaining Predictions"
   ]
  },
  {
   "cell_type": "code",
   "execution_count": 241,
   "id": "cf4dc5f5-32d6-4581-b2c6-94c73db912ca",
   "metadata": {
    "tags": []
   },
   "outputs": [],
   "source": [
    "y2_test_pred = ols.predict(X2_test_si)\n",
    "y2_train_pred = ols.predict(X2_train_si)"
   ]
  },
  {
   "cell_type": "markdown",
   "id": "b25c89c8-fa51-46df-a933-278deb1a6977",
   "metadata": {
    "tags": []
   },
   "source": [
    "## Mean Absolute Error"
   ]
  },
  {
   "cell_type": "markdown",
   "id": "319d30a2-c903-4e94-804c-3437a4a33d5a",
   "metadata": {},
   "source": [
    "### Train"
   ]
  },
  {
   "cell_type": "code",
   "execution_count": 242,
   "id": "23a838e2-89b8-42bb-b678-ff18fd205fdc",
   "metadata": {
    "tags": []
   },
   "outputs": [
    {
     "data": {
      "text/plain": [
       "19740.238049741813"
      ]
     },
     "execution_count": 242,
     "metadata": {},
     "output_type": "execute_result"
    }
   ],
   "source": [
    "metrics.mean_absolute_error(y2_train, y2_train_pred)"
   ]
  },
  {
   "cell_type": "markdown",
   "id": "4f9b607b-0f75-4c5f-ade6-2c921ee2003c",
   "metadata": {
    "tags": []
   },
   "source": [
    "### Test"
   ]
  },
  {
   "cell_type": "code",
   "execution_count": 243,
   "id": "a52dca39-fd18-4816-bad8-051d9b9894c9",
   "metadata": {
    "tags": []
   },
   "outputs": [
    {
     "data": {
      "text/plain": [
       "21382.877120508732"
      ]
     },
     "execution_count": 243,
     "metadata": {},
     "output_type": "execute_result"
    }
   ],
   "source": [
    "metrics.mean_absolute_error(y2_test, y2_test_pred)"
   ]
  },
  {
   "cell_type": "markdown",
   "id": "1f673c99-c2d5-47b5-a62c-6504998d404e",
   "metadata": {},
   "source": [
    "### Baseline"
   ]
  },
  {
   "cell_type": "code",
   "execution_count": 244,
   "id": "816fe861-76c1-4cc3-8f5d-f9f808e61080",
   "metadata": {
    "tags": []
   },
   "outputs": [
    {
     "data": {
      "text/plain": [
       "61811.8075116863"
      ]
     },
     "execution_count": 244,
     "metadata": {},
     "output_type": "execute_result"
    }
   ],
   "source": [
    "metrics.mean_absolute_error(y2_test, y2_baseline)"
   ]
  },
  {
   "cell_type": "markdown",
   "id": "e293e8b4-a23a-48f5-ba4c-6680880a9c7c",
   "metadata": {},
   "source": [
    "## Mean Squared Error and Root Mean Squared Error"
   ]
  },
  {
   "cell_type": "markdown",
   "id": "d5172f00-06df-484f-8c45-8b01de0330e6",
   "metadata": {},
   "source": [
    "### Train"
   ]
  },
  {
   "cell_type": "code",
   "execution_count": null,
   "id": "917712da-6f45-4389-b438-499d4cde64ce",
   "metadata": {},
   "outputs": [],
   "source": []
  },
  {
   "cell_type": "code",
   "execution_count": 245,
   "id": "bfc4e759-3944-491a-b41d-8768de24e712",
   "metadata": {
    "tags": []
   },
   "outputs": [
    {
     "name": "stdout",
     "output_type": "stream",
     "text": [
      "MSE: 950909515.598514   RMSE: 30836.82077644377\n"
     ]
    }
   ],
   "source": [
    "print(f\"MSE: {metrics.mean_squared_error(y2_train, y2_train_pred, squared=True)}   RMSE: {metrics.mean_squared_error(y2_train, y2_train_pred, squared=False)}\")"
   ]
  },
  {
   "cell_type": "markdown",
   "id": "9d88d9e1-26a0-4f43-8592-fa9988afbf2a",
   "metadata": {},
   "source": [
    "### Test"
   ]
  },
  {
   "cell_type": "code",
   "execution_count": 246,
   "id": "7128050a-fb18-4b47-8a52-7e13cba95266",
   "metadata": {
    "tags": []
   },
   "outputs": [
    {
     "name": "stdout",
     "output_type": "stream",
     "text": [
      "MSE: 977602643.7769591   RMSE: 31266.637871331146\n"
     ]
    }
   ],
   "source": [
    "print(f\"MSE: {metrics.mean_squared_error(y2_test, y2_test_pred, squared=True)}   RMSE: {metrics.mean_squared_error(y2_test, y2_test_pred, squared=False)}\")"
   ]
  },
  {
   "cell_type": "markdown",
   "id": "596185ff-7c06-4be7-a13a-7082dc492ae7",
   "metadata": {},
   "source": [
    "### Baseline"
   ]
  },
  {
   "cell_type": "code",
   "execution_count": 247,
   "id": "a7d11a56-1072-4242-b476-1d9a8e5bcc66",
   "metadata": {
    "tags": []
   },
   "outputs": [
    {
     "ename": "NameError",
     "evalue": "name 'y_test' is not defined",
     "output_type": "error",
     "traceback": [
      "\u001b[1;31m---------------------------------------------------------------------------\u001b[0m",
      "\u001b[1;31mNameError\u001b[0m                                 Traceback (most recent call last)",
      "Cell \u001b[1;32mIn[247], line 1\u001b[0m\n\u001b[1;32m----> 1\u001b[0m \u001b[38;5;28mprint\u001b[39m(\u001b[38;5;124mf\u001b[39m\u001b[38;5;124m\"\u001b[39m\u001b[38;5;124mMSE: \u001b[39m\u001b[38;5;132;01m{\u001b[39;00mmetrics\u001b[38;5;241m.\u001b[39mmean_squared_error(y_test,\u001b[38;5;250m \u001b[39my_baseline,\u001b[38;5;250m \u001b[39msquared\u001b[38;5;241m=\u001b[39m\u001b[38;5;28;01mTrue\u001b[39;00m)\u001b[38;5;132;01m}\u001b[39;00m\u001b[38;5;124m   RMSE: \u001b[39m\u001b[38;5;132;01m{\u001b[39;00mmetrics\u001b[38;5;241m.\u001b[39mmean_squared_error(y_test,\u001b[38;5;250m \u001b[39my_baseline,\u001b[38;5;250m \u001b[39msquared\u001b[38;5;241m=\u001b[39m\u001b[38;5;28;01mFalse\u001b[39;00m)\u001b[38;5;132;01m}\u001b[39;00m\u001b[38;5;124m\"\u001b[39m)\n",
      "\u001b[1;31mNameError\u001b[0m: name 'y_test' is not defined"
     ]
    }
   ],
   "source": [
    "print(f\"MSE: {metrics.mean_squared_error(y_test, y_baseline, squared=True)}   RMSE: {metrics.mean_squared_error(y_test, y_baseline, squared=False)}\")"
   ]
  }
 ],
 "metadata": {
  "kernelspec": {
   "display_name": "Python 3 (ipykernel)",
   "language": "python",
   "name": "python3"
  },
  "language_info": {
   "codemirror_mode": {
    "name": "ipython",
    "version": 3
   },
   "file_extension": ".py",
   "mimetype": "text/x-python",
   "name": "python",
   "nbconvert_exporter": "python",
   "pygments_lexer": "ipython3",
   "version": "3.11.4"
  }
 },
 "nbformat": 4,
 "nbformat_minor": 5
}
