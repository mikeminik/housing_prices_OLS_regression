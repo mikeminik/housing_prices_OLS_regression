{
 "cells": [
  {
   "cell_type": "code",
   "execution_count": null,
   "id": "ac6deb3b-e7cb-4347-9a8b-898bcf05a5f8",
   "metadata": {},
   "outputs": [],
   "source": []
  },
  {
   "cell_type": "code",
   "execution_count": 30,
   "id": "f730ec49-bd82-423e-ad3b-ede9f43e5719",
   "metadata": {
    "tags": []
   },
   "outputs": [],
   "source": [
    "import numpy as np\n",
    "import pandas as pd\n",
    "import matplotlib.pyplot as plt\n",
    "import seaborn as sns\n",
    "from sklearn.linear_model import LinearRegression\n",
    "from sklearn.model_selection import train_test_split, cross_validate\n",
    "from sklearn.preprocessing import StandardScaler, PolynomialFeatures, OneHotEncoder\n",
    "from sklearn.impute import SimpleImputer\n",
    "from sklearn import metrics\n",
    "\n",
    "%run 00_Functions.ipynb\n",
    "%run 01_Data_Cleaning.ipynb\n"
   ]
  },
  {
   "cell_type": "code",
   "execution_count": 31,
   "id": "b0cc9fd4-a333-4365-abcd-63afb00676bd",
   "metadata": {
    "tags": []
   },
   "outputs": [],
   "source": [
    "pd.set_option('display.max_columns', None)\n",
    "pd.set_option('display.max_rows', None)\n",
    "# see all of my columns, no truncating!"
   ]
  },
  {
   "cell_type": "markdown",
   "id": "32021310-527d-448c-9141-5da44b1696fb",
   "metadata": {},
   "source": [
    "Make a new version of a usable dataframe"
   ]
  },
  {
   "cell_type": "code",
   "execution_count": 32,
   "id": "ce763465-e09f-4f2e-b18a-5110df4db5b0",
   "metadata": {
    "tags": []
   },
   "outputs": [],
   "source": [
    "X_2 = props.copy()"
   ]
  },
  {
   "cell_type": "markdown",
   "id": "d67a9e49-c465-42df-ad1e-00fe3e68bd2f",
   "metadata": {},
   "source": [
    "### Dropping values that are either clearly colinear (square footage totals, for example) and PID)"
   ]
  },
  {
   "cell_type": "code",
   "execution_count": 33,
   "id": "240d0fd4-8b7b-4b5d-8363-8c7d9c3367de",
   "metadata": {
    "tags": []
   },
   "outputs": [],
   "source": [
    "X_2.drop(['PID','Garage Yr Blt'], axis = 1, inplace = True)"
   ]
  },
  {
   "cell_type": "code",
   "execution_count": 34,
   "id": "9491b5ae-d3ef-4cf5-8164-f46d012bbb18",
   "metadata": {
    "tags": []
   },
   "outputs": [],
   "source": [
    "non_numerics = X_2.select_dtypes(exclude = np.number)"
   ]
  },
  {
   "cell_type": "markdown",
   "id": "d1b92d6d-1bed-492f-8925-596fc0a9f7a1",
   "metadata": {},
   "source": [
    "### Exploring correlated numeric values to decide which to use in the model / engineer"
   ]
  },
  {
   "cell_type": "code",
   "execution_count": 35,
   "id": "828928f9-1053-4562-bf89-0f36ba4c4cbe",
   "metadata": {
    "tags": []
   },
   "outputs": [],
   "source": [
    "corr = X_2.corr(numeric_only = True)[['SalePrice']].sort_values( by = 'SalePrice', ascending = False)"
   ]
  },
  {
   "cell_type": "code",
   "execution_count": 36,
   "id": "369cb95f-b97f-429e-bd40-52d1fbd84882",
   "metadata": {},
   "outputs": [
    {
     "data": {
      "text/html": [
       "<div>\n",
       "<style scoped>\n",
       "    .dataframe tbody tr th:only-of-type {\n",
       "        vertical-align: middle;\n",
       "    }\n",
       "\n",
       "    .dataframe tbody tr th {\n",
       "        vertical-align: top;\n",
       "    }\n",
       "\n",
       "    .dataframe thead th {\n",
       "        text-align: right;\n",
       "    }\n",
       "</style>\n",
       "<table border=\"1\" class=\"dataframe\">\n",
       "  <thead>\n",
       "    <tr style=\"text-align: right;\">\n",
       "      <th></th>\n",
       "      <th>SalePrice</th>\n",
       "    </tr>\n",
       "  </thead>\n",
       "  <tbody>\n",
       "    <tr>\n",
       "      <th>SalePrice</th>\n",
       "      <td>1.000000</td>\n",
       "    </tr>\n",
       "    <tr>\n",
       "      <th>Gr Liv Area</th>\n",
       "      <td>0.699026</td>\n",
       "    </tr>\n",
       "    <tr>\n",
       "      <th>Garage Area</th>\n",
       "      <td>0.648661</td>\n",
       "    </tr>\n",
       "    <tr>\n",
       "      <th>Garage Cars</th>\n",
       "      <td>0.647015</td>\n",
       "    </tr>\n",
       "    <tr>\n",
       "      <th>Total Bsmt SF</th>\n",
       "      <td>0.631975</td>\n",
       "    </tr>\n",
       "    <tr>\n",
       "      <th>1st Flr SF</th>\n",
       "      <td>0.623523</td>\n",
       "    </tr>\n",
       "    <tr>\n",
       "      <th>Full Bath</th>\n",
       "      <td>0.538471</td>\n",
       "    </tr>\n",
       "    <tr>\n",
       "      <th>Mas Vnr Area</th>\n",
       "      <td>0.512699</td>\n",
       "    </tr>\n",
       "    <tr>\n",
       "      <th>TotRms AbvGrd</th>\n",
       "      <td>0.505188</td>\n",
       "    </tr>\n",
       "    <tr>\n",
       "      <th>Fireplaces</th>\n",
       "      <td>0.471222</td>\n",
       "    </tr>\n",
       "    <tr>\n",
       "      <th>BsmtFin SF 1</th>\n",
       "      <td>0.424380</td>\n",
       "    </tr>\n",
       "    <tr>\n",
       "      <th>Lot Frontage</th>\n",
       "      <td>0.340194</td>\n",
       "    </tr>\n",
       "    <tr>\n",
       "      <th>Wood Deck SF</th>\n",
       "      <td>0.328729</td>\n",
       "    </tr>\n",
       "    <tr>\n",
       "      <th>Open Porch SF</th>\n",
       "      <td>0.325625</td>\n",
       "    </tr>\n",
       "    <tr>\n",
       "      <th>Lot Area</th>\n",
       "      <td>0.295845</td>\n",
       "    </tr>\n",
       "    <tr>\n",
       "      <th>Paved Drive</th>\n",
       "      <td>0.288728</td>\n",
       "    </tr>\n",
       "    <tr>\n",
       "      <th>Bsmt Full Bath</th>\n",
       "      <td>0.284514</td>\n",
       "    </tr>\n",
       "    <tr>\n",
       "      <th>Half Bath</th>\n",
       "      <td>0.278486</td>\n",
       "    </tr>\n",
       "    <tr>\n",
       "      <th>Central Air</th>\n",
       "      <td>0.277770</td>\n",
       "    </tr>\n",
       "    <tr>\n",
       "      <th>2nd Flr SF</th>\n",
       "      <td>0.250946</td>\n",
       "    </tr>\n",
       "    <tr>\n",
       "      <th>Bsmt Unf SF</th>\n",
       "      <td>0.191275</td>\n",
       "    </tr>\n",
       "    <tr>\n",
       "      <th>Bedroom AbvGr</th>\n",
       "      <td>0.138336</td>\n",
       "    </tr>\n",
       "    <tr>\n",
       "      <th>Screen Porch</th>\n",
       "      <td>0.137802</td>\n",
       "    </tr>\n",
       "    <tr>\n",
       "      <th>Paved Street</th>\n",
       "      <td>0.069981</td>\n",
       "    </tr>\n",
       "    <tr>\n",
       "      <th>3Ssn Porch</th>\n",
       "      <td>0.049865</td>\n",
       "    </tr>\n",
       "    <tr>\n",
       "      <th>Has All Utilities</th>\n",
       "      <td>0.033123</td>\n",
       "    </tr>\n",
       "    <tr>\n",
       "      <th>Pool Area</th>\n",
       "      <td>0.023749</td>\n",
       "    </tr>\n",
       "    <tr>\n",
       "      <th>BsmtFin SF 2</th>\n",
       "      <td>0.019387</td>\n",
       "    </tr>\n",
       "    <tr>\n",
       "      <th>Years since last sold</th>\n",
       "      <td>0.011046</td>\n",
       "    </tr>\n",
       "    <tr>\n",
       "      <th>Misc Val</th>\n",
       "      <td>-0.006787</td>\n",
       "    </tr>\n",
       "    <tr>\n",
       "      <th>Low Qual Fin SF</th>\n",
       "      <td>-0.041153</td>\n",
       "    </tr>\n",
       "    <tr>\n",
       "      <th>Bsmt Half Bath</th>\n",
       "      <td>-0.043856</td>\n",
       "    </tr>\n",
       "    <tr>\n",
       "      <th>Gentle Slope</th>\n",
       "      <td>-0.064737</td>\n",
       "    </tr>\n",
       "    <tr>\n",
       "      <th>Kitchen AbvGr</th>\n",
       "      <td>-0.126232</td>\n",
       "    </tr>\n",
       "    <tr>\n",
       "      <th>Enclosed Porch</th>\n",
       "      <td>-0.138048</td>\n",
       "    </tr>\n",
       "    <tr>\n",
       "      <th>Years since remodel</th>\n",
       "      <td>-0.549397</td>\n",
       "    </tr>\n",
       "    <tr>\n",
       "      <th>Years since built</th>\n",
       "      <td>-0.571860</td>\n",
       "    </tr>\n",
       "  </tbody>\n",
       "</table>\n",
       "</div>"
      ],
      "text/plain": [
       "                       SalePrice\n",
       "SalePrice               1.000000\n",
       "Gr Liv Area             0.699026\n",
       "Garage Area             0.648661\n",
       "Garage Cars             0.647015\n",
       "Total Bsmt SF           0.631975\n",
       "1st Flr SF              0.623523\n",
       "Full Bath               0.538471\n",
       "Mas Vnr Area            0.512699\n",
       "TotRms AbvGrd           0.505188\n",
       "Fireplaces              0.471222\n",
       "BsmtFin SF 1            0.424380\n",
       "Lot Frontage            0.340194\n",
       "Wood Deck SF            0.328729\n",
       "Open Porch SF           0.325625\n",
       "Lot Area                0.295845\n",
       "Paved Drive             0.288728\n",
       "Bsmt Full Bath          0.284514\n",
       "Half Bath               0.278486\n",
       "Central Air             0.277770\n",
       "2nd Flr SF              0.250946\n",
       "Bsmt Unf SF             0.191275\n",
       "Bedroom AbvGr           0.138336\n",
       "Screen Porch            0.137802\n",
       "Paved Street            0.069981\n",
       "3Ssn Porch              0.049865\n",
       "Has All Utilities       0.033123\n",
       "Pool Area               0.023749\n",
       "BsmtFin SF 2            0.019387\n",
       "Years since last sold   0.011046\n",
       "Misc Val               -0.006787\n",
       "Low Qual Fin SF        -0.041153\n",
       "Bsmt Half Bath         -0.043856\n",
       "Gentle Slope           -0.064737\n",
       "Kitchen AbvGr          -0.126232\n",
       "Enclosed Porch         -0.138048\n",
       "Years since remodel    -0.549397\n",
       "Years since built      -0.571860"
      ]
     },
     "execution_count": 36,
     "metadata": {},
     "output_type": "execute_result"
    }
   ],
   "source": [
    "corr"
   ]
  },
  {
   "cell_type": "code",
   "execution_count": 37,
   "id": "b5999bad-4c62-4add-a880-95edf8e645c9",
   "metadata": {
    "tags": []
   },
   "outputs": [
    {
     "data": {
      "text/plain": [
       "Index(['MS SubClass', 'MS Zoning', 'Alley', 'Lot Shape', 'Land Contour',\n",
       "       'Lot Config', 'Neighborhood', 'Condition 1', 'Condition 2', 'Bldg Type',\n",
       "       'House Style', 'Overall Qual', 'Overall Cond', 'Roof Style',\n",
       "       'Roof Matl', 'Exterior 1st', 'Exterior 2nd', 'Mas Vnr Type',\n",
       "       'Exter Qual', 'Exter Cond', 'Foundation', 'Bsmt Qual', 'Bsmt Cond',\n",
       "       'Bsmt Exposure', 'BsmtFin Type 1', 'BsmtFin Type 2', 'Heating',\n",
       "       'Heating QC', 'Electrical', 'Kitchen Qual', 'Functional',\n",
       "       'Fireplace Qu', 'Garage Type', 'Garage Finish', 'Garage Qual',\n",
       "       'Garage Cond', 'Pool QC', 'Fence', 'Misc Feature', 'Mo Sold',\n",
       "       'Sale Type'],\n",
       "      dtype='object')"
      ]
     },
     "execution_count": 37,
     "metadata": {},
     "output_type": "execute_result"
    }
   ],
   "source": [
    "non_numerics.columns"
   ]
  },
  {
   "cell_type": "code",
   "execution_count": null,
   "id": "01e2387a-2fbc-428a-856b-03aaf21c7069",
   "metadata": {
    "tags": []
   },
   "outputs": [],
   "source": []
  },
  {
   "cell_type": "markdown",
   "id": "16d70710-1842-45d9-8d98-2543479df10f",
   "metadata": {
    "tags": []
   },
   "source": [
    "### Selecting features based on what kind of correlation value they have"
   ]
  },
  {
   "cell_type": "code",
   "execution_count": 38,
   "id": "a1e714e7-98f5-4859-9164-c03081d97fca",
   "metadata": {
    "tags": []
   },
   "outputs": [],
   "source": [
    "correlated_numeric_features = corr[(corr['SalePrice'] > 0.10) |  (corr['SalePrice'] < -0.10)].index[1:]"
   ]
  },
  {
   "cell_type": "code",
   "execution_count": 39,
   "id": "ea4b1191-b085-4706-a5dd-0fae0b6c407d",
   "metadata": {
    "tags": []
   },
   "outputs": [],
   "source": [
    "X_2_nums = X_2.loc[:, list(correlated_numeric_features)]\n"
   ]
  },
  {
   "cell_type": "markdown",
   "id": "0902bb5f-c98f-4672-9026-4df9c3048bc1",
   "metadata": {
    "tags": []
   },
   "source": [
    "###  Converting categorical values to dummies"
   ]
  },
  {
   "cell_type": "code",
   "execution_count": 40,
   "id": "21fe2c5d-2d11-43f1-9436-0d70f4a476d0",
   "metadata": {
    "tags": []
   },
   "outputs": [],
   "source": [
    "X_2_non_numerics = X_2.select_dtypes(exclude = np.number)"
   ]
  },
  {
   "cell_type": "code",
   "execution_count": 41,
   "id": "fe494547-caa4-4a08-b546-2850d0bd5bc7",
   "metadata": {
    "tags": []
   },
   "outputs": [],
   "source": [
    "replace_NaN_with_NA(X_2, [column for column in X_2_non_numerics.columns if X_2_non_numerics[column].isnull().sum() > 0])"
   ]
  },
  {
   "cell_type": "code",
   "execution_count": 42,
   "id": "19eaf179-f347-43c2-972f-a783bd0e8385",
   "metadata": {
    "tags": []
   },
   "outputs": [],
   "source": [
    "X_2_dummy = pd.get_dummies(X_2_non_numerics, columns = non_numerics.columns, drop_first = True)"
   ]
  },
  {
   "cell_type": "markdown",
   "id": "efe9d257-97cd-4492-a259-b2d902f7005d",
   "metadata": {
    "tags": []
   },
   "source": [
    "Trimmed down the list of dummied categories to limit underrepresented and overrepresented values"
   ]
  },
  {
   "cell_type": "code",
   "execution_count": 43,
   "id": "6b6bbcc5-d692-47cc-8c5e-8b23a4e35785",
   "metadata": {
    "tags": []
   },
   "outputs": [],
   "source": [
    "X_2_means = X_2_dummy.mean().sort_values().to_frame()\n",
    "X_2_dummy_trimmed = list(X_2_means[(X_2_means[0] > 0.10) & (X_2_means[0] < 0.90)].index)"
   ]
  },
  {
   "cell_type": "code",
   "execution_count": null,
   "id": "644b1af7-35e5-401b-be42-c38746dfdc4e",
   "metadata": {},
   "outputs": [],
   "source": []
  },
  {
   "cell_type": "code",
   "execution_count": null,
   "id": "53e8ec48-8ef0-4b4b-ab72-c63bb4a352c8",
   "metadata": {
    "tags": []
   },
   "outputs": [],
   "source": []
  },
  {
   "cell_type": "code",
   "execution_count": null,
   "id": "57dfa0da-3f66-4000-bede-5bfec307323d",
   "metadata": {
    "tags": []
   },
   "outputs": [],
   "source": []
  },
  {
   "cell_type": "code",
   "execution_count": 44,
   "id": "70e1060d-d63b-45bb-a1cc-f53d0b3bb5c4",
   "metadata": {
    "tags": []
   },
   "outputs": [
    {
     "data": {
      "text/plain": [
       "(2026, 257)"
      ]
     },
     "execution_count": 44,
     "metadata": {},
     "output_type": "execute_result"
    }
   ],
   "source": [
    "X_2_dummy.shape"
   ]
  },
  {
   "cell_type": "code",
   "execution_count": 45,
   "id": "ec3a1e75-4653-4e07-8b72-9fe0a2e2e458",
   "metadata": {
    "tags": []
   },
   "outputs": [
    {
     "data": {
      "text/plain": [
       "(2026, 26)"
      ]
     },
     "execution_count": 45,
     "metadata": {},
     "output_type": "execute_result"
    }
   ],
   "source": [
    "X_2_nums.shape"
   ]
  },
  {
   "cell_type": "markdown",
   "id": "d4801a1a-7281-43a2-956b-f838bf8a8c97",
   "metadata": {
    "tags": []
   },
   "source": [
    "### Settling on X and Y for this iteration"
   ]
  },
  {
   "cell_type": "code",
   "execution_count": 46,
   "id": "c7fad191-3a7e-4eb3-8ac8-d5d9674df680",
   "metadata": {
    "tags": []
   },
   "outputs": [],
   "source": [
    "X_2_use = X_2_nums.join(X_2_dummy.loc[:, X_2_dummy_trimmed], on='Id', how='left')\n",
    "y2 = X_2['SalePrice']"
   ]
  },
  {
   "cell_type": "code",
   "execution_count": null,
   "id": "f6c39896-74b3-442c-ab4d-2addf8a1459d",
   "metadata": {
    "tags": []
   },
   "outputs": [],
   "source": []
  },
  {
   "cell_type": "code",
   "execution_count": 47,
   "id": "7cf560d3-0293-4639-904d-2c216b2643a4",
   "metadata": {
    "tags": []
   },
   "outputs": [],
   "source": [
    "X2_train, X2_test, y2_train, y2_test = train_test_split(X_2_use, y2, test_size = 0.3, random_state=2023)"
   ]
  },
  {
   "cell_type": "code",
   "execution_count": 48,
   "id": "f1d14ee0",
   "metadata": {
    "tags": []
   },
   "outputs": [],
   "source": [
    "si = SimpleImputer()"
   ]
  },
  {
   "cell_type": "code",
   "execution_count": 49,
   "id": "671d2c42",
   "metadata": {
    "tags": []
   },
   "outputs": [],
   "source": [
    "X2_train_si = si.fit_transform(X2_train)\n",
    "X2_test_si = si.transform(X2_test)"
   ]
  },
  {
   "cell_type": "code",
   "execution_count": null,
   "id": "d1f531f0",
   "metadata": {
    "tags": []
   },
   "outputs": [],
   "source": []
  },
  {
   "cell_type": "code",
   "execution_count": 50,
   "id": "37f76bca-e7d4-4508-b435-db8c27cd47bd",
   "metadata": {
    "tags": []
   },
   "outputs": [
    {
     "data": {
      "text/html": [
       "<style>#sk-container-id-1 {color: black;}#sk-container-id-1 pre{padding: 0;}#sk-container-id-1 div.sk-toggleable {background-color: white;}#sk-container-id-1 label.sk-toggleable__label {cursor: pointer;display: block;width: 100%;margin-bottom: 0;padding: 0.3em;box-sizing: border-box;text-align: center;}#sk-container-id-1 label.sk-toggleable__label-arrow:before {content: \"▸\";float: left;margin-right: 0.25em;color: #696969;}#sk-container-id-1 label.sk-toggleable__label-arrow:hover:before {color: black;}#sk-container-id-1 div.sk-estimator:hover label.sk-toggleable__label-arrow:before {color: black;}#sk-container-id-1 div.sk-toggleable__content {max-height: 0;max-width: 0;overflow: hidden;text-align: left;background-color: #f0f8ff;}#sk-container-id-1 div.sk-toggleable__content pre {margin: 0.2em;color: black;border-radius: 0.25em;background-color: #f0f8ff;}#sk-container-id-1 input.sk-toggleable__control:checked~div.sk-toggleable__content {max-height: 200px;max-width: 100%;overflow: auto;}#sk-container-id-1 input.sk-toggleable__control:checked~label.sk-toggleable__label-arrow:before {content: \"▾\";}#sk-container-id-1 div.sk-estimator input.sk-toggleable__control:checked~label.sk-toggleable__label {background-color: #d4ebff;}#sk-container-id-1 div.sk-label input.sk-toggleable__control:checked~label.sk-toggleable__label {background-color: #d4ebff;}#sk-container-id-1 input.sk-hidden--visually {border: 0;clip: rect(1px 1px 1px 1px);clip: rect(1px, 1px, 1px, 1px);height: 1px;margin: -1px;overflow: hidden;padding: 0;position: absolute;width: 1px;}#sk-container-id-1 div.sk-estimator {font-family: monospace;background-color: #f0f8ff;border: 1px dotted black;border-radius: 0.25em;box-sizing: border-box;margin-bottom: 0.5em;}#sk-container-id-1 div.sk-estimator:hover {background-color: #d4ebff;}#sk-container-id-1 div.sk-parallel-item::after {content: \"\";width: 100%;border-bottom: 1px solid gray;flex-grow: 1;}#sk-container-id-1 div.sk-label:hover label.sk-toggleable__label {background-color: #d4ebff;}#sk-container-id-1 div.sk-serial::before {content: \"\";position: absolute;border-left: 1px solid gray;box-sizing: border-box;top: 0;bottom: 0;left: 50%;z-index: 0;}#sk-container-id-1 div.sk-serial {display: flex;flex-direction: column;align-items: center;background-color: white;padding-right: 0.2em;padding-left: 0.2em;position: relative;}#sk-container-id-1 div.sk-item {position: relative;z-index: 1;}#sk-container-id-1 div.sk-parallel {display: flex;align-items: stretch;justify-content: center;background-color: white;position: relative;}#sk-container-id-1 div.sk-item::before, #sk-container-id-1 div.sk-parallel-item::before {content: \"\";position: absolute;border-left: 1px solid gray;box-sizing: border-box;top: 0;bottom: 0;left: 50%;z-index: -1;}#sk-container-id-1 div.sk-parallel-item {display: flex;flex-direction: column;z-index: 1;position: relative;background-color: white;}#sk-container-id-1 div.sk-parallel-item:first-child::after {align-self: flex-end;width: 50%;}#sk-container-id-1 div.sk-parallel-item:last-child::after {align-self: flex-start;width: 50%;}#sk-container-id-1 div.sk-parallel-item:only-child::after {width: 0;}#sk-container-id-1 div.sk-dashed-wrapped {border: 1px dashed gray;margin: 0 0.4em 0.5em 0.4em;box-sizing: border-box;padding-bottom: 0.4em;background-color: white;}#sk-container-id-1 div.sk-label label {font-family: monospace;font-weight: bold;display: inline-block;line-height: 1.2em;}#sk-container-id-1 div.sk-label-container {text-align: center;}#sk-container-id-1 div.sk-container {/* jupyter's `normalize.less` sets `[hidden] { display: none; }` but bootstrap.min.css set `[hidden] { display: none !important; }` so we also need the `!important` here to be able to override the default hidden behavior on the sphinx rendered scikit-learn.org. See: https://github.com/scikit-learn/scikit-learn/issues/21755 */display: inline-block !important;position: relative;}#sk-container-id-1 div.sk-text-repr-fallback {display: none;}</style><div id=\"sk-container-id-1\" class=\"sk-top-container\"><div class=\"sk-text-repr-fallback\"><pre>LinearRegression()</pre><b>In a Jupyter environment, please rerun this cell to show the HTML representation or trust the notebook. <br />On GitHub, the HTML representation is unable to render, please try loading this page with nbviewer.org.</b></div><div class=\"sk-container\" hidden><div class=\"sk-item\"><div class=\"sk-estimator sk-toggleable\"><input class=\"sk-toggleable__control sk-hidden--visually\" id=\"sk-estimator-id-1\" type=\"checkbox\" checked><label for=\"sk-estimator-id-1\" class=\"sk-toggleable__label sk-toggleable__label-arrow\">LinearRegression</label><div class=\"sk-toggleable__content\"><pre>LinearRegression()</pre></div></div></div></div></div>"
      ],
      "text/plain": [
       "LinearRegression()"
      ]
     },
     "execution_count": 50,
     "metadata": {},
     "output_type": "execute_result"
    }
   ],
   "source": [
    "ols = LinearRegression()\n",
    "ols.fit(X2_train_si, y2_train)"
   ]
  },
  {
   "cell_type": "code",
   "execution_count": 51,
   "id": "557d4a97-132c-4753-bb7b-befd4831ffb6",
   "metadata": {
    "tags": []
   },
   "outputs": [
    {
     "data": {
      "text/plain": [
       "array([ 1.04728573e+01,  4.96997962e+00,  1.38858350e+04,  2.20363508e+01,\n",
       "        2.09077131e+01,  6.89599951e+03,  3.65794818e+01,  1.57737204e+03,\n",
       "        9.76476709e+03, -1.46349654e+01, -6.84405236e+01,  1.53412878e+01,\n",
       "       -5.58614147e+00,  3.94772446e-01,  8.25681846e+03,  1.04004583e+04,\n",
       "        6.06504247e+02,  9.72413523e+03,  4.30240505e+01, -6.82151216e+00,\n",
       "       -8.45281702e+02,  6.69202876e+01, -1.77409535e+04,  2.50509110e+01,\n",
       "       -3.66416172e+02, -1.99901164e+02,  1.73780252e+03,  1.50983151e+04,\n",
       "       -3.53183069e+03,  1.91527433e+04,  4.27329609e+03,  1.65227770e+04,\n",
       "        8.56542064e+03, -9.47705958e+03,  7.39108424e+03,  8.34677302e+03,\n",
       "       -6.04190916e+03, -4.33008937e+03, -3.95056907e+03, -2.20341528e+03,\n",
       "        1.09155300e+04, -8.44114497e+03,  2.57430918e+03,  3.19745222e+03,\n",
       "        9.79913658e+02,  3.07640467e+03, -1.58213194e+03, -2.70187844e+03,\n",
       "       -7.00564894e+03,  4.25184384e+03,  4.13032817e+02, -4.83594245e+03,\n",
       "        3.33453085e+02, -1.16874151e+04, -2.24234646e+03, -4.35804482e+03,\n",
       "        1.17136279e+04,  2.23810305e+03, -2.94257958e+04, -4.59102484e+03,\n",
       "        8.48409304e+03,  1.10567537e+04, -2.65106502e+04, -1.87549744e+03,\n",
       "       -2.03857880e+04,  1.64232223e+03, -9.72479949e+03,  5.02980705e+03,\n",
       "       -2.12600036e+03, -2.56757611e+04, -5.48793370e+02,  1.57426210e+03,\n",
       "        4.17070541e+03,  7.63405616e+03, -3.88087680e+04, -1.67460832e+03,\n",
       "       -9.68721640e+03, -1.94277200e+03,  3.69969791e+03, -2.55400455e+03,\n",
       "       -3.38681408e+03,  8.85845040e+03,  9.32368733e+03,  1.52408025e+04,\n",
       "       -3.68183992e+03, -7.23682277e+03,  6.50486416e+03,  1.02515103e+03])"
      ]
     },
     "execution_count": 51,
     "metadata": {},
     "output_type": "execute_result"
    }
   ],
   "source": [
    "ols.coef_"
   ]
  },
  {
   "cell_type": "code",
   "execution_count": null,
   "id": "668f34ac-312f-49e6-8cad-ca7945444960",
   "metadata": {},
   "outputs": [],
   "source": []
  }
 ],
 "metadata": {
  "kernelspec": {
   "display_name": "Python 3 (ipykernel)",
   "language": "python",
   "name": "python3"
  },
  "language_info": {
   "codemirror_mode": {
    "name": "ipython",
    "version": 3
   },
   "file_extension": ".py",
   "mimetype": "text/x-python",
   "name": "python",
   "nbconvert_exporter": "python",
   "pygments_lexer": "ipython3",
   "version": "3.11.4"
  }
 },
 "nbformat": 4,
 "nbformat_minor": 5
}
