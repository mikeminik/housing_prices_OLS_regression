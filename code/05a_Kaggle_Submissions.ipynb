{
 "cells": [
  {
   "cell_type": "code",
   "execution_count": 4,
   "id": "98ba5b3c-9ddf-466a-bb6a-59cb0ae7ce2d",
   "metadata": {
    "tags": []
   },
   "outputs": [],
   "source": [
    "%run 02a_Preprocessing_and_feature_engineering.ipynb"
   ]
  },
  {
   "cell_type": "code",
   "execution_count": 5,
   "id": "fbc3592f-d55a-4e91-b063-5fc822f3ca80",
   "metadata": {
    "tags": []
   },
   "outputs": [],
   "source": [
    "serving = pd.read_csv('../datasets/test.csv')\n"
   ]
  },
  {
   "cell_type": "markdown",
   "id": "34b7ffc0-296d-4983-bb51-52b15ef11a07",
   "metadata": {
    "tags": []
   },
   "source": [
    "## Fit the whole model\n"
   ]
  },
  {
   "cell_type": "code",
   "execution_count": 6,
   "id": "e8a0cae2-d578-47ad-b73d-68bc46a31e77",
   "metadata": {
    "tags": []
   },
   "outputs": [],
   "source": [
    "X_1_si = si.fit_transform(X_1)"
   ]
  },
  {
   "cell_type": "code",
   "execution_count": 7,
   "id": "cd101245-7390-4e77-a089-a0f3957c22c3",
   "metadata": {
    "tags": []
   },
   "outputs": [
    {
     "data": {
      "text/plain": [
       "(878, 80)"
      ]
     },
     "execution_count": 7,
     "metadata": {},
     "output_type": "execute_result"
    }
   ],
   "source": [
    "serving.shape"
   ]
  },
  {
   "cell_type": "code",
   "execution_count": 8,
   "id": "ce3d23e2-7975-40a3-a794-3b70a2c4695f",
   "metadata": {
    "tags": []
   },
   "outputs": [
    {
     "data": {
      "text/html": [
       "<style>#sk-container-id-1 {color: black;}#sk-container-id-1 pre{padding: 0;}#sk-container-id-1 div.sk-toggleable {background-color: white;}#sk-container-id-1 label.sk-toggleable__label {cursor: pointer;display: block;width: 100%;margin-bottom: 0;padding: 0.3em;box-sizing: border-box;text-align: center;}#sk-container-id-1 label.sk-toggleable__label-arrow:before {content: \"▸\";float: left;margin-right: 0.25em;color: #696969;}#sk-container-id-1 label.sk-toggleable__label-arrow:hover:before {color: black;}#sk-container-id-1 div.sk-estimator:hover label.sk-toggleable__label-arrow:before {color: black;}#sk-container-id-1 div.sk-toggleable__content {max-height: 0;max-width: 0;overflow: hidden;text-align: left;background-color: #f0f8ff;}#sk-container-id-1 div.sk-toggleable__content pre {margin: 0.2em;color: black;border-radius: 0.25em;background-color: #f0f8ff;}#sk-container-id-1 input.sk-toggleable__control:checked~div.sk-toggleable__content {max-height: 200px;max-width: 100%;overflow: auto;}#sk-container-id-1 input.sk-toggleable__control:checked~label.sk-toggleable__label-arrow:before {content: \"▾\";}#sk-container-id-1 div.sk-estimator input.sk-toggleable__control:checked~label.sk-toggleable__label {background-color: #d4ebff;}#sk-container-id-1 div.sk-label input.sk-toggleable__control:checked~label.sk-toggleable__label {background-color: #d4ebff;}#sk-container-id-1 input.sk-hidden--visually {border: 0;clip: rect(1px 1px 1px 1px);clip: rect(1px, 1px, 1px, 1px);height: 1px;margin: -1px;overflow: hidden;padding: 0;position: absolute;width: 1px;}#sk-container-id-1 div.sk-estimator {font-family: monospace;background-color: #f0f8ff;border: 1px dotted black;border-radius: 0.25em;box-sizing: border-box;margin-bottom: 0.5em;}#sk-container-id-1 div.sk-estimator:hover {background-color: #d4ebff;}#sk-container-id-1 div.sk-parallel-item::after {content: \"\";width: 100%;border-bottom: 1px solid gray;flex-grow: 1;}#sk-container-id-1 div.sk-label:hover label.sk-toggleable__label {background-color: #d4ebff;}#sk-container-id-1 div.sk-serial::before {content: \"\";position: absolute;border-left: 1px solid gray;box-sizing: border-box;top: 0;bottom: 0;left: 50%;z-index: 0;}#sk-container-id-1 div.sk-serial {display: flex;flex-direction: column;align-items: center;background-color: white;padding-right: 0.2em;padding-left: 0.2em;position: relative;}#sk-container-id-1 div.sk-item {position: relative;z-index: 1;}#sk-container-id-1 div.sk-parallel {display: flex;align-items: stretch;justify-content: center;background-color: white;position: relative;}#sk-container-id-1 div.sk-item::before, #sk-container-id-1 div.sk-parallel-item::before {content: \"\";position: absolute;border-left: 1px solid gray;box-sizing: border-box;top: 0;bottom: 0;left: 50%;z-index: -1;}#sk-container-id-1 div.sk-parallel-item {display: flex;flex-direction: column;z-index: 1;position: relative;background-color: white;}#sk-container-id-1 div.sk-parallel-item:first-child::after {align-self: flex-end;width: 50%;}#sk-container-id-1 div.sk-parallel-item:last-child::after {align-self: flex-start;width: 50%;}#sk-container-id-1 div.sk-parallel-item:only-child::after {width: 0;}#sk-container-id-1 div.sk-dashed-wrapped {border: 1px dashed gray;margin: 0 0.4em 0.5em 0.4em;box-sizing: border-box;padding-bottom: 0.4em;background-color: white;}#sk-container-id-1 div.sk-label label {font-family: monospace;font-weight: bold;display: inline-block;line-height: 1.2em;}#sk-container-id-1 div.sk-label-container {text-align: center;}#sk-container-id-1 div.sk-container {/* jupyter's `normalize.less` sets `[hidden] { display: none; }` but bootstrap.min.css set `[hidden] { display: none !important; }` so we also need the `!important` here to be able to override the default hidden behavior on the sphinx rendered scikit-learn.org. See: https://github.com/scikit-learn/scikit-learn/issues/21755 */display: inline-block !important;position: relative;}#sk-container-id-1 div.sk-text-repr-fallback {display: none;}</style><div id=\"sk-container-id-1\" class=\"sk-top-container\"><div class=\"sk-text-repr-fallback\"><pre>LinearRegression()</pre><b>In a Jupyter environment, please rerun this cell to show the HTML representation or trust the notebook. <br />On GitHub, the HTML representation is unable to render, please try loading this page with nbviewer.org.</b></div><div class=\"sk-container\" hidden><div class=\"sk-item\"><div class=\"sk-estimator sk-toggleable\"><input class=\"sk-toggleable__control sk-hidden--visually\" id=\"sk-estimator-id-1\" type=\"checkbox\" checked><label for=\"sk-estimator-id-1\" class=\"sk-toggleable__label sk-toggleable__label-arrow\">LinearRegression</label><div class=\"sk-toggleable__content\"><pre>LinearRegression()</pre></div></div></div></div></div>"
      ],
      "text/plain": [
       "LinearRegression()"
      ]
     },
     "execution_count": 8,
     "metadata": {},
     "output_type": "execute_result"
    }
   ],
   "source": [
    "ols.fit(X_1_si, y)"
   ]
  },
  {
   "cell_type": "markdown",
   "id": "0b654994-a5ca-43ec-ad25-7f9d9bfdabdd",
   "metadata": {
    "tags": []
   },
   "source": [
    "## Create X Serving"
   ]
  },
  {
   "cell_type": "code",
   "execution_count": 9,
   "id": "39651a9a-84dd-4ba8-aa1c-bdc5fcce33a2",
   "metadata": {
    "tags": []
   },
   "outputs": [],
   "source": [
    "replace_NaN_with_NA(serving, ['Fireplace Qu', 'Garage Type', 'Garage Finish', 'Garage Qual', 'Garage Cond', 'Bsmt Qual', 'Bsmt Cond', 'Bsmt Exposure', 'BsmtFin Type 1', 'BsmtFin Type 2', 'Fence'])"
   ]
  },
  {
   "cell_type": "code",
   "execution_count": 10,
   "id": "e726b3fd-bd37-486a-9279-3dc88980edb9",
   "metadata": {
    "tags": []
   },
   "outputs": [],
   "source": [
    "binarize_to_most_common_str_val(serving, [('Street', 'Paved Street'),\n",
    " ('Utilities', 'Has All Utilities'),\n",
    " ('Land Slope', 'Gentle Slope'),\n",
    " ('Central Air', None),\n",
    " ('Paved Drive', None)])"
   ]
  },
  {
   "cell_type": "code",
   "execution_count": 11,
   "id": "f1c2885f-e4c2-45bd-9395-3222a7056e82",
   "metadata": {
    "tags": []
   },
   "outputs": [],
   "source": [
    "convert_num_to_cat(serving, ['PID', 'MS SubClass', 'Overall Qual', 'Overall Cond', 'Mo Sold'])"
   ]
  },
  {
   "cell_type": "code",
   "execution_count": 12,
   "id": "502db66d-acbc-4548-99c2-0dfc495e77db",
   "metadata": {
    "tags": []
   },
   "outputs": [],
   "source": [
    "convert_years_to_ages(serving, 2010, [\n",
    "    ('Year Built', 'Years since built'),\n",
    "    ('Year Remod/Add', 'Years since remodel'),\n",
    "    ('Yr Sold', 'Years since last sold')\n",
    "])"
   ]
  },
  {
   "cell_type": "code",
   "execution_count": null,
   "id": "36cf4313-83bb-48a8-b757-17c3a2e50810",
   "metadata": {
    "tags": []
   },
   "outputs": [],
   "source": []
  },
  {
   "cell_type": "code",
   "execution_count": 13,
   "id": "5ee68ba1-64e5-4c54-8deb-ff2e9db351dd",
   "metadata": {
    "tags": []
   },
   "outputs": [],
   "source": [
    "# features_to_use_list.remove('Overall Qual_10')\n"
   ]
  },
  {
   "cell_type": "code",
   "execution_count": 14,
   "id": "3a2fae9a-a892-4525-90cd-08b33babb453",
   "metadata": {
    "tags": []
   },
   "outputs": [],
   "source": [
    "serving.drop('PID', axis = 1 , inplace = True)"
   ]
  },
  {
   "cell_type": "code",
   "execution_count": 15,
   "id": "84579587-0d00-4620-b66f-f5478e6d529e",
   "metadata": {
    "tags": []
   },
   "outputs": [],
   "source": [
    "serving_dummy = pd.get_dummies(serving, columns = non_numerics.columns, drop_first = True)"
   ]
  },
  {
   "cell_type": "code",
   "execution_count": null,
   "id": "1ebc1ddd-1820-46b2-9fea-97d9c6c39df2",
   "metadata": {},
   "outputs": [],
   "source": []
  },
  {
   "cell_type": "markdown",
   "id": "be5ff683-8489-4367-b91f-3d1bf0cffb88",
   "metadata": {
    "tags": []
   },
   "source": [
    "Why is the line of code below here? This feature was present in both test and train but there were none in the \"unseen\" data! This caused a mismatch in columns and so I needed to add it in order for everything to line up"
   ]
  },
  {
   "cell_type": "code",
   "execution_count": 16,
   "id": "14d82b2b-8c43-4639-8b6c-158eb43fd26f",
   "metadata": {
    "tags": []
   },
   "outputs": [],
   "source": [
    "serving_dummy['Overall Qual_10'] = 0"
   ]
  },
  {
   "cell_type": "code",
   "execution_count": 17,
   "id": "b1b19d49-5e37-4bc8-90e4-66190ad59f8e",
   "metadata": {
    "tags": []
   },
   "outputs": [],
   "source": [
    "X_serving = serving_dummy.loc[: , features_to_use_list]"
   ]
  },
  {
   "cell_type": "markdown",
   "id": "77ec9523-82e6-4bfa-97ec-92cb1ca335c5",
   "metadata": {},
   "source": [
    "## Transform X Serving"
   ]
  },
  {
   "cell_type": "code",
   "execution_count": 18,
   "id": "d94b9282-ecb3-4740-8399-7b9f4bf47f83",
   "metadata": {
    "tags": []
   },
   "outputs": [],
   "source": [
    "X_serving_si = si.transform(X_serving)"
   ]
  },
  {
   "cell_type": "markdown",
   "id": "0c8e8f7d-5758-49d3-a8c8-21f2376b097d",
   "metadata": {},
   "source": [
    "## Generate Predictions"
   ]
  },
  {
   "cell_type": "code",
   "execution_count": 19,
   "id": "74826945-2ca7-42ea-aa6d-710347ac6684",
   "metadata": {
    "tags": []
   },
   "outputs": [],
   "source": [
    "salesprices = ols.predict(X_serving_si)"
   ]
  },
  {
   "cell_type": "code",
   "execution_count": 20,
   "id": "a6259a30-2ce9-4bff-9399-eab77567270d",
   "metadata": {
    "tags": []
   },
   "outputs": [
    {
     "data": {
      "text/html": [
       "<div>\n",
       "<style scoped>\n",
       "    .dataframe tbody tr th:only-of-type {\n",
       "        vertical-align: middle;\n",
       "    }\n",
       "\n",
       "    .dataframe tbody tr th {\n",
       "        vertical-align: top;\n",
       "    }\n",
       "\n",
       "    .dataframe thead th {\n",
       "        text-align: right;\n",
       "    }\n",
       "</style>\n",
       "<table border=\"1\" class=\"dataframe\">\n",
       "  <thead>\n",
       "    <tr style=\"text-align: right;\">\n",
       "      <th></th>\n",
       "      <th>0</th>\n",
       "    </tr>\n",
       "  </thead>\n",
       "  <tbody>\n",
       "    <tr>\n",
       "      <th>count</th>\n",
       "      <td>878.000000</td>\n",
       "    </tr>\n",
       "    <tr>\n",
       "      <th>mean</th>\n",
       "      <td>179015.150779</td>\n",
       "    </tr>\n",
       "    <tr>\n",
       "      <th>std</th>\n",
       "      <td>70047.417797</td>\n",
       "    </tr>\n",
       "    <tr>\n",
       "      <th>min</th>\n",
       "      <td>47610.595706</td>\n",
       "    </tr>\n",
       "    <tr>\n",
       "      <th>25%</th>\n",
       "      <td>128589.555461</td>\n",
       "    </tr>\n",
       "    <tr>\n",
       "      <th>50%</th>\n",
       "      <td>165584.037181</td>\n",
       "    </tr>\n",
       "    <tr>\n",
       "      <th>75%</th>\n",
       "      <td>210898.079005</td>\n",
       "    </tr>\n",
       "    <tr>\n",
       "      <th>max</th>\n",
       "      <td>438725.966557</td>\n",
       "    </tr>\n",
       "  </tbody>\n",
       "</table>\n",
       "</div>"
      ],
      "text/plain": [
       "                   0\n",
       "count     878.000000\n",
       "mean   179015.150779\n",
       "std     70047.417797\n",
       "min     47610.595706\n",
       "25%    128589.555461\n",
       "50%    165584.037181\n",
       "75%    210898.079005\n",
       "max    438725.966557"
      ]
     },
     "execution_count": 20,
     "metadata": {},
     "output_type": "execute_result"
    }
   ],
   "source": [
    "pd.DataFrame(salesprices).describe()"
   ]
  },
  {
   "cell_type": "code",
   "execution_count": 21,
   "id": "71879d45-4b87-48b9-ad5c-a79e1f269424",
   "metadata": {
    "tags": []
   },
   "outputs": [
    {
     "data": {
      "text/plain": [
       "(878,)"
      ]
     },
     "execution_count": 21,
     "metadata": {},
     "output_type": "execute_result"
    }
   ],
   "source": [
    "salesprices.shape"
   ]
  },
  {
   "cell_type": "code",
   "execution_count": 22,
   "id": "ecc9b7df-64a4-47c3-aee9-4225e23b14bd",
   "metadata": {
    "tags": []
   },
   "outputs": [],
   "source": [
    "serving['SalePrice'] = salesprices"
   ]
  },
  {
   "cell_type": "code",
   "execution_count": 23,
   "id": "32fa4b8e-5188-40ba-a92b-3418f057b81d",
   "metadata": {
    "tags": []
   },
   "outputs": [],
   "source": [
    "submission1 = serving.loc[:, ['Id','SalePrice']]"
   ]
  },
  {
   "cell_type": "code",
   "execution_count": 24,
   "id": "fec90429-fce2-4568-81f0-14ec804c5b40",
   "metadata": {
    "tags": []
   },
   "outputs": [],
   "source": [
    "submission1.set_index('Id', inplace = True)"
   ]
  },
  {
   "cell_type": "code",
   "execution_count": 25,
   "id": "b17f8395-b0c2-4099-aab0-bc0db33b23d5",
   "metadata": {
    "tags": []
   },
   "outputs": [],
   "source": [
    "submission1.to_csv('../datasets/submission1_ols.csv')"
   ]
  },
  {
   "cell_type": "code",
   "execution_count": null,
   "id": "2159b1e1-19d6-492e-b553-327961925380",
   "metadata": {},
   "outputs": [],
   "source": []
  }
 ],
 "metadata": {
  "kernelspec": {
   "display_name": "Python 3 (ipykernel)",
   "language": "python",
   "name": "python3"
  },
  "language_info": {
   "codemirror_mode": {
    "name": "ipython",
    "version": 3
   },
   "file_extension": ".py",
   "mimetype": "text/x-python",
   "name": "python",
   "nbconvert_exporter": "python",
   "pygments_lexer": "ipython3",
   "version": "3.11.4"
  }
 },
 "nbformat": 4,
 "nbformat_minor": 5
}
