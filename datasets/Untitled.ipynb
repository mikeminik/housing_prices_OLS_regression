{
 "cells": [
  {
   "cell_type": "code",
   "execution_count": 6,
   "id": "36b8eae7-a4b8-4404-be54-0ec7834f8bc3",
   "metadata": {
    "tags": []
   },
   "outputs": [],
   "source": [
    "import pandas as pd"
   ]
  },
  {
   "cell_type": "code",
   "execution_count": 7,
   "id": "15d03074-8cc8-4055-8924-126ee8270cf4",
   "metadata": {
    "tags": []
   },
   "outputs": [],
   "source": [
    "pd.options.display.float_format = '{:.4f}'.format "
   ]
  },
  {
   "cell_type": "code",
   "execution_count": 4,
   "id": "9fc24887-9dbe-431e-83dd-f82b1729e1ba",
   "metadata": {
    "tags": []
   },
   "outputs": [],
   "source": [
    "sub1 = pd.read_csv('../datasets/submission1_ols.csv')\n",
    "sub2 = pd.read_csv('../datasets/submission2_ols.csv')\n",
    "sub3 = pd.read_csv('../datasets/submission3_ridge.csv')"
   ]
  },
  {
   "cell_type": "code",
   "execution_count": 8,
   "id": "c8d6d164-4d51-44fd-80f4-a1d8779eb02b",
   "metadata": {
    "tags": []
   },
   "outputs": [
    {
     "data": {
      "text/plain": [
       "Id            1268490.0000\n",
       "SalePrice   157175302.3839\n",
       "dtype: float64"
      ]
     },
     "execution_count": 8,
     "metadata": {},
     "output_type": "execute_result"
    }
   ],
   "source": [
    "sub1.sum()"
   ]
  },
  {
   "cell_type": "code",
   "execution_count": 15,
   "id": "bb5c84b7-fdb9-440a-9470-cb21ded98f07",
   "metadata": {
    "tags": []
   },
   "outputs": [
    {
     "data": {
      "text/plain": [
       "1703780.2778414264"
      ]
     },
     "execution_count": 15,
     "metadata": {},
     "output_type": "execute_result"
    }
   ],
   "source": [
    "sub1['SalePrice'].sum() * 10.84 / 1000"
   ]
  },
  {
   "cell_type": "code",
   "execution_count": 13,
   "id": "4bb0ed64-e6a0-49b6-a333-aff07e26456e",
   "metadata": {
    "tags": []
   },
   "outputs": [
    {
     "data": {
      "text/plain": [
       "157.8259849598266"
      ]
     },
     "execution_count": 13,
     "metadata": {},
     "output_type": "execute_result"
    }
   ],
   "source": [
    "sub2['SalePrice'].sum() / 1_000_000"
   ]
  },
  {
   "cell_type": "code",
   "execution_count": 14,
   "id": "1d5a448b-8f01-4bb3-bb73-3596d932fad5",
   "metadata": {
    "tags": []
   },
   "outputs": [
    {
     "data": {
      "text/plain": [
       "157.79433374347013"
      ]
     },
     "execution_count": 14,
     "metadata": {},
     "output_type": "execute_result"
    }
   ],
   "source": [
    "sub3['SalePrice'].sum() / 1_000_000"
   ]
  },
  {
   "cell_type": "code",
   "execution_count": null,
   "id": "af1b35e7-4005-4fad-96a5-95b395d408cf",
   "metadata": {},
   "outputs": [],
   "source": []
  }
 ],
 "metadata": {
  "kernelspec": {
   "display_name": "Python 3 (ipykernel)",
   "language": "python",
   "name": "python3"
  },
  "language_info": {
   "codemirror_mode": {
    "name": "ipython",
    "version": 3
   },
   "file_extension": ".py",
   "mimetype": "text/x-python",
   "name": "python",
   "nbconvert_exporter": "python",
   "pygments_lexer": "ipython3",
   "version": "3.11.4"
  }
 },
 "nbformat": 4,
 "nbformat_minor": 5
}
